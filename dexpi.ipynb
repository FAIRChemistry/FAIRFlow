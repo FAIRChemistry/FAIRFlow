{
 "cells": [
  {
   "cell_type": "code",
   "execution_count": 1,
   "metadata": {},
   "outputs": [
    {
     "name": "stderr",
     "output_type": "stream",
     "text": [
      "/home/shambles/miniconda3/envs/b07/lib/python3.10/site-packages/pandas/core/computation/expressions.py:21: UserWarning: Pandas requires version '2.8.4' or newer of 'numexpr' (version '2.8.3' currently installed).\n",
      "  from pandas.core.computation.check import NUMEXPR_INSTALLED\n"
     ]
    },
    {
     "data": {
      "text/plain": [
       "PlantSetup(id='374f72ed-7f50-4346-8714-dfbef6b16521', components=[Component(id='9a9f0164-b31f-4ed5-8ae1-4f87f8aa7390', component_type='Equipment', component_id='GasCylinder-1', component_class='GasCylinder', component_class_uri='https://data.posccaesar.org/rdl/RDS4316755815', component_name=None, generic_attributes=[], connections=['Valve-1']), Component(id='1e9dc67e-a224-451a-977f-22406806b45d', component_type='Equipment', component_id='GasCylinder-2', component_class='GasCylinder', component_class_uri='https://data.posccaesar.org/rdl/RDS4316755815', component_name=None, generic_attributes=[], connections=['Valve-1']), Component(id='45363515-8d79-40a0-9f45-f13a6d37f44b', component_type='Equipment', component_id='Vessel-1', component_class='Vessel', component_class_uri='https://data.posccaesar.org/rdl/RDS414674', component_name=None, generic_attributes=[], connections=['Valve-1', 'Valve-2']), Component(id='27729983-d2ab-40fe-922b-1e64166008ac', component_type='Equipment', component_id='GasFilter-1', component_class='GasFilter', component_class_uri='https://data.posccaesar.org/rdl/RDS4316755843', component_name=None, generic_attributes=[], connections=['Valve-2']), Component(id='89573d62-8a3e-4239-8663-8a40be293b34', component_type='Piping component', component_id='Valve-1', component_class='Valve', component_class_uri='https://data.posccaesar.org/rdl/RDS292589', component_name=None, generic_attributes=[], connections=['GasCylinder-1', 'Vessel-1', 'GasCylinder-2']), Component(id='21d28091-41e3-4d0b-a69e-2d096cbb0f15', component_type='Piping component', component_id='Valve-2', component_class='Valve', component_class_uri='https://data.posccaesar.org/rdl/RDS292589', component_name=None, generic_attributes=[], connections=['Vessel-1', 'GasFilter-1'])], input=[], output=[])"
      ]
     },
     "execution_count": 1,
     "metadata": {},
     "output_type": "execute_result"
    }
   ],
   "source": [
    "import xml.etree.ElementTree as ET\n",
    "from FAIRFlowChemistry.core import PlantSetup\n",
    "from FAIRFlowChemistry.core import Component\n",
    "from FAIRFlowChemistry.core import ComponentType\n",
    "from typing import DefaultDict\n",
    "from pathlib import Path\n",
    "\n",
    "\n",
    "def DEXPI2sdRDM(filepath: Path):\n",
    "    tree = ET.parse(filepath)\n",
    "    root = tree.getroot()\n",
    "\n",
    "\n",
    "    def build_component(component, component_type: ComponentType):\n",
    "        return Component(\n",
    "            component_type=component_type,\n",
    "            component_id=component.get('ID'),\n",
    "            component_class=component.get('ComponentClass'),\n",
    "            component_class_uri=component.get('ComponentClassURI')\n",
    "        )\n",
    "\n",
    "    components = []\n",
    "    nozzles = DefaultDict(list)\n",
    "    for eq in root.findall('Equipment'):\n",
    "        components.append(build_component(eq, ComponentType.EQUIPMENT))\n",
    "        for nozzle in eq.findall('Nozzle'):\n",
    "            nozzles[eq.get('ID')].append(nozzle.get('ID'))\n",
    "\n",
    "    connections = []\n",
    "    piping_network_system = root.findall('PipingNetworkSystem')\n",
    "    for pns in piping_network_system:\n",
    "        for piping_network_segment in pns.findall('PipingNetworkSegment'):\n",
    "            connection = [piping_network_segment.find('Connection').get('FromID'), piping_network_segment.find('Connection').get('ToID')]\n",
    "            connections.append(connection)\n",
    "            for piping_component in piping_network_segment.findall('PipingComponent'):\n",
    "                components.append(build_component(piping_component, ComponentType.PIPINGCOMPONENT))\n",
    "  \n",
    "    for connection in connections:\n",
    "        for connection_point in connection:\n",
    "            if 'Nozzle' in connection_point:\n",
    "                for eq, nozzle in nozzles.items():\n",
    "                    for n in nozzle:\n",
    "                        if n in connection_point:\n",
    "                            connection[connection.index(connection_point)] = eq\n",
    "    for component in components:\n",
    "        for connection in connections:\n",
    "            if component.component_id in connection:\n",
    "                component.connections.extend(connection)\n",
    "                component.connections.remove(component.component_id)\n",
    "\n",
    "    return PlantSetup(components=components)\n",
    "\n",
    "cwd = Path.cwd()\n",
    "filepath = cwd / \"data\" / \"DEXPI\" / \"DEXPI_PID.xml\"\n",
    "plant_setup = DEXPI2sdRDM(filepath)\n",
    "\n",
    "plant_setup"
   ]
  },
  {
   "cell_type": "markdown",
   "metadata": {},
   "source": [
    "Notes: Valves and similar components belong to the PipingNetworkSystem domain; they do not represent an independent category. Moreover, they are subordinated to a PipingNetworkSegment. More specifically to the one, that starts from this Component."
   ]
  }
 ],
 "metadata": {
  "kernelspec": {
   "display_name": "b07",
   "language": "python",
   "name": "python3"
  },
  "language_info": {
   "codemirror_mode": {
    "name": "ipython",
    "version": 3
   },
   "file_extension": ".py",
   "mimetype": "text/x-python",
   "name": "python",
   "nbconvert_exporter": "python",
   "pygments_lexer": "ipython3",
   "version": "3.10.4"
  }
 },
 "nbformat": 4,
 "nbformat_minor": 2
}
