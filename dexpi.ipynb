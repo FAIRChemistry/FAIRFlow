{
 "cells": [
  {
   "cell_type": "markdown",
   "metadata": {},
   "source": [
    "Notes: Valves and similar components belong to the PipingNetworkSystem domain; they do not represent an independent category. Moreover, they are subordinated to a PipingNetworkSegment.<br>\n",
    "More specifically to the one, that starts from this Component."
   ]
  },
  {
   "cell_type": "code",
   "execution_count": 4,
   "metadata": {},
   "outputs": [],
   "source": [
    "import Path\n",
    "from FAIRFlowChemistry.tools.reader import DEXPI2sdRDM"
   ]
  },
  {
   "cell_type": "code",
   "execution_count": 5,
   "metadata": {},
   "outputs": [
    {
     "name": "stdout",
     "output_type": "stream",
     "text": [
      "GasCylinder-1 ['Valve-1']\n",
      "GasCylinder-2 ['Valve-1']\n",
      "Vessel-1 ['Valve-1', 'Valve-2']\n",
      "GasFilter-1 ['Valve-2']\n",
      "Valve-1 ['GasCylinder-1', 'Vessel-1', 'GasCylinder-2']\n",
      "Valve-2 ['Vessel-1', 'GasFilter-1']\n"
     ]
    }
   ],
   "source": [
    "cwd = Path.cwd()\n",
    "filepath = cwd / \"data\" / \"DEXPI\" / \"DEXPI_PID.xml\" #\"P&ID.xml\"\n",
    "plant_setup = DEXPI2sdRDM( filepath)"
   ]
  },
  {
   "cell_type": "code",
   "execution_count": 8,
   "metadata": {},
   "outputs": [
    {
     "data": {
      "text/plain": [
       "Component(id='f9a0e523-0947-4f1e-bfa0-aca2aa24d6be', component_type='Equipment', component_id='GasCylinder-1', component_class='GasCylinder', component_class_uri='https://data.posccaesar.org/rdl/RDS4316755815', component_name=None, generic_attributes=[], connections=['Valve-1'])"
      ]
     },
     "execution_count": 8,
     "metadata": {},
     "output_type": "execute_result"
    }
   ],
   "source": [
    "plant_setup.components[0]"
   ]
  },
  {
   "cell_type": "code",
   "execution_count": null,
   "metadata": {},
   "outputs": [],
   "source": [
    "###  GenericAttibute\n",
    "\n",
    "- name\n",
    "  - Type: string\n",
    "  - Description: bla.\n",
    "- attribute_uri\n",
    "  - Type: string\n",
    "  - Description: bla.\n",
    "- value\n",
    "  - Type: string\n",
    "  - Description: bla.\n",
    "- format\n",
    "  - Type: string\n",
    "  - Description: bla.\n",
    "- units\n",
    "  - Type: string\n",
    "  - Description: bla.\n",
    "- units_uri\n",
    "  - Type: string\n",
    "  - Description: bla"
   ]
  }
 ],
 "metadata": {
  "kernelspec": {
   "display_name": "b07",
   "language": "python",
   "name": "python3"
  },
  "language_info": {
   "codemirror_mode": {
    "name": "ipython",
    "version": 3
   },
   "file_extension": ".py",
   "mimetype": "text/x-python",
   "name": "python",
   "nbconvert_exporter": "python",
   "pygments_lexer": "ipython3",
   "version": "3.11.7"
  }
 },
 "nbformat": 4,
 "nbformat_minor": 2
}
