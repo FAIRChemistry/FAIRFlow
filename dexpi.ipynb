{
 "cells": [
  {
   "cell_type": "markdown",
   "metadata": {},
   "source": [
    "Notes: Valves and similar components belong to the PipingNetworkSystem domain; they do not represent an independent category. Moreover, they are subordinated to a PipingNetworkSegment.<br>\n",
    "More specifically to the one, that starts from this Component."
   ]
  },
  {
   "cell_type": "code",
   "execution_count": 4,
   "metadata": {},
   "outputs": [],
   "source": [
    "import Path\n",
    "from FAIRFlowChemistry.tools.reader import DEXPI2sdRDM"
   ]
  },
  {
   "cell_type": "code",
   "execution_count": 5,
   "metadata": {},
   "outputs": [
    {
     "name": "stderr",
     "output_type": "stream",
     "text": [
      "GasCylinder-1 ['Valve-1']\n",
      "GasCylinder-2 ['Valve-1']\n",
      "Vessel-1 ['Valve-1', 'Valve-2']\n",
      "GasFilter-1 ['Valve-2']\n",
      "Valve-1 ['GasCylinder-1', 'Vessel-1', 'GasCylinder-2']\n",
      "Valve-2 ['Vessel-1', 'GasFilter-1']\n"
     ]
    },
    {
     "data": {
      "text/plain": [
       "PlantSetup(id='374f72ed-7f50-4346-8714-dfbef6b16521', components=[Component(id='9a9f0164-b31f-4ed5-8ae1-4f87f8aa7390', component_type='Equipment', component_id='GasCylinder-1', component_class='GasCylinder', component_class_uri='https://data.posccaesar.org/rdl/RDS4316755815', component_name=None, generic_attributes=[], connections=['Valve-1']), Component(id='1e9dc67e-a224-451a-977f-22406806b45d', component_type='Equipment', component_id='GasCylinder-2', component_class='GasCylinder', component_class_uri='https://data.posccaesar.org/rdl/RDS4316755815', component_name=None, generic_attributes=[], connections=['Valve-1']), Component(id='45363515-8d79-40a0-9f45-f13a6d37f44b', component_type='Equipment', component_id='Vessel-1', component_class='Vessel', component_class_uri='https://data.posccaesar.org/rdl/RDS414674', component_name=None, generic_attributes=[], connections=['Valve-1', 'Valve-2']), Component(id='27729983-d2ab-40fe-922b-1e64166008ac', component_type='Equipment', component_id='GasFilter-1', component_class='GasFilter', component_class_uri='https://data.posccaesar.org/rdl/RDS4316755843', component_name=None, generic_attributes=[], connections=['Valve-2']), Component(id='89573d62-8a3e-4239-8663-8a40be293b34', component_type='Piping component', component_id='Valve-1', component_class='Valve', component_class_uri='https://data.posccaesar.org/rdl/RDS292589', component_name=None, generic_attributes=[], connections=['GasCylinder-1', 'Vessel-1', 'GasCylinder-2']), Component(id='21d28091-41e3-4d0b-a69e-2d096cbb0f15', component_type='Piping component', component_id='Valve-2', component_class='Valve', component_class_uri='https://data.posccaesar.org/rdl/RDS292589', component_name=None, generic_attributes=[], connections=['Vessel-1', 'GasFilter-1'])], input=[], output=[])"
      ]
     },
     "execution_count": 1,
     "metadata": {},
     "output_type": "execute_result"
    }
   ],
   "source": [
    "cwd = Path.cwd()\n",
    "filepath = cwd / \"data\" / \"DEXPI\" / \"DEXPI_PID.xml\" #\"P&ID.xml\"\n",
    "plant_setup = DEXPI2sdRDM( filepath)"
   ]
  },
  {
   "cell_type": "code",
   "execution_count": 8,
   "metadata": {},
   "outputs": [
    {
     "data": {
      "text/plain": [
       "Component(id='f9a0e523-0947-4f1e-bfa0-aca2aa24d6be', component_type='Equipment', component_id='GasCylinder-1', component_class='GasCylinder', component_class_uri='https://data.posccaesar.org/rdl/RDS4316755815', component_name=None, generic_attributes=[], connections=['Valve-1'])"
      ]
     },
     "execution_count": 8,
     "metadata": {},
     "output_type": "execute_result"
    }
   ],
   "source": [
    "plant_setup.components[0]"
   ]
  },
  {
   "cell_type": "code",
   "execution_count": null,
   "metadata": {},
   "outputs": [],
   "source": [
    "###  GenericAttibute\n",
    "\n",
    "- name\n",
    "  - Type: string\n",
    "  - Description: bla.\n",
    "- attribute_uri\n",
    "  - Type: string\n",
    "  - Description: bla.\n",
    "- value\n",
    "  - Type: string\n",
    "  - Description: bla.\n",
    "- format\n",
    "  - Type: string\n",
    "  - Description: bla.\n",
    "- units\n",
    "  - Type: string\n",
    "  - Description: bla.\n",
    "- units_uri\n",
    "  - Type: string\n",
    "  - Description: bla"
   ]
  }
 ],
 "metadata": {
  "kernelspec": {
   "display_name": "b07",
   "language": "python",
   "name": "python3"
  },
  "language_info": {
   "codemirror_mode": {
    "name": "ipython",
    "version": 3
   },
   "file_extension": ".py",
   "mimetype": "text/x-python",
   "name": "python",
   "nbconvert_exporter": "python",
   "pygments_lexer": "ipython3",
   "version": "3.11.7"
  }
 },
 "nbformat": 4,
 "nbformat_minor": 2
}
