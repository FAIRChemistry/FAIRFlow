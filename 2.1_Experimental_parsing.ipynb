{
 "cells": [
  {
   "attachments": {},
   "cell_type": "markdown",
   "metadata": {},
   "source": [
    "# <center>Workflow for on-line GC and HPLC analysis in flow chemistry</center>\n",
    "# <center>2.1 Experimental notebook - Parsing</center>"
   ]
  },
  {
   "cell_type": "markdown",
   "metadata": {},
   "source": [
    "---\n",
    "\n",
    "This is the ``Experimental`` ``notebook`` ``2.1 \"Parsing\"``, where all the relevent data of the experiments are read in from different ressources. For each individual experiment this workflow is to be executed once, and the data can be appended to the project's dataset.\n",
    "\n",
    "---"
   ]
  },
  {
   "cell_type": "markdown",
   "metadata": {},
   "source": [
    "---\n",
    "## Section 0: Imports, Paths, and Logging\n",
    "---"
   ]
  },
  {
   "cell_type": "markdown",
   "metadata": {},
   "source": [
    "In this section all the necessary python packages are imported, the path to this notebook and the logger for this notebook is set up."
   ]
  },
  {
   "cell_type": "markdown",
   "metadata": {},
   "source": [
    "Activate autoreload."
   ]
  },
  {
   "cell_type": "code",
   "execution_count": 1,
   "metadata": {},
   "outputs": [],
   "source": [
    "%reload_ext autoreload\n",
    "%autoreload 2"
   ]
  },
  {
   "cell_type": "markdown",
   "metadata": {},
   "source": [
    "Import standard library python packages necessary to set up the ``logger``."
   ]
  },
  {
   "cell_type": "code",
   "execution_count": 2,
   "metadata": {},
   "outputs": [],
   "source": [
    "import os\n",
    "import json\n",
    "import logging\n",
    "import logging.config\n",
    "from pathlib import Path"
   ]
  },
  {
   "cell_type": "markdown",
   "metadata": {},
   "source": [
    "Get path to the directory this notebook is located."
   ]
  },
  {
   "cell_type": "code",
   "execution_count": 3,
   "metadata": {},
   "outputs": [],
   "source": [
    "root = Path(os.path.abspath(''))"
   ]
  },
  {
   "cell_type": "markdown",
   "metadata": {},
   "source": [
    "Set path to the directory containing the configuration file for the logger."
   ]
  },
  {
   "cell_type": "code",
   "execution_count": 4,
   "metadata": {},
   "outputs": [],
   "source": [
    "logging_config_path = root / \"datamodel_b07_tc/tools/logging/config_exp_2_1.json\""
   ]
  },
  {
   "cell_type": "markdown",
   "metadata": {},
   "source": [
    "Set up logger by reading the .json-type configuration file."
   ]
  },
  {
   "cell_type": "code",
   "execution_count": 5,
   "metadata": {},
   "outputs": [],
   "source": [
    "with open(logging_config_path) as logging_config_json:\n",
    "    logging_config = json.load(logging_config_json)\n",
    "logging.config.dictConfig(logging_config)"
   ]
  },
  {
   "cell_type": "markdown",
   "metadata": {},
   "source": [
    "Create a child of the root logger and set its name to the name of the current notebook."
   ]
  },
  {
   "cell_type": "code",
   "execution_count": 6,
   "metadata": {},
   "outputs": [],
   "source": [
    "logger = logging.getLogger(__name__)"
   ]
  },
  {
   "cell_type": "markdown",
   "metadata": {},
   "source": [
    "Set the level of several third-party module loggers to avoid dumping too much information in the log file.\n",
    "<div class=\"alert alert-block alert-info\"><b>Info:</b> Some third party modules use the same logging module and structure as this notebook, which is unproblematic, unless the level of their corresponding logging handlers is too low. In these cases the logging messages of lower levels, such as 'DEBUG' and 'INFO' are propagated to the parent logger of this notebook.</div>"
   ]
  },
  {
   "cell_type": "code",
   "execution_count": 7,
   "metadata": {},
   "outputs": [],
   "source": [
    "third_party_module_loggers = ['markdown_it', 'h5py', 'numexpr', 'git']\n",
    "for logger_ in third_party_module_loggers:\n",
    "    logging.getLogger(logger_).setLevel('WARNING')"
   ]
  },
  {
   "cell_type": "markdown",
   "metadata": {},
   "source": [
    "Import and instantiate the ``Librarian`` module for efficient and clean file and directory handling."
   ]
  },
  {
   "cell_type": "code",
   "execution_count": 8,
   "metadata": {},
   "outputs": [],
   "source": [
    "from datamodel_b07_tc.tools import Librarian\n",
    "librarian = Librarian(root_directory=root)"
   ]
  },
  {
   "cell_type": "markdown",
   "metadata": {},
   "source": [
    "Import modfied sdRDM object."
   ]
  },
  {
   "cell_type": "code",
   "execution_count": 9,
   "metadata": {},
   "outputs": [],
   "source": [
    "from datamodel_b07_tc.modified.experiment import Experiment\n",
    "from datamodel_b07_tc.modified.measurement import Measurement"
   ]
  },
  {
   "cell_type": "markdown",
   "metadata": {},
   "source": [
    "<div class=\"alert alert-block alert-info\"><b>Info:</b> Python objects created by the sdRDM generator can be equipped with additional features, such as functions or classes, e.g. to parse data or perform internal calculations, which allows for a more modular approach of working with them.</div>"
   ]
  },
  {
   "cell_type": "markdown",
   "metadata": {},
   "source": [
    "Import the data model containing all the objects of sdRDM's python API."
   ]
  },
  {
   "cell_type": "code",
   "execution_count": 10,
   "metadata": {},
   "outputs": [],
   "source": [
    "# from sdRDM.generator import generate_python_api\n",
    "from sdRDM import DataModel"
   ]
  },
  {
   "cell_type": "markdown",
   "metadata": {},
   "source": [
    "<div class=\"alert alert-block alert-info\"><b>Info:</b> sdRDM objects already imported are not overriden!</div>"
   ]
  },
  {
   "cell_type": "markdown",
   "metadata": {},
   "source": [
    "Manually generate the sdRDM python objects."
   ]
  },
  {
   "cell_type": "code",
   "execution_count": 11,
   "metadata": {},
   "outputs": [],
   "source": [
    "# generate_python_api('specifications/datamodel_b07_tc.md', '', 'datamodel_b07_tc')"
   ]
  },
  {
   "cell_type": "markdown",
   "metadata": {},
   "source": [
    "Import tools used for parsing and calibration of the raw data."
   ]
  },
  {
   "cell_type": "code",
   "execution_count": 12,
   "metadata": {},
   "outputs": [],
   "source": [
    "from datamodel_b07_tc.tools import Calibrator\n",
    "from datamodel_b07_tc.tools import gc_parser\n",
    "from datamodel_b07_tc.tools import gstatic_parser\n",
    "from datamodel_b07_tc.tools import mfm_parser\n",
    "# from DEXPI2sdRDM import DEXPI2sdRDM"
   ]
  },
  {
   "cell_type": "markdown",
   "metadata": {},
   "source": [
    "Import additional standard library python packages."
   ]
  },
  {
   "cell_type": "code",
   "execution_count": 13,
   "metadata": {},
   "outputs": [],
   "source": [
    "import ipywidgets as widgets\n",
    "from IPython.display import display"
   ]
  },
  {
   "cell_type": "markdown",
   "metadata": {},
   "source": [
    "---\n",
    "## Section 1: Dataset and data model parsing\n",
    "---"
   ]
  },
  {
   "cell_type": "markdown",
   "metadata": {},
   "source": [
    "In this section the data model and the dataset as well as all the output files necessary for the analysis notenook are parsed.  "
   ]
  },
  {
   "cell_type": "markdown",
   "metadata": {},
   "source": [
    "Print available subdirectories of the 'root' directory."
   ]
  },
  {
   "cell_type": "code",
   "execution_count": 14,
   "metadata": {},
   "outputs": [
    {
     "name": "stdout",
     "output_type": "stream",
     "text": [
      "Parent directory: \n",
      " /mnt/c/Users/rscho/Documents/GitHub/datamodel_b07_tc \n",
      "Available subdirectories:\n",
      "0: .../.git\n",
      "1: .../.github\n",
      "2: .../.vscode\n",
      "3: .../data\n",
      "4: .../datamodel_b07_tc\n",
      "5: .../datasets\n",
      "6: .../logging\n",
      "7: .../specifications\n"
     ]
    }
   ],
   "source": [
    "root_subdirectories = librarian.enumerate_subdirectories(directory=root)"
   ]
  },
  {
   "cell_type": "markdown",
   "metadata": {},
   "source": [
    "List all available dataset json files in the 'datasets' directory."
   ]
  },
  {
   "cell_type": "code",
   "execution_count": 15,
   "metadata": {},
   "outputs": [
    {
     "name": "stdout",
     "output_type": "stream",
     "text": [
      "Directory: \n",
      " /mnt/c/Users/rscho/Documents/GitHub/datamodel_b07_tc/datasets \n",
      "Available files:\n",
      "0: b07.json\n"
     ]
    }
   ],
   "source": [
    "json_dataset_files = librarian.enumerate_files(directory=root_subdirectories[5], filter='json')"
   ]
  },
  {
   "cell_type": "markdown",
   "metadata": {},
   "source": [
    "Choose dataset to be loaded by its index."
   ]
  },
  {
   "cell_type": "code",
   "execution_count": 16,
   "metadata": {},
   "outputs": [],
   "source": [
    "json_dataset = json_dataset_files[0]\n",
    "dataset, lib = DataModel.parse(json_dataset)"
   ]
  },
  {
   "cell_type": "markdown",
   "metadata": {},
   "source": [
    "Visualize the data model."
   ]
  },
  {
   "cell_type": "code",
   "execution_count": 17,
   "metadata": {},
   "outputs": [],
   "source": [
    "# lib.Dataset.meta_tree()"
   ]
  },
  {
   "cell_type": "markdown",
   "metadata": {},
   "source": [
    "Print current status of the dataset."
   ]
  },
  {
   "cell_type": "code",
   "execution_count": 18,
   "metadata": {},
   "outputs": [],
   "source": [
    "# print(dataset.json())"
   ]
  },
  {
   "cell_type": "markdown",
   "metadata": {},
   "source": [
    "Show directory tree of the ``root`` directory."
   ]
  },
  {
   "cell_type": "code",
   "execution_count": 55,
   "metadata": {},
   "outputs": [],
   "source": [
    "# librarian.visualize_directory_tree(directory=root, skip_directories=['.git'])"
   ]
  },
  {
   "cell_type": "code",
   "execution_count": 21,
   "metadata": {},
   "outputs": [
    {
     "data": {
      "text/plain": [
       "{0: PosixPath('/mnt/c/Users/rscho/Documents/GitHub/datamodel_b07_tc/.git'),\n",
       " 1: PosixPath('/mnt/c/Users/rscho/Documents/GitHub/datamodel_b07_tc/.github'),\n",
       " 2: PosixPath('/mnt/c/Users/rscho/Documents/GitHub/datamodel_b07_tc/.vscode'),\n",
       " 3: PosixPath('/mnt/c/Users/rscho/Documents/GitHub/datamodel_b07_tc/data'),\n",
       " 4: PosixPath('/mnt/c/Users/rscho/Documents/GitHub/datamodel_b07_tc/datamodel_b07_tc'),\n",
       " 5: PosixPath('/mnt/c/Users/rscho/Documents/GitHub/datamodel_b07_tc/datasets'),\n",
       " 6: PosixPath('/mnt/c/Users/rscho/Documents/GitHub/datamodel_b07_tc/logging'),\n",
       " 7: PosixPath('/mnt/c/Users/rscho/Documents/GitHub/datamodel_b07_tc/specifications')}"
      ]
     },
     "execution_count": 21,
     "metadata": {},
     "output_type": "execute_result"
    }
   ],
   "source": [
    "root_subdirectories"
   ]
  },
  {
   "cell_type": "code",
   "execution_count": 22,
   "metadata": {},
   "outputs": [
    {
     "name": "stdout",
     "output_type": "stream",
     "text": [
      "Parent directory: \n",
      " /mnt/c/Users/rscho/Documents/GitHub/datamodel_b07_tc/data \n",
      "Available subdirectories:\n",
      "0: .../calibration\n",
      "1: .../correction_factors\n",
      "2: .../faraday_coefficients\n",
      "3: .../Rohdaten\n"
     ]
    }
   ],
   "source": [
    "data_subdirectories = librarian.enumerate_subdirectories(directory=root_subdirectories[3])"
   ]
  },
  {
   "cell_type": "code",
   "execution_count": 23,
   "metadata": {},
   "outputs": [
    {
     "name": "stdout",
     "output_type": "stream",
     "text": [
      "Parent directory: \n",
      " /mnt/c/Users/rscho/Documents/GitHub/datamodel_b07_tc/data/Rohdaten \n",
      "Available subdirectories:\n",
      "0: .../01_EChem\n",
      "1: .../02_GC\n",
      "2: .../03_MFM\n",
      "3: .../04_HPLC\n",
      "4: .../05_Pressure\n"
     ]
    }
   ],
   "source": [
    "raw_data_subdirectories = librarian.enumerate_subdirectories(directory=data_subdirectories[3])"
   ]
  },
  {
   "cell_type": "markdown",
   "metadata": {},
   "source": [
    "---\n",
    "## Section 2: Potenstiostatic data parsing\n",
    "---"
   ]
  },
  {
   "cell_type": "markdown",
   "metadata": {},
   "source": [
    "Select path to the potentiostatic data and print available subdirectories."
   ]
  },
  {
   "cell_type": "code",
   "execution_count": 24,
   "metadata": {},
   "outputs": [
    {
     "name": "stdout",
     "output_type": "stream",
     "text": [
      "Parent directory: \n",
      " /mnt/c/Users/rscho/Documents/GitHub/datamodel_b07_tc/data/Rohdaten/01_EChem \n",
      "Available subdirectories:\n",
      "0: .../210728_ITO_TEST\n",
      "1: .../CAD14-Cu@AB\n"
     ]
    }
   ],
   "source": [
    "echem_directories = librarian.enumerate_subdirectories(directory=raw_data_subdirectories[0])"
   ]
  },
  {
   "cell_type": "markdown",
   "metadata": {},
   "source": [
    "Select subdirectory by its index and print raw data files available in there."
   ]
  },
  {
   "cell_type": "code",
   "execution_count": 25,
   "metadata": {},
   "outputs": [
    {
     "name": "stdout",
     "output_type": "stream",
     "text": [
      "Directory: \n",
      " /mnt/c/Users/rscho/Documents/GitHub/datamodel_b07_tc/data/Rohdaten/01_EChem/CAD14-Cu@AB \n",
      "Available files:\n",
      "0: GSTATIC.DTA\n",
      "1: POTDYN.DTA\n"
     ]
    }
   ],
   "source": [
    "potentiostatic_raw_data_files = librarian.enumerate_files(directory=echem_directories[1], filter='DTA')"
   ]
  },
  {
   "attachments": {},
   "cell_type": "markdown",
   "metadata": {},
   "source": [
    "Extract the metadata from it using the ``GstaticParser`` and load into the data model."
   ]
  },
  {
   "cell_type": "code",
   "execution_count": 26,
   "metadata": {},
   "outputs": [],
   "source": [
    "potentiostatic_metadata_df, potentiostatic_measurement = Measurement.from_parser(parser=gstatic_parser, metadata_path=potentiostatic_raw_data_files[0])\n",
    "# potentiostatic_metadata_df"
   ]
  },
  {
   "cell_type": "markdown",
   "metadata": {},
   "source": [
    "---\n",
    "## Section 3: MFM data parsing\n",
    "---"
   ]
  },
  {
   "cell_type": "markdown",
   "metadata": {},
   "source": [
    "Provide name of the subdirectory containing the mass flow meter measurement data."
   ]
  },
  {
   "cell_type": "code",
   "execution_count": 27,
   "metadata": {},
   "outputs": [
    {
     "name": "stdout",
     "output_type": "stream",
     "text": [
      "Parent directory: \n",
      " /mnt/c/Users/rscho/Documents/GitHub/datamodel_b07_tc/data/Rohdaten/03_MFM \n",
      "Available subdirectories:\n",
      "0: .../CAD14-Cu@AB\n"
     ]
    }
   ],
   "source": [
    "mfm_directories = librarian.enumerate_subdirectories(directory=raw_data_subdirectories[2])"
   ]
  },
  {
   "cell_type": "code",
   "execution_count": 28,
   "metadata": {},
   "outputs": [
    {
     "name": "stdout",
     "output_type": "stream",
     "text": [
      "Directory: \n",
      " /mnt/c/Users/rscho/Documents/GitHub/datamodel_b07_tc/data/Rohdaten/03_MFM/CAD14-Cu@AB \n",
      "Available files:\n",
      "0: Bench-2h-GSS_CAD14-Cu@AB_200_50c_24h.csv\n",
      "1: Bench-2h-GSS_CAD14-Cu@AB_200_50c_24h_truncated.csv\n"
     ]
    }
   ],
   "source": [
    "mfm_raw_data_files = librarian.enumerate_files(directory=mfm_directories[0], filter='csv')"
   ]
  },
  {
   "cell_type": "code",
   "execution_count": 29,
   "metadata": {},
   "outputs": [
    {
     "data": {
      "text/html": [
       "<div>\n",
       "<style scoped>\n",
       "    .dataframe tbody tr th:only-of-type {\n",
       "        vertical-align: middle;\n",
       "    }\n",
       "\n",
       "    .dataframe tbody tr th {\n",
       "        vertical-align: top;\n",
       "    }\n",
       "\n",
       "    .dataframe thead th {\n",
       "        text-align: right;\n",
       "    }\n",
       "</style>\n",
       "<table border=\"1\" class=\"dataframe\">\n",
       "  <thead>\n",
       "    <tr style=\"text-align: right;\">\n",
       "      <th></th>\n",
       "      <th>Date time</th>\n",
       "      <th>Time</th>\n",
       "      <th>Signal</th>\n",
       "      <th>Volumetric flow rate</th>\n",
       "    </tr>\n",
       "  </thead>\n",
       "  <tbody>\n",
       "    <tr>\n",
       "      <th>0</th>\n",
       "      <td>2023-02-06 09:58:48</td>\n",
       "      <td>0</td>\n",
       "      <td>3258</td>\n",
       "      <td>5.090180</td>\n",
       "    </tr>\n",
       "    <tr>\n",
       "      <th>1</th>\n",
       "      <td>2023-02-06 09:58:50</td>\n",
       "      <td>2</td>\n",
       "      <td>3267</td>\n",
       "      <td>5.104674</td>\n",
       "    </tr>\n",
       "    <tr>\n",
       "      <th>2</th>\n",
       "      <td>2023-02-06 09:58:52</td>\n",
       "      <td>4</td>\n",
       "      <td>3273</td>\n",
       "      <td>5.114520</td>\n",
       "    </tr>\n",
       "    <tr>\n",
       "      <th>3</th>\n",
       "      <td>2023-02-06 09:58:54</td>\n",
       "      <td>6</td>\n",
       "      <td>3278</td>\n",
       "      <td>5.122616</td>\n",
       "    </tr>\n",
       "    <tr>\n",
       "      <th>4</th>\n",
       "      <td>2023-02-06 09:58:56</td>\n",
       "      <td>8</td>\n",
       "      <td>3290</td>\n",
       "      <td>5.139893</td>\n",
       "    </tr>\n",
       "    <tr>\n",
       "      <th>...</th>\n",
       "      <td>...</td>\n",
       "      <td>...</td>\n",
       "      <td>...</td>\n",
       "      <td>...</td>\n",
       "    </tr>\n",
       "    <tr>\n",
       "      <th>2848</th>\n",
       "      <td>2023-02-06 11:33:44</td>\n",
       "      <td>5696</td>\n",
       "      <td>3210</td>\n",
       "      <td>5.015965</td>\n",
       "    </tr>\n",
       "    <tr>\n",
       "      <th>2849</th>\n",
       "      <td>2023-02-06 11:33:46</td>\n",
       "      <td>5698</td>\n",
       "      <td>3204</td>\n",
       "      <td>5.006263</td>\n",
       "    </tr>\n",
       "    <tr>\n",
       "      <th>2850</th>\n",
       "      <td>2023-02-06 11:33:48</td>\n",
       "      <td>5700</td>\n",
       "      <td>3202</td>\n",
       "      <td>5.003840</td>\n",
       "    </tr>\n",
       "    <tr>\n",
       "      <th>2851</th>\n",
       "      <td>2023-02-06 11:33:50</td>\n",
       "      <td>5702</td>\n",
       "      <td>3204</td>\n",
       "      <td>5.006141</td>\n",
       "    </tr>\n",
       "    <tr>\n",
       "      <th>2852</th>\n",
       "      <td>2023-02-06 11:33:52</td>\n",
       "      <td>5704</td>\n",
       "      <td>3198</td>\n",
       "      <td>4.996374</td>\n",
       "    </tr>\n",
       "  </tbody>\n",
       "</table>\n",
       "<p>2853 rows × 4 columns</p>\n",
       "</div>"
      ],
      "text/plain": [
       "               Date time  Time  Signal  Volumetric flow rate\n",
       "0    2023-02-06 09:58:48     0    3258              5.090180\n",
       "1    2023-02-06 09:58:50     2    3267              5.104674\n",
       "2    2023-02-06 09:58:52     4    3273              5.114520\n",
       "3    2023-02-06 09:58:54     6    3278              5.122616\n",
       "4    2023-02-06 09:58:56     8    3290              5.139893\n",
       "...                  ...   ...     ...                   ...\n",
       "2848 2023-02-06 11:33:44  5696    3210              5.015965\n",
       "2849 2023-02-06 11:33:46  5698    3204              5.006263\n",
       "2850 2023-02-06 11:33:48  5700    3202              5.003840\n",
       "2851 2023-02-06 11:33:50  5702    3204              5.006141\n",
       "2852 2023-02-06 11:33:52  5704    3198              4.996374\n",
       "\n",
       "[2853 rows x 4 columns]"
      ]
     },
     "execution_count": 29,
     "metadata": {},
     "output_type": "execute_result"
    }
   ],
   "source": [
    "mfm_experimental_data_df, mfm_measurement = Measurement.from_parser(parser=mfm_parser, experimental_data_path=mfm_raw_data_files[0])\n",
    "mfm_experimental_data_df"
   ]
  },
  {
   "cell_type": "markdown",
   "metadata": {},
   "source": [
    "---\n",
    "## Section 4: GC data parsing\n",
    "---"
   ]
  },
  {
   "cell_type": "code",
   "execution_count": 30,
   "metadata": {},
   "outputs": [
    {
     "name": "stdout",
     "output_type": "stream",
     "text": [
      "Parent directory: \n",
      " /mnt/c/Users/rscho/Documents/GitHub/datamodel_b07_tc/data/Rohdaten/02_GC \n",
      "Available subdirectories:\n",
      "0: .../CAD14-Cu@AB\n"
     ]
    }
   ],
   "source": [
    "gc_directories = librarian.enumerate_subdirectories(directory=raw_data_subdirectories[1])"
   ]
  },
  {
   "cell_type": "code",
   "execution_count": 31,
   "metadata": {},
   "outputs": [
    {
     "name": "stdout",
     "output_type": "stream",
     "text": [
      "Parent directory: \n",
      " /mnt/c/Users/rscho/Documents/GitHub/datamodel_b07_tc/data/Rohdaten/02_GC/CAD14-Cu@AB \n",
      "Available subdirectories:\n",
      "0: .../JH-1H 2023-02-06 10-00-18\n"
     ]
    }
   ],
   "source": [
    "gc_subdirectories = librarian.enumerate_subdirectories(directory=gc_directories[0])"
   ]
  },
  {
   "cell_type": "code",
   "execution_count": 32,
   "metadata": {},
   "outputs": [
    {
     "name": "stdout",
     "output_type": "stream",
     "text": [
      "Parent directory: \n",
      " /mnt/c/Users/rscho/Documents/GitHub/datamodel_b07_tc/data/Rohdaten/02_GC/CAD14-Cu@AB/JH-1H 2023-02-06 10-00-18 \n",
      "Available subdirectories:\n",
      "0: .../JH_GASPRODUKTE.M\n",
      "1: .../JH_GASPRODUKTE_30MIN.M\n",
      "2: .../NV-F0101.D\n",
      "3: .../NV-F0102.D\n",
      "4: .../NV-F0103.D\n",
      "5: .../NV-F0104.D\n",
      "6: .../NV-F0201.D\n"
     ]
    }
   ],
   "source": [
    "gc_subsubdirectories = librarian.enumerate_subdirectories(directory=gc_subdirectories[0])"
   ]
  },
  {
   "cell_type": "code",
   "execution_count": 33,
   "metadata": {},
   "outputs": [
    {
     "name": "stdout",
     "output_type": "stream",
     "text": [
      "Directory: \n",
      " /mnt/c/Users/rscho/Documents/GitHub/datamodel_b07_tc/data/Rohdaten/02_GC/CAD14-Cu@AB/JH-1H 2023-02-06 10-00-18/NV-F0102.D \n",
      "Available files:\n",
      "0: report00.CSV\n",
      "1: REPORT01.CSV\n"
     ]
    }
   ],
   "source": [
    "gc_raw_data_files_list = []\n",
    "gc_raw_data_files_1 = librarian.enumerate_files(directory=gc_subsubdirectories[3], filter='CSV')\n",
    "gc_raw_data_files_list.append(gc_raw_data_files_1)"
   ]
  },
  {
   "cell_type": "code",
   "execution_count": 34,
   "metadata": {},
   "outputs": [
    {
     "name": "stdout",
     "output_type": "stream",
     "text": [
      "Directory: \n",
      " /mnt/c/Users/rscho/Documents/GitHub/datamodel_b07_tc/data/Rohdaten/02_GC/CAD14-Cu@AB/JH-1H 2023-02-06 10-00-18/NV-F0103.D \n",
      "Available files:\n",
      "0: report00.CSV\n",
      "1: REPORT01.CSV\n"
     ]
    }
   ],
   "source": [
    "gc_raw_data_files_2 = librarian.enumerate_files(directory=gc_subsubdirectories[4], filter='CSV')\n",
    "gc_raw_data_files_list.append(gc_raw_data_files_2)"
   ]
  },
  {
   "cell_type": "code",
   "execution_count": 35,
   "metadata": {},
   "outputs": [
    {
     "name": "stdout",
     "output_type": "stream",
     "text": [
      "Directory: \n",
      " /mnt/c/Users/rscho/Documents/GitHub/datamodel_b07_tc/data/Rohdaten/02_GC/CAD14-Cu@AB/JH-1H 2023-02-06 10-00-18/NV-F0104.D \n",
      "Available files:\n",
      "0: report00.CSV\n",
      "1: REPORT01.CSV\n"
     ]
    }
   ],
   "source": [
    "gc_raw_data_files_3 = librarian.enumerate_files(directory=gc_subsubdirectories[5], filter='CSV')\n",
    "gc_raw_data_files_list.append(gc_raw_data_files_3)"
   ]
  },
  {
   "cell_type": "code",
   "execution_count": 36,
   "metadata": {},
   "outputs": [],
   "source": [
    "gc_experimental_data_df_list = []\n",
    "gc_metadata_df_list = []\n",
    "gc_measurements_list = []\n",
    "for data_file in gc_raw_data_files_list:\n",
    "    gc_metadata_df, gc_experimental_data_df, gc_measurement = Measurement.from_parser(\n",
    "        parser=gc_parser,\n",
    "        metadata_path=data_file[0],\n",
    "        experimental_data_path=data_file[1]\n",
    "    )\n",
    "    gc_experimental_data_df_list.append(gc_experimental_data_df)\n",
    "    gc_metadata_df_list.append(gc_metadata_df)\n",
    "    gc_measurements_list.append(gc_measurement)"
   ]
  },
  {
   "cell_type": "markdown",
   "metadata": {},
   "source": [
    "Show first set of GC experimental data."
   ]
  },
  {
   "cell_type": "code",
   "execution_count": 37,
   "metadata": {},
   "outputs": [
    {
     "data": {
      "text/html": [
       "<div>\n",
       "<style scoped>\n",
       "    .dataframe tbody tr th:only-of-type {\n",
       "        vertical-align: middle;\n",
       "    }\n",
       "\n",
       "    .dataframe tbody tr th {\n",
       "        vertical-align: top;\n",
       "    }\n",
       "\n",
       "    .dataframe thead th {\n",
       "        text-align: right;\n",
       "    }\n",
       "</style>\n",
       "<table border=\"1\" class=\"dataframe\">\n",
       "  <thead>\n",
       "    <tr style=\"text-align: right;\">\n",
       "      <th></th>\n",
       "      <th>Peak number</th>\n",
       "      <th>Retention time</th>\n",
       "      <th>Signal</th>\n",
       "      <th>Peak type</th>\n",
       "      <th>Peak area</th>\n",
       "      <th>Peak height</th>\n",
       "      <th>Peak area percentage</th>\n",
       "    </tr>\n",
       "  </thead>\n",
       "  <tbody>\n",
       "    <tr>\n",
       "      <th>0</th>\n",
       "      <td>1</td>\n",
       "      <td>1.729967</td>\n",
       "      <td>1</td>\n",
       "      <td>PBAN</td>\n",
       "      <td>69.171577</td>\n",
       "      <td>32.512886</td>\n",
       "      <td>0.098238</td>\n",
       "    </tr>\n",
       "    <tr>\n",
       "      <th>1</th>\n",
       "      <td>2</td>\n",
       "      <td>2.909973</td>\n",
       "      <td>1</td>\n",
       "      <td>BBA</td>\n",
       "      <td>65492.746094</td>\n",
       "      <td>3794.478271</td>\n",
       "      <td>93.013605</td>\n",
       "    </tr>\n",
       "    <tr>\n",
       "      <th>2</th>\n",
       "      <td>3</td>\n",
       "      <td>3.434230</td>\n",
       "      <td>2</td>\n",
       "      <td>BV</td>\n",
       "      <td>164.157028</td>\n",
       "      <td>43.253098</td>\n",
       "      <td>0.233138</td>\n",
       "    </tr>\n",
       "    <tr>\n",
       "      <th>3</th>\n",
       "      <td>4</td>\n",
       "      <td>3.657794</td>\n",
       "      <td>2</td>\n",
       "      <td>VB</td>\n",
       "      <td>141.173935</td>\n",
       "      <td>49.408844</td>\n",
       "      <td>0.200497</td>\n",
       "    </tr>\n",
       "    <tr>\n",
       "      <th>4</th>\n",
       "      <td>5</td>\n",
       "      <td>6.045472</td>\n",
       "      <td>2</td>\n",
       "      <td>BB</td>\n",
       "      <td>1624.073730</td>\n",
       "      <td>347.834717</td>\n",
       "      <td>2.306530</td>\n",
       "    </tr>\n",
       "    <tr>\n",
       "      <th>5</th>\n",
       "      <td>6</td>\n",
       "      <td>12.997822</td>\n",
       "      <td>1</td>\n",
       "      <td>BB</td>\n",
       "      <td>2876.952637</td>\n",
       "      <td>88.829025</td>\n",
       "      <td>4.085884</td>\n",
       "    </tr>\n",
       "    <tr>\n",
       "      <th>6</th>\n",
       "      <td>7</td>\n",
       "      <td>14.194683</td>\n",
       "      <td>2</td>\n",
       "      <td>BB</td>\n",
       "      <td>43.731697</td>\n",
       "      <td>14.139935</td>\n",
       "      <td>0.062108</td>\n",
       "    </tr>\n",
       "  </tbody>\n",
       "</table>\n",
       "</div>"
      ],
      "text/plain": [
       "   Peak number  Retention time  Signal Peak type     Peak area  Peak height   \n",
       "0            1        1.729967       1      PBAN     69.171577    32.512886  \\\n",
       "1            2        2.909973       1      BBA   65492.746094  3794.478271   \n",
       "2            3        3.434230       2      BV      164.157028    43.253098   \n",
       "3            4        3.657794       2      VB      141.173935    49.408844   \n",
       "4            5        6.045472       2      BB     1624.073730   347.834717   \n",
       "5            6       12.997822       1      BB     2876.952637    88.829025   \n",
       "6            7       14.194683       2      BB       43.731697    14.139935   \n",
       "\n",
       "   Peak area percentage  \n",
       "0              0.098238  \n",
       "1             93.013605  \n",
       "2              0.233138  \n",
       "3              0.200497  \n",
       "4              2.306530  \n",
       "5              4.085884  \n",
       "6              0.062108  "
      ]
     },
     "execution_count": 37,
     "metadata": {},
     "output_type": "execute_result"
    }
   ],
   "source": [
    "gc_experimental_data_df_list[0]"
   ]
  },
  {
   "cell_type": "markdown",
   "metadata": {},
   "source": [
    "Show first set of GC metadata."
   ]
  },
  {
   "cell_type": "code",
   "execution_count": 38,
   "metadata": {},
   "outputs": [
    {
     "data": {
      "text/html": [
       "<div>\n",
       "<style scoped>\n",
       "    .dataframe tbody tr th:only-of-type {\n",
       "        vertical-align: middle;\n",
       "    }\n",
       "\n",
       "    .dataframe tbody tr th {\n",
       "        vertical-align: top;\n",
       "    }\n",
       "\n",
       "    .dataframe thead th {\n",
       "        text-align: right;\n",
       "    }\n",
       "</style>\n",
       "<table border=\"1\" class=\"dataframe\">\n",
       "  <thead>\n",
       "    <tr style=\"text-align: right;\">\n",
       "      <th></th>\n",
       "      <th>parameter</th>\n",
       "      <th>value</th>\n",
       "      <th>description</th>\n",
       "    </tr>\n",
       "  </thead>\n",
       "  <tbody>\n",
       "    <tr>\n",
       "      <th>0</th>\n",
       "      <td>Sample Name</td>\n",
       "      <td>NaN</td>\n",
       "      <td>NaN</td>\n",
       "    </tr>\n",
       "    <tr>\n",
       "      <th>1</th>\n",
       "      <td>Sample Info</td>\n",
       "      <td>NaN</td>\n",
       "      <td>NaN</td>\n",
       "    </tr>\n",
       "    <tr>\n",
       "      <th>2</th>\n",
       "      <td>Data File</td>\n",
       "      <td>D:\\GC\\Kurz\\CAD14-Cu@AB\\JH-1H 2023-02-06 10-00-18\\</td>\n",
       "      <td>NV-F0102.D</td>\n",
       "    </tr>\n",
       "    <tr>\n",
       "      <th>3</th>\n",
       "      <td>Acq. Instrument</td>\n",
       "      <td>Instrument 1</td>\n",
       "      <td>NaN</td>\n",
       "    </tr>\n",
       "    <tr>\n",
       "      <th>4</th>\n",
       "      <td>Analysis Method</td>\n",
       "      <td>D:\\GC\\Kurz\\CAD14-Cu@AB\\JH-1H 2023-02-06 10-00-18\\</td>\n",
       "      <td>JH_GASPRODUKTE.M</td>\n",
       "    </tr>\n",
       "    <tr>\n",
       "      <th>5</th>\n",
       "      <td>Method Info</td>\n",
       "      <td>NaN</td>\n",
       "      <td>NaN</td>\n",
       "    </tr>\n",
       "    <tr>\n",
       "      <th>6</th>\n",
       "      <td>Results Created</td>\n",
       "      <td>06.02.2023 10:32:26</td>\n",
       "      <td>NaN</td>\n",
       "    </tr>\n",
       "    <tr>\n",
       "      <th>7</th>\n",
       "      <td>Results Created by</td>\n",
       "      <td>MS</td>\n",
       "      <td>NaN</td>\n",
       "    </tr>\n",
       "    <tr>\n",
       "      <th>8</th>\n",
       "      <td>Acq. Method</td>\n",
       "      <td>JH_GASPRODUKTE.M</td>\n",
       "      <td>NaN</td>\n",
       "    </tr>\n",
       "    <tr>\n",
       "      <th>9</th>\n",
       "      <td>Injection Date</td>\n",
       "      <td>06-Feb-23, 10:17:24</td>\n",
       "      <td>NaN</td>\n",
       "    </tr>\n",
       "    <tr>\n",
       "      <th>10</th>\n",
       "      <td>Acq. Operator</td>\n",
       "      <td>06-Feb-23, 10:17:24</td>\n",
       "      <td>NaN</td>\n",
       "    </tr>\n",
       "    <tr>\n",
       "      <th>11</th>\n",
       "      <td>Seq. Line</td>\n",
       "      <td>1</td>\n",
       "      <td>NaN</td>\n",
       "    </tr>\n",
       "    <tr>\n",
       "      <th>12</th>\n",
       "      <td>Location</td>\n",
       "      <td>-1</td>\n",
       "      <td>NaN</td>\n",
       "    </tr>\n",
       "    <tr>\n",
       "      <th>13</th>\n",
       "      <td>unused Loc.</td>\n",
       "      <td>0</td>\n",
       "      <td>NaN</td>\n",
       "    </tr>\n",
       "    <tr>\n",
       "      <th>14</th>\n",
       "      <td>Inj</td>\n",
       "      <td>2</td>\n",
       "      <td>NaN</td>\n",
       "    </tr>\n",
       "    <tr>\n",
       "      <th>15</th>\n",
       "      <td>Inj Volume</td>\n",
       "      <td>No inj</td>\n",
       "      <td>NaN</td>\n",
       "    </tr>\n",
       "    <tr>\n",
       "      <th>16</th>\n",
       "      <td>Actual Inj Volume</td>\n",
       "      <td>No inj</td>\n",
       "      <td>NaN</td>\n",
       "    </tr>\n",
       "    <tr>\n",
       "      <th>17</th>\n",
       "      <td>Sequence File</td>\n",
       "      <td>D:\\GC\\Kurz\\CAD14-Cu@AB\\JH-1H 2023-02-06 10-00-18\\</td>\n",
       "      <td>JH-1H.S</td>\n",
       "    </tr>\n",
       "    <tr>\n",
       "      <th>18</th>\n",
       "      <td>Report Title</td>\n",
       "      <td>Area Percent Report</td>\n",
       "      <td>NaN</td>\n",
       "    </tr>\n",
       "    <tr>\n",
       "      <th>19</th>\n",
       "      <td>Sorted By</td>\n",
       "      <td>Retention Time</td>\n",
       "      <td>NaN</td>\n",
       "    </tr>\n",
       "    <tr>\n",
       "      <th>20</th>\n",
       "      <td>Multiplier:</td>\n",
       "      <td>1</td>\n",
       "      <td>NaN</td>\n",
       "    </tr>\n",
       "    <tr>\n",
       "      <th>21</th>\n",
       "      <td>Dilution:</td>\n",
       "      <td>1</td>\n",
       "      <td>NaN</td>\n",
       "    </tr>\n",
       "    <tr>\n",
       "      <th>22</th>\n",
       "      <td>Number of Signals</td>\n",
       "      <td>2</td>\n",
       "      <td>NaN</td>\n",
       "    </tr>\n",
       "    <tr>\n",
       "      <th>23</th>\n",
       "      <td>Signal 1</td>\n",
       "      <td>TCD1 A, Front Signal</td>\n",
       "      <td>NaN</td>\n",
       "    </tr>\n",
       "    <tr>\n",
       "      <th>24</th>\n",
       "      <td>Signal 2</td>\n",
       "      <td>FID2 B, Back Signal</td>\n",
       "      <td>NaN</td>\n",
       "    </tr>\n",
       "    <tr>\n",
       "      <th>25</th>\n",
       "      <td>Number of Errors and Warnings</td>\n",
       "      <td>0</td>\n",
       "      <td>NaN</td>\n",
       "    </tr>\n",
       "    <tr>\n",
       "      <th>26</th>\n",
       "      <td>Number of Columns</td>\n",
       "      <td>7</td>\n",
       "      <td>NaN</td>\n",
       "    </tr>\n",
       "    <tr>\n",
       "      <th>27</th>\n",
       "      <td>Column 1</td>\n",
       "      <td>Peak Number</td>\n",
       "      <td>NaN</td>\n",
       "    </tr>\n",
       "    <tr>\n",
       "      <th>28</th>\n",
       "      <td>Column 2</td>\n",
       "      <td>Retention Time</td>\n",
       "      <td>min</td>\n",
       "    </tr>\n",
       "    <tr>\n",
       "      <th>29</th>\n",
       "      <td>Column 3</td>\n",
       "      <td>Signal</td>\n",
       "      <td>NaN</td>\n",
       "    </tr>\n",
       "    <tr>\n",
       "      <th>30</th>\n",
       "      <td>Column 4</td>\n",
       "      <td>Peak Type</td>\n",
       "      <td>NaN</td>\n",
       "    </tr>\n",
       "    <tr>\n",
       "      <th>31</th>\n",
       "      <td>Column 5</td>\n",
       "      <td>Area</td>\n",
       "      <td></td>\n",
       "    </tr>\n",
       "    <tr>\n",
       "      <th>32</th>\n",
       "      <td>Column 6</td>\n",
       "      <td>Height</td>\n",
       "      <td></td>\n",
       "    </tr>\n",
       "    <tr>\n",
       "      <th>33</th>\n",
       "      <td>Column 7</td>\n",
       "      <td>Area   %</td>\n",
       "      <td>NaN</td>\n",
       "    </tr>\n",
       "  </tbody>\n",
       "</table>\n",
       "</div>"
      ],
      "text/plain": [
       "                         parameter   \n",
       "0                      Sample Name  \\\n",
       "1                      Sample Info   \n",
       "2                        Data File   \n",
       "3                  Acq. Instrument   \n",
       "4                  Analysis Method   \n",
       "5                      Method Info   \n",
       "6                  Results Created   \n",
       "7               Results Created by   \n",
       "8                      Acq. Method   \n",
       "9                   Injection Date   \n",
       "10                   Acq. Operator   \n",
       "11                       Seq. Line   \n",
       "12                        Location   \n",
       "13                     unused Loc.   \n",
       "14                             Inj   \n",
       "15                      Inj Volume   \n",
       "16               Actual Inj Volume   \n",
       "17                   Sequence File   \n",
       "18                    Report Title   \n",
       "19                       Sorted By   \n",
       "20  Multiplier:                      \n",
       "21  Dilution:                        \n",
       "22               Number of Signals   \n",
       "23                        Signal 1   \n",
       "24                        Signal 2   \n",
       "25   Number of Errors and Warnings   \n",
       "26               Number of Columns   \n",
       "27                        Column 1   \n",
       "28                        Column 2   \n",
       "29                        Column 3   \n",
       "30                        Column 4   \n",
       "31                        Column 5   \n",
       "32                        Column 6   \n",
       "33                        Column 7   \n",
       "\n",
       "                                                value       description  \n",
       "0                                                 NaN               NaN  \n",
       "1                                                 NaN               NaN  \n",
       "2   D:\\GC\\Kurz\\CAD14-Cu@AB\\JH-1H 2023-02-06 10-00-18\\        NV-F0102.D  \n",
       "3                                        Instrument 1               NaN  \n",
       "4   D:\\GC\\Kurz\\CAD14-Cu@AB\\JH-1H 2023-02-06 10-00-18\\  JH_GASPRODUKTE.M  \n",
       "5                                                 NaN               NaN  \n",
       "6                                 06.02.2023 10:32:26               NaN  \n",
       "7                                                  MS               NaN  \n",
       "8                                    JH_GASPRODUKTE.M               NaN  \n",
       "9                                 06-Feb-23, 10:17:24               NaN  \n",
       "10                                06-Feb-23, 10:17:24               NaN  \n",
       "11                                                  1               NaN  \n",
       "12                                                 -1               NaN  \n",
       "13                                                  0               NaN  \n",
       "14                                                  2               NaN  \n",
       "15                                             No inj               NaN  \n",
       "16                                             No inj               NaN  \n",
       "17  D:\\GC\\Kurz\\CAD14-Cu@AB\\JH-1H 2023-02-06 10-00-18\\           JH-1H.S  \n",
       "18                                Area Percent Report               NaN  \n",
       "19                                     Retention Time               NaN  \n",
       "20                                                  1               NaN  \n",
       "21                                                  1               NaN  \n",
       "22                                                  2               NaN  \n",
       "23                               TCD1 A, Front Signal               NaN  \n",
       "24                                FID2 B, Back Signal               NaN  \n",
       "25                                                  0               NaN  \n",
       "26                                                  7               NaN  \n",
       "27                                        Peak Number               NaN  \n",
       "28                                     Retention Time               min  \n",
       "29                                             Signal               NaN  \n",
       "30                                          Peak Type               NaN  \n",
       "31                                             Area                      \n",
       "32                                             Height                    \n",
       "33                                           Area   %               NaN  "
      ]
     },
     "execution_count": 38,
     "metadata": {},
     "output_type": "execute_result"
    }
   ],
   "source": [
    "gc_metadata_df_list[0]"
   ]
  },
  {
   "cell_type": "code",
   "execution_count": 39,
   "metadata": {},
   "outputs": [],
   "source": [
    "# hplc_path = raw_data_path / '04_HPLC'\n",
    "# pressure_path = raw_data_path / '05_Pressure'"
   ]
  },
  {
   "cell_type": "markdown",
   "metadata": {},
   "source": [
    "Instantiate an experiment object which will hold all the information about one single experiment and append all the measurement objects."
   ]
  },
  {
   "cell_type": "code",
   "execution_count": 40,
   "metadata": {},
   "outputs": [],
   "source": [
    "experiment = Experiment()\n",
    "experiment.measurements = [potentiostatic_measurement, mfm_measurement, *gc_measurements_list]"
   ]
  },
  {
   "cell_type": "markdown",
   "metadata": {},
   "source": [
    "---\n",
    "## Section 4: Calibration data parsing\n",
    "---"
   ]
  },
  {
   "cell_type": "markdown",
   "metadata": {},
   "source": [
    "Search for calibation files in the 'calibration' directory."
   ]
  },
  {
   "cell_type": "code",
   "execution_count": 41,
   "metadata": {},
   "outputs": [
    {
     "name": "stdout",
     "output_type": "stream",
     "text": [
      "Directory: \n",
      " /mnt/c/Users/rscho/Documents/GitHub/datamodel_b07_tc/data/calibration \n",
      "Available files:\n",
      "0: calibration.json\n"
     ]
    }
   ],
   "source": [
    "calibration_files = librarian.enumerate_files(directory=data_subdirectories[0])"
   ]
  },
  {
   "cell_type": "markdown",
   "metadata": {},
   "source": [
    "Initialize calibrator with an available calibration file selected by its index."
   ]
  },
  {
   "cell_type": "code",
   "execution_count": 42,
   "metadata": {},
   "outputs": [],
   "source": [
    "calibrator = Calibrator.from_json_file(path_to_json_file=calibration_files[0])"
   ]
  },
  {
   "cell_type": "markdown",
   "metadata": {},
   "source": [
    "Calibrate and return analysis object with calibration parameters just computed. <br> Append the resulting SpeciesData objects to the experiment object."
   ]
  },
  {
   "cell_type": "code",
   "execution_count": 43,
   "metadata": {},
   "outputs": [],
   "source": [
    "species_data_list = calibrator.calibrate()\n",
    "experiment.species_data = species_data_list"
   ]
  },
  {
   "cell_type": "markdown",
   "metadata": {},
   "source": [
    "---\n",
    "## Section 5: Parsing auxiliary data\n",
    "---"
   ]
  },
  {
   "cell_type": "markdown",
   "metadata": {},
   "source": [
    "### Correction factors"
   ]
  },
  {
   "cell_type": "markdown",
   "metadata": {},
   "source": [
    "Search for correction factors files in the 'correction factors' directory."
   ]
  },
  {
   "cell_type": "code",
   "execution_count": 44,
   "metadata": {},
   "outputs": [
    {
     "name": "stdout",
     "output_type": "stream",
     "text": [
      "Directory: \n",
      " /mnt/c/Users/rscho/Documents/GitHub/datamodel_b07_tc/data/correction_factors \n",
      "Available files:\n",
      "0: correction_factors.json\n"
     ]
    }
   ],
   "source": [
    "correction_factors_files = librarian.enumerate_files(directory=data_subdirectories[1])"
   ]
  },
  {
   "cell_type": "markdown",
   "metadata": {},
   "source": [
    "Load correction factors into the experiment object."
   ]
  },
  {
   "cell_type": "code",
   "execution_count": 45,
   "metadata": {},
   "outputs": [],
   "source": [
    "experiment.read_correction_factors(correction_factors_files[0])"
   ]
  },
  {
   "cell_type": "markdown",
   "metadata": {},
   "source": [
    "### Farady coefficients"
   ]
  },
  {
   "cell_type": "markdown",
   "metadata": {},
   "source": [
    "Search for faraday coefficients files in the 'correction factors' directory."
   ]
  },
  {
   "cell_type": "code",
   "execution_count": 46,
   "metadata": {},
   "outputs": [
    {
     "name": "stdout",
     "output_type": "stream",
     "text": [
      "Directory: \n",
      " /mnt/c/Users/rscho/Documents/GitHub/datamodel_b07_tc/data/faraday_coefficients \n",
      "Available files:\n",
      "0: faraday_coefficients.json\n"
     ]
    }
   ],
   "source": [
    "faraday_coefficients_files = librarian.enumerate_files(directory=data_subdirectories[2])"
   ]
  },
  {
   "cell_type": "markdown",
   "metadata": {},
   "source": [
    "Load faraday coefficients into the experiment object."
   ]
  },
  {
   "cell_type": "code",
   "execution_count": 47,
   "metadata": {},
   "outputs": [],
   "source": [
    "experiment.read_faraday_coefficients(faraday_coefficients_files[0])"
   ]
  },
  {
   "cell_type": "markdown",
   "metadata": {},
   "source": [
    "### Electrode surface area"
   ]
  },
  {
   "cell_type": "markdown",
   "metadata": {},
   "source": [
    "Set value for the surface area of the electrode."
   ]
  },
  {
   "cell_type": "code",
   "execution_count": 48,
   "metadata": {},
   "outputs": [],
   "source": [
    "electrode_surface_area = 1.0 # cm^2"
   ]
  },
  {
   "cell_type": "markdown",
   "metadata": {},
   "source": [
    "---\n",
    "## Section 6: Appending parsed data to dataset\n",
    "---"
   ]
  },
  {
   "attachments": {},
   "cell_type": "markdown",
   "metadata": {},
   "source": [
    "Print current state of experiment object."
   ]
  },
  {
   "cell_type": "code",
   "execution_count": 49,
   "metadata": {},
   "outputs": [],
   "source": [
    "# print(experiment.json())"
   ]
  },
  {
   "cell_type": "markdown",
   "metadata": {},
   "source": [
    "Append experiment object to the dataset."
   ]
  },
  {
   "cell_type": "code",
   "execution_count": 50,
   "metadata": {},
   "outputs": [],
   "source": [
    "dataset.experiments.append(experiment)"
   ]
  },
  {
   "cell_type": "markdown",
   "metadata": {},
   "source": [
    "Replace 'old' dataset by its extended version containing all the parsef data."
   ]
  },
  {
   "cell_type": "code",
   "execution_count": 51,
   "metadata": {},
   "outputs": [],
   "source": [
    "with open(json_dataset, \"w\") as f:\n",
    "    f.write(dataset.json())"
   ]
  },
  {
   "cell_type": "code",
   "execution_count": 52,
   "metadata": {},
   "outputs": [],
   "source": [
    "# button = widgets.Button(description=\"Append experiment\", layout=widgets.Layout(width='30%', height='80px'))\n",
    "# button.style.button_color = 'darkcyan'\n",
    "# button.style.text_color = 'lightgrey'\n",
    "# button.style.font_size = '30px'\n",
    "\n",
    "\n",
    "# output = widgets.Output()\n",
    "\n",
    "# display(button, output)\n",
    "\n",
    "# def click_on_button(b):\n",
    "#     with output:\n",
    "#         print(\"Experiment successfully appended.\")\n",
    "\n",
    "# button.on_click(click_on_button)"
   ]
  },
  {
   "cell_type": "code",
   "execution_count": 53,
   "metadata": {},
   "outputs": [
    {
     "data": {
      "text/html": [
       "<style>\n",
       ".cell-output-ipywidget-background {\n",
       "    background-color: transparent !important;\n",
       "}\n",
       ":root {\n",
       "    --jp-widgets-color: var(--vscode-editor-foreground);\n",
       "    --jp-widgets-font-size: var(--vscode-editor-font-size);\n",
       "}  \n",
       "</style>\n"
      ],
      "text/plain": [
       "<IPython.core.display.HTML object>"
      ]
     },
     "metadata": {},
     "output_type": "display_data"
    }
   ],
   "source": [
    "%%html\n",
    "<style>\n",
    ".cell-output-ipywidget-background {\n",
    "    background-color: transparent !important;\n",
    "}\n",
    ":root {\n",
    "    --jp-widgets-color: var(--vscode-editor-foreground);\n",
    "    --jp-widgets-font-size: var(--vscode-editor-font-size);\n",
    "}  \n",
    "</style>"
   ]
  }
 ],
 "metadata": {
  "kernelspec": {
   "display_name": "b07",
   "language": "python",
   "name": "python3"
  },
  "language_info": {
   "codemirror_mode": {
    "name": "ipython",
    "version": 3
   },
   "file_extension": ".py",
   "mimetype": "text/x-python",
   "name": "python",
   "nbconvert_exporter": "python",
   "pygments_lexer": "ipython3",
   "version": "3.10.4"
  },
  "orig_nbformat": 4,
  "vscode": {
   "interpreter": {
    "hash": "9f62ab2d43dc75e3c3b007469adeb0f7488873df876b9b71dd3b119f0280ba41"
   }
  }
 },
 "nbformat": 4,
 "nbformat_minor": 2
}
