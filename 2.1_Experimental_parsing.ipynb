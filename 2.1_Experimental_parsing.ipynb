{
 "cells": [
  {
   "attachments": {},
   "cell_type": "markdown",
   "metadata": {},
   "source": [
    "# <center>Workflow for the CRC1333 project B07 - Technical Chemistry</center>\n",
    "# <center>Experimental notebook</center>\n",
    "# <center>2.1 Parsing</center>"
   ]
  },
  {
   "cell_type": "markdown",
   "metadata": {},
   "source": [
    "---\n",
    "\n",
    "This is the ``Experimental`` ``notebook`` ``2.1 Parsing``, where all the relevent data of the experiments are read in from different ressources. For each individual experiment this workflow is to be executed once, and the data can be appended to the project's dataset.\n",
    "\n",
    "---"
   ]
  },
  {
   "cell_type": "code",
   "execution_count": 1,
   "metadata": {},
   "outputs": [],
   "source": [
    "from datamodel_b07_tc.modified.experiment import Experiment"
   ]
  },
  {
   "cell_type": "code",
   "execution_count": 2,
   "metadata": {},
   "outputs": [],
   "source": [
    "# from sdRDM.generator import generate_python_api\n",
    "from sdRDM import DataModel"
   ]
  },
  {
   "cell_type": "code",
   "execution_count": 3,
   "metadata": {},
   "outputs": [],
   "source": [
    "# generate_python_api('specifications/datamodel_b07_tc.md', '', 'datamodel_b07_tc')"
   ]
  },
  {
   "cell_type": "markdown",
   "metadata": {},
   "source": [
    "Import standard library python packages."
   ]
  },
  {
   "cell_type": "code",
   "execution_count": 4,
   "metadata": {},
   "outputs": [],
   "source": [
    "%reload_ext autoreload\n",
    "%autoreload 2\n",
    "\n",
    "from datamodel_b07_tc.tools import Calibrator\n",
    "from datamodel_b07_tc.tools import GCParser\n",
    "from datamodel_b07_tc.tools import GstaticParser\n",
    "from datamodel_b07_tc.tools import MFMParser\n",
    "# from DEXPI2sdRDM import DEXPI2sdRDM"
   ]
  },
  {
   "cell_type": "code",
   "execution_count": 5,
   "metadata": {},
   "outputs": [],
   "source": [
    "import os\n",
    "import json\n",
    "import ipywidgets as widgets\n",
    "import logging\n",
    "import logging.config\n",
    "from IPython.display import display\n",
    "from pathlib import Path"
   ]
  },
  {
   "cell_type": "markdown",
   "metadata": {},
   "source": [
    "---\n",
    "## Section 0: Paths and Logging\n",
    "---"
   ]
  },
  {
   "cell_type": "markdown",
   "metadata": {},
   "source": [
    "Get path to the directory this notebook is located and check for correctness."
   ]
  },
  {
   "cell_type": "code",
   "execution_count": 6,
   "metadata": {},
   "outputs": [
    {
     "name": "stdout",
     "output_type": "stream",
     "text": [
      "Path to this notebook's location: /mnt/c/Users/rscho/Documents/GitHub/datamodel_b07_tc\n",
      "Is the path valid? True\n"
     ]
    }
   ],
   "source": [
    "root = Path(os.path.abspath(''))\n",
    "print(\"Path to this notebook's location:\", root)\n",
    "print('Is the path valid?', root.is_dir())"
   ]
  },
  {
   "cell_type": "markdown",
   "metadata": {},
   "source": [
    "Set path for the logger."
   ]
  },
  {
   "cell_type": "code",
   "execution_count": 7,
   "metadata": {},
   "outputs": [
    {
     "name": "stdout",
     "output_type": "stream",
     "text": [
      "/mnt/c/Users/rscho/Documents/GitHub/datamodel_b07_tc/datamodel_b07_tc/tools/logging/config.json\n"
     ]
    }
   ],
   "source": [
    "config_path = root / \"datamodel_b07_tc/tools/logging/config.json\"\n",
    "print(config_path)"
   ]
  },
  {
   "cell_type": "markdown",
   "metadata": {},
   "source": [
    "Set up logger."
   ]
  },
  {
   "cell_type": "code",
   "execution_count": 8,
   "metadata": {},
   "outputs": [],
   "source": [
    "logging_config_path = root / \"datamodel_b07_tc/tools/logging/config.json\"\n",
    "with open(logging_config_path) as logging_config_json:\n",
    "    logging_config = json.load(logging_config_json)"
   ]
  },
  {
   "cell_type": "code",
   "execution_count": 9,
   "metadata": {},
   "outputs": [],
   "source": [
    "logging.config.dictConfig(logging_config)"
   ]
  },
  {
   "cell_type": "code",
   "execution_count": 10,
   "metadata": {},
   "outputs": [
    {
     "name": "stderr",
     "output_type": "stream",
     "text": [
      "2023-09-19 13:50:31,540 - __main__ - WARNING - uff\n"
     ]
    }
   ],
   "source": [
    "logger = logging.getLogger(__name__)\n",
    "logger.debug(\"obacht\")\n",
    "logger.warning('uff')"
   ]
  },
  {
   "cell_type": "markdown",
   "metadata": {},
   "source": [
    "---\n",
    "## Section 1: Dataset and data model parsing\n",
    "---"
   ]
  },
  {
   "cell_type": "markdown",
   "metadata": {},
   "source": [
    "In this section the data model and the dataset as well as all the output files necessary for analysis are parsed.  "
   ]
  },
  {
   "cell_type": "markdown",
   "metadata": {},
   "source": [
    " Set path to datasets."
   ]
  },
  {
   "cell_type": "code",
   "execution_count": 11,
   "metadata": {},
   "outputs": [],
   "source": [
    "path_to_datasets = root / 'datasets'"
   ]
  },
  {
   "cell_type": "markdown",
   "metadata": {},
   "source": [
    "List all available datasets in the directory.\n"
   ]
  },
  {
   "cell_type": "code",
   "execution_count": 12,
   "metadata": {},
   "outputs": [
    {
     "name": "stdout",
     "output_type": "stream",
     "text": [
      "0: b07.json\n"
     ]
    }
   ],
   "source": [
    "files = path_to_datasets.iterdir()\n",
    "json_files = {index:file for index, file in enumerate(files) if file.suffix == '.json'}\n",
    "for index, file in json_files.items():\n",
    "    print(f'{index}: {file.name}')"
   ]
  },
  {
   "cell_type": "markdown",
   "metadata": {},
   "source": [
    "Choose dataset to be loaded by its index."
   ]
  },
  {
   "cell_type": "code",
   "execution_count": 13,
   "metadata": {},
   "outputs": [],
   "source": [
    "index_dataset = 0\n",
    "dataset, lib = DataModel.parse(json_files[index_dataset])"
   ]
  },
  {
   "cell_type": "markdown",
   "metadata": {},
   "source": [
    "Visualize the data model."
   ]
  },
  {
   "cell_type": "code",
   "execution_count": 14,
   "metadata": {},
   "outputs": [],
   "source": [
    "# lib.Dataset.meta_tree()"
   ]
  },
  {
   "cell_type": "markdown",
   "metadata": {},
   "source": [
    "Print current status of the dataset."
   ]
  },
  {
   "cell_type": "code",
   "execution_count": 15,
   "metadata": {},
   "outputs": [],
   "source": [
    "# print(dataset.json())"
   ]
  },
  {
   "attachments": {},
   "cell_type": "markdown",
   "metadata": {},
   "source": [
    "Set path to the directory containing all relevant data."
   ]
  },
  {
   "cell_type": "code",
   "execution_count": 16,
   "metadata": {},
   "outputs": [],
   "source": [
    "path_data = root / 'data'"
   ]
  },
  {
   "cell_type": "markdown",
   "metadata": {},
   "source": [
    "Set path for the measurement (raw) data."
   ]
  },
  {
   "cell_type": "code",
   "execution_count": 17,
   "metadata": {},
   "outputs": [],
   "source": [
    "# raw_data_path = Path('F:\\Doktorand\\\\03_Messungen\\Rohdaten')\n",
    "path_raw_data = path_data / 'Rohdaten'"
   ]
  },
  {
   "cell_type": "markdown",
   "metadata": {},
   "source": [
    "Instantiate an experiment object which will hold all the information about one single experiment."
   ]
  },
  {
   "cell_type": "code",
   "execution_count": 18,
   "metadata": {},
   "outputs": [],
   "source": [
    "experiment = Experiment()"
   ]
  },
  {
   "cell_type": "markdown",
   "metadata": {},
   "source": [
    "---\n",
    "## Section 2: Potenstiostatic data parsing\n",
    "---"
   ]
  },
  {
   "cell_type": "markdown",
   "metadata": {},
   "source": [
    "Provide name of the directory containing the potentiostatic measurement data."
   ]
  },
  {
   "cell_type": "code",
   "execution_count": 19,
   "metadata": {},
   "outputs": [],
   "source": [
    "path_echem = path_raw_data / '01_EChem'"
   ]
  },
  {
   "cell_type": "markdown",
   "metadata": {},
   "source": [
    "Search in that directory for further subdirectories and print them."
   ]
  },
  {
   "cell_type": "code",
   "execution_count": 20,
   "metadata": {},
   "outputs": [
    {
     "name": "stdout",
     "output_type": "stream",
     "text": [
      "0: 210728_ITO_TEST\n",
      "1: CAD14-Cu@AB\n"
     ]
    }
   ],
   "source": [
    "subdirectories_echem = {index:directory for index, directory in enumerate(path_echem.iterdir())}\n",
    "for index, directory in subdirectories_echem.items():\n",
    "    print(f\"{index}: {directory.name}\")"
   ]
  },
  {
   "cell_type": "markdown",
   "metadata": {},
   "source": [
    "Choose one of the found subdirectory by its index."
   ]
  },
  {
   "cell_type": "code",
   "execution_count": 21,
   "metadata": {},
   "outputs": [
    {
     "name": "stdout",
     "output_type": "stream",
     "text": [
      "/mnt/c/Users/rscho/Documents/GitHub/datamodel_b07_tc/data/Rohdaten/01_EChem/CAD14-Cu@AB\n"
     ]
    }
   ],
   "source": [
    "subdirectory_index_echem = 1\n",
    "selected_subdirectory_echem = subdirectories_echem[subdirectory_index_echem]\n",
    "print(selected_subdirectory_echem)"
   ]
  },
  {
   "cell_type": "markdown",
   "metadata": {},
   "source": [
    "Provide suffix of the file that contains the data."
   ]
  },
  {
   "cell_type": "code",
   "execution_count": 22,
   "metadata": {},
   "outputs": [],
   "source": [
    "suffix_echem = 'DTA'"
   ]
  },
  {
   "attachments": {},
   "cell_type": "markdown",
   "metadata": {},
   "source": [
    "Initialize the ``GstaticParser`` and print available files."
   ]
  },
  {
   "cell_type": "code",
   "execution_count": 23,
   "metadata": {},
   "outputs": [
    {
     "name": "stdout",
     "output_type": "stream",
     "text": [
      "0: GSTATIC\n",
      "1: POTDYN\n"
     ]
    }
   ],
   "source": [
    "gstaticparser = GstaticParser(selected_subdirectory_echem, suffix_echem)\n",
    "files_dict_echem = gstaticparser.available_files\n",
    "for index, gstatic_file in files_dict_echem.items():\n",
    "    print(f\"{index}: {gstatic_file.stem}\")"
   ]
  },
  {
   "attachments": {},
   "cell_type": "markdown",
   "metadata": {},
   "source": [
    "Chose file to be parsed by its index."
   ]
  },
  {
   "cell_type": "code",
   "execution_count": 24,
   "metadata": {},
   "outputs": [
    {
     "data": {
      "text/plain": [
       "'GSTATIC.DTA'"
      ]
     },
     "execution_count": 24,
     "metadata": {},
     "output_type": "execute_result"
    }
   ],
   "source": [
    "file_index_echem = 0\n",
    "file_echem = files_dict_echem[file_index_echem]\n",
    "file_echem.name"
   ]
  },
  {
   "attachments": {},
   "cell_type": "markdown",
   "metadata": {},
   "source": [
    "Extract the metadata from it using the ``GstaticParser`` and load into the data model."
   ]
  },
  {
   "cell_type": "code",
   "execution_count": 25,
   "metadata": {},
   "outputs": [
    {
     "data": {
      "text/html": [
       "<div>\n",
       "<style scoped>\n",
       "    .dataframe tbody tr th:only-of-type {\n",
       "        vertical-align: middle;\n",
       "    }\n",
       "\n",
       "    .dataframe tbody tr th {\n",
       "        vertical-align: top;\n",
       "    }\n",
       "\n",
       "    .dataframe thead th {\n",
       "        text-align: right;\n",
       "    }\n",
       "</style>\n",
       "<table border=\"1\" class=\"dataframe\">\n",
       "  <thead>\n",
       "    <tr style=\"text-align: right;\">\n",
       "      <th></th>\n",
       "      <th>Parameter</th>\n",
       "      <th>Data_type</th>\n",
       "      <th>Value</th>\n",
       "      <th>Description</th>\n",
       "    </tr>\n",
       "  </thead>\n",
       "  <tbody>\n",
       "    <tr>\n",
       "      <th>0</th>\n",
       "      <td>PSTAT</td>\n",
       "      <td>PSTAT</td>\n",
       "      <td>REF3000-19129</td>\n",
       "      <td>Potentiostat</td>\n",
       "    </tr>\n",
       "    <tr>\n",
       "      <th>1</th>\n",
       "      <td>IINIT</td>\n",
       "      <td>QUANT</td>\n",
       "      <td>-2.00000E+002</td>\n",
       "      <td>Initial I (mA/cm^2)</td>\n",
       "    </tr>\n",
       "    <tr>\n",
       "      <th>2</th>\n",
       "      <td>TINIT</td>\n",
       "      <td>QUANT</td>\n",
       "      <td>3.60000E+003</td>\n",
       "      <td>Initial Time (s)</td>\n",
       "    </tr>\n",
       "    <tr>\n",
       "      <th>3</th>\n",
       "      <td>IFINAL</td>\n",
       "      <td>QUANT</td>\n",
       "      <td>-2.00000E+002</td>\n",
       "      <td>Final I (mA/cm^2)</td>\n",
       "    </tr>\n",
       "    <tr>\n",
       "      <th>4</th>\n",
       "      <td>TFINAL</td>\n",
       "      <td>QUANT</td>\n",
       "      <td>0.00000E+000</td>\n",
       "      <td>Final Time (s)</td>\n",
       "    </tr>\n",
       "    <tr>\n",
       "      <th>5</th>\n",
       "      <td>SAMPLETIME</td>\n",
       "      <td>QUANT</td>\n",
       "      <td>1.00000E+000</td>\n",
       "      <td>Sample Period (s)</td>\n",
       "    </tr>\n",
       "    <tr>\n",
       "      <th>6</th>\n",
       "      <td>AREA</td>\n",
       "      <td>QUANT</td>\n",
       "      <td>1.00000E+000</td>\n",
       "      <td>Sample Area (cm^2)</td>\n",
       "    </tr>\n",
       "    <tr>\n",
       "      <th>7</th>\n",
       "      <td>DENSITY</td>\n",
       "      <td>QUANT</td>\n",
       "      <td>7.87000E+000</td>\n",
       "      <td>Density (g/cm^3)</td>\n",
       "    </tr>\n",
       "    <tr>\n",
       "      <th>8</th>\n",
       "      <td>EQUIV</td>\n",
       "      <td>QUANT</td>\n",
       "      <td>2.79200E+001</td>\n",
       "      <td>Equiv. Wt</td>\n",
       "    </tr>\n",
       "    <tr>\n",
       "      <th>9</th>\n",
       "      <td>IRCOMP</td>\n",
       "      <td>TOGGLE</td>\n",
       "      <td>T</td>\n",
       "      <td>IR Comp</td>\n",
       "    </tr>\n",
       "    <tr>\n",
       "      <th>10</th>\n",
       "      <td>EOC</td>\n",
       "      <td>QUANT</td>\n",
       "      <td>0</td>\n",
       "      <td>Open Circuit (V)</td>\n",
       "    </tr>\n",
       "    <tr>\n",
       "      <th>11</th>\n",
       "      <td>SEQUENCER</td>\n",
       "      <td>TOGGLE</td>\n",
       "      <td>TRUE</td>\n",
       "      <td>Run as Sequence</td>\n",
       "    </tr>\n",
       "    <tr>\n",
       "      <th>12</th>\n",
       "      <td>PSTATMODEL</td>\n",
       "      <td>IQUANT</td>\n",
       "      <td>5</td>\n",
       "      <td>Pstat Model</td>\n",
       "    </tr>\n",
       "    <tr>\n",
       "      <th>13</th>\n",
       "      <td>PSTATSECTION</td>\n",
       "      <td>LABEL</td>\n",
       "      <td>REF3000-19129</td>\n",
       "      <td>Pstat Section</td>\n",
       "    </tr>\n",
       "    <tr>\n",
       "      <th>14</th>\n",
       "      <td>PSTATSERIALNO</td>\n",
       "      <td>LABEL</td>\n",
       "      <td>19129</td>\n",
       "      <td>Pstat Serial Number</td>\n",
       "    </tr>\n",
       "    <tr>\n",
       "      <th>15</th>\n",
       "      <td>CTRLMODE</td>\n",
       "      <td>IQUANT</td>\n",
       "      <td>0</td>\n",
       "      <td>Control Mode</td>\n",
       "    </tr>\n",
       "    <tr>\n",
       "      <th>16</th>\n",
       "      <td>ELECTROMETER</td>\n",
       "      <td>IQUANT</td>\n",
       "      <td>0</td>\n",
       "      <td>RE=0 or CS=1</td>\n",
       "    </tr>\n",
       "    <tr>\n",
       "      <th>17</th>\n",
       "      <td>IESTAB</td>\n",
       "      <td>IQUANT</td>\n",
       "      <td>0</td>\n",
       "      <td>I/E Stability</td>\n",
       "    </tr>\n",
       "    <tr>\n",
       "      <th>18</th>\n",
       "      <td>CASPEED</td>\n",
       "      <td>IQUANT</td>\n",
       "      <td>4</td>\n",
       "      <td>Control Amp Speed</td>\n",
       "    </tr>\n",
       "    <tr>\n",
       "      <th>19</th>\n",
       "      <td>CONVENTION</td>\n",
       "      <td>IQUANT</td>\n",
       "      <td>1</td>\n",
       "      <td>Current Convention</td>\n",
       "    </tr>\n",
       "    <tr>\n",
       "      <th>20</th>\n",
       "      <td>ICHRANGE</td>\n",
       "      <td>IQUANT</td>\n",
       "      <td>2</td>\n",
       "      <td>Ich Range</td>\n",
       "    </tr>\n",
       "    <tr>\n",
       "      <th>21</th>\n",
       "      <td>ICHRANGEMODE</td>\n",
       "      <td>TOGGLE</td>\n",
       "      <td>T</td>\n",
       "      <td>Ich Auto Range</td>\n",
       "    </tr>\n",
       "    <tr>\n",
       "      <th>22</th>\n",
       "      <td>ICHOFFSETENABLE</td>\n",
       "      <td>TOGGLE</td>\n",
       "      <td>F</td>\n",
       "      <td>Ich Offset Enable</td>\n",
       "    </tr>\n",
       "    <tr>\n",
       "      <th>23</th>\n",
       "      <td>ICHOFFSET</td>\n",
       "      <td>QUANT</td>\n",
       "      <td>0</td>\n",
       "      <td>Ich Offset (V)</td>\n",
       "    </tr>\n",
       "    <tr>\n",
       "      <th>24</th>\n",
       "      <td>ICHFILTER</td>\n",
       "      <td>IQUANT</td>\n",
       "      <td>3</td>\n",
       "      <td>Ich Filter</td>\n",
       "    </tr>\n",
       "    <tr>\n",
       "      <th>25</th>\n",
       "      <td>VCHRANGE</td>\n",
       "      <td>IQUANT</td>\n",
       "      <td>3</td>\n",
       "      <td>Vch Range</td>\n",
       "    </tr>\n",
       "    <tr>\n",
       "      <th>26</th>\n",
       "      <td>VCHRANGEMODE</td>\n",
       "      <td>TOGGLE</td>\n",
       "      <td>T</td>\n",
       "      <td>Vch Auto Range</td>\n",
       "    </tr>\n",
       "    <tr>\n",
       "      <th>27</th>\n",
       "      <td>VCHOFFSETENABLE</td>\n",
       "      <td>TOGGLE</td>\n",
       "      <td>F</td>\n",
       "      <td>Vch Offset Enable</td>\n",
       "    </tr>\n",
       "    <tr>\n",
       "      <th>28</th>\n",
       "      <td>VCHOFFSET</td>\n",
       "      <td>QUANT</td>\n",
       "      <td>0</td>\n",
       "      <td>Vch Offset (V)</td>\n",
       "    </tr>\n",
       "    <tr>\n",
       "      <th>29</th>\n",
       "      <td>VCHFILTER</td>\n",
       "      <td>IQUANT</td>\n",
       "      <td>1</td>\n",
       "      <td>Vch Filter</td>\n",
       "    </tr>\n",
       "    <tr>\n",
       "      <th>30</th>\n",
       "      <td>ACHRANGE</td>\n",
       "      <td>IQUANT</td>\n",
       "      <td>2</td>\n",
       "      <td>Ach Range</td>\n",
       "    </tr>\n",
       "    <tr>\n",
       "      <th>31</th>\n",
       "      <td>ACHOFFSETENABLE</td>\n",
       "      <td>TOGGLE</td>\n",
       "      <td>F</td>\n",
       "      <td>Ach Offset Enable</td>\n",
       "    </tr>\n",
       "    <tr>\n",
       "      <th>32</th>\n",
       "      <td>ACHOFFSET</td>\n",
       "      <td>QUANT</td>\n",
       "      <td>0</td>\n",
       "      <td>Ach Offset (V)</td>\n",
       "    </tr>\n",
       "    <tr>\n",
       "      <th>33</th>\n",
       "      <td>ACHFILTER</td>\n",
       "      <td>IQUANT</td>\n",
       "      <td>1</td>\n",
       "      <td>Ach Filter</td>\n",
       "    </tr>\n",
       "    <tr>\n",
       "      <th>34</th>\n",
       "      <td>IERANGELOWERLIMIT</td>\n",
       "      <td>IQUANT</td>\n",
       "      <td>4</td>\n",
       "      <td>I/E Range Lower Limit</td>\n",
       "    </tr>\n",
       "    <tr>\n",
       "      <th>35</th>\n",
       "      <td>IERANGEMODE</td>\n",
       "      <td>TOGGLE</td>\n",
       "      <td>F</td>\n",
       "      <td>I/E AutoRange</td>\n",
       "    </tr>\n",
       "    <tr>\n",
       "      <th>36</th>\n",
       "      <td>IERANGE</td>\n",
       "      <td>IQUANT</td>\n",
       "      <td>11</td>\n",
       "      <td>I/E Range</td>\n",
       "    </tr>\n",
       "    <tr>\n",
       "      <th>37</th>\n",
       "      <td>POSFEEDENABLE</td>\n",
       "      <td>TOGGLE</td>\n",
       "      <td>F</td>\n",
       "      <td>Positive Feedback IR Comp</td>\n",
       "    </tr>\n",
       "    <tr>\n",
       "      <th>38</th>\n",
       "      <td>POSFEEDRESISTANCE</td>\n",
       "      <td>QUANT</td>\n",
       "      <td>0</td>\n",
       "      <td>Positive Feedback Resistance (ohm)</td>\n",
       "    </tr>\n",
       "    <tr>\n",
       "      <th>39</th>\n",
       "      <td>ACHSELECT</td>\n",
       "      <td>IQUANT</td>\n",
       "      <td>0</td>\n",
       "      <td>Ach Select</td>\n",
       "    </tr>\n",
       "    <tr>\n",
       "      <th>40</th>\n",
       "      <td>SENSECABLEID</td>\n",
       "      <td>IQUANT</td>\n",
       "      <td>14</td>\n",
       "      <td>Sense Cable ID</td>\n",
       "    </tr>\n",
       "    <tr>\n",
       "      <th>41</th>\n",
       "      <td>PWRCABLEID</td>\n",
       "      <td>IQUANT</td>\n",
       "      <td>13</td>\n",
       "      <td>Power Cable ID</td>\n",
       "    </tr>\n",
       "    <tr>\n",
       "      <th>42</th>\n",
       "      <td>DCCALDATE</td>\n",
       "      <td>LABEL</td>\n",
       "      <td>11/22/2022</td>\n",
       "      <td>DC Calibration Date</td>\n",
       "    </tr>\n",
       "    <tr>\n",
       "      <th>43</th>\n",
       "      <td>ACCALDATE</td>\n",
       "      <td>LABEL</td>\n",
       "      <td>NaN</td>\n",
       "      <td>AC Calibration Date</td>\n",
       "    </tr>\n",
       "    <tr>\n",
       "      <th>44</th>\n",
       "      <td>THERMOSELECT</td>\n",
       "      <td>IQUANT</td>\n",
       "      <td>1</td>\n",
       "      <td>Thermo Select</td>\n",
       "    </tr>\n",
       "    <tr>\n",
       "      <th>45</th>\n",
       "      <td>FRAMEWORKVERSION</td>\n",
       "      <td>QUANT</td>\n",
       "      <td>7.07</td>\n",
       "      <td>Framework Version</td>\n",
       "    </tr>\n",
       "    <tr>\n",
       "      <th>46</th>\n",
       "      <td>INSTRUMENTVERSION</td>\n",
       "      <td>LABEL</td>\n",
       "      <td>4.35</td>\n",
       "      <td>Instrument Version</td>\n",
       "    </tr>\n",
       "    <tr>\n",
       "      <th>47</th>\n",
       "      <td>COMPLIANCEVOLTAGE</td>\n",
       "      <td>IQUANT</td>\n",
       "      <td>0</td>\n",
       "      <td>Compliance Voltage</td>\n",
       "    </tr>\n",
       "  </tbody>\n",
       "</table>\n",
       "</div>"
      ],
      "text/plain": [
       "            Parameter Data_type          Value   \n",
       "0               PSTAT     PSTAT  REF3000-19129  \\\n",
       "1               IINIT     QUANT  -2.00000E+002   \n",
       "2               TINIT     QUANT   3.60000E+003   \n",
       "3              IFINAL     QUANT  -2.00000E+002   \n",
       "4              TFINAL     QUANT   0.00000E+000   \n",
       "5          SAMPLETIME     QUANT   1.00000E+000   \n",
       "6                AREA     QUANT   1.00000E+000   \n",
       "7             DENSITY     QUANT   7.87000E+000   \n",
       "8               EQUIV     QUANT   2.79200E+001   \n",
       "9              IRCOMP    TOGGLE              T   \n",
       "10                EOC     QUANT              0   \n",
       "11          SEQUENCER    TOGGLE           TRUE   \n",
       "12         PSTATMODEL    IQUANT              5   \n",
       "13       PSTATSECTION     LABEL  REF3000-19129   \n",
       "14      PSTATSERIALNO     LABEL          19129   \n",
       "15           CTRLMODE    IQUANT              0   \n",
       "16       ELECTROMETER    IQUANT              0   \n",
       "17             IESTAB    IQUANT              0   \n",
       "18            CASPEED    IQUANT              4   \n",
       "19         CONVENTION    IQUANT              1   \n",
       "20           ICHRANGE    IQUANT              2   \n",
       "21       ICHRANGEMODE    TOGGLE              T   \n",
       "22    ICHOFFSETENABLE    TOGGLE              F   \n",
       "23          ICHOFFSET     QUANT              0   \n",
       "24          ICHFILTER    IQUANT              3   \n",
       "25           VCHRANGE    IQUANT              3   \n",
       "26       VCHRANGEMODE    TOGGLE              T   \n",
       "27    VCHOFFSETENABLE    TOGGLE              F   \n",
       "28          VCHOFFSET     QUANT              0   \n",
       "29          VCHFILTER    IQUANT              1   \n",
       "30           ACHRANGE    IQUANT              2   \n",
       "31    ACHOFFSETENABLE    TOGGLE              F   \n",
       "32          ACHOFFSET     QUANT              0   \n",
       "33          ACHFILTER    IQUANT              1   \n",
       "34  IERANGELOWERLIMIT    IQUANT              4   \n",
       "35        IERANGEMODE    TOGGLE              F   \n",
       "36            IERANGE    IQUANT             11   \n",
       "37      POSFEEDENABLE    TOGGLE              F   \n",
       "38  POSFEEDRESISTANCE     QUANT              0   \n",
       "39          ACHSELECT    IQUANT              0   \n",
       "40       SENSECABLEID    IQUANT             14   \n",
       "41         PWRCABLEID    IQUANT             13   \n",
       "42          DCCALDATE     LABEL     11/22/2022   \n",
       "43          ACCALDATE     LABEL            NaN   \n",
       "44       THERMOSELECT    IQUANT              1   \n",
       "45   FRAMEWORKVERSION     QUANT           7.07   \n",
       "46  INSTRUMENTVERSION     LABEL           4.35   \n",
       "47  COMPLIANCEVOLTAGE    IQUANT              0   \n",
       "\n",
       "                           Description  \n",
       "0                         Potentiostat  \n",
       "1                  Initial I (mA/cm^2)  \n",
       "2                     Initial Time (s)  \n",
       "3                    Final I (mA/cm^2)  \n",
       "4                       Final Time (s)  \n",
       "5                    Sample Period (s)  \n",
       "6                   Sample Area (cm^2)  \n",
       "7                     Density (g/cm^3)  \n",
       "8                            Equiv. Wt  \n",
       "9                              IR Comp  \n",
       "10                    Open Circuit (V)  \n",
       "11                     Run as Sequence  \n",
       "12                         Pstat Model  \n",
       "13                       Pstat Section  \n",
       "14                 Pstat Serial Number  \n",
       "15                        Control Mode  \n",
       "16                        RE=0 or CS=1  \n",
       "17                       I/E Stability  \n",
       "18                   Control Amp Speed  \n",
       "19                  Current Convention  \n",
       "20                           Ich Range  \n",
       "21                      Ich Auto Range  \n",
       "22                   Ich Offset Enable  \n",
       "23                      Ich Offset (V)  \n",
       "24                          Ich Filter  \n",
       "25                           Vch Range  \n",
       "26                      Vch Auto Range  \n",
       "27                   Vch Offset Enable  \n",
       "28                      Vch Offset (V)  \n",
       "29                          Vch Filter  \n",
       "30                           Ach Range  \n",
       "31                   Ach Offset Enable  \n",
       "32                      Ach Offset (V)  \n",
       "33                          Ach Filter  \n",
       "34               I/E Range Lower Limit  \n",
       "35                       I/E AutoRange  \n",
       "36                           I/E Range  \n",
       "37           Positive Feedback IR Comp  \n",
       "38  Positive Feedback Resistance (ohm)  \n",
       "39                          Ach Select  \n",
       "40                      Sense Cable ID  \n",
       "41                      Power Cable ID  \n",
       "42                 DC Calibration Date  \n",
       "43                 AC Calibration Date  \n",
       "44                       Thermo Select  \n",
       "45                   Framework Version  \n",
       "46                  Instrument Version  \n",
       "47                  Compliance Voltage  "
      ]
     },
     "execution_count": 25,
     "metadata": {},
     "output_type": "execute_result"
    }
   ],
   "source": [
    "gstatic_metadata_df, gstatic_metadata = gstaticparser.extract_metadata(file_index_echem)\n",
    "potentiometric_measurement = lib.Measurement(measurement_type=lib.enums.MeasurementType.POTENTIOSTATIC.value, metadata=gstatic_metadata)\n",
    "experiment.measurements = [potentiometric_measurement]\n",
    "gstatic_metadata_df"
   ]
  },
  {
   "cell_type": "markdown",
   "metadata": {},
   "source": [
    "---\n",
    "## Section 3: MFM data parsing\n",
    "---"
   ]
  },
  {
   "cell_type": "markdown",
   "metadata": {},
   "source": [
    "Provide name of the subdirectory containing the mass flow meter measurement data."
   ]
  },
  {
   "cell_type": "code",
   "execution_count": 26,
   "metadata": {},
   "outputs": [],
   "source": [
    "path_mfm = path_raw_data / '03_MFM'"
   ]
  },
  {
   "cell_type": "markdown",
   "metadata": {},
   "source": [
    "Search directory for further subdirectories and print them."
   ]
  },
  {
   "cell_type": "code",
   "execution_count": 27,
   "metadata": {},
   "outputs": [
    {
     "name": "stdout",
     "output_type": "stream",
     "text": [
      "0: CAD14-Cu@AB\n"
     ]
    }
   ],
   "source": [
    "subdirectories_mfm = {index:directory for index, directory in enumerate(path_mfm.iterdir())}\n",
    "for index, directory in subdirectories_mfm.items():\n",
    "    print(f\"{index}: {directory.name}\")"
   ]
  },
  {
   "cell_type": "markdown",
   "metadata": {},
   "source": [
    "Choose one of the found subdirectory by its index."
   ]
  },
  {
   "cell_type": "code",
   "execution_count": 28,
   "metadata": {},
   "outputs": [
    {
     "name": "stdout",
     "output_type": "stream",
     "text": [
      "/mnt/c/Users/rscho/Documents/GitHub/datamodel_b07_tc/data/Rohdaten/03_MFM/CAD14-Cu@AB\n"
     ]
    }
   ],
   "source": [
    "subdirectory_index_mfm = 0\n",
    "selected_subdirectory_mfm = subdirectories_mfm[subdirectory_index_mfm]\n",
    "print(selected_subdirectory_mfm)"
   ]
  },
  {
   "cell_type": "markdown",
   "metadata": {},
   "source": [
    "Provide suffix of the file that contains the data."
   ]
  },
  {
   "cell_type": "code",
   "execution_count": 29,
   "metadata": {},
   "outputs": [],
   "source": [
    "suffix_mfm = 'csv'"
   ]
  },
  {
   "attachments": {},
   "cell_type": "markdown",
   "metadata": {},
   "source": [
    "Instantiate the ``MFMParser`` to parse MFM output files and show available files in the selected directory."
   ]
  },
  {
   "cell_type": "code",
   "execution_count": 30,
   "metadata": {},
   "outputs": [
    {
     "name": "stdout",
     "output_type": "stream",
     "text": [
      "0: Bench-2h-GSS_CAD14-Cu@AB_200_50c_24h.csv\n",
      "1: Bench-2h-GSS_CAD14-Cu@AB_200_50c_24h_truncated.csv\n"
     ]
    }
   ],
   "source": [
    "mfmparser = MFMParser(selected_subdirectory_mfm, suffix_mfm)\n",
    "files_dict_mfm = mfmparser.available_files\n",
    "for index, mfm_file in files_dict_mfm.items():\n",
    "    print(f\"{index}: {mfm_file.name}\")"
   ]
  },
  {
   "attachments": {},
   "cell_type": "markdown",
   "metadata": {},
   "source": [
    "Chose file to be parsed by its index."
   ]
  },
  {
   "cell_type": "code",
   "execution_count": 31,
   "metadata": {},
   "outputs": [
    {
     "data": {
      "text/plain": [
       "'Bench-2h-GSS_CAD14-Cu@AB_200_50c_24h.csv'"
      ]
     },
     "execution_count": 31,
     "metadata": {},
     "output_type": "execute_result"
    }
   ],
   "source": [
    "file_index_mfm = 0\n",
    "file_mfm = files_dict_mfm[file_index_mfm]\n",
    "file_mfm.name"
   ]
  },
  {
   "attachments": {},
   "cell_type": "markdown",
   "metadata": {},
   "source": [
    "Extract the experimental data from it using the ``MFMParser`` and load into the data model."
   ]
  },
  {
   "cell_type": "code",
   "execution_count": 32,
   "metadata": {},
   "outputs": [
    {
     "data": {
      "text/html": [
       "<div>\n",
       "<style scoped>\n",
       "    .dataframe tbody tr th:only-of-type {\n",
       "        vertical-align: middle;\n",
       "    }\n",
       "\n",
       "    .dataframe tbody tr th {\n",
       "        vertical-align: top;\n",
       "    }\n",
       "\n",
       "    .dataframe thead th {\n",
       "        text-align: right;\n",
       "    }\n",
       "</style>\n",
       "<table border=\"1\" class=\"dataframe\">\n",
       "  <thead>\n",
       "    <tr style=\"text-align: right;\">\n",
       "      <th></th>\n",
       "      <th>Datetime</th>\n",
       "      <th>Time</th>\n",
       "      <th>Signal</th>\n",
       "      <th>Flow_rate</th>\n",
       "    </tr>\n",
       "  </thead>\n",
       "  <tbody>\n",
       "    <tr>\n",
       "      <th>0</th>\n",
       "      <td>2023-02-06 09:58:48</td>\n",
       "      <td>0</td>\n",
       "      <td>3258</td>\n",
       "      <td>5.090180</td>\n",
       "    </tr>\n",
       "    <tr>\n",
       "      <th>1</th>\n",
       "      <td>2023-02-06 09:58:50</td>\n",
       "      <td>2</td>\n",
       "      <td>3267</td>\n",
       "      <td>5.104674</td>\n",
       "    </tr>\n",
       "    <tr>\n",
       "      <th>2</th>\n",
       "      <td>2023-02-06 09:58:52</td>\n",
       "      <td>4</td>\n",
       "      <td>3273</td>\n",
       "      <td>5.114520</td>\n",
       "    </tr>\n",
       "    <tr>\n",
       "      <th>3</th>\n",
       "      <td>2023-02-06 09:58:54</td>\n",
       "      <td>6</td>\n",
       "      <td>3278</td>\n",
       "      <td>5.122616</td>\n",
       "    </tr>\n",
       "    <tr>\n",
       "      <th>4</th>\n",
       "      <td>2023-02-06 09:58:56</td>\n",
       "      <td>8</td>\n",
       "      <td>3290</td>\n",
       "      <td>5.139893</td>\n",
       "    </tr>\n",
       "    <tr>\n",
       "      <th>...</th>\n",
       "      <td>...</td>\n",
       "      <td>...</td>\n",
       "      <td>...</td>\n",
       "      <td>...</td>\n",
       "    </tr>\n",
       "    <tr>\n",
       "      <th>2848</th>\n",
       "      <td>2023-02-06 11:33:44</td>\n",
       "      <td>5696</td>\n",
       "      <td>3210</td>\n",
       "      <td>5.015965</td>\n",
       "    </tr>\n",
       "    <tr>\n",
       "      <th>2849</th>\n",
       "      <td>2023-02-06 11:33:46</td>\n",
       "      <td>5698</td>\n",
       "      <td>3204</td>\n",
       "      <td>5.006263</td>\n",
       "    </tr>\n",
       "    <tr>\n",
       "      <th>2850</th>\n",
       "      <td>2023-02-06 11:33:48</td>\n",
       "      <td>5700</td>\n",
       "      <td>3202</td>\n",
       "      <td>5.003840</td>\n",
       "    </tr>\n",
       "    <tr>\n",
       "      <th>2851</th>\n",
       "      <td>2023-02-06 11:33:50</td>\n",
       "      <td>5702</td>\n",
       "      <td>3204</td>\n",
       "      <td>5.006141</td>\n",
       "    </tr>\n",
       "    <tr>\n",
       "      <th>2852</th>\n",
       "      <td>2023-02-06 11:33:52</td>\n",
       "      <td>5704</td>\n",
       "      <td>3198</td>\n",
       "      <td>4.996374</td>\n",
       "    </tr>\n",
       "  </tbody>\n",
       "</table>\n",
       "<p>2853 rows × 4 columns</p>\n",
       "</div>"
      ],
      "text/plain": [
       "                Datetime  Time  Signal  Flow_rate\n",
       "0    2023-02-06 09:58:48     0    3258   5.090180\n",
       "1    2023-02-06 09:58:50     2    3267   5.104674\n",
       "2    2023-02-06 09:58:52     4    3273   5.114520\n",
       "3    2023-02-06 09:58:54     6    3278   5.122616\n",
       "4    2023-02-06 09:58:56     8    3290   5.139893\n",
       "...                  ...   ...     ...        ...\n",
       "2848 2023-02-06 11:33:44  5696    3210   5.015965\n",
       "2849 2023-02-06 11:33:46  5698    3204   5.006263\n",
       "2850 2023-02-06 11:33:48  5700    3202   5.003840\n",
       "2851 2023-02-06 11:33:50  5702    3204   5.006141\n",
       "2852 2023-02-06 11:33:52  5704    3198   4.996374\n",
       "\n",
       "[2853 rows x 4 columns]"
      ]
     },
     "execution_count": 32,
     "metadata": {},
     "output_type": "execute_result"
    }
   ],
   "source": [
    "experimental_data_df_mfm, experimental_data_dict_mfm = mfmparser.extract_exp_data(file_index_mfm)\n",
    "mfm = lib.Measurement(\n",
    "            measurement_type=lib.enums.MeasurementType.MFM.value,\n",
    "            experimental_data=[value for value in experimental_data_dict_mfm.values()],\n",
    "        )\n",
    "experiment.measurements.append(mfm)\n",
    "experimental_data_df_mfm"
   ]
  },
  {
   "cell_type": "markdown",
   "metadata": {},
   "source": [
    "---\n",
    "## Section 4: GC data parsing\n",
    "---"
   ]
  },
  {
   "cell_type": "markdown",
   "metadata": {},
   "source": [
    "Provide name of the subdirectory containing the mass flow meter measurement data."
   ]
  },
  {
   "cell_type": "code",
   "execution_count": 33,
   "metadata": {},
   "outputs": [],
   "source": [
    "path_gc = path_raw_data / '02_GC'"
   ]
  },
  {
   "cell_type": "markdown",
   "metadata": {},
   "source": [
    "Search directory for further subdirectories and print them."
   ]
  },
  {
   "cell_type": "code",
   "execution_count": 34,
   "metadata": {},
   "outputs": [
    {
     "name": "stdout",
     "output_type": "stream",
     "text": [
      "0: CAD14-Cu@AB\n"
     ]
    }
   ],
   "source": [
    "subdirectories_gc = {index:directory for index, directory in enumerate(path_gc.iterdir())}\n",
    "for index, directory in subdirectories_gc.items():\n",
    "    print(f\"{index}: {directory.name}\")"
   ]
  },
  {
   "cell_type": "markdown",
   "metadata": {},
   "source": [
    "Choose one of the found subdirectory by its index."
   ]
  },
  {
   "cell_type": "code",
   "execution_count": 35,
   "metadata": {},
   "outputs": [
    {
     "name": "stdout",
     "output_type": "stream",
     "text": [
      "/mnt/c/Users/rscho/Documents/GitHub/datamodel_b07_tc/data/Rohdaten/02_GC/CAD14-Cu@AB\n"
     ]
    }
   ],
   "source": [
    "subdirectory_index_gc = 0\n",
    "selected_subdirectory_gc = subdirectories_gc[subdirectory_index_gc]\n",
    "print(selected_subdirectory_gc)"
   ]
  },
  {
   "cell_type": "markdown",
   "metadata": {},
   "source": [
    "Search subdirectory for further subsubdirectories and print them."
   ]
  },
  {
   "cell_type": "code",
   "execution_count": 36,
   "metadata": {},
   "outputs": [
    {
     "name": "stdout",
     "output_type": "stream",
     "text": [
      "0: JH-1H 2023-02-06 10-00-18\n"
     ]
    }
   ],
   "source": [
    "subsubdirectories_gc = {index:directory for index, directory in enumerate(selected_subdirectory_gc.iterdir())}\n",
    "for index, directory in subsubdirectories_gc.items():\n",
    "    print(f\"{index}: {directory.name}\")"
   ]
  },
  {
   "cell_type": "markdown",
   "metadata": {},
   "source": [
    "Choose one of the found subsubdirectory by its index."
   ]
  },
  {
   "cell_type": "code",
   "execution_count": 37,
   "metadata": {},
   "outputs": [
    {
     "name": "stdout",
     "output_type": "stream",
     "text": [
      "/mnt/c/Users/rscho/Documents/GitHub/datamodel_b07_tc/data/Rohdaten/02_GC/CAD14-Cu@AB/JH-1H 2023-02-06 10-00-18\n"
     ]
    }
   ],
   "source": [
    "subsubdirectory_index_gc = 0\n",
    "selected_subsubdirectory_gc = subsubdirectories_gc[subsubdirectory_index_gc]\n",
    "print(selected_subsubdirectory_gc)"
   ]
  },
  {
   "cell_type": "markdown",
   "metadata": {},
   "source": [
    "Print available directories containg the individual measurement datasets."
   ]
  },
  {
   "cell_type": "code",
   "execution_count": 38,
   "metadata": {},
   "outputs": [
    {
     "name": "stdout",
     "output_type": "stream",
     "text": [
      "3: JH_GASPRODUKTE.M\n",
      "4: JH_GASPRODUKTE_30MIN.M\n",
      "6: NV-F0101.D\n",
      "7: NV-F0102.D\n",
      "8: NV-F0103.D\n",
      "9: NV-F0104.D\n",
      "10: NV-F0201.D\n"
     ]
    }
   ],
   "source": [
    "exp_directories_gc = {index:directory for index, directory in enumerate(selected_subsubdirectory_gc.iterdir()) if directory.is_dir()}\n",
    "for index, directory in exp_directories_gc.items():\n",
    "    print(f\"{index}: {directory.name}\")"
   ]
  },
  {
   "cell_type": "markdown",
   "metadata": {},
   "source": [
    "Choose directories of idividual GC measurements to be used for calculation by their indices."
   ]
  },
  {
   "cell_type": "code",
   "execution_count": 39,
   "metadata": {},
   "outputs": [
    {
     "name": "stdout",
     "output_type": "stream",
     "text": [
      "/mnt/c/Users/rscho/Documents/GitHub/datamodel_b07_tc/data/Rohdaten/02_GC/CAD14-Cu@AB/JH-1H 2023-02-06 10-00-18/NV-F0102.D\n",
      "/mnt/c/Users/rscho/Documents/GitHub/datamodel_b07_tc/data/Rohdaten/02_GC/CAD14-Cu@AB/JH-1H 2023-02-06 10-00-18/NV-F0103.D\n",
      "/mnt/c/Users/rscho/Documents/GitHub/datamodel_b07_tc/data/Rohdaten/02_GC/CAD14-Cu@AB/JH-1H 2023-02-06 10-00-18/NV-F0104.D\n"
     ]
    }
   ],
   "source": [
    "indices_exp_directories_gc = [7,8,9]\n",
    "selected_subdirectories_gc = [exp_directories_gc[file] for file in indices_exp_directories_gc]\n",
    "for sub in selected_subdirectories_gc:  \n",
    "    print(sub)"
   ]
  },
  {
   "cell_type": "markdown",
   "metadata": {},
   "source": [
    "Provide filenames of the files that contains the meta data and experimental data, respectively."
   ]
  },
  {
   "cell_type": "code",
   "execution_count": 40,
   "metadata": {},
   "outputs": [],
   "source": [
    "filename_exp_gc = 'report01.CSV'\n",
    "filename_meta_gc = 'report00.CSV'"
   ]
  },
  {
   "cell_type": "markdown",
   "metadata": {},
   "source": [
    "Initialize GCParser."
   ]
  },
  {
   "cell_type": "code",
   "execution_count": 41,
   "metadata": {},
   "outputs": [],
   "source": [
    "gcparser = GCParser(selected_subdirectories_gc, filename_meta_gc, filename_exp_gc)"
   ]
  },
  {
   "attachments": {},
   "cell_type": "markdown",
   "metadata": {},
   "source": [
    "Show available metadata files contained in the selected directory."
   ]
  },
  {
   "cell_type": "code",
   "execution_count": 42,
   "metadata": {},
   "outputs": [
    {
     "name": "stdout",
     "output_type": "stream",
     "text": [
      "0: report00.CSV\n",
      "1: report00.CSV\n",
      "2: report00.CSV\n"
     ]
    }
   ],
   "source": [
    "metadata_dict_gc = gcparser.available_meta_files\n",
    "for index, gc_file in metadata_dict_gc.items():\n",
    "    print(f\"{index}: {gc_file.name}\")"
   ]
  },
  {
   "attachments": {},
   "cell_type": "markdown",
   "metadata": {},
   "source": [
    "Select GC metadata files to be parsed by their indices."
   ]
  },
  {
   "cell_type": "code",
   "execution_count": 43,
   "metadata": {},
   "outputs": [],
   "source": [
    "indices_gc_meta = [0,1,2]"
   ]
  },
  {
   "cell_type": "markdown",
   "metadata": {},
   "source": [
    "Show available experimental data files contained in the selected directory."
   ]
  },
  {
   "cell_type": "code",
   "execution_count": 44,
   "metadata": {},
   "outputs": [
    {
     "name": "stdout",
     "output_type": "stream",
     "text": [
      "0: report01.CSV\n",
      "1: report01.CSV\n",
      "2: report01.CSV\n"
     ]
    }
   ],
   "source": [
    "exp_data_dict_gc = gcparser.available_exp_files\n",
    "for index, gc_file in exp_data_dict_gc.items():\n",
    "    print(f\"{index}: {gc_file.name}\")"
   ]
  },
  {
   "cell_type": "markdown",
   "metadata": {},
   "source": [
    "Select GC experimental data files to be parsed by their indices."
   ]
  },
  {
   "cell_type": "code",
   "execution_count": 45,
   "metadata": {},
   "outputs": [],
   "source": [
    "indices_gc_exp = [0,1,2]"
   ]
  },
  {
   "attachments": {},
   "cell_type": "markdown",
   "metadata": {},
   "source": [
    "Extract the metadata and experimental data from them and load into the dataset."
   ]
  },
  {
   "cell_type": "code",
   "execution_count": 46,
   "metadata": {},
   "outputs": [],
   "source": [
    "\n",
    "list_df_meta = []\n",
    "list_df_exp = []\n",
    "for index in indices_gc_exp:\n",
    "    metadata_df_gc, metadata_gc= gcparser.extract_metadata(index)\n",
    "    exp_data_df_gc, exp_data_gc = gcparser.extract_exp_data(index)\n",
    "    gc = lib.Measurement(\n",
    "        measurement_type=lib.enums.MeasurementType.GC.value,\n",
    "        metadata=[value for value in metadata_gc.values()],\n",
    "        experimental_data=[value for value in exp_data_gc.values()]\n",
    "    )\n",
    "    experiment.measurements.append(gc)\n",
    "    list_df_meta.append(metadata_df_gc)\n",
    "    list_df_exp.append(exp_data_df_gc)"
   ]
  },
  {
   "cell_type": "markdown",
   "metadata": {},
   "source": [
    "Print example content of first metadata file."
   ]
  },
  {
   "cell_type": "code",
   "execution_count": 47,
   "metadata": {},
   "outputs": [
    {
     "data": {
      "text/html": [
       "<div>\n",
       "<style scoped>\n",
       "    .dataframe tbody tr th:only-of-type {\n",
       "        vertical-align: middle;\n",
       "    }\n",
       "\n",
       "    .dataframe tbody tr th {\n",
       "        vertical-align: top;\n",
       "    }\n",
       "\n",
       "    .dataframe thead th {\n",
       "        text-align: right;\n",
       "    }\n",
       "</style>\n",
       "<table border=\"1\" class=\"dataframe\">\n",
       "  <thead>\n",
       "    <tr style=\"text-align: right;\">\n",
       "      <th></th>\n",
       "      <th>parameter</th>\n",
       "      <th>value</th>\n",
       "      <th>description</th>\n",
       "    </tr>\n",
       "  </thead>\n",
       "  <tbody>\n",
       "    <tr>\n",
       "      <th>0</th>\n",
       "      <td>Sample Name</td>\n",
       "      <td>NaN</td>\n",
       "      <td>NaN</td>\n",
       "    </tr>\n",
       "    <tr>\n",
       "      <th>1</th>\n",
       "      <td>Sample Info</td>\n",
       "      <td>NaN</td>\n",
       "      <td>NaN</td>\n",
       "    </tr>\n",
       "    <tr>\n",
       "      <th>2</th>\n",
       "      <td>Data File</td>\n",
       "      <td>D:\\GC\\Kurz\\CAD14-Cu@AB\\JH-1H 2023-02-06 10-00-18\\</td>\n",
       "      <td>NV-F0102.D</td>\n",
       "    </tr>\n",
       "    <tr>\n",
       "      <th>3</th>\n",
       "      <td>Acq. Instrument</td>\n",
       "      <td>Instrument 1</td>\n",
       "      <td>NaN</td>\n",
       "    </tr>\n",
       "    <tr>\n",
       "      <th>4</th>\n",
       "      <td>Analysis Method</td>\n",
       "      <td>D:\\GC\\Kurz\\CAD14-Cu@AB\\JH-1H 2023-02-06 10-00-18\\</td>\n",
       "      <td>JH_GASPRODUKTE.M</td>\n",
       "    </tr>\n",
       "    <tr>\n",
       "      <th>5</th>\n",
       "      <td>Method Info</td>\n",
       "      <td>NaN</td>\n",
       "      <td>NaN</td>\n",
       "    </tr>\n",
       "    <tr>\n",
       "      <th>6</th>\n",
       "      <td>Results Created</td>\n",
       "      <td>06.02.2023 10:32:26</td>\n",
       "      <td>NaN</td>\n",
       "    </tr>\n",
       "    <tr>\n",
       "      <th>7</th>\n",
       "      <td>Results Created by</td>\n",
       "      <td>MS</td>\n",
       "      <td>NaN</td>\n",
       "    </tr>\n",
       "    <tr>\n",
       "      <th>8</th>\n",
       "      <td>Acq. Method</td>\n",
       "      <td>JH_GASPRODUKTE.M</td>\n",
       "      <td>NaN</td>\n",
       "    </tr>\n",
       "    <tr>\n",
       "      <th>9</th>\n",
       "      <td>Injection Date</td>\n",
       "      <td>06-Feb-23, 10:17:24</td>\n",
       "      <td>NaN</td>\n",
       "    </tr>\n",
       "    <tr>\n",
       "      <th>10</th>\n",
       "      <td>Acq. Operator</td>\n",
       "      <td>06-Feb-23, 10:17:24</td>\n",
       "      <td>NaN</td>\n",
       "    </tr>\n",
       "    <tr>\n",
       "      <th>11</th>\n",
       "      <td>Seq. Line</td>\n",
       "      <td>1</td>\n",
       "      <td>NaN</td>\n",
       "    </tr>\n",
       "    <tr>\n",
       "      <th>12</th>\n",
       "      <td>Location</td>\n",
       "      <td>-1</td>\n",
       "      <td>NaN</td>\n",
       "    </tr>\n",
       "    <tr>\n",
       "      <th>13</th>\n",
       "      <td>unused Loc.</td>\n",
       "      <td>0</td>\n",
       "      <td>NaN</td>\n",
       "    </tr>\n",
       "    <tr>\n",
       "      <th>14</th>\n",
       "      <td>Inj</td>\n",
       "      <td>2</td>\n",
       "      <td>NaN</td>\n",
       "    </tr>\n",
       "    <tr>\n",
       "      <th>15</th>\n",
       "      <td>Inj Volume</td>\n",
       "      <td>No inj</td>\n",
       "      <td>NaN</td>\n",
       "    </tr>\n",
       "    <tr>\n",
       "      <th>16</th>\n",
       "      <td>Actual Inj Volume</td>\n",
       "      <td>No inj</td>\n",
       "      <td>NaN</td>\n",
       "    </tr>\n",
       "    <tr>\n",
       "      <th>17</th>\n",
       "      <td>Sequence File</td>\n",
       "      <td>D:\\GC\\Kurz\\CAD14-Cu@AB\\JH-1H 2023-02-06 10-00-18\\</td>\n",
       "      <td>JH-1H.S</td>\n",
       "    </tr>\n",
       "    <tr>\n",
       "      <th>18</th>\n",
       "      <td>Report Title</td>\n",
       "      <td>Area Percent Report</td>\n",
       "      <td>NaN</td>\n",
       "    </tr>\n",
       "    <tr>\n",
       "      <th>19</th>\n",
       "      <td>Sorted By</td>\n",
       "      <td>Retention Time</td>\n",
       "      <td>NaN</td>\n",
       "    </tr>\n",
       "    <tr>\n",
       "      <th>20</th>\n",
       "      <td>Multiplier:</td>\n",
       "      <td>1</td>\n",
       "      <td>NaN</td>\n",
       "    </tr>\n",
       "    <tr>\n",
       "      <th>21</th>\n",
       "      <td>Dilution:</td>\n",
       "      <td>1</td>\n",
       "      <td>NaN</td>\n",
       "    </tr>\n",
       "    <tr>\n",
       "      <th>22</th>\n",
       "      <td>Number of Signals</td>\n",
       "      <td>2</td>\n",
       "      <td>NaN</td>\n",
       "    </tr>\n",
       "    <tr>\n",
       "      <th>23</th>\n",
       "      <td>Signal 1</td>\n",
       "      <td>TCD1 A, Front Signal</td>\n",
       "      <td>NaN</td>\n",
       "    </tr>\n",
       "    <tr>\n",
       "      <th>24</th>\n",
       "      <td>Signal 2</td>\n",
       "      <td>FID2 B, Back Signal</td>\n",
       "      <td>NaN</td>\n",
       "    </tr>\n",
       "    <tr>\n",
       "      <th>25</th>\n",
       "      <td>Number of Errors and Warnings</td>\n",
       "      <td>0</td>\n",
       "      <td>NaN</td>\n",
       "    </tr>\n",
       "    <tr>\n",
       "      <th>26</th>\n",
       "      <td>Number of Columns</td>\n",
       "      <td>7</td>\n",
       "      <td>NaN</td>\n",
       "    </tr>\n",
       "    <tr>\n",
       "      <th>27</th>\n",
       "      <td>Column 1</td>\n",
       "      <td>Peak Number</td>\n",
       "      <td>NaN</td>\n",
       "    </tr>\n",
       "    <tr>\n",
       "      <th>28</th>\n",
       "      <td>Column 2</td>\n",
       "      <td>Retention Time</td>\n",
       "      <td>min</td>\n",
       "    </tr>\n",
       "    <tr>\n",
       "      <th>29</th>\n",
       "      <td>Column 3</td>\n",
       "      <td>Signal</td>\n",
       "      <td>NaN</td>\n",
       "    </tr>\n",
       "    <tr>\n",
       "      <th>30</th>\n",
       "      <td>Column 4</td>\n",
       "      <td>Peak Type</td>\n",
       "      <td>NaN</td>\n",
       "    </tr>\n",
       "    <tr>\n",
       "      <th>31</th>\n",
       "      <td>Column 5</td>\n",
       "      <td>Area</td>\n",
       "      <td></td>\n",
       "    </tr>\n",
       "    <tr>\n",
       "      <th>32</th>\n",
       "      <td>Column 6</td>\n",
       "      <td>Height</td>\n",
       "      <td></td>\n",
       "    </tr>\n",
       "    <tr>\n",
       "      <th>33</th>\n",
       "      <td>Column 7</td>\n",
       "      <td>Area   %</td>\n",
       "      <td>NaN</td>\n",
       "    </tr>\n",
       "  </tbody>\n",
       "</table>\n",
       "</div>"
      ],
      "text/plain": [
       "                         parameter   \n",
       "0                      Sample Name  \\\n",
       "1                      Sample Info   \n",
       "2                        Data File   \n",
       "3                  Acq. Instrument   \n",
       "4                  Analysis Method   \n",
       "5                      Method Info   \n",
       "6                  Results Created   \n",
       "7               Results Created by   \n",
       "8                      Acq. Method   \n",
       "9                   Injection Date   \n",
       "10                   Acq. Operator   \n",
       "11                       Seq. Line   \n",
       "12                        Location   \n",
       "13                     unused Loc.   \n",
       "14                             Inj   \n",
       "15                      Inj Volume   \n",
       "16               Actual Inj Volume   \n",
       "17                   Sequence File   \n",
       "18                    Report Title   \n",
       "19                       Sorted By   \n",
       "20  Multiplier:                      \n",
       "21  Dilution:                        \n",
       "22               Number of Signals   \n",
       "23                        Signal 1   \n",
       "24                        Signal 2   \n",
       "25   Number of Errors and Warnings   \n",
       "26               Number of Columns   \n",
       "27                        Column 1   \n",
       "28                        Column 2   \n",
       "29                        Column 3   \n",
       "30                        Column 4   \n",
       "31                        Column 5   \n",
       "32                        Column 6   \n",
       "33                        Column 7   \n",
       "\n",
       "                                                value       description  \n",
       "0                                                 NaN               NaN  \n",
       "1                                                 NaN               NaN  \n",
       "2   D:\\GC\\Kurz\\CAD14-Cu@AB\\JH-1H 2023-02-06 10-00-18\\        NV-F0102.D  \n",
       "3                                        Instrument 1               NaN  \n",
       "4   D:\\GC\\Kurz\\CAD14-Cu@AB\\JH-1H 2023-02-06 10-00-18\\  JH_GASPRODUKTE.M  \n",
       "5                                                 NaN               NaN  \n",
       "6                                 06.02.2023 10:32:26               NaN  \n",
       "7                                                  MS               NaN  \n",
       "8                                    JH_GASPRODUKTE.M               NaN  \n",
       "9                                 06-Feb-23, 10:17:24               NaN  \n",
       "10                                06-Feb-23, 10:17:24               NaN  \n",
       "11                                                  1               NaN  \n",
       "12                                                 -1               NaN  \n",
       "13                                                  0               NaN  \n",
       "14                                                  2               NaN  \n",
       "15                                             No inj               NaN  \n",
       "16                                             No inj               NaN  \n",
       "17  D:\\GC\\Kurz\\CAD14-Cu@AB\\JH-1H 2023-02-06 10-00-18\\           JH-1H.S  \n",
       "18                                Area Percent Report               NaN  \n",
       "19                                     Retention Time               NaN  \n",
       "20                                                  1               NaN  \n",
       "21                                                  1               NaN  \n",
       "22                                                  2               NaN  \n",
       "23                               TCD1 A, Front Signal               NaN  \n",
       "24                                FID2 B, Back Signal               NaN  \n",
       "25                                                  0               NaN  \n",
       "26                                                  7               NaN  \n",
       "27                                        Peak Number               NaN  \n",
       "28                                     Retention Time               min  \n",
       "29                                             Signal               NaN  \n",
       "30                                          Peak Type               NaN  \n",
       "31                                             Area                      \n",
       "32                                             Height                    \n",
       "33                                           Area   %               NaN  "
      ]
     },
     "execution_count": 47,
     "metadata": {},
     "output_type": "execute_result"
    }
   ],
   "source": [
    "list_df_meta[0]"
   ]
  },
  {
   "cell_type": "markdown",
   "metadata": {},
   "source": [
    "Print example content of first experimental data file."
   ]
  },
  {
   "cell_type": "code",
   "execution_count": 48,
   "metadata": {},
   "outputs": [
    {
     "data": {
      "text/html": [
       "<div>\n",
       "<style scoped>\n",
       "    .dataframe tbody tr th:only-of-type {\n",
       "        vertical-align: middle;\n",
       "    }\n",
       "\n",
       "    .dataframe tbody tr th {\n",
       "        vertical-align: top;\n",
       "    }\n",
       "\n",
       "    .dataframe thead th {\n",
       "        text-align: right;\n",
       "    }\n",
       "</style>\n",
       "<table border=\"1\" class=\"dataframe\">\n",
       "  <thead>\n",
       "    <tr style=\"text-align: right;\">\n",
       "      <th></th>\n",
       "      <th>Peak_number</th>\n",
       "      <th>Retention_time</th>\n",
       "      <th>Signal</th>\n",
       "      <th>Peak_type</th>\n",
       "      <th>Peak_area</th>\n",
       "      <th>Peak_height</th>\n",
       "      <th>Peak_area_percentage</th>\n",
       "    </tr>\n",
       "  </thead>\n",
       "  <tbody>\n",
       "    <tr>\n",
       "      <th>0</th>\n",
       "      <td>1</td>\n",
       "      <td>1.729967</td>\n",
       "      <td>1</td>\n",
       "      <td>PBAN</td>\n",
       "      <td>69.171577</td>\n",
       "      <td>32.512886</td>\n",
       "      <td>0.098238</td>\n",
       "    </tr>\n",
       "    <tr>\n",
       "      <th>1</th>\n",
       "      <td>2</td>\n",
       "      <td>2.909973</td>\n",
       "      <td>1</td>\n",
       "      <td>BBA</td>\n",
       "      <td>65492.746094</td>\n",
       "      <td>3794.478271</td>\n",
       "      <td>93.013605</td>\n",
       "    </tr>\n",
       "    <tr>\n",
       "      <th>2</th>\n",
       "      <td>3</td>\n",
       "      <td>3.434230</td>\n",
       "      <td>2</td>\n",
       "      <td>BV</td>\n",
       "      <td>164.157028</td>\n",
       "      <td>43.253098</td>\n",
       "      <td>0.233138</td>\n",
       "    </tr>\n",
       "    <tr>\n",
       "      <th>3</th>\n",
       "      <td>4</td>\n",
       "      <td>3.657794</td>\n",
       "      <td>2</td>\n",
       "      <td>VB</td>\n",
       "      <td>141.173935</td>\n",
       "      <td>49.408844</td>\n",
       "      <td>0.200497</td>\n",
       "    </tr>\n",
       "    <tr>\n",
       "      <th>4</th>\n",
       "      <td>5</td>\n",
       "      <td>6.045472</td>\n",
       "      <td>2</td>\n",
       "      <td>BB</td>\n",
       "      <td>1624.073730</td>\n",
       "      <td>347.834717</td>\n",
       "      <td>2.306530</td>\n",
       "    </tr>\n",
       "    <tr>\n",
       "      <th>5</th>\n",
       "      <td>6</td>\n",
       "      <td>12.997822</td>\n",
       "      <td>1</td>\n",
       "      <td>BB</td>\n",
       "      <td>2876.952637</td>\n",
       "      <td>88.829025</td>\n",
       "      <td>4.085884</td>\n",
       "    </tr>\n",
       "    <tr>\n",
       "      <th>6</th>\n",
       "      <td>7</td>\n",
       "      <td>14.194683</td>\n",
       "      <td>2</td>\n",
       "      <td>BB</td>\n",
       "      <td>43.731697</td>\n",
       "      <td>14.139935</td>\n",
       "      <td>0.062108</td>\n",
       "    </tr>\n",
       "  </tbody>\n",
       "</table>\n",
       "</div>"
      ],
      "text/plain": [
       "   Peak_number  Retention_time  Signal Peak_type     Peak_area  Peak_height   \n",
       "0            1        1.729967       1      PBAN     69.171577    32.512886  \\\n",
       "1            2        2.909973       1      BBA   65492.746094  3794.478271   \n",
       "2            3        3.434230       2      BV      164.157028    43.253098   \n",
       "3            4        3.657794       2      VB      141.173935    49.408844   \n",
       "4            5        6.045472       2      BB     1624.073730   347.834717   \n",
       "5            6       12.997822       1      BB     2876.952637    88.829025   \n",
       "6            7       14.194683       2      BB       43.731697    14.139935   \n",
       "\n",
       "   Peak_area_percentage  \n",
       "0              0.098238  \n",
       "1             93.013605  \n",
       "2              0.233138  \n",
       "3              0.200497  \n",
       "4              2.306530  \n",
       "5              4.085884  \n",
       "6              0.062108  "
      ]
     },
     "execution_count": 48,
     "metadata": {},
     "output_type": "execute_result"
    }
   ],
   "source": [
    "list_df_exp[0]"
   ]
  },
  {
   "cell_type": "code",
   "execution_count": 49,
   "metadata": {},
   "outputs": [],
   "source": [
    "# hplc_path = raw_data_path / '04_HPLC'\n",
    "# pressure_path = raw_data_path / '05_Pressure'"
   ]
  },
  {
   "cell_type": "markdown",
   "metadata": {},
   "source": [
    "---\n",
    "## Section 4: Calibration data parsing\n",
    "---"
   ]
  },
  {
   "cell_type": "markdown",
   "metadata": {},
   "source": [
    "Set path to calibration data."
   ]
  },
  {
   "cell_type": "code",
   "execution_count": 50,
   "metadata": {},
   "outputs": [],
   "source": [
    "path_calibration_data = path_data / 'calibration'"
   ]
  },
  {
   "cell_type": "markdown",
   "metadata": {},
   "source": [
    "Print json files available in the ```calibration``` directory."
   ]
  },
  {
   "cell_type": "code",
   "execution_count": 51,
   "metadata": {},
   "outputs": [
    {
     "name": "stdout",
     "output_type": "stream",
     "text": [
      "0:/mnt/c/Users/rscho/Documents/GitHub/datamodel_b07_tc/data/calibration/calibration.json\n"
     ]
    }
   ],
   "source": [
    "files_dict_calibration = Calibrator.available_json_files(path_to_calibration_data=path_calibration_data)\n",
    "for count, path in files_dict_calibration.items():\n",
    "    print(f'{count}:{path}')"
   ]
  },
  {
   "cell_type": "markdown",
   "metadata": {},
   "source": [
    "Select calibration data files to be parsed by its index."
   ]
  },
  {
   "cell_type": "code",
   "execution_count": 52,
   "metadata": {},
   "outputs": [
    {
     "data": {
      "text/plain": [
       "'calibration.json'"
      ]
     },
     "execution_count": 52,
     "metadata": {},
     "output_type": "execute_result"
    }
   ],
   "source": [
    "file_index_calibration = 0\n",
    "file_calibration = files_dict_calibration[file_index_mfm]\n",
    "file_calibration.name"
   ]
  },
  {
   "cell_type": "markdown",
   "metadata": {},
   "source": [
    "Initialize calibrator by its method ```from_json_file```."
   ]
  },
  {
   "cell_type": "code",
   "execution_count": 53,
   "metadata": {},
   "outputs": [],
   "source": [
    "calibrator = Calibrator.from_json_file(path_to_json_file=file_calibration)"
   ]
  },
  {
   "cell_type": "markdown",
   "metadata": {},
   "source": [
    "Calibrate and return analysis object with calibration parameters just computed. <br> Append the resulting SpeciesData objects to the experiment object."
   ]
  },
  {
   "cell_type": "code",
   "execution_count": 54,
   "metadata": {},
   "outputs": [],
   "source": [
    "species_data_list = calibrator.calibrate()\n",
    "experiment.species_data = species_data_list"
   ]
  },
  {
   "cell_type": "markdown",
   "metadata": {},
   "source": [
    "---\n",
    "## Section 5: Parsing auxiliary data\n",
    "---"
   ]
  },
  {
   "cell_type": "markdown",
   "metadata": {},
   "source": [
    "### Correction factors"
   ]
  },
  {
   "cell_type": "markdown",
   "metadata": {},
   "source": [
    "Set path for the ``correction`` ``factors``."
   ]
  },
  {
   "cell_type": "code",
   "execution_count": 55,
   "metadata": {},
   "outputs": [],
   "source": [
    "filename = 'correction_factors.json'\n",
    "path_correction_factors = path_data / 'correction_factors' / filename"
   ]
  },
  {
   "cell_type": "markdown",
   "metadata": {},
   "source": [
    "Load correction factors."
   ]
  },
  {
   "cell_type": "code",
   "execution_count": 56,
   "metadata": {},
   "outputs": [],
   "source": [
    "experiment.read_correction_factors(path_correction_factors)"
   ]
  },
  {
   "cell_type": "markdown",
   "metadata": {},
   "source": [
    "### Farady coefficients"
   ]
  },
  {
   "cell_type": "markdown",
   "metadata": {},
   "source": [
    "Set path for the ``Faraday`` ``coefficients``."
   ]
  },
  {
   "cell_type": "code",
   "execution_count": 57,
   "metadata": {},
   "outputs": [],
   "source": [
    "filename = 'faraday_coefficients.json'\n",
    "path_faraday_coefficients = path_data / 'faraday_coefficients' / filename"
   ]
  },
  {
   "cell_type": "markdown",
   "metadata": {},
   "source": [
    "Load faraday coefficients."
   ]
  },
  {
   "cell_type": "code",
   "execution_count": 58,
   "metadata": {},
   "outputs": [],
   "source": [
    "experiment.read_faraday_coefficients(path_faraday_coefficients)"
   ]
  },
  {
   "cell_type": "markdown",
   "metadata": {},
   "source": [
    "### Electrode surface area"
   ]
  },
  {
   "cell_type": "markdown",
   "metadata": {},
   "source": [
    "Set value for the surface area of the electrode."
   ]
  },
  {
   "cell_type": "code",
   "execution_count": 59,
   "metadata": {},
   "outputs": [],
   "source": [
    "electrode_surface_area = 1.0 # cm^2"
   ]
  },
  {
   "cell_type": "markdown",
   "metadata": {},
   "source": [
    "---\n",
    "## Section 6: Appending parsed data to dataset\n",
    "---"
   ]
  },
  {
   "attachments": {},
   "cell_type": "markdown",
   "metadata": {},
   "source": [
    "Print current state of experiment object."
   ]
  },
  {
   "cell_type": "code",
   "execution_count": 60,
   "metadata": {},
   "outputs": [],
   "source": [
    "# print(experiment.json())"
   ]
  },
  {
   "cell_type": "code",
   "execution_count": 61,
   "metadata": {},
   "outputs": [],
   "source": [
    "dataset.experiments.append(experiment)"
   ]
  },
  {
   "cell_type": "code",
   "execution_count": 66,
   "metadata": {},
   "outputs": [],
   "source": [
    "with open(json_files[index_dataset], \"w\") as f:\n",
    "    f.write(dataset.json())"
   ]
  },
  {
   "cell_type": "code",
   "execution_count": 65,
   "metadata": {},
   "outputs": [],
   "source": [
    "# button = widgets.Button(description=\"Append experiment\", layout=widgets.Layout(width='30%', height='80px'))\n",
    "# button.style.button_color = 'darkcyan'\n",
    "# button.style.text_color = 'lightgrey'\n",
    "# button.style.font_size = '30px'\n",
    "\n",
    "\n",
    "# output = widgets.Output()\n",
    "\n",
    "# display(button, output)\n",
    "\n",
    "# def click_on_button(b):\n",
    "#     with output:\n",
    "#         print(\"Experiment successfully appended.\")\n",
    "\n",
    "# button.on_click(click_on_button)"
   ]
  },
  {
   "cell_type": "code",
   "execution_count": 64,
   "metadata": {},
   "outputs": [
    {
     "data": {
      "text/html": [
       "<style>\n",
       ".cell-output-ipywidget-background {\n",
       "    background-color: transparent !important;\n",
       "}\n",
       ":root {\n",
       "    --jp-widgets-color: var(--vscode-editor-foreground);\n",
       "    --jp-widgets-font-size: var(--vscode-editor-font-size);\n",
       "}  \n",
       "</style>\n"
      ],
      "text/plain": [
       "<IPython.core.display.HTML object>"
      ]
     },
     "metadata": {},
     "output_type": "display_data"
    }
   ],
   "source": [
    "%%html\n",
    "<style>\n",
    ".cell-output-ipywidget-background {\n",
    "    background-color: transparent !important;\n",
    "}\n",
    ":root {\n",
    "    --jp-widgets-color: var(--vscode-editor-foreground);\n",
    "    --jp-widgets-font-size: var(--vscode-editor-font-size);\n",
    "}  \n",
    "</style>"
   ]
  }
 ],
 "metadata": {
  "kernelspec": {
   "display_name": "b07",
   "language": "python",
   "name": "python3"
  },
  "language_info": {
   "codemirror_mode": {
    "name": "ipython",
    "version": 3
   },
   "file_extension": ".py",
   "mimetype": "text/x-python",
   "name": "python",
   "nbconvert_exporter": "python",
   "pygments_lexer": "ipython3",
   "version": "3.10.4"
  },
  "orig_nbformat": 4,
  "vscode": {
   "interpreter": {
    "hash": "9f62ab2d43dc75e3c3b007469adeb0f7488873df876b9b71dd3b119f0280ba41"
   }
  }
 },
 "nbformat": 4,
 "nbformat_minor": 2
}
