{
 "cells": [
  {
   "attachments": {},
   "cell_type": "markdown",
   "metadata": {},
   "source": [
    "# <center>Workflow for on-line GC and HPLC analysis in flow chemistry</center>\n",
    "# <center>2.1 Experimental notebook - Parsing</center>"
   ]
  },
  {
   "cell_type": "markdown",
   "metadata": {},
   "source": [
    "---\n",
    "\n",
    "This is the ``Experimental`` ``notebook`` ``2.1 \"Parsing\"``, where all the relevent data of the experiments are read in from different ressources. For each individual experiment this workflow is to be executed once, and the data can be appended to the project's dataset.\n",
    "\n",
    "---"
   ]
  },
  {
   "cell_type": "markdown",
   "metadata": {},
   "source": [
    "---\n",
    "## Section 0: Imports, Paths, and Logging\n",
    "---\n",
    "\n",
    "In this section all the necessary python packages are imported, the path to this notebook and the logger for this notebook is set up."
   ]
  },
  {
   "cell_type": "code",
   "execution_count": 1,
   "metadata": {},
   "outputs": [],
   "source": [
    "# Activate autoreload to keep on track with changing modules #\n",
    "%reload_ext autoreload\n",
    "%autoreload 2\n",
    "\n",
    "# Import standard libraries #\n",
    "import os\n",
    "import json\n",
    "import logging\n",
    "from pathlib import Path\n",
    "import ipywidgets as widgets\n",
    "from IPython.display import display, Markdown\n",
    "\n",
    "# Import librarian module for file directory handling #\n",
    "from datamodel_b07_tc.tools import Librarian\n",
    "\n",
    "# Import modified sdRDM objects #\n",
    "from datamodel_b07_tc.modified.experiment import Experiment\n",
    "from datamodel_b07_tc.modified.measurement import Measurement\n",
    "from datamodel_b07_tc.modified.plantsetup import PlantSetup\n",
    "\n",
    "# Import datamodel from sdRDM #\n",
    "from sdRDM import DataModel\n",
    "\n",
    "# Import tools for parsing and calibration of the raw data #\n",
    "from datamodel_b07_tc.tools import Calibrator\n",
    "from datamodel_b07_tc.tools import gc_parser\n",
    "from datamodel_b07_tc.tools import gstatic_parser\n",
    "from datamodel_b07_tc.tools import mfm_parser\n",
    "# from datamodel_b07_tc.tools import DEXPI2sdRDM\n",
    "\n",
    "# from sdRDM.generator import generate_python_api\n",
    "# generate_python_api('specifications/datamodel_b07_tc.md', '', 'datamodel_b07_tc')"
   ]
  },
  {
   "cell_type": "code",
   "execution_count": 4,
   "metadata": {},
   "outputs": [],
   "source": [
    "#Define paths for loggin output #\n",
    "root                = Path.cwd()\n",
    "logging_config_path = root / \"datamodel_b07_tc/tools/logging/config_exp_2_1.json\"\n",
    "\n",
    "# Read in logger specs and configurate logger (set name to current notebook) #\n",
    "with open(logging_config_path) as logging_config_json: logging.config.dictConfig( json.load( logging_config_json ) )\n",
    "logger = logging.getLogger(__name__)\n",
    "\n",
    "# Set the level of thid-party logger to avoid dumping too much information #\n",
    "third_party_module_loggers = ['markdown_it', 'h5py', 'numexpr', 'git']\n",
    "for logger_ in third_party_module_loggers: logging.getLogger(logger_).setLevel('WARNING')\n",
    "\n",
    "# Initialize the librarian with root directory of this notebook #\n",
    "librarian = Librarian(root_directory=root)"
   ]
  },
  {
   "cell_type": "markdown",
   "metadata": {},
   "source": [
    "---\n",
    "## Section 1: Dataset and data model parsing\n",
    "---\n",
    "In this section the data model and the dataset as well as all the output files necessary for the analysis notenook are parsed.  "
   ]
  },
  {
   "cell_type": "code",
   "execution_count": 2,
   "metadata": {},
   "outputs": [],
   "source": [
    "\n",
    "def search_files_in_subdirectory(root_directory: Path, directory_keys: list[str], file_filter: str, verbose: bool = None) -> Path:\n",
    "    \"\"\"\n",
    "    Function that loobs through Path objects containing a main directory. In this directory it is recoursevly searched for sub directories. \n",
    "    In the last sub directory files with the suffix 'file_filter' are searched and returned\n",
    "\n",
    "    Args:\n",
    "        root_directory (Path): Root directory\n",
    "        directory_keys (list[str]): List of subdirectories that should be recoursevly searched\n",
    "        file_filter (str): Suffix of files that should be found in last given sub directory\n",
    "        verbose (bool, optional): Possiblity to printout all subdirectories in each directory listed. Defaults to None.\n",
    "\n",
    "    Raises:\n",
    "        KeyError: If either the specified sub directory or file could not be found\n",
    "\n",
    "    Returns:\n",
    "        subdirectory_files (Path): Path object containing all files found in the subdirectory\n",
    "    \"\"\"\n",
    "\n",
    "    # First search for every nested sub directory in provided root directory #\n",
    "    root = root_directory\n",
    "    for j,directory_key in enumerate(directory_keys):\n",
    "        try:\n",
    "            idx_sub_directory = [i for i in range(len(root)) if root[i].parts[-1] == directory_key ][0]\n",
    "            if j < len(directory_keys)-1: \n",
    "                root          = librarian.enumerate_subdirectories(directory=root[idx_sub_directory])\n",
    "        except:\n",
    "            raise KeyError(\"Defined key: '%s' cannot be found in the given root directory: %s\"%(directory_key,root[0].parent))\n",
    "\n",
    "    # Search for all files that match the given filter in the specified sub directory #\n",
    "    subdirectory_files = librarian.enumerate_files(directory=root[idx_sub_directory], filter=file_filter, verbose=verbose)   \n",
    "    if not bool(subdirectory_files): \n",
    "        raise KeyError(\"No files with filter: '%s' found in the given sub directory: %s\"%(file_filter,root_directory[idx_sub_directory]))\n",
    "    \n",
    "    return subdirectory_files\n",
    "\n",
    "\n",
    "def dropdown_files(files: Path, description: str = \"Files\"):\n",
    "     \n",
    "    dropdown = widgets.Dropdown(\n",
    "        options=[(path.parts[-1],idx) for idx,path in files.items()],\n",
    "        description=description,\n",
    "        layout=widgets.Layout(width='auto'),\n",
    "        style={'description_width': 'auto'} \n",
    "        )\n",
    "    \n",
    "    return dropdown"
   ]
  },
  {
   "cell_type": "code",
   "execution_count": 5,
   "metadata": {},
   "outputs": [
    {
     "data": {
      "text/markdown": [
       "### Choose a dataset"
      ],
      "text/plain": [
       "<IPython.core.display.Markdown object>"
      ]
     },
     "metadata": {},
     "output_type": "display_data"
    },
    {
     "data": {
      "application/vnd.jupyter.widget-view+json": {
       "model_id": "96672181507d448d985d9dbbdd7f5a28",
       "version_major": 2,
       "version_minor": 0
      },
      "text/plain": [
       "Dropdown(description='Datasets', layout=Layout(width='auto'), options=(('b07.json', 0),), style=DescriptionSty…"
      ]
     },
     "metadata": {},
     "output_type": "display_data"
    },
    {
     "data": {
      "text/markdown": [
       "### Choose raw data files"
      ],
      "text/plain": [
       "<IPython.core.display.Markdown object>"
      ]
     },
     "metadata": {},
     "output_type": "display_data"
    },
    {
     "data": {
      "application/vnd.jupyter.widget-view+json": {
       "model_id": "da34aff61ca54a90bd7bf03b139aa897",
       "version_major": 2,
       "version_minor": 0
      },
      "text/plain": [
       "HBox(children=(Dropdown(description='Potentiostatic raw data', layout=Layout(width='auto'), options=(('POTDYN.…"
      ]
     },
     "metadata": {},
     "output_type": "display_data"
    }
   ],
   "source": [
    "# Check for all available subdirectories #\n",
    "root                          = Path.cwd()\n",
    "root_subdirectories           = librarian.enumerate_subdirectories(directory=root)\n",
    "\n",
    "# Search for subdirectory \"datasets\" and in it for all dataset json files #\n",
    "\n",
    "json_dataset_files            = search_files_in_subdirectory(root_directory=root_subdirectories, directory_keys=[\"datasets\"], file_filter=\"json\", verbose=False)\n",
    "json_dropdown                 = dropdown_files(json_dataset_files,description=\"Datasets\")\n",
    "\n",
    "dataset, lib = DataModel.parse( json_dataset_files[ json_dropdown.value ] )\n",
    "\n",
    "## Search for raw data ##\n",
    "\n",
    "# Potentiostatic data #\n",
    "potentiostatic_raw_data_files = search_files_in_subdirectory(root_directory=root_subdirectories, directory_keys=[\"data\",\"Rohdaten\",\"01_EChem\",\"CAD14-Cu@AB\"], file_filter=\"DTA\", verbose=False)\n",
    "potentiostatic_dropdown       = dropdown_files(potentiostatic_raw_data_files,description=\"Potentiostatic raw data\")\n",
    "\n",
    "# Mass flow meter data #\n",
    "mfm_raw_data_files            = search_files_in_subdirectory(root_directory=root_subdirectories, directory_keys=[\"data\",\"Rohdaten\",\"03_MFM\",\"CAD14-Cu@AB\"], file_filter=\"csv\", verbose=False)\n",
    "mfm_dropdown                  = dropdown_files(mfm_raw_data_files,description=\"Mass flow meter raw data\")\n",
    "\n",
    "# GC data #\n",
    "\n",
    "\n",
    "display( Markdown(\"### Choose a dataset\") )\n",
    "display( json_dropdown )\n",
    "\n",
    "display( Markdown(\"### Choose raw data files\") )\n",
    "\n",
    "display( widgets.HBox([ potentiostatic_dropdown, mfm_dropdown ]) )\n",
    "\n",
    "# Read in selected raw data\n",
    "\n",
    "#potentiostatic_metadata_df, potentiostatic_measurement = Measurement.from_parser( parser=gstatic_parser, metadata_path=potentiostatic_raw_data_files[ potentiostatic_dropdown.value ] )\n",
    "#mfm_experimental_data_df, mfm_measurement = Measurement.from_parser( parser=mfm_parser, experimental_data_path=mfm_raw_data_files[ mfm_dropdown.value ] )"
   ]
  },
  {
   "cell_type": "code",
   "execution_count": 58,
   "metadata": {},
   "outputs": [],
   "source": [
    "\n",
    "folders = root_subdirectories\n",
    "\n",
    "class widget():\n",
    "    \n",
    "    # Function to navigate into the selected subfolder\n",
    "\n",
    "    def go_to_subfolder(self,_):\n",
    "        self.current_dir.value       = str(self.folder_dropdown.value)\n",
    "        subfolders                   = librarian.enumerate_subdirectories(directory=self.folder_dropdown.value)\n",
    "        self.folder_dropdown.options = [ (path.parts[-1],path) for _,path in subfolders.items() ] if bool(subfolders) else [ (\"No subdirectories\",self.folder_dropdown.value) ]\n",
    "\n",
    "    # Function to navigate back from the selected subfolder\n",
    "    def go_to_parentfolder(self,_):\n",
    "        parentfolder                 = self.parent\n",
    "        self.current_dir.value       = str(parentfolder)\n",
    "        parentfolders                = librarian.enumerate_subdirectories(directory=parentfolder)\n",
    "        self.folder_dropdown.options = [(path.parts[-1],path) for _,path in parentfolders.items()]\n",
    "    \n",
    "    def add_file(self,_):\n",
    "        if self.file_category.value == \"EChem\":\n",
    "            self.Echem_list.append(str( self.file_dropdown.value.parts[-1] ))\n",
    "            self.Echem_files.value = self.Echem_list\n",
    "\n",
    "        elif self.file_category.value == \"GC\":\n",
    "            self.GC_list.append(str( self.file_dropdown.value.parts[-1] ))\n",
    "            self.GC_files.value    = self.GC_list\n",
    "\n",
    "        elif self.file_category.value == \"MFM\":\n",
    "            self.MFM_list.append(str( self.file_dropdown.value.parts[-1] ))\n",
    "            self.MFM_files.value  = self.MFM_list\n",
    "\n",
    "    def folder_dropdown_option_handler(self,_):\n",
    "        # If no subdirectories exist, then the parent folder is simply the first parent, otherwise it is the 2nd parent\n",
    "        # (because the current dropdown value is already )\n",
    "        if str(self.folder_dropdown.value.parent) == self.current_dir.value:\n",
    "            self.parent                  = self.folder_dropdown.value.parent.parent\n",
    "            self.file_folder             = self.folder_dropdown.value.parent\n",
    "        else:\n",
    "            self.parent                  = self.folder_dropdown.value.parent\n",
    "            self.file_folder             = self.folder_dropdown.value\n",
    "\n",
    "        # Reset file type after chaning dropdown\n",
    "\n",
    "        self.file_type_text.value        = \"\"\n",
    "        self.file_dropdown.options       = []\n",
    "\n",
    "    def file_type_input_handler(self,_):\n",
    "        if self.file_type_text.value:\n",
    "            file_filter                  = self.file_type_text.value\n",
    "            subdirectory_files           = librarian.enumerate_files(directory=self.file_folder, filter=file_filter)\n",
    "            \n",
    "            # Show all available files and show the first initially that they know if file are available\n",
    "            try:\n",
    "                self.file_dropdown.options   = [(file.parts[-1],file) for _,file in subdirectory_files.items()]\n",
    "                self.file_dropdown.value     = subdirectory_files[0]\n",
    "            except:\n",
    "                self.file_dropdown.options   = [\"No files with specified suffix\"]\n",
    "                self.file_dropdown.value     = \"No files with specified suffix\"\n",
    "    \n",
    "    def file_category_input_handler(self,_):\n",
    "        self.button_select.description = 'Add file to %s'%(self.file_category.value)\n",
    "        \n",
    "    \n",
    "    def visualize_folderwidget(self,folders: Path) -> None:\n",
    "        \n",
    "        self.folder_dropdown = widgets.Dropdown(description='Select folder:',\n",
    "                                                options=[(path.parts[-1],path) for _,path in folders.items()],\n",
    "                                                layout=widgets.Layout(width='auto'),\n",
    "                                                style={'description_width': 'auto'})\n",
    "\n",
    "        self.file_dropdown   = widgets.Dropdown(description='Select file:',\n",
    "                                                layout=widgets.Layout(width='auto'),\n",
    "                                                style={'description_width': 'auto'})\n",
    "        \n",
    "        self.file_category   = widgets.Dropdown(options=['EChem', 'GC', 'MFM'],\n",
    "                                                value='EChem',\n",
    "                                                description='for category:',\n",
    "                                                style={'description_width': 'auto'})\n",
    "\n",
    "        self.button_go_for   = widgets.Button(description='Move into directory',\n",
    "                                              layout=widgets.Layout(width='auto'))\n",
    "        \n",
    "        self.button_go_back  = widgets.Button(description='Move one diretory back',\n",
    "                                              layout=widgets.Layout(width='auto'))\n",
    "        \n",
    "        self.button_select   = widgets.Button(description='Add file to %s'%(self.file_category.value),\n",
    "                                              layout=widgets.Layout(width='auto'))\n",
    "\n",
    "        self.file_type_text  = widgets.Text(description='File type:',\n",
    "                                            placeholder='Enter type here (e.g.: csv, json, ... or * for all files)',\n",
    "                                            layout=widgets.Layout(width='auto'),\n",
    "                                            style={'description_width': 'auto'})\n",
    "        \n",
    "        self.current_dir     = widgets.Text(description='Current directory:',\n",
    "                                            disabled=True,\n",
    "                                            value=str(folders[0].parent),\n",
    "                                            layout=widgets.Layout(width='auto'),\n",
    "                                            style={'description_width': 'auto'})\n",
    "\n",
    "        self.Echem_files     = widgets.TagsInput(allow_duplicates=False,disabled=True)\n",
    "        self.GC_files        = widgets.TagsInput(allow_duplicates=False,disabled=True)\n",
    "        self.MFM_files       = widgets.TagsInput(allow_duplicates=False,disabled=True)\n",
    "\n",
    "        self.file_folder     = folders[0].parent\n",
    "        self.Echem_list      = []\n",
    "        self.GC_list         = []\n",
    "        self.MFM_list        = []\n",
    "        \n",
    "        # --> function that shows and store the selected files --> either fix that GC, EChem or MFM data\n",
    "        self.select_file     = 5\n",
    "        \n",
    "        # Functions for the buttons #\n",
    "        self.button_go_for.on_click(self.go_to_subfolder)\n",
    "        self.button_go_back.on_click(self.go_to_parentfolder)\n",
    "        self.button_select.on_click(self.add_file)\n",
    "\n",
    "        # Attach the event handler to the 'value' property change of the file type widget\n",
    "        self.file_type_text.observe(self.file_type_input_handler, names='value')\n",
    "        self.folder_dropdown.observe(self.folder_dropdown_option_handler, names='options')\n",
    "        self.file_category.observe(self.file_category_input_handler, names='value')\n",
    "\n",
    "        # Display the widgets\n",
    "\n",
    "        # Create the layout\n",
    "        widgets1 = widgets.VBox([self.current_dir,self.folder_dropdown])\n",
    "        widgets2 = widgets.HBox([self.button_go_for, self.button_go_back])\n",
    "        widgets3 = widgets.VBox([self.file_type_text])\n",
    "        widgets4 = widgets.HBox([self.file_dropdown,self.file_category])\n",
    "        widgets5 = widgets.VBox([self.button_select])\n",
    "        widgets6 = widgets.HBox([widgets.VBox([widgets.Label(value='Files for EChem evaluation:'), self.Echem_files]),\n",
    "                                 widgets.VBox([widgets.Label(value='Files for GC evaluation:'), self.GC_files]),\n",
    "                                 widgets.VBox([widgets.Label(value='Files for MFM evaluation:'), self.MFM_files])])\n",
    "\n",
    "        # Combine the layout\n",
    "        full_layout = widgets.VBox([widgets1,widgets2,widgets3,widgets4,widgets5,widgets6])\n",
    "\n",
    "        # Display the layout\n",
    "        display(full_layout)\n",
    "\n"
   ]
  },
  {
   "cell_type": "code",
   "execution_count": 59,
   "metadata": {},
   "outputs": [
    {
     "data": {
      "application/vnd.jupyter.widget-view+json": {
       "model_id": "41f2897d9afd4ee187caf7f844078736",
       "version_major": 2,
       "version_minor": 0
      },
      "text/plain": [
       "VBox(children=(VBox(children=(Text(value='/Users/samir/Documents/PhD/SFB1333/datamodel_b07_tc', description='C…"
      ]
     },
     "metadata": {},
     "output_type": "display_data"
    }
   ],
   "source": [
    "w = widget()\n",
    "w.visualize_folderwidget(folders)"
   ]
  },
  {
   "cell_type": "code",
   "execution_count": 80,
   "metadata": {},
   "outputs": [
    {
     "ename": "IndexError",
     "evalue": "list index out of range",
     "output_type": "error",
     "traceback": [
      "\u001b[1;31m---------------------------------------------------------------------------\u001b[0m",
      "\u001b[1;31mIndexError\u001b[0m                                Traceback (most recent call last)",
      "\u001b[1;32mc:\\Users\\darouich\\OneDrive\\Dokumente\\datamodel_b07_tc\\datamodel_b07_tc\\2.1_Experimental_parsing.ipynb Cell 9\u001b[0m line \u001b[0;36m2\n\u001b[0;32m      <a href='vscode-notebook-cell:/c%3A/Users/darouich/OneDrive/Dokumente/datamodel_b07_tc/datamodel_b07_tc/2.1_Experimental_parsing.ipynb#Y124sZmlsZQ%3D%3D?line=0'>1</a>\u001b[0m \u001b[39m# Search for mass flow meter data folder #\u001b[39;00m\n\u001b[1;32m----> <a href='vscode-notebook-cell:/c%3A/Users/darouich/OneDrive/Dokumente/datamodel_b07_tc/datamodel_b07_tc/2.1_Experimental_parsing.ipynb#Y124sZmlsZQ%3D%3D?line=1'>2</a>\u001b[0m idx_gc_direct  \u001b[39m=\u001b[39m [i \u001b[39mfor\u001b[39;49;00m i \u001b[39min\u001b[39;49;00m \u001b[39mrange\u001b[39;49m(\u001b[39mlen\u001b[39;49m(raw_data_subdirectories)) \u001b[39mif\u001b[39;49;00m \u001b[39mstr\u001b[39;49m(raw_data_subdirectories[i])\u001b[39m.\u001b[39;49msplit(\u001b[39m\"\u001b[39;49m\u001b[39m/\u001b[39;49m\u001b[39m\"\u001b[39;49m)[\u001b[39m-\u001b[39;49m\u001b[39m1\u001b[39;49m] \u001b[39m==\u001b[39;49m \u001b[39m\"\u001b[39;49m\u001b[39m02_GC\u001b[39;49m\u001b[39m\"\u001b[39;49m ][\u001b[39m0\u001b[39;49m]\n\u001b[0;32m      <a href='vscode-notebook-cell:/c%3A/Users/darouich/OneDrive/Dokumente/datamodel_b07_tc/datamodel_b07_tc/2.1_Experimental_parsing.ipynb#Y124sZmlsZQ%3D%3D?line=2'>3</a>\u001b[0m gc_directories \u001b[39m=\u001b[39m librarian\u001b[39m.\u001b[39menumerate_subdirectories(directory\u001b[39m=\u001b[39mraw_data_subdirectories[idx_gc_direct])\n\u001b[0;32m      <a href='vscode-notebook-cell:/c%3A/Users/darouich/OneDrive/Dokumente/datamodel_b07_tc/datamodel_b07_tc/2.1_Experimental_parsing.ipynb#Y124sZmlsZQ%3D%3D?line=4'>5</a>\u001b[0m \u001b[39m# Serach for gc subdirectories #\u001b[39;00m\n",
      "\u001b[1;31mIndexError\u001b[0m: list index out of range"
     ]
    }
   ],
   "source": [
    "# Search for mass flow meter data folder #\n",
    "idx_gc_direct  = [i for i in range(len(raw_data_subdirectories)) if str(raw_data_subdirectories[i]).split(\"/\")[-1] == \"02_GC\" ][0]\n",
    "gc_directories = librarian.enumerate_subdirectories(directory=raw_data_subdirectories[idx_gc_direct])\n",
    "\n",
    "# Serach for gc subdirectories #\n",
    "idx_gc_sub_dir    = [i for i in range(len(gc_directories)) if str(gc_directories[i]).split(\"/\")[-1] == \"CAD14-Cu@AB\" ][0]\n",
    "gc_subdirectories = librarian.enumerate_subdirectories(directory=gc_directories[idx_gc_sub_dir])\n",
    "\n",
    "gc_subdirectories"
   ]
  },
  {
   "cell_type": "code",
   "execution_count": null,
   "metadata": {},
   "outputs": [],
   "source": [
    "# Search for mass flow meter data folder #\n",
    "idx_gc_direct  = [i for i in range(len(raw_data_subdirectories)) if str(raw_data_subdirectories[i]).split(\"/\")[-1] == \"02_GC\" ]\n",
    "gc_directories = librarian.enumerate_subdirectories(directory=raw_data_subdirectories[idx_gc_direct])\n",
    "\n",
    "# Serach for gc subdirectories #\n",
    "idx_gc_sub_dir    = [i for i in range(len(gc_directories)) if str(gc_directories[i]).split(\"/\")[-1] == \"CAD14-Cu@AB\" ]\n",
    "gc_subdirectories = librarian.enumerate_subdirectories(directory=gc_directories[idx_gc_sub_dir])\n",
    "\n",
    "# Select subdirectory of wanted experiment from given directories #\n",
    "idx_gc_sub_sub_dir   = 0\n",
    "gc_subsubdirectories = librarian.enumerate_subdirectories(directory=gc_subdirectories[idx_gc_sub_sub_dir])\n",
    "\n",
    "# Gather all the gc raw data files #\n",
    "gc_raw_data_files_list = []\n",
    "\n",
    "# Select the indices of the subdirectories that should be read in\n",
    "gc_raw_data_subdir_idx = [ 3, 4, 5 ] \n",
    "\n",
    "gc_raw_data_files_list = [librarian.enumerate_files(directory=gc_subsubdirectories[i], filter='CSV') for i in gc_raw_data_subdir_idx]\n",
    "\n",
    "# Read out all the data from the provided gc files #\n",
    "gc_experimental_data_df_list = []\n",
    "gc_metadata_df_list = []\n",
    "gc_measurements_list = []\n",
    "\n",
    "for data_file in gc_raw_data_files_list:\n",
    "    gc_metadata_df, gc_experimental_data_df, gc_measurement = Measurement.from_parser(\n",
    "        parser=gc_parser,\n",
    "        metadata_path=data_file[0],\n",
    "        experimental_data_path=data_file[1]\n",
    "    )\n",
    "    gc_experimental_data_df_list.append(gc_experimental_data_df)\n",
    "    gc_metadata_df_list.append(gc_metadata_df)\n",
    "    gc_measurements_list.append(gc_measurement)"
   ]
  },
  {
   "cell_type": "markdown",
   "metadata": {},
   "source": [
    "---\n",
    "## Section 2: Plant setup parsing\n",
    "---"
   ]
  },
  {
   "cell_type": "markdown",
   "metadata": {},
   "source": [
    "Instantiate 'experiment' object."
   ]
  },
  {
   "cell_type": "code",
   "execution_count": 22,
   "metadata": {},
   "outputs": [],
   "source": [
    "experiment = Experiment()\n",
    "\n",
    "## Get plan setup given as in dexpi format ##\n",
    "\n",
    "#idx_rawdatafolder       = [i for i in range(len(data_subdirectories)) if str(data_subdirectories[i]).split(\"/\")[-1] == \"plant_setup\" ]\n",
    "#plant_setup_files = librarian.enumerate_files(dirctory=data_subdirectories[idx_rawdatafolder], filter='xml')\n",
    "#plant_setup = PlantSetup.from_parser(parser=DEXPI2sdRDM, path=plant_setup_files[0])\n",
    "#experiment.plant_setup = plant_setup"
   ]
  },
  {
   "cell_type": "markdown",
   "metadata": {},
   "source": [
    "---\n",
    "## Section 3: Potenstiostatic data parsing\n",
    "---\n",
    "Select path to the potentiostatic data and print available subdirectories."
   ]
  },
  {
   "cell_type": "markdown",
   "metadata": {},
   "source": [
    "---\n",
    "## Section 4: MFM data parsing\n",
    "---\n",
    "Provide name of the subdirectory containing the mass flow meter measurement data."
   ]
  },
  {
   "cell_type": "markdown",
   "metadata": {},
   "source": [
    "---\n",
    "## Section 5: GC data parsing\n",
    "---"
   ]
  },
  {
   "cell_type": "code",
   "execution_count": 32,
   "metadata": {},
   "outputs": [
    {
     "name": "stdout",
     "output_type": "stream",
     "text": [
      "Parent directory: \n",
      " /mnt/c/Users/rscho/Documents/GitHub/datamodel_b07_tc/data/Rohdaten/02_GC \n",
      "Available subdirectories:\n",
      "0: .../CAD14-Cu@AB\n"
     ]
    }
   ],
   "source": []
  },
  {
   "cell_type": "code",
   "execution_count": null,
   "metadata": {},
   "outputs": [],
   "source": [
    "## Combine all gathered data in the experiments object ##\n",
    "\n",
    "experiment.measurements = [potentiostatic_measurement, mfm_measurement, *gc_measurements_list]"
   ]
  },
  {
   "cell_type": "markdown",
   "metadata": {},
   "source": [
    "---\n",
    "## Section 6: Calibration data parsing\n",
    "---"
   ]
  },
  {
   "cell_type": "markdown",
   "metadata": {},
   "source": [
    "Search for calibation files in the 'calibration' directory."
   ]
  },
  {
   "cell_type": "code",
   "execution_count": 42,
   "metadata": {},
   "outputs": [
    {
     "name": "stdout",
     "output_type": "stream",
     "text": [
      "Directory: \n",
      " /mnt/c/Users/rscho/Documents/GitHub/datamodel_b07_tc/data/calibration \n",
      "Available files:\n",
      "0: calibration.json\n"
     ]
    }
   ],
   "source": [
    "calibration_files = librarian.enumerate_files(directory=data_subdirectories[0])"
   ]
  },
  {
   "cell_type": "markdown",
   "metadata": {},
   "source": [
    "Initialize calibrator with an available calibration file selected by its index."
   ]
  },
  {
   "cell_type": "code",
   "execution_count": 43,
   "metadata": {},
   "outputs": [],
   "source": [
    "calibrator = Calibrator.from_json_file(path_to_json_file=calibration_files[0])"
   ]
  },
  {
   "cell_type": "markdown",
   "metadata": {},
   "source": [
    "Calibrate and return analysis object with calibration parameters just computed. <br> Append the resulting SpeciesData objects to the experiment object."
   ]
  },
  {
   "cell_type": "code",
   "execution_count": 44,
   "metadata": {},
   "outputs": [],
   "source": [
    "species_data_list = calibrator.calibrate()\n",
    "experiment.species_data = species_data_list"
   ]
  },
  {
   "cell_type": "markdown",
   "metadata": {},
   "source": [
    "---\n",
    "## Section 7: Parsing auxiliary data\n",
    "---"
   ]
  },
  {
   "cell_type": "markdown",
   "metadata": {},
   "source": [
    "### Correction factors"
   ]
  },
  {
   "cell_type": "markdown",
   "metadata": {},
   "source": [
    "Search for correction factors files in the 'correction factors' directory."
   ]
  },
  {
   "cell_type": "code",
   "execution_count": 45,
   "metadata": {},
   "outputs": [
    {
     "name": "stdout",
     "output_type": "stream",
     "text": [
      "Directory: \n",
      " /mnt/c/Users/rscho/Documents/GitHub/datamodel_b07_tc/data/correction_factors \n",
      "Available files:\n",
      "0: correction_factors.json\n"
     ]
    }
   ],
   "source": [
    "correction_factors_files = librarian.enumerate_files(directory=data_subdirectories[1])"
   ]
  },
  {
   "cell_type": "markdown",
   "metadata": {},
   "source": [
    "Load correction factors into the experiment object."
   ]
  },
  {
   "cell_type": "code",
   "execution_count": 46,
   "metadata": {},
   "outputs": [],
   "source": [
    "experiment.read_correction_factors(correction_factors_files[0])"
   ]
  },
  {
   "cell_type": "markdown",
   "metadata": {},
   "source": [
    "### Farady coefficients"
   ]
  },
  {
   "cell_type": "markdown",
   "metadata": {},
   "source": [
    "Search for faraday coefficients files in the 'correction factors' directory."
   ]
  },
  {
   "cell_type": "code",
   "execution_count": 47,
   "metadata": {},
   "outputs": [
    {
     "name": "stdout",
     "output_type": "stream",
     "text": [
      "Directory: \n",
      " /mnt/c/Users/rscho/Documents/GitHub/datamodel_b07_tc/data/faraday_coefficients \n",
      "Available files:\n",
      "0: faraday_coefficients.json\n"
     ]
    }
   ],
   "source": [
    "faraday_coefficients_files = librarian.enumerate_files(directory=data_subdirectories[2])"
   ]
  },
  {
   "cell_type": "markdown",
   "metadata": {},
   "source": [
    "Load faraday coefficients into the experiment object."
   ]
  },
  {
   "cell_type": "code",
   "execution_count": 48,
   "metadata": {},
   "outputs": [],
   "source": [
    "experiment.read_faraday_coefficients(faraday_coefficients_files[0])"
   ]
  },
  {
   "cell_type": "markdown",
   "metadata": {},
   "source": [
    "### Electrode surface area"
   ]
  },
  {
   "cell_type": "markdown",
   "metadata": {},
   "source": [
    "Set value for the surface area of the electrode."
   ]
  },
  {
   "cell_type": "code",
   "execution_count": 49,
   "metadata": {},
   "outputs": [],
   "source": [
    "electrode_surface_area = 1.0 # cm^2"
   ]
  },
  {
   "cell_type": "markdown",
   "metadata": {},
   "source": [
    "---\n",
    "## Section 8: Appending parsed data to dataset\n",
    "---"
   ]
  },
  {
   "attachments": {},
   "cell_type": "markdown",
   "metadata": {},
   "source": [
    "Print current state of experiment object."
   ]
  },
  {
   "cell_type": "code",
   "execution_count": 50,
   "metadata": {},
   "outputs": [],
   "source": [
    "# print(experiment.json())"
   ]
  },
  {
   "cell_type": "markdown",
   "metadata": {},
   "source": [
    "Append experiment object to the dataset."
   ]
  },
  {
   "cell_type": "code",
   "execution_count": 51,
   "metadata": {},
   "outputs": [],
   "source": [
    "dataset.experiments.append(experiment)"
   ]
  },
  {
   "cell_type": "markdown",
   "metadata": {},
   "source": [
    "Replace 'old' dataset by its extended version containing all the parsef data."
   ]
  },
  {
   "cell_type": "code",
   "execution_count": 52,
   "metadata": {},
   "outputs": [],
   "source": [
    "with open(json_dataset, \"w\") as f:\n",
    "    f.write(dataset.json())"
   ]
  }
 ],
 "metadata": {
  "kernelspec": {
   "display_name": "b07",
   "language": "python",
   "name": "python3"
  },
  "language_info": {
   "codemirror_mode": {
    "name": "ipython",
    "version": 3
   },
   "file_extension": ".py",
   "mimetype": "text/x-python",
   "name": "python",
   "nbconvert_exporter": "python",
   "pygments_lexer": "ipython3",
   "version": "3.11.5"
  },
  "orig_nbformat": 4,
  "vscode": {
   "interpreter": {
    "hash": "9f62ab2d43dc75e3c3b007469adeb0f7488873df876b9b71dd3b119f0280ba41"
   }
  }
 },
 "nbformat": 4,
 "nbformat_minor": 2
}
