{
 "cells": [
  {
   "attachments": {},
   "cell_type": "markdown",
   "metadata": {},
   "source": [
    "# <center>Workflow for the CRC1333 project B07 - Technical Chemistry</center>\n",
    "# <center>2.2 Experimental notebook - Analysis</center>"
   ]
  },
  {
   "cell_type": "markdown",
   "metadata": {},
   "source": [
    "---\n",
    "\n",
    "This is the ``Experimental`` ``notebook``, where the actual analysis of the experiments takes place. It consists of three parts: ``Parsing``, ``analysis`` and ``DaRUS`` ``upload``. Within the scope of each project, multiple experiments are perfomed, hence multiple analyses are to be done. For each individual experiment this workflow is to be executed once, and the results can be appended to the project's dataset.\n",
    "\n",
    "---"
   ]
  },
  {
   "cell_type": "markdown",
   "metadata": {},
   "source": [
    "---\n",
    "## Section 0: Imports, Paths, and Logging\n",
    "---"
   ]
  },
  {
   "cell_type": "markdown",
   "metadata": {},
   "source": [
    "In this section all the necessary python packages are imported, the path to this notebook and the logger for this notebook is set up."
   ]
  },
  {
   "cell_type": "markdown",
   "metadata": {},
   "source": [
    "Activate autoreload."
   ]
  },
  {
   "cell_type": "code",
   "execution_count": 1,
   "metadata": {},
   "outputs": [],
   "source": [
    "%reload_ext autoreload\n",
    "%autoreload 2"
   ]
  },
  {
   "cell_type": "markdown",
   "metadata": {},
   "source": [
    "Import standard library python packages necessary to set up the ``logger``."
   ]
  },
  {
   "cell_type": "code",
   "execution_count": 2,
   "metadata": {},
   "outputs": [],
   "source": [
    "import os\n",
    "import json\n",
    "import logging\n",
    "import logging.config\n",
    "from pathlib import Path"
   ]
  },
  {
   "cell_type": "markdown",
   "metadata": {},
   "source": [
    "Get path to the directory this notebook is located."
   ]
  },
  {
   "cell_type": "code",
   "execution_count": 3,
   "metadata": {},
   "outputs": [],
   "source": [
    "root = Path(os.path.abspath(''))"
   ]
  },
  {
   "cell_type": "markdown",
   "metadata": {},
   "source": [
    "Set path to the directory containing the configuration file for the logger."
   ]
  },
  {
   "cell_type": "code",
   "execution_count": 4,
   "metadata": {},
   "outputs": [],
   "source": [
    "logging_config_path = root / \"datamodel_b07_tc/tools/logging/config_exp_2_1.json\""
   ]
  },
  {
   "cell_type": "markdown",
   "metadata": {},
   "source": [
    "Set up logger by reading the .json-type configuration file."
   ]
  },
  {
   "cell_type": "code",
   "execution_count": 5,
   "metadata": {},
   "outputs": [],
   "source": [
    "with open(logging_config_path) as logging_config_json:\n",
    "    logging_config = json.load(logging_config_json)\n",
    "logging.config.dictConfig(logging_config)"
   ]
  },
  {
   "cell_type": "markdown",
   "metadata": {},
   "source": [
    "Create a child of the root logger and set its name to the name of the current notebook."
   ]
  },
  {
   "cell_type": "code",
   "execution_count": 6,
   "metadata": {},
   "outputs": [],
   "source": [
    "logger = logging.getLogger(__name__)"
   ]
  },
  {
   "cell_type": "markdown",
   "metadata": {},
   "source": [
    "Set the level of several third-party module loggers to avoid dumping too much information in the log file.\n",
    "<div class=\"alert alert-block alert-info\"><b>Info:</b> Some third party modules use the same logging module and structure as this notebook, which is unproblematic, unless the level of their corresponding logging handlers is too low. In these cases the logging messages of lower levels, such as 'DEBUG' and 'INFO' are propagated to the parent logger of this notebook.</div>"
   ]
  },
  {
   "cell_type": "code",
   "execution_count": 7,
   "metadata": {},
   "outputs": [],
   "source": [
    "third_party_module_loggers = ['markdown_it', 'h5py', 'numexpr', 'git']\n",
    "for logger_ in third_party_module_loggers:\n",
    "    logging.getLogger(logger_).setLevel('WARNING')"
   ]
  },
  {
   "cell_type": "markdown",
   "metadata": {},
   "source": [
    "Import and instantiate the ``Librarian`` module for efficient and clean file and directory handling."
   ]
  },
  {
   "cell_type": "code",
   "execution_count": 8,
   "metadata": {},
   "outputs": [],
   "source": [
    "from datamodel_b07_tc.tools import Librarian\n",
    "librarian = Librarian(root_directory=root)"
   ]
  },
  {
   "cell_type": "markdown",
   "metadata": {},
   "source": [
    "Import modfied sdRDM object."
   ]
  },
  {
   "cell_type": "code",
   "execution_count": 9,
   "metadata": {},
   "outputs": [],
   "source": [
    "from datamodel_b07_tc.modified.dataset import Dataset"
   ]
  },
  {
   "cell_type": "markdown",
   "metadata": {},
   "source": [
    "<div class=\"alert alert-block alert-info\"><b>Info:</b> Python objects created by the sdRDM generator can be equipped with additional features, such as functions or classes, e.g. to parse data or perform internal calculations, which allows for a more modular approach of working with them.</div>"
   ]
  },
  {
   "cell_type": "markdown",
   "metadata": {},
   "source": [
    "Import the data model containing all the objects of sdRDM's python API."
   ]
  },
  {
   "cell_type": "code",
   "execution_count": 10,
   "metadata": {},
   "outputs": [],
   "source": [
    "# from sdRDM.generator import generate_python_api\n",
    "from sdRDM import DataModel"
   ]
  },
  {
   "cell_type": "markdown",
   "metadata": {},
   "source": [
    "Manually generate the sdRDM python objects."
   ]
  },
  {
   "cell_type": "code",
   "execution_count": 11,
   "metadata": {},
   "outputs": [],
   "source": [
    "# generate_python_api('specifications/datamodel_b07_tc.md', '', 'datamodel_b07_tc')"
   ]
  },
  {
   "cell_type": "markdown",
   "metadata": {},
   "source": [
    "Import tools used for the analysis."
   ]
  },
  {
   "cell_type": "code",
   "execution_count": 12,
   "metadata": {},
   "outputs": [],
   "source": [
    "from datamodel_b07_tc.tools import FaradayEfficiencyCalculator\n",
    "from datamodel_b07_tc.tools import PeakAreaAssignment\n",
    "from datamodel_b07_tc.tools import PeakAssigner\n",
    "# from datamodel_b07_tc.tools import assignment_dict"
   ]
  },
  {
   "cell_type": "markdown",
   "metadata": {},
   "source": [
    "Import standard library python packages."
   ]
  },
  {
   "cell_type": "code",
   "execution_count": 13,
   "metadata": {},
   "outputs": [
    {
     "ename": "ImportError",
     "evalue": "cannot import name 'just_run' from 'nbclient.util' (/home/shambles/miniconda3/envs/b07/lib/python3.10/site-packages/nbclient/util.py)",
     "output_type": "error",
     "traceback": [
      "\u001b[0;31m---------------------------------------------------------------------------\u001b[0m",
      "\u001b[0;31mImportError\u001b[0m                               Traceback (most recent call last)",
      "\u001b[1;32m/mnt/c/Users/rscho/Documents/GitHub/datamodel_b07_tc/2.2_Experimental_analysis.ipynb Cell 31\u001b[0m line \u001b[0;36m<cell line: 2>\u001b[0;34m()\u001b[0m\n\u001b[1;32m      <a href='vscode-notebook-cell://wsl%2Bubuntu-22.04/mnt/c/Users/rscho/Documents/GitHub/datamodel_b07_tc/2.2_Experimental_analysis.ipynb#X42sdnNjb2RlLXJlbW90ZQ%3D%3D?line=0'>1</a>\u001b[0m \u001b[39mimport\u001b[39;00m \u001b[39mipywidgets\u001b[39;00m \u001b[39mas\u001b[39;00m \u001b[39mwidgets\u001b[39;00m\n\u001b[0;32m----> <a href='vscode-notebook-cell://wsl%2Bubuntu-22.04/mnt/c/Users/rscho/Documents/GitHub/datamodel_b07_tc/2.2_Experimental_analysis.ipynb#X42sdnNjb2RlLXJlbW90ZQ%3D%3D?line=1'>2</a>\u001b[0m \u001b[39mimport\u001b[39;00m \u001b[39mipython_blocking\u001b[39;00m\n\u001b[1;32m      <a href='vscode-notebook-cell://wsl%2Bubuntu-22.04/mnt/c/Users/rscho/Documents/GitHub/datamodel_b07_tc/2.2_Experimental_analysis.ipynb#X42sdnNjb2RlLXJlbW90ZQ%3D%3D?line=2'>3</a>\u001b[0m \u001b[39mfrom\u001b[39;00m \u001b[39mIPython\u001b[39;00m\u001b[39m.\u001b[39;00m\u001b[39mdisplay\u001b[39;00m \u001b[39mimport\u001b[39;00m display\n",
      "File \u001b[0;32m~/miniconda3/envs/b07/lib/python3.10/site-packages/ipython_blocking/__init__.py:1\u001b[0m, in \u001b[0;36m<module>\u001b[0;34m\u001b[0m\n\u001b[0;32m----> 1\u001b[0m \u001b[39mfrom\u001b[39;00m \u001b[39m.\u001b[39;00m\u001b[39mipython_blocking\u001b[39;00m \u001b[39mimport\u001b[39;00m CaptureExecution\n\u001b[1;32m      2\u001b[0m \u001b[39mfrom\u001b[39;00m \u001b[39m.\u001b[39;00m\u001b[39mipython_magic\u001b[39;00m \u001b[39mimport\u001b[39;00m CaptureMagic, load_ipython_extensions\n\u001b[1;32m      4\u001b[0m __version__ \u001b[39m=\u001b[39m \u001b[39m\"\u001b[39m\u001b[39m0.3.1\u001b[39m\u001b[39m\"\u001b[39m\n",
      "File \u001b[0;32m~/miniconda3/envs/b07/lib/python3.10/site-packages/ipython_blocking/ipython_blocking.py:5\u001b[0m, in \u001b[0;36m<module>\u001b[0;34m\u001b[0m\n\u001b[1;32m      3\u001b[0m \u001b[39mimport\u001b[39;00m \u001b[39mipykernel\u001b[39;00m\n\u001b[1;32m      4\u001b[0m \u001b[39mimport\u001b[39;00m \u001b[39mtornado\u001b[39;00m\u001b[39m.\u001b[39;00m\u001b[39mqueues\u001b[39;00m\n\u001b[0;32m----> 5\u001b[0m \u001b[39mfrom\u001b[39;00m \u001b[39mnbclient\u001b[39;00m\u001b[39m.\u001b[39;00m\u001b[39mutil\u001b[39;00m \u001b[39mimport\u001b[39;00m just_run\n\u001b[1;32m      7\u001b[0m \u001b[39m# If ipykernel is 6+, use just_run to execute async kernel.* methods\u001b[39;00m\n\u001b[1;32m      8\u001b[0m \u001b[39m# otherwise use traditional sync kernel.* methods\u001b[39;00m\n\u001b[1;32m      9\u001b[0m MAJ_VERSION \u001b[39m=\u001b[39m \u001b[39mint\u001b[39m(ipykernel\u001b[39m.\u001b[39m__version__\u001b[39m.\u001b[39msplit(\u001b[39m\"\u001b[39m\u001b[39m.\u001b[39m\u001b[39m\"\u001b[39m)[\u001b[39m0\u001b[39m])\n",
      "\u001b[0;31mImportError\u001b[0m: cannot import name 'just_run' from 'nbclient.util' (/home/shambles/miniconda3/envs/b07/lib/python3.10/site-packages/nbclient/util.py)"
     ]
    }
   ],
   "source": [
    "import ipywidgets as widgets\n",
    "import ipython_blocking\n",
    "from IPython.display import display"
   ]
  },
  {
   "cell_type": "markdown",
   "metadata": {},
   "source": [
    "---\n",
    "## Section 1: Dataset and data model parsing\n",
    "---"
   ]
  },
  {
   "cell_type": "markdown",
   "metadata": {},
   "source": [
    "In this section the data model and the dataset as well as all the output files necessary for analysis are parsed.  "
   ]
  },
  {
   "cell_type": "code",
   "execution_count": null,
   "metadata": {},
   "outputs": [],
   "source": [
    "root_subdirectories = librarian.enumerate_subdirectories(directory=root)"
   ]
  },
  {
   "cell_type": "markdown",
   "metadata": {},
   "source": [
    "List all available dataset json files in the 'datasets' directory."
   ]
  },
  {
   "cell_type": "code",
   "execution_count": null,
   "metadata": {},
   "outputs": [],
   "source": [
    "json_dataset_files = librarian.enumerate_files(directory=root_subdirectories[5], filter='json')"
   ]
  },
  {
   "cell_type": "code",
   "execution_count": null,
   "metadata": {},
   "outputs": [],
   "source": [
    "json_dataset = json_dataset_files[0]\n",
    "dataset, lib = DataModel.parse(json_dataset)\n",
    "dataset = Dataset(**dataset.__dict__)"
   ]
  },
  {
   "cell_type": "markdown",
   "metadata": {},
   "source": [
    "Visualize the data model."
   ]
  },
  {
   "cell_type": "code",
   "execution_count": null,
   "metadata": {},
   "outputs": [],
   "source": [
    "# lib.Dataset.meta_tree()"
   ]
  },
  {
   "cell_type": "markdown",
   "metadata": {},
   "source": [
    "Print current status of the dataset."
   ]
  },
  {
   "cell_type": "code",
   "execution_count": null,
   "metadata": {},
   "outputs": [],
   "source": [
    "# print(dataset.json())"
   ]
  },
  {
   "cell_type": "markdown",
   "metadata": {},
   "source": [
    "---\n",
    "## Section 2: Analysis\n",
    "---"
   ]
  },
  {
   "cell_type": "markdown",
   "metadata": {},
   "source": [
    "Print all experiments object of the dataset."
   ]
  },
  {
   "cell_type": "code",
   "execution_count": null,
   "metadata": {},
   "outputs": [],
   "source": [
    "experiments_dict = dataset.enumerate('experiments')"
   ]
  },
  {
   "cell_type": "markdown",
   "metadata": {},
   "source": [
    "Select experiment object with which the analysis should be performed."
   ]
  },
  {
   "cell_type": "code",
   "execution_count": null,
   "metadata": {},
   "outputs": [],
   "source": [
    "experiment = experiments_dict[0]"
   ]
  },
  {
   "cell_type": "markdown",
   "metadata": {},
   "source": [
    "### Peak assignment"
   ]
  },
  {
   "cell_type": "markdown",
   "metadata": {},
   "source": [
    "<div class=\"alert alert-block alert-info\"><b>Info:</b> The peak areas recorded by the GC have to be matched with the correct species. The individial <i>Area</i> is selected by its corresponding <i>Peak_Number</i> . It is possible that the same species is accountable for multiple peaks, i.d. multiple peaks are assigned to the same species.</div>"
   ]
  },
  {
   "cell_type": "markdown",
   "metadata": {},
   "source": [
    "Get list of alll three GC measurements."
   ]
  },
  {
   "cell_type": "code",
   "execution_count": null,
   "metadata": {},
   "outputs": [],
   "source": [
    "gc_measurements = [gc for gc in experiment.measurements if gc.measurement_type == 'GC measurement']"
   ]
  },
  {
   "cell_type": "code",
   "execution_count": null,
   "metadata": {},
   "outputs": [],
   "source": [
    "species = ['Hydrogen', 'Carbon monoxide', 'Carbon dioxide', 'Methane', 'Ethene', 'Ethane']"
   ]
  },
  {
   "cell_type": "code",
   "execution_count": null,
   "metadata": {},
   "outputs": [],
   "source": [
    "peak_assignment_1 = PeakAssigner.from_gc_measurement(gc_measurements[0], species)\n",
    "peak_assignment_1.assign_peaks()"
   ]
  },
  {
   "cell_type": "code",
   "execution_count": null,
   "metadata": {},
   "outputs": [],
   "source": [
    "%blockrun button"
   ]
  },
  {
   "cell_type": "code",
   "execution_count": null,
   "metadata": {},
   "outputs": [],
   "source": [
    "peak_assignment_1._assignment_dict"
   ]
  },
  {
   "cell_type": "code",
   "execution_count": null,
   "metadata": {},
   "outputs": [],
   "source": [
    "peak_assigner2 = PeakAssigner.from_gc_measurement(gc_measurements[0], species)\n",
    "print(type(peak_assigner2))"
   ]
  },
  {
   "cell_type": "code",
   "execution_count": null,
   "metadata": {},
   "outputs": [],
   "source": [
    "print(peak_assigner1._assignment_dict)"
   ]
  },
  {
   "cell_type": "code",
   "execution_count": null,
   "metadata": {},
   "outputs": [],
   "source": [
    "hure"
   ]
  },
  {
   "cell_type": "markdown",
   "metadata": {},
   "source": [
    "Create list for all the three dictionaries of the assigned peak areas. "
   ]
  },
  {
   "cell_type": "code",
   "execution_count": null,
   "metadata": {},
   "outputs": [],
   "source": [
    "list_of_assigned_peak_areas = []"
   ]
  },
  {
   "cell_type": "markdown",
   "metadata": {},
   "source": [
    "First GC Measurement."
   ]
  },
  {
   "cell_type": "code",
   "execution_count": null,
   "metadata": {},
   "outputs": [],
   "source": [
    "first_gc_measurement = gc_measurements[0]"
   ]
  },
  {
   "cell_type": "code",
   "execution_count": null,
   "metadata": {},
   "outputs": [],
   "source": [
    "peak_area_assignment = PeakAreaAssignment.from_gc_measurement(gc_measurement=first_gc_measurement)\n",
    "peak_areas_index_dict = peak_area_assignment.get_peak_areas_index_dict\n",
    "for index, peak_area in peak_areas_index_dict.items():\n",
    "    print(f'{index}:{peak_area}')"
   ]
  },
  {
   "cell_type": "code",
   "execution_count": null,
   "metadata": {},
   "outputs": [],
   "source": [
    "peak_assignment_dict={\n",
    "    'Hydrogen': [1],\n",
    "    'Carbon dioxide': [2],\n",
    "    'Carbon monoxide': [6],\n",
    "    'Methane': [3],\n",
    "    # 'C2H4': [5],\n",
    "    # 'C2H6': [4],\n",
    "}"
   ]
  },
  {
   "cell_type": "code",
   "execution_count": null,
   "metadata": {},
   "outputs": [],
   "source": [
    "assigned_peak_areas_dict = peak_area_assignment.assign(peak_assignment_dict=peak_assignment_dict)\n",
    "list_of_assigned_peak_areas.append(assigned_peak_areas_dict)\n",
    "for species, peak_area in assigned_peak_areas_dict.items():\n",
    "    print(f'{species}:{peak_area}')"
   ]
  },
  {
   "cell_type": "markdown",
   "metadata": {},
   "source": [
    "Second GC Measurement."
   ]
  },
  {
   "cell_type": "code",
   "execution_count": null,
   "metadata": {},
   "outputs": [],
   "source": [
    "second_gc_measurement = gc_measurements[1]"
   ]
  },
  {
   "cell_type": "code",
   "execution_count": null,
   "metadata": {},
   "outputs": [],
   "source": [
    "peak_area_assignment = PeakAreaAssignment.from_gc_measurement(gc_measurement=second_gc_measurement)\n",
    "peak_areas_index_dict = peak_area_assignment.get_peak_areas_index_dict\n",
    "for index, peak_area in peak_areas_index_dict.items():\n",
    "    print(f'{index}:{peak_area}')"
   ]
  },
  {
   "cell_type": "code",
   "execution_count": null,
   "metadata": {},
   "outputs": [],
   "source": [
    "peak_assignment_dict={\n",
    "    'Hydrogen': [1],\n",
    "    'Carbon dioxide': [2],\n",
    "    'Carbon monoxide': [6],\n",
    "    'Methane': [3],\n",
    "    # 'C2H4': [5],\n",
    "    # 'C2H6': [4],\n",
    "}"
   ]
  },
  {
   "cell_type": "code",
   "execution_count": null,
   "metadata": {},
   "outputs": [],
   "source": [
    "assigned_peak_areas_dict = peak_area_assignment.assign(peak_assignment_dict=peak_assignment_dict)\n",
    "list_of_assigned_peak_areas.append(assigned_peak_areas_dict)\n",
    "for species, peak_area in assigned_peak_areas_dict.items():\n",
    "    print(f'{species}:{peak_area}')"
   ]
  },
  {
   "cell_type": "markdown",
   "metadata": {},
   "source": [
    "Third GC Measurement."
   ]
  },
  {
   "cell_type": "code",
   "execution_count": null,
   "metadata": {},
   "outputs": [],
   "source": [
    "third_gc_measurement = gc_measurements[2]"
   ]
  },
  {
   "cell_type": "code",
   "execution_count": null,
   "metadata": {},
   "outputs": [],
   "source": [
    "peak_area_assignment = PeakAreaAssignment.from_gc_measurement(gc_measurement=third_gc_measurement)\n",
    "peak_areas_index_dict = peak_area_assignment.get_peak_areas_index_dict\n",
    "for index, peak_area in peak_areas_index_dict.items():\n",
    "    print(f'{index}:{peak_area}')"
   ]
  },
  {
   "cell_type": "code",
   "execution_count": null,
   "metadata": {},
   "outputs": [],
   "source": [
    "peak_assignment_dict={\n",
    "    'Hydrogen': [1],\n",
    "    'Carbon dioxide': [2],\n",
    "    'Carbon monoxide': [6],\n",
    "    'Methane': [3],\n",
    "    # 'C2H4': [5],\n",
    "    # 'C2H6': [4],\n",
    "}"
   ]
  },
  {
   "cell_type": "code",
   "execution_count": null,
   "metadata": {},
   "outputs": [],
   "source": [
    "assigned_peak_areas_dict = peak_area_assignment.assign(peak_assignment_dict=peak_assignment_dict)\n",
    "list_of_assigned_peak_areas.append(assigned_peak_areas_dict)\n",
    "for species, peak_area in assigned_peak_areas_dict.items():\n",
    "    print(f'{species}:{peak_area}')"
   ]
  },
  {
   "attachments": {},
   "cell_type": "markdown",
   "metadata": {},
   "source": [
    "Print current state of the experiment object."
   ]
  },
  {
   "cell_type": "code",
   "execution_count": null,
   "metadata": {},
   "outputs": [],
   "source": [
    "# print(experiment.json())"
   ]
  },
  {
   "cell_type": "markdown",
   "metadata": {},
   "source": [
    "### Calculation"
   ]
  },
  {
   "cell_type": "markdown",
   "metadata": {},
   "source": [
    "Set up the ``FaradayEfficiencyCalculator``."
   ]
  },
  {
   "cell_type": "code",
   "execution_count": null,
   "metadata": {},
   "outputs": [],
   "source": [
    "calculator = FaradayEfficiencyCalculator(\n",
    "    experiment=experiment,\n",
    "    electrode_surface_area=1.0\n",
    ")"
   ]
  },
  {
   "cell_type": "markdown",
   "metadata": {},
   "source": [
    "Set averaging radius."
   ]
  },
  {
   "cell_type": "code",
   "execution_count": null,
   "metadata": {},
   "outputs": [],
   "source": [
    "mean_radius = 10"
   ]
  },
  {
   "cell_type": "markdown",
   "metadata": {},
   "source": [
    "Calculate faraday efficiencies."
   ]
  },
  {
   "cell_type": "code",
   "execution_count": null,
   "metadata": {},
   "outputs": [],
   "source": [
    "faraday_efficiencies = []\n",
    "for gc_measurement, assigned_peak_areas_dict in zip(gc_measurements, list_of_assigned_peak_areas):\n",
    "    faraday_efficiency = calculator.calculate_faraday_efficiency(\n",
    "        gc_measurement=gc_measurement,\n",
    "        mean_radius=mean_radius,\n",
    "        assigned_peak_areas_dict=assigned_peak_areas_dict\n",
    "    )\n",
    "    faraday_efficiencies.append(faraday_efficiency)\n"
   ]
  },
  {
   "cell_type": "code",
   "execution_count": null,
   "metadata": {},
   "outputs": [],
   "source": [
    "import pandas as pd\n",
    "mean_faraday_efficiency = pd.concat(faraday_efficiencies).groupby(level=0).mean()\n",
    "mean_faraday_efficiency"
   ]
  },
  {
   "cell_type": "code",
   "execution_count": null,
   "metadata": {},
   "outputs": [],
   "source": [
    "# volumetric_flow_mean_list = []\n",
    "# for gc_measurement in gc_measurements:\n",
    "#     volumetric_flow_mean=calculator.get_volumetric_flow_mean(gc_measurement=gc_measurement)\n",
    "#     volumetric_flow_mean_list.append(volumetric_flow_mean)\n",
    "# for assigned_peak_areas_dict in list_of_assigned_peak_areas:\n",
    "#     volumetric_flow_mean = calculator.calculate(assigned_peak_areas_dict=assigned_peak_areas_dict, correction_factors_dict=correction_factors_dict)\n",
    "#     volumetric_flow_mean_list.append(volumetric_flow_mean)\n",
    "#     print(volumetric_flow_mean)\n",
    "# initial_time = calculator.get_initial_time()\n",
    "# initial_current = calculator.get_initial_current()\n",
    "\n",
    "    # calculator.calculate_faraday_efficiency(gc_measurement)"
   ]
  },
  {
   "attachments": {},
   "cell_type": "markdown",
   "metadata": {},
   "source": [
    "Calculate the ``conversion`` ``factor`` using the correction factors."
   ]
  },
  {
   "attachments": {},
   "cell_type": "markdown",
   "metadata": {},
   "source": [
    "Get ``volumetric`` ``flow`` ``mean`` in ml/min at the time of the GC measurement."
   ]
  },
  {
   "cell_type": "markdown",
   "metadata": {},
   "source": [
    "The mass flow at the time of the GC measurement is determined by matching the time of the gc measurement with the corresponding times of the mass flow measurements. Errors in the mass flows due to strong fluctuations are minimized by calculating the mean by averaging over a certain number (=``radius``) of measuring points before and after the time of the GC measurement. The radius has to be specified in accordance with the strength of fluctuations."
   ]
  },
  {
   "cell_type": "markdown",
   "metadata": {},
   "source": [
    "Calculate volumetric flow fractions in %."
   ]
  },
  {
   "attachments": {},
   "cell_type": "markdown",
   "metadata": {},
   "source": [
    "Calculate material flow in mmol/min."
   ]
  },
  {
   "attachments": {},
   "cell_type": "markdown",
   "metadata": {},
   "source": [
    "Get initial current in mA and initial time in s."
   ]
  },
  {
   "attachments": {},
   "cell_type": "markdown",
   "metadata": {},
   "source": [
    "Calculate theoretical material flow in mmol/min."
   ]
  },
  {
   "attachments": {},
   "cell_type": "markdown",
   "metadata": {},
   "source": [
    "Calculate Faraday efficiency and load into dataset."
   ]
  },
  {
   "cell_type": "code",
   "execution_count": null,
   "metadata": {},
   "outputs": [],
   "source": [
    "dataset.experiments.append(experiment)"
   ]
  },
  {
   "cell_type": "code",
   "execution_count": null,
   "metadata": {},
   "outputs": [],
   "source": [
    "with open(json_files[index_dataset], \"w\") as f:\n",
    "    f.write(dataset.json())"
   ]
  },
  {
   "cell_type": "code",
   "execution_count": null,
   "metadata": {},
   "outputs": [],
   "source": [
    "button = widgets.Button(description=\"Append experiment\", layout=widgets.Layout(width='30%', height='80px'))\n",
    "button.style.button_color = 'darkcyan'\n",
    "button.style.text_color = 'lightgrey'\n",
    "button.style.font_size = '30px'\n",
    "\n",
    "\n",
    "output = widgets.Output()\n",
    "\n",
    "display(button, output)\n",
    "\n",
    "def click_on_button(b):\n",
    "    with output:\n",
    "        print(\"Experiment successfully appended.\")\n",
    "\n",
    "button.on_click(click_on_button)"
   ]
  },
  {
   "cell_type": "code",
   "execution_count": null,
   "metadata": {},
   "outputs": [],
   "source": [
    "# %%html\n",
    "# <style>\n",
    "# .cell-output-ipywidget-background {\n",
    "#    background-color: transparent !important;\n",
    "# }\n",
    "# .cell-output-ipywidget-foreground {\n",
    "\n",
    "\n",
    "    \n",
    "# .jp-OutputArea-output {\n",
    "#    background-color: transparent;\n",
    "# }  \n",
    "# </style>"
   ]
  },
  {
   "cell_type": "code",
   "execution_count": null,
   "metadata": {},
   "outputs": [],
   "source": [
    "%%html\n",
    "<style>\n",
    ".cell-output-ipywidget-background {\n",
    "    background-color: transparent !important;\n",
    "}\n",
    ":root {\n",
    "    --jp-widgets-color: var(--vscode-editor-foreground);\n",
    "    --jp-widgets-font-size: var(--vscode-editor-font-size);\n",
    "}  \n",
    "</style>"
   ]
  },
  {
   "cell_type": "code",
   "execution_count": null,
   "metadata": {},
   "outputs": [],
   "source": [
    "# print(f'type of \"volumetric_fractions\": {type(volumetric_fractions)}')\n",
    "# print(f'type of \"conversion_factor\": {type(conversion_factor)}')\n",
    "# print(f'type of \"real_volumetric_flow\": {type(real_volumetric_flow)}')\n",
    "# print(f'type of \"volumetric_flow_fractions\": {type(volumetric_flow_fractions)}')\n",
    "# print(f'type of \"real_volumetric_flow\": {type(real_volumetric_flow)}')\n",
    "# print(f'type of \"theoretical_material_flow\": {type(theoretical_material_flow)}')\n",
    "# print(f'type of \"material_flow\": {type(material_flow)}')"
   ]
  },
  {
   "cell_type": "code",
   "execution_count": null,
   "metadata": {},
   "outputs": [],
   "source": [
    "# volumetric_fractions = calculator.volumetric_fractions\n",
    "# volumetric_fractions\n",
    "# conversion_factor = calculator.conversion_factor\n",
    "# conversion_factor\n",
    "# real_volumetric_flow = calculator.real_volumetric_flow\n",
    "# real_volumetric_flow\n",
    "# volumetric_flow_fractions = calculator.volumetric_flow_fractions\n",
    "# volumetric_flow_fractions\n",
    "# material_flow = calculator.material_flow\n",
    "# material_flow\n",
    "# theoretical_material_flow = calculator.theoretical_material_flow\n",
    "# theoretical_material_flow"
   ]
  }
 ],
 "metadata": {
  "kernelspec": {
   "display_name": "b07",
   "language": "python",
   "name": "python3"
  },
  "language_info": {
   "codemirror_mode": {
    "name": "ipython",
    "version": 3
   },
   "file_extension": ".py",
   "mimetype": "text/x-python",
   "name": "python",
   "nbconvert_exporter": "python",
   "pygments_lexer": "ipython3",
   "version": "3.10.4"
  },
  "orig_nbformat": 4,
  "vscode": {
   "interpreter": {
    "hash": "9f62ab2d43dc75e3c3b007469adeb0f7488873df876b9b71dd3b119f0280ba41"
   }
  }
 },
 "nbformat": 4,
 "nbformat_minor": 2
}
