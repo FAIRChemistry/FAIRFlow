{
 "cells": [
  {
   "attachments": {},
   "cell_type": "markdown",
   "metadata": {},
   "source": [
    "# <center>Workflow for the CRC1333 project B07 - Technical Chemistry</center>\n",
    "# <center>2.2 Experimental notebook - Analysis</center>"
   ]
  },
  {
   "cell_type": "markdown",
   "metadata": {},
   "source": [
    "---\n",
    "\n",
    "This is the ``Experimental`` ``notebook``, where the actual analysis of the experiments takes place. It consists of three parts: ``Parsing``, ``analysis`` and ``DaRUS`` ``upload``. Within the scope of each project, multiple experiments are perfomed, hence multiple analyses are to be done. For each individual experiment this workflow is to be executed once, and the results can be appended to the project's dataset.\n",
    "\n",
    "---"
   ]
  },
  {
   "cell_type": "markdown",
   "metadata": {},
   "source": [
    "---\n",
    "## Section 0: Imports, Paths, and Logging\n",
    "---"
   ]
  },
  {
   "cell_type": "markdown",
   "metadata": {},
   "source": [
    "In this section all the necessary python packages are imported, the path to this notebook and the logger for this notebook is set up."
   ]
  },
  {
   "cell_type": "markdown",
   "metadata": {},
   "source": [
    "Activate autoreload."
   ]
  },
  {
   "cell_type": "code",
   "execution_count": 1,
   "metadata": {},
   "outputs": [],
   "source": [
    "%reload_ext autoreload\n",
    "%autoreload 2"
   ]
  },
  {
   "cell_type": "markdown",
   "metadata": {},
   "source": [
    "Import standard library python packages necessary to set up the ``logger``."
   ]
  },
  {
   "cell_type": "code",
   "execution_count": 2,
   "metadata": {},
   "outputs": [],
   "source": [
    "import os\n",
    "import json\n",
    "import logging\n",
    "import logging.config\n",
    "import pandas as pd\n",
    "from pathlib import Path"
   ]
  },
  {
   "cell_type": "markdown",
   "metadata": {},
   "source": [
    "Get path to the directory this notebook is located."
   ]
  },
  {
   "cell_type": "code",
   "execution_count": 3,
   "metadata": {},
   "outputs": [],
   "source": [
    "root = Path(os.path.abspath(''))"
   ]
  },
  {
   "cell_type": "markdown",
   "metadata": {},
   "source": [
    "Set path to the directory containing the configuration file for the logger."
   ]
  },
  {
   "cell_type": "code",
   "execution_count": 4,
   "metadata": {},
   "outputs": [],
   "source": [
    "logging_config_path = root / \"datamodel_b07_tc/tools/logging/config_exp_2_1.json\""
   ]
  },
  {
   "cell_type": "markdown",
   "metadata": {},
   "source": [
    "Set up logger by reading the .json-type configuration file."
   ]
  },
  {
   "cell_type": "code",
   "execution_count": 5,
   "metadata": {},
   "outputs": [],
   "source": [
    "with open(logging_config_path) as logging_config_json:\n",
    "    logging_config = json.load(logging_config_json)\n",
    "logging.config.dictConfig(logging_config)"
   ]
  },
  {
   "cell_type": "markdown",
   "metadata": {},
   "source": [
    "Create a child of the root logger and set its name to the name of the current notebook."
   ]
  },
  {
   "cell_type": "code",
   "execution_count": 6,
   "metadata": {},
   "outputs": [],
   "source": [
    "logger = logging.getLogger(__name__)"
   ]
  },
  {
   "cell_type": "markdown",
   "metadata": {},
   "source": [
    "Set the level of several third-party module loggers to avoid dumping too much information in the log file.\n",
    "<div class=\"alert alert-block alert-info\"><b>Info:</b> Some third party modules use the same logging module and structure as this notebook, which is unproblematic, unless the level of their corresponding logging handlers is too low. In these cases the logging messages of lower levels, such as 'DEBUG' and 'INFO' are propagated to the parent logger of this notebook.</div>"
   ]
  },
  {
   "cell_type": "code",
   "execution_count": 7,
   "metadata": {},
   "outputs": [],
   "source": [
    "third_party_module_loggers = ['markdown_it', 'h5py', 'numexpr', 'git']\n",
    "for logger_ in third_party_module_loggers:\n",
    "    logging.getLogger(logger_).setLevel('WARNING')"
   ]
  },
  {
   "cell_type": "markdown",
   "metadata": {},
   "source": [
    "Import and instantiate the ``Librarian`` module for efficient and clean file and directory handling."
   ]
  },
  {
   "cell_type": "code",
   "execution_count": 8,
   "metadata": {},
   "outputs": [],
   "source": [
    "from datamodel_b07_tc.tools import Librarian\n",
    "librarian = Librarian(root_directory=root)"
   ]
  },
  {
   "cell_type": "markdown",
   "metadata": {},
   "source": [
    "Import modfied sdRDM object."
   ]
  },
  {
   "cell_type": "code",
   "execution_count": 9,
   "metadata": {},
   "outputs": [],
   "source": [
    "from datamodel_b07_tc.modified.dataset import Dataset"
   ]
  },
  {
   "cell_type": "markdown",
   "metadata": {},
   "source": [
    "<div class=\"alert alert-block alert-info\"><b>Info:</b> Python objects created by the sdRDM generator can be equipped with additional features, such as functions or classes, e.g. to parse data or perform internal calculations, which allows for a more modular approach of working with them.</div>"
   ]
  },
  {
   "cell_type": "markdown",
   "metadata": {},
   "source": [
    "Import the data model containing all the objects of sdRDM's python API."
   ]
  },
  {
   "cell_type": "code",
   "execution_count": 10,
   "metadata": {},
   "outputs": [],
   "source": [
    "# from sdRDM.generator import generate_python_api\n",
    "from sdRDM import DataModel"
   ]
  },
  {
   "cell_type": "markdown",
   "metadata": {},
   "source": [
    "Manually generate the sdRDM python objects."
   ]
  },
  {
   "cell_type": "code",
   "execution_count": 11,
   "metadata": {},
   "outputs": [],
   "source": [
    "# generate_python_api('specifications/datamodel_b07_tc.md', '', 'datamodel_b07_tc')"
   ]
  },
  {
   "cell_type": "markdown",
   "metadata": {},
   "source": [
    "Import tools used for the analysis."
   ]
  },
  {
   "cell_type": "code",
   "execution_count": 12,
   "metadata": {},
   "outputs": [],
   "source": [
    "from datamodel_b07_tc.tools import FaradayEfficiencyCalculator\n",
    "from datamodel_b07_tc.tools import PeakAssigner"
   ]
  },
  {
   "cell_type": "markdown",
   "metadata": {},
   "source": [
    "Import standard library python packages."
   ]
  },
  {
   "cell_type": "code",
   "execution_count": 13,
   "metadata": {},
   "outputs": [],
   "source": [
    "import ipywidgets as widgets\n",
    "# import ipython_blocking\n",
    "from IPython.display import display"
   ]
  },
  {
   "cell_type": "markdown",
   "metadata": {},
   "source": [
    "---\n",
    "## Section 1: Dataset and data model parsing\n",
    "---"
   ]
  },
  {
   "cell_type": "markdown",
   "metadata": {},
   "source": [
    "In this section the data model and the dataset as well as all the output files necessary for analysis are parsed.  "
   ]
  },
  {
   "cell_type": "code",
   "execution_count": 14,
   "metadata": {},
   "outputs": [
    {
     "name": "stdout",
     "output_type": "stream",
     "text": [
      "Parent directory: \n",
      " /mnt/c/Users/rscho/Documents/GitHub/datamodel_b07_tc \n",
      "Available subdirectories:\n",
      "0: .../.git\n",
      "1: .../.github\n",
      "2: .../.vscode\n",
      "3: .../data\n",
      "4: .../datamodel_b07_tc\n",
      "5: .../datasets\n",
      "6: .../logging\n",
      "7: .../specifications\n"
     ]
    }
   ],
   "source": [
    "root_subdirectories = librarian.enumerate_subdirectories(directory=root)"
   ]
  },
  {
   "cell_type": "markdown",
   "metadata": {},
   "source": [
    "List all available dataset json files in the 'datasets' directory."
   ]
  },
  {
   "cell_type": "code",
   "execution_count": 15,
   "metadata": {},
   "outputs": [
    {
     "name": "stdout",
     "output_type": "stream",
     "text": [
      "Directory: \n",
      " /mnt/c/Users/rscho/Documents/GitHub/datamodel_b07_tc/datasets \n",
      "Available files:\n",
      "0: b07.json\n"
     ]
    }
   ],
   "source": [
    "json_dataset_files = librarian.enumerate_files(directory=root_subdirectories[5], filter='json')"
   ]
  },
  {
   "cell_type": "code",
   "execution_count": 16,
   "metadata": {},
   "outputs": [],
   "source": [
    "json_dataset = json_dataset_files[0]\n",
    "dataset, lib = DataModel.parse(json_dataset)\n",
    "dataset = Dataset(**dataset.__dict__)"
   ]
  },
  {
   "cell_type": "markdown",
   "metadata": {},
   "source": [
    "Visualize the data model."
   ]
  },
  {
   "cell_type": "code",
   "execution_count": 17,
   "metadata": {},
   "outputs": [],
   "source": [
    "# lib.Dataset.meta_tree()"
   ]
  },
  {
   "cell_type": "markdown",
   "metadata": {},
   "source": [
    "Print current status of the dataset."
   ]
  },
  {
   "cell_type": "code",
   "execution_count": 18,
   "metadata": {},
   "outputs": [],
   "source": [
    "# print(dataset.json())"
   ]
  },
  {
   "cell_type": "markdown",
   "metadata": {},
   "source": [
    "---\n",
    "## Section 2: Analysis\n",
    "---"
   ]
  },
  {
   "cell_type": "markdown",
   "metadata": {},
   "source": [
    "Print all experiments object of the dataset."
   ]
  },
  {
   "cell_type": "code",
   "execution_count": 19,
   "metadata": {},
   "outputs": [
    {
     "name": "stdout",
     "output_type": "stream",
     "text": [
      "0: experiment0\n"
     ]
    }
   ],
   "source": [
    "experiments_dict = dataset.enumerate('experiments')"
   ]
  },
  {
   "cell_type": "markdown",
   "metadata": {},
   "source": [
    "Select experiment object with which the analysis should be performed."
   ]
  },
  {
   "cell_type": "code",
   "execution_count": 20,
   "metadata": {},
   "outputs": [],
   "source": [
    "experiment = experiments_dict[0]"
   ]
  },
  {
   "cell_type": "markdown",
   "metadata": {},
   "source": [
    "### Peak assignment"
   ]
  },
  {
   "cell_type": "markdown",
   "metadata": {},
   "source": [
    "<div class=\"alert alert-block alert-info\"><b>Info:</b> The peak areas recorded by the GC have to be matched with the correct species. The individial <i>Area</i> is selected by its corresponding <i>Peak_Number</i> . It is possible that the same species is accountable for multiple peaks, i.d. multiple peaks are assigned to the same species.</div>"
   ]
  },
  {
   "cell_type": "markdown",
   "metadata": {},
   "source": [
    "Get list of alll three GC measurements."
   ]
  },
  {
   "cell_type": "code",
   "execution_count": 21,
   "metadata": {},
   "outputs": [],
   "source": [
    "gc_measurements = [gc for gc in experiment.measurements if gc.measurement_type == 'GC measurement']"
   ]
  },
  {
   "cell_type": "code",
   "execution_count": 22,
   "metadata": {},
   "outputs": [],
   "source": [
    "species = ['Hydrogen', 'Carbon monoxide', 'Carbon dioxide', 'Methane', 'Ethene', 'Ethane']"
   ]
  },
  {
   "cell_type": "code",
   "execution_count": 23,
   "metadata": {},
   "outputs": [
    {
     "data": {
      "application/vnd.jupyter.widget-view+json": {
       "model_id": "05ddca00a41f4a2b848f87f46a509bd9",
       "version_major": 2,
       "version_minor": 0
      },
      "text/plain": [
       "HBox(children=(VBox(children=(Label(value='Measurement number 0', layout=Layout(height='30px', justify_content…"
      ]
     },
     "metadata": {},
     "output_type": "display_data"
    },
    {
     "data": {
      "application/vnd.jupyter.widget-view+json": {
       "model_id": "ca3daac87cb84ba589a1c04ed92b1a77",
       "version_major": 2,
       "version_minor": 0
      },
      "text/plain": [
       "HBox(children=(Button(description='Save Assignments', layout=Layout(align_items='center', width='30%'), style=…"
      ]
     },
     "metadata": {},
     "output_type": "display_data"
    },
    {
     "data": {
      "application/vnd.jupyter.widget-view+json": {
       "model_id": "0d3125bb67b2470b98b9d7a8451da7c0",
       "version_major": 2,
       "version_minor": 0
      },
      "text/plain": [
       "Output()"
      ]
     },
     "metadata": {},
     "output_type": "display_data"
    }
   ],
   "source": [
    "peak_assignment = PeakAssigner.from_gc_measurement(gc_measurements, species)\n",
    "peak_assignment.assign_peaks()"
   ]
  },
  {
   "cell_type": "code",
   "execution_count": 24,
   "metadata": {},
   "outputs": [
    {
     "ename": "NameError",
     "evalue": "name 'stop' is not defined",
     "output_type": "error",
     "traceback": [
      "\u001b[0;31m---------------------------------------------------------------------------\u001b[0m",
      "\u001b[0;31mNameError\u001b[0m                                 Traceback (most recent call last)",
      "\u001b[1;32m/mnt/c/Users/rscho/Documents/GitHub/datamodel_b07_tc/2.2_Experimental_analysis.ipynb Cell 53\u001b[0m line \u001b[0;36m<cell line: 1>\u001b[0;34m()\u001b[0m\n\u001b[0;32m----> <a href='vscode-notebook-cell://wsl%2Bubuntu-22.04/mnt/c/Users/rscho/Documents/GitHub/datamodel_b07_tc/2.2_Experimental_analysis.ipynb#Y103sdnNjb2RlLXJlbW90ZQ%3D%3D?line=0'>1</a>\u001b[0m stop\n",
      "\u001b[0;31mNameError\u001b[0m: name 'stop' is not defined"
     ]
    }
   ],
   "source": [
    "stop"
   ]
  },
  {
   "cell_type": "code",
   "execution_count": 30,
   "metadata": {},
   "outputs": [
    {
     "name": "stdout",
     "output_type": "stream",
     "text": [
      "[{'Hydrogen': [69.17], 'Carbon dioxide': [65492.75], 'Methane': [164.16], 'Carbon monoxide': [2876.95]}, {'Hydrogen': [104.63], 'Carbon dioxide': [70813.52], 'Methane': [317.44], 'Carbon monoxide': [3685.7]}, {'Hydrogen': [97.26], 'Carbon dioxide': [71603.85], 'Methane': [317.31], 'Carbon monoxide': [3433.34]}]\n"
     ]
    }
   ],
   "source": [
    "print(peak_assignment._assignment_dicts)"
   ]
  },
  {
   "attachments": {},
   "cell_type": "markdown",
   "metadata": {},
   "source": [
    "Print current state of the experiment object."
   ]
  },
  {
   "cell_type": "code",
   "execution_count": 31,
   "metadata": {},
   "outputs": [],
   "source": [
    "# print(experiment.json())"
   ]
  },
  {
   "cell_type": "markdown",
   "metadata": {},
   "source": [
    "### Calculation"
   ]
  },
  {
   "cell_type": "markdown",
   "metadata": {},
   "source": [
    "Set averaging radius.\n",
    "<div class=\"alert alert-block alert-info\"><b>Info:</b> The mass flow at the time of the GC measurement is determined by matching the time of the gc measurement with the corresponding times of the mass flow measurements. Errors in the mass flows due to strong fluctuations are minimized by calculating the mean by averaging over a certain number (='radius') of measuring points before and after the time of the GC measurement. The radius has to be specified in accordance with the strength of fluctuations.</div>"
   ]
  },
  {
   "cell_type": "code",
   "execution_count": 32,
   "metadata": {},
   "outputs": [],
   "source": [
    "mean_radius = 10"
   ]
  },
  {
   "cell_type": "markdown",
   "metadata": {},
   "source": [
    "Set up the ``FaradayEfficiencyCalculator``."
   ]
  },
  {
   "cell_type": "code",
   "execution_count": 33,
   "metadata": {},
   "outputs": [],
   "source": [
    "fe_calculator = FaradayEfficiencyCalculator(\n",
    "    experiment=experiment,\n",
    "    electrode_surface_area=1.0,\n",
    "    assignment_dicts=peak_assignment.get_assignment_dicts\n",
    ")"
   ]
  },
  {
   "cell_type": "markdown",
   "metadata": {},
   "source": [
    "Calculate faraday efficiencies."
   ]
  },
  {
   "cell_type": "code",
   "execution_count": 38,
   "metadata": {},
   "outputs": [
    {
     "ename": "TypeError",
     "evalue": "FaradayEfficiencyCalculator.calculate_faraday_efficiencies() missing 3 required positional arguments: 'gc_measurement', 'mean_radius', and 'assigned_peak_areas_dict'",
     "output_type": "error",
     "traceback": [
      "\u001b[0;31m---------------------------------------------------------------------------\u001b[0m",
      "\u001b[0;31mTypeError\u001b[0m                                 Traceback (most recent call last)",
      "\u001b[1;32m/mnt/c/Users/rscho/Documents/GitHub/datamodel_b07_tc/2.2_Experimental_analysis.ipynb Cell 63\u001b[0m line \u001b[0;36m<cell line: 1>\u001b[0;34m()\u001b[0m\n\u001b[0;32m----> <a href='vscode-notebook-cell://wsl%2Bubuntu-22.04/mnt/c/Users/rscho/Documents/GitHub/datamodel_b07_tc/2.2_Experimental_analysis.ipynb#Y132sdnNjb2RlLXJlbW90ZQ%3D%3D?line=0'>1</a>\u001b[0m mean_faraday_efficiencies_df \u001b[39m=\u001b[39m fe_calculator\u001b[39m.\u001b[39;49mcalculate_faraday_efficiencies()\n\u001b[1;32m      <a href='vscode-notebook-cell://wsl%2Bubuntu-22.04/mnt/c/Users/rscho/Documents/GitHub/datamodel_b07_tc/2.2_Experimental_analysis.ipynb#Y132sdnNjb2RlLXJlbW90ZQ%3D%3D?line=1'>2</a>\u001b[0m mean_faraday_efficiencies_df\n",
      "\u001b[0;31mTypeError\u001b[0m: FaradayEfficiencyCalculator.calculate_faraday_efficiencies() missing 3 required positional arguments: 'gc_measurement', 'mean_radius', and 'assigned_peak_areas_dict'"
     ]
    }
   ],
   "source": [
    "mean_faraday_efficiencies_df = fe_calculator.calculate_faraday_efficiencies()\n",
    "mean_faraday_efficiencies_df"
   ]
  },
  {
   "cell_type": "code",
   "execution_count": null,
   "metadata": {},
   "outputs": [],
   "source": [
    "faraday_efficiencies = []\n",
    "for gc_measurement, assigned_peak_areas_dict in zip(gc_measurements, peak_assignment._assignment_dicts):\n",
    "    faraday_efficiency = fe_calculator.calculate_faraday_efficiency(\n",
    "        gc_measurement=gc_measurement,\n",
    "        mean_radius=mean_radius,\n",
    "        assigned_peak_areas_dict=assigned_peak_areas_dict\n",
    "    )\n",
    "    faraday_efficiencies.append(faraday_efficiency)\n"
   ]
  },
  {
   "cell_type": "markdown",
   "metadata": {},
   "source": [
    "Calculate mean faraday efficiency."
   ]
  },
  {
   "cell_type": "code",
   "execution_count": null,
   "metadata": {},
   "outputs": [],
   "source": [
    "mean_faraday_efficiency = pd.concat(faraday_efficiencies).groupby(level=0).mean()\n",
    "mean_faraday_efficiency"
   ]
  },
  {
   "cell_type": "markdown",
   "metadata": {},
   "source": [
    "Append 'experiment' objects to the dataset."
   ]
  },
  {
   "cell_type": "code",
   "execution_count": null,
   "metadata": {},
   "outputs": [],
   "source": [
    "for species_data in experiment.species_data:\n",
    "    if species_data.species in mean_faraday_efficiency.index:\n",
    "        faraday_efficiency = mean_faraday_efficiency.loc[species_data.species].values\n",
    "        species_data.faraday_efficiency = lib.Data(quantity= 'Faraday efficiency', values = faraday_efficiency.tolist(), unit = '%')"
   ]
  },
  {
   "cell_type": "markdown",
   "metadata": {},
   "source": [
    "Print dataset."
   ]
  },
  {
   "cell_type": "code",
   "execution_count": null,
   "metadata": {},
   "outputs": [],
   "source": [
    "# print(dataset)"
   ]
  },
  {
   "cell_type": "code",
   "execution_count": null,
   "metadata": {},
   "outputs": [],
   "source": [
    "dataset.experiments.append(experiment)"
   ]
  },
  {
   "cell_type": "code",
   "execution_count": null,
   "metadata": {},
   "outputs": [],
   "source": [
    "with open(json_dataset, \"w\") as f:\n",
    "    f.write(dataset.json())"
   ]
  }
 ],
 "metadata": {
  "kernelspec": {
   "display_name": "b07",
   "language": "python",
   "name": "python3"
  },
  "language_info": {
   "codemirror_mode": {
    "name": "ipython",
    "version": 3
   },
   "file_extension": ".py",
   "mimetype": "text/x-python",
   "name": "python",
   "nbconvert_exporter": "python",
   "pygments_lexer": "ipython3",
   "version": "3.10.4"
  },
  "orig_nbformat": 4,
  "vscode": {
   "interpreter": {
    "hash": "9f62ab2d43dc75e3c3b007469adeb0f7488873df876b9b71dd3b119f0280ba41"
   }
  }
 },
 "nbformat": 4,
 "nbformat_minor": 2
}
