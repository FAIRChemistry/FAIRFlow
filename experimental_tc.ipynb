{
 "cells": [
  {
   "attachments": {},
   "cell_type": "markdown",
   "metadata": {},
   "source": [
    "# <center>Workflow for the CRC1333 project B07 - Technical Chemistry</center>\n",
    "# <center>Experimental notebook</center>"
   ]
  },
  {
   "cell_type": "markdown",
   "metadata": {},
   "source": [
    "---\n",
    "\n",
    "This is the ``Experimental`` ``notebook``, where the actual analysis of the experiments takes place. It consists of three parts: ``Parsing``, ``analysis`` and ``DaRUS`` ``upload``. Within the scope of each project, multiple experiments are perfomed, hence multiple analyses are to be done. For each individual experiment this workflow is to be executed once, and the results can be appended to the project's dataset.\n",
    "\n",
    "---"
   ]
  },
  {
   "cell_type": "code",
   "execution_count": 35,
   "metadata": {},
   "outputs": [],
   "source": [
    "from sdRDM.generator import generate_python_api\n",
    "from sdRDM import DataModel"
   ]
  },
  {
   "cell_type": "code",
   "execution_count": 36,
   "metadata": {},
   "outputs": [],
   "source": [
    "# generate_python_api('specifications/datamodel_b07_tc.md', '', 'datamodel_b07_tc')"
   ]
  },
  {
   "cell_type": "markdown",
   "metadata": {},
   "source": [
    "Import standard library python packages."
   ]
  },
  {
   "cell_type": "code",
   "execution_count": 37,
   "metadata": {},
   "outputs": [
    {
     "name": "stdout",
     "output_type": "stream",
     "text": [
      "The autoreload extension is already loaded. To reload it, use:\n",
      "  %reload_ext autoreload\n"
     ]
    }
   ],
   "source": [
    "%load_ext autoreload\n",
    "%autoreload 2\n",
    "\n",
    "from datamodel_b07_tc.tools import GCParser\n",
    "from datamodel_b07_tc.tools import GstaticParser\n",
    "from datamodel_b07_tc.tools import MFMParser\n",
    "from datamodel_b07_tc.tools import Calculator\n",
    "from datamodel_b07_tc.tools import get_volumetric_flow_mean\n",
    "from datamodel_b07_tc.tools import get_initial_time_and_current\n",
    "from datamodel_b07_tc.tools import assign_peaks\n",
    "# from DEXPI2sdRDM import DEXPI2sdRDM"
   ]
  },
  {
   "cell_type": "code",
   "execution_count": 38,
   "metadata": {},
   "outputs": [],
   "source": [
    "import os\n",
    "import ipywidgets as widgets\n",
    "from IPython.display import display\n",
    "from pathlib import Path"
   ]
  },
  {
   "cell_type": "markdown",
   "metadata": {},
   "source": [
    "---\n",
    "## Section 1: Parsing\n",
    "---"
   ]
  },
  {
   "cell_type": "markdown",
   "metadata": {},
   "source": [
    "In this section the data model and the dataset as well as all the output files necessary for analysis are parsed.  "
   ]
  },
  {
   "cell_type": "markdown",
   "metadata": {},
   "source": [
    "Get path to the directory this file is located and check if it exists."
   ]
  },
  {
   "cell_type": "code",
   "execution_count": 39,
   "metadata": {},
   "outputs": [
    {
     "name": "stdout",
     "output_type": "stream",
     "text": [
      "Path to this notebook's location: /mnt/c/Users/rscho/Documents/GitHub/datamodel_b07_tc\n",
      "Is the path correct? True\n"
     ]
    }
   ],
   "source": [
    "root = Path(os.path.abspath(''))\n",
    "print(\"Path to this notebook's location:\", root)\n",
    "print('Is the path correct?', root.is_dir())"
   ]
  },
  {
   "cell_type": "markdown",
   "metadata": {},
   "source": [
    " Set path to datasets."
   ]
  },
  {
   "cell_type": "code",
   "execution_count": 40,
   "metadata": {},
   "outputs": [],
   "source": [
    "path_to_datasets = root / 'datasets'"
   ]
  },
  {
   "cell_type": "markdown",
   "metadata": {},
   "source": [
    "List all available datasets in the directory.\n"
   ]
  },
  {
   "cell_type": "code",
   "execution_count": 41,
   "metadata": {},
   "outputs": [
    {
     "name": "stdout",
     "output_type": "stream",
     "text": [
      "0: b07.json\n"
     ]
    }
   ],
   "source": [
    "files = path_to_datasets.iterdir()\n",
    "json_files = {index:file for index, file in enumerate(files) if file.suffix == '.json'}\n",
    "for index, file in json_files.items():\n",
    "    print(f'{index}: {file.name}')"
   ]
  },
  {
   "cell_type": "markdown",
   "metadata": {},
   "source": [
    "Choose dataset to be loaded by its index."
   ]
  },
  {
   "cell_type": "code",
   "execution_count": 42,
   "metadata": {},
   "outputs": [],
   "source": [
    "index_dataset = 0\n",
    "dataset, lib = DataModel.parse(json_files[index_dataset])"
   ]
  },
  {
   "cell_type": "markdown",
   "metadata": {},
   "source": [
    "Visualize the data model."
   ]
  },
  {
   "cell_type": "code",
   "execution_count": 43,
   "metadata": {},
   "outputs": [],
   "source": [
    "# lib.Dataset.meta_tree()"
   ]
  },
  {
   "cell_type": "markdown",
   "metadata": {},
   "source": [
    "Print current status of the dataset."
   ]
  },
  {
   "cell_type": "code",
   "execution_count": 44,
   "metadata": {},
   "outputs": [],
   "source": [
    "# print(dataset.json())"
   ]
  },
  {
   "attachments": {},
   "cell_type": "markdown",
   "metadata": {},
   "source": [
    "Set path to the directory containing the raw data."
   ]
  },
  {
   "cell_type": "code",
   "execution_count": 45,
   "metadata": {},
   "outputs": [],
   "source": [
    "# raw_data_path = Path('F:\\Doktorand\\\\03_Messungen\\Rohdaten')\n",
    "path_raw_data = root / 'data' / 'Rohdaten'"
   ]
  },
  {
   "cell_type": "markdown",
   "metadata": {},
   "source": [
    "Instantiate an experiment object which holds all the information about one single experiment."
   ]
  },
  {
   "cell_type": "code",
   "execution_count": 46,
   "metadata": {},
   "outputs": [],
   "source": [
    "experiment = lib.Experiment()"
   ]
  },
  {
   "cell_type": "markdown",
   "metadata": {},
   "source": [
    "### Potenstiostatic data"
   ]
  },
  {
   "cell_type": "markdown",
   "metadata": {},
   "source": [
    "Provide name of the directory containing the potentiostatic measurement data."
   ]
  },
  {
   "cell_type": "code",
   "execution_count": 47,
   "metadata": {},
   "outputs": [],
   "source": [
    "path_echem = path_raw_data / '01_EChem'"
   ]
  },
  {
   "cell_type": "markdown",
   "metadata": {},
   "source": [
    "Search in that directory for further subdirectories and print them."
   ]
  },
  {
   "cell_type": "code",
   "execution_count": 48,
   "metadata": {},
   "outputs": [
    {
     "name": "stdout",
     "output_type": "stream",
     "text": [
      "0: 210728_ITO_TEST\n",
      "1: CAD14-Cu@AB\n"
     ]
    }
   ],
   "source": [
    "subdirectories_echem = {index:directory for index, directory in enumerate(path_echem.iterdir())}\n",
    "for index, directory in subdirectories_echem.items():\n",
    "    print(f\"{index}: {directory.name}\")"
   ]
  },
  {
   "cell_type": "markdown",
   "metadata": {},
   "source": [
    "Choose subdirectory by its index."
   ]
  },
  {
   "cell_type": "code",
   "execution_count": 49,
   "metadata": {},
   "outputs": [
    {
     "name": "stdout",
     "output_type": "stream",
     "text": [
      "/mnt/c/Users/rscho/Documents/GitHub/datamodel_b07_tc/data/Rohdaten/01_EChem/CAD14-Cu@AB\n"
     ]
    }
   ],
   "source": [
    "subdirectory_index_echem = 1\n",
    "selected_subdirectory_echem = subdirectories_echem[subdirectory_index_echem]\n",
    "print(selected_subdirectory_echem)"
   ]
  },
  {
   "cell_type": "markdown",
   "metadata": {},
   "source": [
    "Provide suffix of the file that contains the data."
   ]
  },
  {
   "cell_type": "code",
   "execution_count": 50,
   "metadata": {},
   "outputs": [],
   "source": [
    "suffix_echem = 'DTA'"
   ]
  },
  {
   "attachments": {},
   "cell_type": "markdown",
   "metadata": {},
   "source": [
    "Initialize the ``GstaticParser`` and print available files."
   ]
  },
  {
   "cell_type": "code",
   "execution_count": 51,
   "metadata": {},
   "outputs": [
    {
     "name": "stdout",
     "output_type": "stream",
     "text": [
      "0: GSTATIC\n",
      "1: POTDYN\n"
     ]
    }
   ],
   "source": [
    "gstaticparser = GstaticParser(selected_subdirectory_echem, suffix_echem)\n",
    "files_dict_echem = gstaticparser.available_files\n",
    "for index, gstatic_file in files_dict_echem.items():\n",
    "    print(f\"{index}: {gstatic_file.stem}\")"
   ]
  },
  {
   "attachments": {},
   "cell_type": "markdown",
   "metadata": {},
   "source": [
    "Chose specific file."
   ]
  },
  {
   "cell_type": "code",
   "execution_count": 52,
   "metadata": {},
   "outputs": [
    {
     "data": {
      "text/plain": [
       "'GSTATIC.DTA'"
      ]
     },
     "execution_count": 52,
     "metadata": {},
     "output_type": "execute_result"
    }
   ],
   "source": [
    "file_index_echem = 0\n",
    "file_echem = files_dict_echem[file_index_echem]\n",
    "file_echem.name"
   ]
  },
  {
   "attachments": {},
   "cell_type": "markdown",
   "metadata": {},
   "source": [
    "Extract the metadata from it using the ``GstaticParser`` and load into the data model."
   ]
  },
  {
   "cell_type": "code",
   "execution_count": 53,
   "metadata": {},
   "outputs": [
    {
     "data": {
      "text/html": [
       "<div>\n",
       "<style scoped>\n",
       "    .dataframe tbody tr th:only-of-type {\n",
       "        vertical-align: middle;\n",
       "    }\n",
       "\n",
       "    .dataframe tbody tr th {\n",
       "        vertical-align: top;\n",
       "    }\n",
       "\n",
       "    .dataframe thead th {\n",
       "        text-align: right;\n",
       "    }\n",
       "</style>\n",
       "<table border=\"1\" class=\"dataframe\">\n",
       "  <thead>\n",
       "    <tr style=\"text-align: right;\">\n",
       "      <th></th>\n",
       "      <th>Parameter</th>\n",
       "      <th>Data_type</th>\n",
       "      <th>Value</th>\n",
       "      <th>Description</th>\n",
       "    </tr>\n",
       "  </thead>\n",
       "  <tbody>\n",
       "    <tr>\n",
       "      <th>0</th>\n",
       "      <td>PSTAT</td>\n",
       "      <td>PSTAT</td>\n",
       "      <td>REF3000-19129</td>\n",
       "      <td>Potentiostat</td>\n",
       "    </tr>\n",
       "    <tr>\n",
       "      <th>1</th>\n",
       "      <td>IINIT</td>\n",
       "      <td>QUANT</td>\n",
       "      <td>-2.00000E+002</td>\n",
       "      <td>Initial I (mA/cm^2)</td>\n",
       "    </tr>\n",
       "    <tr>\n",
       "      <th>2</th>\n",
       "      <td>TINIT</td>\n",
       "      <td>QUANT</td>\n",
       "      <td>3.60000E+003</td>\n",
       "      <td>Initial Time (s)</td>\n",
       "    </tr>\n",
       "    <tr>\n",
       "      <th>3</th>\n",
       "      <td>IFINAL</td>\n",
       "      <td>QUANT</td>\n",
       "      <td>-2.00000E+002</td>\n",
       "      <td>Final I (mA/cm^2)</td>\n",
       "    </tr>\n",
       "    <tr>\n",
       "      <th>4</th>\n",
       "      <td>TFINAL</td>\n",
       "      <td>QUANT</td>\n",
       "      <td>0.00000E+000</td>\n",
       "      <td>Final Time (s)</td>\n",
       "    </tr>\n",
       "    <tr>\n",
       "      <th>5</th>\n",
       "      <td>SAMPLETIME</td>\n",
       "      <td>QUANT</td>\n",
       "      <td>1.00000E+000</td>\n",
       "      <td>Sample Period (s)</td>\n",
       "    </tr>\n",
       "    <tr>\n",
       "      <th>6</th>\n",
       "      <td>AREA</td>\n",
       "      <td>QUANT</td>\n",
       "      <td>1.00000E+000</td>\n",
       "      <td>Sample Area (cm^2)</td>\n",
       "    </tr>\n",
       "    <tr>\n",
       "      <th>7</th>\n",
       "      <td>DENSITY</td>\n",
       "      <td>QUANT</td>\n",
       "      <td>7.87000E+000</td>\n",
       "      <td>Density (g/cm^3)</td>\n",
       "    </tr>\n",
       "    <tr>\n",
       "      <th>8</th>\n",
       "      <td>EQUIV</td>\n",
       "      <td>QUANT</td>\n",
       "      <td>2.79200E+001</td>\n",
       "      <td>Equiv. Wt</td>\n",
       "    </tr>\n",
       "    <tr>\n",
       "      <th>9</th>\n",
       "      <td>IRCOMP</td>\n",
       "      <td>TOGGLE</td>\n",
       "      <td>T</td>\n",
       "      <td>IR Comp</td>\n",
       "    </tr>\n",
       "    <tr>\n",
       "      <th>10</th>\n",
       "      <td>EOC</td>\n",
       "      <td>QUANT</td>\n",
       "      <td>0</td>\n",
       "      <td>Open Circuit (V)</td>\n",
       "    </tr>\n",
       "    <tr>\n",
       "      <th>11</th>\n",
       "      <td>SEQUENCER</td>\n",
       "      <td>TOGGLE</td>\n",
       "      <td>TRUE</td>\n",
       "      <td>Run as Sequence</td>\n",
       "    </tr>\n",
       "    <tr>\n",
       "      <th>12</th>\n",
       "      <td>PSTATMODEL</td>\n",
       "      <td>IQUANT</td>\n",
       "      <td>5</td>\n",
       "      <td>Pstat Model</td>\n",
       "    </tr>\n",
       "    <tr>\n",
       "      <th>13</th>\n",
       "      <td>PSTATSECTION</td>\n",
       "      <td>LABEL</td>\n",
       "      <td>REF3000-19129</td>\n",
       "      <td>Pstat Section</td>\n",
       "    </tr>\n",
       "    <tr>\n",
       "      <th>14</th>\n",
       "      <td>PSTATSERIALNO</td>\n",
       "      <td>LABEL</td>\n",
       "      <td>19129</td>\n",
       "      <td>Pstat Serial Number</td>\n",
       "    </tr>\n",
       "    <tr>\n",
       "      <th>15</th>\n",
       "      <td>CTRLMODE</td>\n",
       "      <td>IQUANT</td>\n",
       "      <td>0</td>\n",
       "      <td>Control Mode</td>\n",
       "    </tr>\n",
       "    <tr>\n",
       "      <th>16</th>\n",
       "      <td>ELECTROMETER</td>\n",
       "      <td>IQUANT</td>\n",
       "      <td>0</td>\n",
       "      <td>RE=0 or CS=1</td>\n",
       "    </tr>\n",
       "    <tr>\n",
       "      <th>17</th>\n",
       "      <td>IESTAB</td>\n",
       "      <td>IQUANT</td>\n",
       "      <td>0</td>\n",
       "      <td>I/E Stability</td>\n",
       "    </tr>\n",
       "    <tr>\n",
       "      <th>18</th>\n",
       "      <td>CASPEED</td>\n",
       "      <td>IQUANT</td>\n",
       "      <td>4</td>\n",
       "      <td>Control Amp Speed</td>\n",
       "    </tr>\n",
       "    <tr>\n",
       "      <th>19</th>\n",
       "      <td>CONVENTION</td>\n",
       "      <td>IQUANT</td>\n",
       "      <td>1</td>\n",
       "      <td>Current Convention</td>\n",
       "    </tr>\n",
       "    <tr>\n",
       "      <th>20</th>\n",
       "      <td>ICHRANGE</td>\n",
       "      <td>IQUANT</td>\n",
       "      <td>2</td>\n",
       "      <td>Ich Range</td>\n",
       "    </tr>\n",
       "    <tr>\n",
       "      <th>21</th>\n",
       "      <td>ICHRANGEMODE</td>\n",
       "      <td>TOGGLE</td>\n",
       "      <td>T</td>\n",
       "      <td>Ich Auto Range</td>\n",
       "    </tr>\n",
       "    <tr>\n",
       "      <th>22</th>\n",
       "      <td>ICHOFFSETENABLE</td>\n",
       "      <td>TOGGLE</td>\n",
       "      <td>F</td>\n",
       "      <td>Ich Offset Enable</td>\n",
       "    </tr>\n",
       "    <tr>\n",
       "      <th>23</th>\n",
       "      <td>ICHOFFSET</td>\n",
       "      <td>QUANT</td>\n",
       "      <td>0</td>\n",
       "      <td>Ich Offset (V)</td>\n",
       "    </tr>\n",
       "    <tr>\n",
       "      <th>24</th>\n",
       "      <td>ICHFILTER</td>\n",
       "      <td>IQUANT</td>\n",
       "      <td>3</td>\n",
       "      <td>Ich Filter</td>\n",
       "    </tr>\n",
       "    <tr>\n",
       "      <th>25</th>\n",
       "      <td>VCHRANGE</td>\n",
       "      <td>IQUANT</td>\n",
       "      <td>3</td>\n",
       "      <td>Vch Range</td>\n",
       "    </tr>\n",
       "    <tr>\n",
       "      <th>26</th>\n",
       "      <td>VCHRANGEMODE</td>\n",
       "      <td>TOGGLE</td>\n",
       "      <td>T</td>\n",
       "      <td>Vch Auto Range</td>\n",
       "    </tr>\n",
       "    <tr>\n",
       "      <th>27</th>\n",
       "      <td>VCHOFFSETENABLE</td>\n",
       "      <td>TOGGLE</td>\n",
       "      <td>F</td>\n",
       "      <td>Vch Offset Enable</td>\n",
       "    </tr>\n",
       "    <tr>\n",
       "      <th>28</th>\n",
       "      <td>VCHOFFSET</td>\n",
       "      <td>QUANT</td>\n",
       "      <td>0</td>\n",
       "      <td>Vch Offset (V)</td>\n",
       "    </tr>\n",
       "    <tr>\n",
       "      <th>29</th>\n",
       "      <td>VCHFILTER</td>\n",
       "      <td>IQUANT</td>\n",
       "      <td>1</td>\n",
       "      <td>Vch Filter</td>\n",
       "    </tr>\n",
       "    <tr>\n",
       "      <th>30</th>\n",
       "      <td>ACHRANGE</td>\n",
       "      <td>IQUANT</td>\n",
       "      <td>2</td>\n",
       "      <td>Ach Range</td>\n",
       "    </tr>\n",
       "    <tr>\n",
       "      <th>31</th>\n",
       "      <td>ACHOFFSETENABLE</td>\n",
       "      <td>TOGGLE</td>\n",
       "      <td>F</td>\n",
       "      <td>Ach Offset Enable</td>\n",
       "    </tr>\n",
       "    <tr>\n",
       "      <th>32</th>\n",
       "      <td>ACHOFFSET</td>\n",
       "      <td>QUANT</td>\n",
       "      <td>0</td>\n",
       "      <td>Ach Offset (V)</td>\n",
       "    </tr>\n",
       "    <tr>\n",
       "      <th>33</th>\n",
       "      <td>ACHFILTER</td>\n",
       "      <td>IQUANT</td>\n",
       "      <td>1</td>\n",
       "      <td>Ach Filter</td>\n",
       "    </tr>\n",
       "    <tr>\n",
       "      <th>34</th>\n",
       "      <td>IERANGELOWERLIMIT</td>\n",
       "      <td>IQUANT</td>\n",
       "      <td>4</td>\n",
       "      <td>I/E Range Lower Limit</td>\n",
       "    </tr>\n",
       "    <tr>\n",
       "      <th>35</th>\n",
       "      <td>IERANGEMODE</td>\n",
       "      <td>TOGGLE</td>\n",
       "      <td>F</td>\n",
       "      <td>I/E AutoRange</td>\n",
       "    </tr>\n",
       "    <tr>\n",
       "      <th>36</th>\n",
       "      <td>IERANGE</td>\n",
       "      <td>IQUANT</td>\n",
       "      <td>11</td>\n",
       "      <td>I/E Range</td>\n",
       "    </tr>\n",
       "    <tr>\n",
       "      <th>37</th>\n",
       "      <td>POSFEEDENABLE</td>\n",
       "      <td>TOGGLE</td>\n",
       "      <td>F</td>\n",
       "      <td>Positive Feedback IR Comp</td>\n",
       "    </tr>\n",
       "    <tr>\n",
       "      <th>38</th>\n",
       "      <td>POSFEEDRESISTANCE</td>\n",
       "      <td>QUANT</td>\n",
       "      <td>0</td>\n",
       "      <td>Positive Feedback Resistance (ohm)</td>\n",
       "    </tr>\n",
       "    <tr>\n",
       "      <th>39</th>\n",
       "      <td>ACHSELECT</td>\n",
       "      <td>IQUANT</td>\n",
       "      <td>0</td>\n",
       "      <td>Ach Select</td>\n",
       "    </tr>\n",
       "    <tr>\n",
       "      <th>40</th>\n",
       "      <td>SENSECABLEID</td>\n",
       "      <td>IQUANT</td>\n",
       "      <td>14</td>\n",
       "      <td>Sense Cable ID</td>\n",
       "    </tr>\n",
       "    <tr>\n",
       "      <th>41</th>\n",
       "      <td>PWRCABLEID</td>\n",
       "      <td>IQUANT</td>\n",
       "      <td>13</td>\n",
       "      <td>Power Cable ID</td>\n",
       "    </tr>\n",
       "    <tr>\n",
       "      <th>42</th>\n",
       "      <td>DCCALDATE</td>\n",
       "      <td>LABEL</td>\n",
       "      <td>11/22/2022</td>\n",
       "      <td>DC Calibration Date</td>\n",
       "    </tr>\n",
       "    <tr>\n",
       "      <th>43</th>\n",
       "      <td>ACCALDATE</td>\n",
       "      <td>LABEL</td>\n",
       "      <td>NaN</td>\n",
       "      <td>AC Calibration Date</td>\n",
       "    </tr>\n",
       "    <tr>\n",
       "      <th>44</th>\n",
       "      <td>THERMOSELECT</td>\n",
       "      <td>IQUANT</td>\n",
       "      <td>1</td>\n",
       "      <td>Thermo Select</td>\n",
       "    </tr>\n",
       "    <tr>\n",
       "      <th>45</th>\n",
       "      <td>FRAMEWORKVERSION</td>\n",
       "      <td>QUANT</td>\n",
       "      <td>7.07</td>\n",
       "      <td>Framework Version</td>\n",
       "    </tr>\n",
       "    <tr>\n",
       "      <th>46</th>\n",
       "      <td>INSTRUMENTVERSION</td>\n",
       "      <td>LABEL</td>\n",
       "      <td>4.35</td>\n",
       "      <td>Instrument Version</td>\n",
       "    </tr>\n",
       "    <tr>\n",
       "      <th>47</th>\n",
       "      <td>COMPLIANCEVOLTAGE</td>\n",
       "      <td>IQUANT</td>\n",
       "      <td>0</td>\n",
       "      <td>Compliance Voltage</td>\n",
       "    </tr>\n",
       "  </tbody>\n",
       "</table>\n",
       "</div>"
      ],
      "text/plain": [
       "            Parameter Data_type          Value   \n",
       "0               PSTAT     PSTAT  REF3000-19129  \\\n",
       "1               IINIT     QUANT  -2.00000E+002   \n",
       "2               TINIT     QUANT   3.60000E+003   \n",
       "3              IFINAL     QUANT  -2.00000E+002   \n",
       "4              TFINAL     QUANT   0.00000E+000   \n",
       "5          SAMPLETIME     QUANT   1.00000E+000   \n",
       "6                AREA     QUANT   1.00000E+000   \n",
       "7             DENSITY     QUANT   7.87000E+000   \n",
       "8               EQUIV     QUANT   2.79200E+001   \n",
       "9              IRCOMP    TOGGLE              T   \n",
       "10                EOC     QUANT              0   \n",
       "11          SEQUENCER    TOGGLE           TRUE   \n",
       "12         PSTATMODEL    IQUANT              5   \n",
       "13       PSTATSECTION     LABEL  REF3000-19129   \n",
       "14      PSTATSERIALNO     LABEL          19129   \n",
       "15           CTRLMODE    IQUANT              0   \n",
       "16       ELECTROMETER    IQUANT              0   \n",
       "17             IESTAB    IQUANT              0   \n",
       "18            CASPEED    IQUANT              4   \n",
       "19         CONVENTION    IQUANT              1   \n",
       "20           ICHRANGE    IQUANT              2   \n",
       "21       ICHRANGEMODE    TOGGLE              T   \n",
       "22    ICHOFFSETENABLE    TOGGLE              F   \n",
       "23          ICHOFFSET     QUANT              0   \n",
       "24          ICHFILTER    IQUANT              3   \n",
       "25           VCHRANGE    IQUANT              3   \n",
       "26       VCHRANGEMODE    TOGGLE              T   \n",
       "27    VCHOFFSETENABLE    TOGGLE              F   \n",
       "28          VCHOFFSET     QUANT              0   \n",
       "29          VCHFILTER    IQUANT              1   \n",
       "30           ACHRANGE    IQUANT              2   \n",
       "31    ACHOFFSETENABLE    TOGGLE              F   \n",
       "32          ACHOFFSET     QUANT              0   \n",
       "33          ACHFILTER    IQUANT              1   \n",
       "34  IERANGELOWERLIMIT    IQUANT              4   \n",
       "35        IERANGEMODE    TOGGLE              F   \n",
       "36            IERANGE    IQUANT             11   \n",
       "37      POSFEEDENABLE    TOGGLE              F   \n",
       "38  POSFEEDRESISTANCE     QUANT              0   \n",
       "39          ACHSELECT    IQUANT              0   \n",
       "40       SENSECABLEID    IQUANT             14   \n",
       "41         PWRCABLEID    IQUANT             13   \n",
       "42          DCCALDATE     LABEL     11/22/2022   \n",
       "43          ACCALDATE     LABEL            NaN   \n",
       "44       THERMOSELECT    IQUANT              1   \n",
       "45   FRAMEWORKVERSION     QUANT           7.07   \n",
       "46  INSTRUMENTVERSION     LABEL           4.35   \n",
       "47  COMPLIANCEVOLTAGE    IQUANT              0   \n",
       "\n",
       "                           Description  \n",
       "0                         Potentiostat  \n",
       "1                  Initial I (mA/cm^2)  \n",
       "2                     Initial Time (s)  \n",
       "3                    Final I (mA/cm^2)  \n",
       "4                       Final Time (s)  \n",
       "5                    Sample Period (s)  \n",
       "6                   Sample Area (cm^2)  \n",
       "7                     Density (g/cm^3)  \n",
       "8                            Equiv. Wt  \n",
       "9                              IR Comp  \n",
       "10                    Open Circuit (V)  \n",
       "11                     Run as Sequence  \n",
       "12                         Pstat Model  \n",
       "13                       Pstat Section  \n",
       "14                 Pstat Serial Number  \n",
       "15                        Control Mode  \n",
       "16                        RE=0 or CS=1  \n",
       "17                       I/E Stability  \n",
       "18                   Control Amp Speed  \n",
       "19                  Current Convention  \n",
       "20                           Ich Range  \n",
       "21                      Ich Auto Range  \n",
       "22                   Ich Offset Enable  \n",
       "23                      Ich Offset (V)  \n",
       "24                          Ich Filter  \n",
       "25                           Vch Range  \n",
       "26                      Vch Auto Range  \n",
       "27                   Vch Offset Enable  \n",
       "28                      Vch Offset (V)  \n",
       "29                          Vch Filter  \n",
       "30                           Ach Range  \n",
       "31                   Ach Offset Enable  \n",
       "32                      Ach Offset (V)  \n",
       "33                          Ach Filter  \n",
       "34               I/E Range Lower Limit  \n",
       "35                       I/E AutoRange  \n",
       "36                           I/E Range  \n",
       "37           Positive Feedback IR Comp  \n",
       "38  Positive Feedback Resistance (ohm)  \n",
       "39                          Ach Select  \n",
       "40                      Sense Cable ID  \n",
       "41                      Power Cable ID  \n",
       "42                 DC Calibration Date  \n",
       "43                 AC Calibration Date  \n",
       "44                       Thermo Select  \n",
       "45                   Framework Version  \n",
       "46                  Instrument Version  \n",
       "47                  Compliance Voltage  "
      ]
     },
     "execution_count": 53,
     "metadata": {},
     "output_type": "execute_result"
    }
   ],
   "source": [
    "gstatic_metadata_df, gstatic_metadata = gstaticparser.extract_metadata(file_index_echem)\n",
    "potentiometric_measurement = lib.Measurement(measurement_type=lib.enums.MeasurementType.POTENTIOSTATIC, metadata=gstatic_metadata)\n",
    "experiment.measurements = [potentiometric_measurement]\n",
    "gstatic_metadata_df"
   ]
  },
  {
   "attachments": {},
   "cell_type": "markdown",
   "metadata": {},
   "source": [
    "### MFM data"
   ]
  },
  {
   "cell_type": "markdown",
   "metadata": {},
   "source": [
    "Provide name of the subdirectory containing the mass flow meter measurement data."
   ]
  },
  {
   "cell_type": "code",
   "execution_count": 54,
   "metadata": {},
   "outputs": [],
   "source": [
    "path_mfm = path_raw_data / '03_MFM'"
   ]
  },
  {
   "cell_type": "markdown",
   "metadata": {},
   "source": [
    "Search directory for further subdirectories and print them."
   ]
  },
  {
   "cell_type": "code",
   "execution_count": 55,
   "metadata": {},
   "outputs": [
    {
     "name": "stdout",
     "output_type": "stream",
     "text": [
      "0: CAD14-Cu@AB\n"
     ]
    }
   ],
   "source": [
    "subdirectories_mfm = {index:directory for index, directory in enumerate(path_mfm.iterdir())}\n",
    "for index, directory in subdirectories_mfm.items():\n",
    "    print(f\"{index}: {directory.name}\")"
   ]
  },
  {
   "cell_type": "markdown",
   "metadata": {},
   "source": [
    "Choose subdirectory by its index."
   ]
  },
  {
   "cell_type": "code",
   "execution_count": 56,
   "metadata": {},
   "outputs": [
    {
     "name": "stdout",
     "output_type": "stream",
     "text": [
      "/mnt/c/Users/rscho/Documents/GitHub/datamodel_b07_tc/data/Rohdaten/03_MFM/CAD14-Cu@AB\n"
     ]
    }
   ],
   "source": [
    "subdirectory_index_mfm = 0\n",
    "selected_subdirectory_mfm = subdirectories_mfm[subdirectory_index_mfm]\n",
    "print(selected_subdirectory_mfm)"
   ]
  },
  {
   "cell_type": "markdown",
   "metadata": {},
   "source": [
    "Provide suffix of the file that contains the data."
   ]
  },
  {
   "cell_type": "code",
   "execution_count": 57,
   "metadata": {},
   "outputs": [],
   "source": [
    "suffix_mfm = 'csv'"
   ]
  },
  {
   "attachments": {},
   "cell_type": "markdown",
   "metadata": {},
   "source": [
    "Instantiate the ``MFMParser`` to parse MFM output files and show available files in the selected directory."
   ]
  },
  {
   "cell_type": "code",
   "execution_count": 58,
   "metadata": {},
   "outputs": [
    {
     "name": "stdout",
     "output_type": "stream",
     "text": [
      "0: Bench-2h-GSS_CAD14-Cu@AB_200_50c_24h.csv\n",
      "1: Bench-2h-GSS_CAD14-Cu@AB_200_50c_24h_truncated.csv\n"
     ]
    }
   ],
   "source": [
    "mfmparser = MFMParser(selected_subdirectory_mfm, suffix_mfm)\n",
    "files_dict_mfm = mfmparser.available_files\n",
    "for index, mfm_file in files_dict_mfm.items():\n",
    "    print(f\"{index}: {mfm_file.name}\")"
   ]
  },
  {
   "attachments": {},
   "cell_type": "markdown",
   "metadata": {},
   "source": [
    "Chose file to be parsed."
   ]
  },
  {
   "cell_type": "code",
   "execution_count": 59,
   "metadata": {},
   "outputs": [
    {
     "data": {
      "text/plain": [
       "'Bench-2h-GSS_CAD14-Cu@AB_200_50c_24h_truncated.csv'"
      ]
     },
     "execution_count": 59,
     "metadata": {},
     "output_type": "execute_result"
    }
   ],
   "source": [
    "file_index_mfm = 1\n",
    "file_mfm = files_dict_mfm[file_index_mfm]\n",
    "file_mfm.name"
   ]
  },
  {
   "attachments": {},
   "cell_type": "markdown",
   "metadata": {},
   "source": [
    "Extract the experimental data from it using the ``MFMParser`` and load into the data model."
   ]
  },
  {
   "cell_type": "code",
   "execution_count": 60,
   "metadata": {},
   "outputs": [
    {
     "ename": "ValidationError",
     "evalue": "1 validation error for Measurement\nexperimental_data -> 3 -> quantity\n  value is not a valid enumeration member; permitted: 'Time', 'Voltage', 'Current', 'Mass', 'Mass flow rate', 'Date time', 'Fraction', 'Signal', 'Peak number', 'Retention time', 'Peak type', 'Peak area', 'Peak height', 'Peak area percentage', 'Slope', 'Intercept', 'Coefficient of determination' (type=type_error.enum; enum_values=[<Quantity.TIME: 'Time'>, <Quantity.VOLTAGE: 'Voltage'>, <Quantity.CURRENT: 'Current'>, <Quantity.MASS: 'Mass'>, <Quantity.MASSFLOWRATE: 'Mass flow rate'>, <Quantity.DATETIME: 'Date time'>, <Quantity.FRACTION: 'Fraction'>, <Quantity.SIGNAL: 'Signal'>, <Quantity.PEAKNUMBER: 'Peak number'>, <Quantity.RETENTIONTIME: 'Retention time'>, <Quantity.PEAKTYPE: 'Peak type'>, <Quantity.PEAKAREA: 'Peak area'>, <Quantity.PEAKHEIGHT: 'Peak height'>, <Quantity.PEAKAREAPERCENTAGE: 'Peak area percentage'>, <Quantity.SLOPE: 'Slope'>, <Quantity.INTERCEPT: 'Intercept'>, <Quantity.COEFFDET: 'Coefficient of determination'>])",
     "output_type": "error",
     "traceback": [
      "\u001b[0;31m---------------------------------------------------------------------------\u001b[0m",
      "\u001b[0;31mValidationError\u001b[0m                           Traceback (most recent call last)",
      "\u001b[1;32m/mnt/c/Users/rscho/Documents/GitHub/datamodel_b07_tc/experimental_tc.ipynb Cell 55\u001b[0m in \u001b[0;36m<cell line: 2>\u001b[0;34m()\u001b[0m\n\u001b[1;32m      <a href='vscode-notebook-cell://wsl%2Bubuntu-22.04/mnt/c/Users/rscho/Documents/GitHub/datamodel_b07_tc/experimental_tc.ipynb#Y105sdnNjb2RlLXJlbW90ZQ%3D%3D?line=0'>1</a>\u001b[0m experimental_data_df_mfm, experimental_data_dict_mfm \u001b[39m=\u001b[39m mfmparser\u001b[39m.\u001b[39mextract_exp_data(file_index_mfm)\n\u001b[0;32m----> <a href='vscode-notebook-cell://wsl%2Bubuntu-22.04/mnt/c/Users/rscho/Documents/GitHub/datamodel_b07_tc/experimental_tc.ipynb#Y105sdnNjb2RlLXJlbW90ZQ%3D%3D?line=1'>2</a>\u001b[0m mfm \u001b[39m=\u001b[39m lib\u001b[39m.\u001b[39;49mMeasurement(\n\u001b[1;32m      <a href='vscode-notebook-cell://wsl%2Bubuntu-22.04/mnt/c/Users/rscho/Documents/GitHub/datamodel_b07_tc/experimental_tc.ipynb#Y105sdnNjb2RlLXJlbW90ZQ%3D%3D?line=2'>3</a>\u001b[0m             measurement_type\u001b[39m=\u001b[39;49mlib\u001b[39m.\u001b[39;49menums\u001b[39m.\u001b[39;49mMeasurementType\u001b[39m.\u001b[39;49mMFM\u001b[39m.\u001b[39;49mvalue,\n\u001b[1;32m      <a href='vscode-notebook-cell://wsl%2Bubuntu-22.04/mnt/c/Users/rscho/Documents/GitHub/datamodel_b07_tc/experimental_tc.ipynb#Y105sdnNjb2RlLXJlbW90ZQ%3D%3D?line=3'>4</a>\u001b[0m             experimental_data\u001b[39m=\u001b[39;49m[value \u001b[39mfor\u001b[39;49;00m value \u001b[39min\u001b[39;49;00m experimental_data_dict_mfm\u001b[39m.\u001b[39;49mvalues()],\n\u001b[1;32m      <a href='vscode-notebook-cell://wsl%2Bubuntu-22.04/mnt/c/Users/rscho/Documents/GitHub/datamodel_b07_tc/experimental_tc.ipynb#Y105sdnNjb2RlLXJlbW90ZQ%3D%3D?line=4'>5</a>\u001b[0m         )\n\u001b[1;32m      <a href='vscode-notebook-cell://wsl%2Bubuntu-22.04/mnt/c/Users/rscho/Documents/GitHub/datamodel_b07_tc/experimental_tc.ipynb#Y105sdnNjb2RlLXJlbW90ZQ%3D%3D?line=5'>6</a>\u001b[0m experiment\u001b[39m.\u001b[39mmeasurements\u001b[39m.\u001b[39mappend(mfm)\n",
      "File \u001b[0;32m/mnt/c/Users/rscho/Documents/GitHub/software-driven-rdm/sdRDM/base/datamodel.py:89\u001b[0m, in \u001b[0;36mDataModel.__init__\u001b[0;34m(self, **data)\u001b[0m\n\u001b[1;32m     88\u001b[0m \u001b[39mdef\u001b[39;00m \u001b[39m__init__\u001b[39m(\u001b[39mself\u001b[39m, \u001b[39m*\u001b[39m\u001b[39m*\u001b[39mdata):\n\u001b[0;32m---> 89\u001b[0m     \u001b[39msuper\u001b[39;49m()\u001b[39m.\u001b[39;49m\u001b[39m__init__\u001b[39;49m(\u001b[39m*\u001b[39;49m\u001b[39m*\u001b[39;49mdata)\n\u001b[1;32m     90\u001b[0m     \u001b[39mself\u001b[39m\u001b[39m.\u001b[39m_initialize_references()\n\u001b[1;32m     92\u001b[0m     \u001b[39mfor\u001b[39;00m name, value \u001b[39min\u001b[39;00m data\u001b[39m.\u001b[39mitems():\n",
      "File \u001b[0;32m~/miniconda3/envs/b07/lib/python3.10/site-packages/pydantic/main.py:341\u001b[0m, in \u001b[0;36mpydantic.main.BaseModel.__init__\u001b[0;34m()\u001b[0m\n",
      "\u001b[0;31mValidationError\u001b[0m: 1 validation error for Measurement\nexperimental_data -> 3 -> quantity\n  value is not a valid enumeration member; permitted: 'Time', 'Voltage', 'Current', 'Mass', 'Mass flow rate', 'Date time', 'Fraction', 'Signal', 'Peak number', 'Retention time', 'Peak type', 'Peak area', 'Peak height', 'Peak area percentage', 'Slope', 'Intercept', 'Coefficient of determination' (type=type_error.enum; enum_values=[<Quantity.TIME: 'Time'>, <Quantity.VOLTAGE: 'Voltage'>, <Quantity.CURRENT: 'Current'>, <Quantity.MASS: 'Mass'>, <Quantity.MASSFLOWRATE: 'Mass flow rate'>, <Quantity.DATETIME: 'Date time'>, <Quantity.FRACTION: 'Fraction'>, <Quantity.SIGNAL: 'Signal'>, <Quantity.PEAKNUMBER: 'Peak number'>, <Quantity.RETENTIONTIME: 'Retention time'>, <Quantity.PEAKTYPE: 'Peak type'>, <Quantity.PEAKAREA: 'Peak area'>, <Quantity.PEAKHEIGHT: 'Peak height'>, <Quantity.PEAKAREAPERCENTAGE: 'Peak area percentage'>, <Quantity.SLOPE: 'Slope'>, <Quantity.INTERCEPT: 'Intercept'>, <Quantity.COEFFDET: 'Coefficient of determination'>])"
     ]
    }
   ],
   "source": [
    "experimental_data_df_mfm, experimental_data_dict_mfm = mfmparser.extract_exp_data(file_index_mfm)\n",
    "mfm = lib.Measurement(\n",
    "            measurement_type=lib.enums.MeasurementType.MFM.value,\n",
    "            experimental_data=[value for value in experimental_data_dict_mfm.values()],\n",
    "        )\n",
    "experiment.measurements.append(mfm)"
   ]
  },
  {
   "cell_type": "code",
   "execution_count": null,
   "metadata": {},
   "outputs": [],
   "source": [
    "experimental_data_df_mfm"
   ]
  },
  {
   "cell_type": "code",
   "execution_count": null,
   "metadata": {},
   "outputs": [],
   "source": [
    "print(experimental_data_dict_mfm.items())"
   ]
  },
  {
   "cell_type": "code",
   "execution_count": null,
   "metadata": {},
   "outputs": [],
   "source": [
    "# truncated_mfm_experimental_data_df= mfm_experimental_data_df.truncate(after=10)\n",
    "# truncated_mfm_experimental_data_df"
   ]
  },
  {
   "attachments": {},
   "cell_type": "markdown",
   "metadata": {},
   "source": [
    "### GC data"
   ]
  },
  {
   "cell_type": "markdown",
   "metadata": {},
   "source": [
    "Provide name of the subdirectory containing the mass flow meter measurement data."
   ]
  },
  {
   "cell_type": "code",
   "execution_count": null,
   "metadata": {},
   "outputs": [],
   "source": [
    "path_gc = path_raw_data / '02_GC'"
   ]
  },
  {
   "cell_type": "markdown",
   "metadata": {},
   "source": [
    "Search directory for further subdirectories and print them."
   ]
  },
  {
   "cell_type": "code",
   "execution_count": null,
   "metadata": {},
   "outputs": [],
   "source": [
    "subdirectories_gc = {index:directory for index, directory in enumerate(path_gc.iterdir())}\n",
    "for index, directory in subdirectories_gc.items():\n",
    "    print(f\"{index}: {directory.name}\")"
   ]
  },
  {
   "cell_type": "markdown",
   "metadata": {},
   "source": [
    "Choose subdirectory by its index."
   ]
  },
  {
   "cell_type": "code",
   "execution_count": null,
   "metadata": {},
   "outputs": [],
   "source": [
    "subdirectory_index_gc = 0\n",
    "selected_subdirectory_gc = subdirectories_gc[subdirectory_index_gc]\n",
    "print(selected_subdirectory_gc)"
   ]
  },
  {
   "cell_type": "markdown",
   "metadata": {},
   "source": [
    "Provide suffix of the file that contains the data."
   ]
  },
  {
   "cell_type": "code",
   "execution_count": null,
   "metadata": {},
   "outputs": [],
   "source": [
    "suffix_gc = 'csv'"
   ]
  },
  {
   "attachments": {},
   "cell_type": "markdown",
   "metadata": {},
   "source": [
    "Parse GC output files using the ``GCParser`` module. Show available files contained in the selected directory."
   ]
  },
  {
   "cell_type": "code",
   "execution_count": null,
   "metadata": {},
   "outputs": [],
   "source": [
    "gcparser = GCParser(selected_subdirectory_gc, suffix_gc)\n",
    "files_dict_gc = gcparser.available_files\n",
    "for index, gc_file in files_dict_gc.items():\n",
    "    print(f\"{index}: {gc_file.name}\")"
   ]
  },
  {
   "attachments": {},
   "cell_type": "markdown",
   "metadata": {},
   "source": [
    "Select GC files to be parsed."
   ]
  },
  {
   "cell_type": "markdown",
   "metadata": {},
   "source": [
    "Metadata"
   ]
  },
  {
   "cell_type": "code",
   "execution_count": null,
   "metadata": {},
   "outputs": [],
   "source": [
    "gc_metadata_file = dict_of_gc_files[2]\n",
    "gc_metadata_file"
   ]
  },
  {
   "attachments": {},
   "cell_type": "markdown",
   "metadata": {},
   "source": [
    "Experimental data"
   ]
  },
  {
   "cell_type": "code",
   "execution_count": null,
   "metadata": {},
   "outputs": [],
   "source": [
    "gc_experimental_data_file = dict_of_gc_files[3]\n",
    "gc_experimental_data_file"
   ]
  },
  {
   "attachments": {},
   "cell_type": "markdown",
   "metadata": {},
   "source": [
    "Extract the metadata and experimental data from them and load into the dataset."
   ]
  },
  {
   "cell_type": "code",
   "execution_count": null,
   "metadata": {},
   "outputs": [],
   "source": [
    "gc_metadata_df, gc_metadata= gcparser.extract_metadata(gc_metadata_file)\n",
    "gc_experimental_data_df, gc_experimental_data = gcparser.extract_exp_data(gc_experimental_data_file)\n",
    "gc = lib.Measurement(\n",
    "    measurement_type=lib.enums.MeasurementType.GC.value,\n",
    "    metadata=[value for value in gc_metadata.values()],\n",
    "    experimental_data=[value for value in gc_experimental_data.values()]\n",
    ")\n",
    "experiment.measurements.append(gc)\n",
    "gc_metadata_df"
   ]
  },
  {
   "cell_type": "code",
   "execution_count": null,
   "metadata": {},
   "outputs": [],
   "source": [
    "gc_experimental_data_df"
   ]
  },
  {
   "cell_type": "code",
   "execution_count": null,
   "metadata": {},
   "outputs": [],
   "source": [
    "# hplc_path = raw_data_path / '04_HPLC'\n",
    "# pressure_path = raw_data_path / '05_Pressure'"
   ]
  },
  {
   "attachments": {},
   "cell_type": "markdown",
   "metadata": {},
   "source": [
    "Print current state of experiment object."
   ]
  },
  {
   "cell_type": "code",
   "execution_count": null,
   "metadata": {},
   "outputs": [],
   "source": [
    "print(experiment.json())"
   ]
  },
  {
   "cell_type": "markdown",
   "metadata": {},
   "source": [
    "---\n",
    "## Analysis\n",
    "---"
   ]
  },
  {
   "attachments": {},
   "cell_type": "markdown",
   "metadata": {},
   "source": [
    "Assign peak areas to species."
   ]
  },
  {
   "cell_type": "markdown",
   "metadata": {},
   "source": [
    "The peak areas recorded by the GC have to be matched with the correct species. The individial ``Area`` is selected by its corresponding ``Peak_Number``. It is possible that the same species is accountable for multiple peaks, i.d. multiple peaks are assigned to the same species.\n"
   ]
  },
  {
   "cell_type": "code",
   "execution_count": null,
   "metadata": {},
   "outputs": [],
   "source": [
    "assign_peak_dict={\n",
    "    'H2': [1],\n",
    "    'CO2': [2],\n",
    "    'CO': [6],\n",
    "    'CH4': [3],\n",
    "    # 'C2H4': [5],\n",
    "    # 'C2H6': [4],\n",
    "}\n",
    "peak_area_dict = assign_peaks(dataset, assign_peak_dict)\n",
    "\n",
    "for species, peak_area in peak_area_dict.items():\n",
    "    print(f\"{species}: {peak_area}\")"
   ]
  },
  {
   "cell_type": "markdown",
   "metadata": {},
   "source": [
    "Set calibration input values and import into the data model."
   ]
  },
  {
   "attachments": {},
   "cell_type": "markdown",
   "metadata": {},
   "source": [
    "To determine the concentrations of the individual species, a calibration has to be performed in advance to match the individual values for ``Area`` with their corresponding concentrations."
   ]
  },
  {
   "cell_type": "code",
   "execution_count": null,
   "metadata": {},
   "outputs": [],
   "source": [
    "calibration_input_dict={\n",
    "    'H2': [\n",
    "        lib.enums.Species.HYDROGEN,\n",
    "        {\n",
    "            'peak_areas': [71,153,330],\n",
    "            'concentrations': [5,10,20]\n",
    "        },\n",
    "    ],\n",
    "    'CO':[\n",
    "        lib.enums.Species.CARBONMONOXIDE,\n",
    "        {\n",
    "            'peak_areas': [797,1328,7223],\n",
    "            'concentrations': [0.5,1,5]\n",
    "        }\n",
    "    ],\n",
    "    'CO2': [\n",
    "        lib.enums.Species.CARBONDIOXIDE,\n",
    "        {\n",
    "            'peak_areas': [0,38653],\n",
    "            'concentrations': [0,50]\n",
    "        }\n",
    "    ],\n",
    "    'CH4':[\n",
    "        lib.enums.Species.METHANE,\n",
    "        {\n",
    "            'peak_areas': [5727,11991],\n",
    "            'concentrations': [5,10]\n",
    "        }\n",
    "    ],\n",
    "    # 'C2H4':[\n",
    "    #     lib.enums.Species.ETHENE,\n",
    "        # {\n",
    "            # 'peak_areas': [1122,4864,7297],\n",
    "            # 'concentrations': [0.5,2,3]\n",
    "        # }\n",
    "    # ],\n",
    "    # 'C2H6':[\n",
    "    #     lib.enums.Species.ETHANE,\n",
    "        # {\n",
    "            # 'peak_areas': [0,12168],\n",
    "            # 'concentrations': [0,5]\n",
    "        # }\n",
    "    # ],\n",
    "}"
   ]
  },
  {
   "attachments": {},
   "cell_type": "markdown",
   "metadata": {},
   "source": [
    "Calibrate using the ``calibrate`` method of the ``Calculator`` module."
   ]
  },
  {
   "cell_type": "code",
   "execution_count": null,
   "metadata": {},
   "outputs": [],
   "source": [
    "calculator=Calculator()\n",
    "calibration_df, calibration_dict=calculator.calibrate(calibration_input_dict)\n",
    "calibration_df\n",
    "# for species, value in calibration_dict.items():\n",
    "#     print(f\"{species}: {value}\")\n",
    "#     # print(lib.Calibration(value))"
   ]
  },
  {
   "cell_type": "code",
   "execution_count": null,
   "metadata": {},
   "outputs": [],
   "source": [
    "analysis = lib.Analysis()\n",
    "analysis.calibrations = [calibration for calibration in calibration_dict.values()]\n",
    "experiment.analysis = analysis"
   ]
  },
  {
   "attachments": {},
   "cell_type": "markdown",
   "metadata": {},
   "source": [
    "Print current state of the experiment object."
   ]
  },
  {
   "cell_type": "code",
   "execution_count": null,
   "metadata": {},
   "outputs": [],
   "source": [
    "print(experiment.json())"
   ]
  },
  {
   "attachments": {},
   "cell_type": "markdown",
   "metadata": {},
   "source": [
    "Calculate ``volumetric`` ``fractions`` in % out of the peak areas using the determined calibration curve."
   ]
  },
  {
   "cell_type": "code",
   "execution_count": null,
   "metadata": {},
   "outputs": [],
   "source": [
    "volumetric_fractions_df = calculator.calculate_volumetric_fractions(peak_area_dict=peak_area_dict, calibration_df=calibration_df)\n",
    "volumetric_fractions_df"
   ]
  },
  {
   "attachments": {},
   "cell_type": "markdown",
   "metadata": {},
   "source": [
    "Set the ``correction`` ``factors``."
   ]
  },
  {
   "cell_type": "code",
   "execution_count": null,
   "metadata": {},
   "outputs": [],
   "source": [
    "correction_factors_dict= {\n",
    "    'H2':1.01,\n",
    "    'CO':0.74,\n",
    "    'CO2':1.00,\n",
    "    'CH4':0.76,\n",
    "    # 'C2H4':,\n",
    "    # 'C2H6':,\n",
    "}"
   ]
  },
  {
   "attachments": {},
   "cell_type": "markdown",
   "metadata": {},
   "source": [
    "Calculate the ``conversion`` ``factor`` using the correction factors."
   ]
  },
  {
   "cell_type": "code",
   "execution_count": null,
   "metadata": {},
   "outputs": [],
   "source": [
    "conversion_factor = calculator.calculate_conversion_factor(\n",
    "    volumetric_fractions_df=volumetric_fractions_df, correction_factors_dict=correction_factors_dict\n",
    ")\n",
    "conversion_factor"
   ]
  },
  {
   "attachments": {},
   "cell_type": "markdown",
   "metadata": {},
   "source": [
    "Get ``volumetric`` ``flow`` ``mean`` in ml/min at the time of the GC measurement."
   ]
  },
  {
   "cell_type": "markdown",
   "metadata": {},
   "source": [
    "The mass flow at the time of the GC measurement is determined by matching the time of the gc measurement with the corresponding times of the mass flow measurements. Errors in the mass flows due to strong fluctuations are minimized by calculating the mean by averaging over a certain number (=``radius``) of measuring points before and after the time of the GC measurement. The radius has to be specified in accordance with the strength of fluctuations."
   ]
  },
  {
   "cell_type": "code",
   "execution_count": null,
   "metadata": {},
   "outputs": [],
   "source": [
    "mean_radius = 10\n",
    "volumetric_flow_mean = get_volumetric_flow_mean(experiment, mean_radius)\n",
    "volumetric_flow_mean"
   ]
  },
  {
   "attachments": {},
   "cell_type": "markdown",
   "metadata": {},
   "source": [
    "Calculate the ``real`` ``volumetric`` ``flow`` in ml/min as a product of the ``volumetric`` ``flow`` ``mean`` and the ``conversion`` ``factor``."
   ]
  },
  {
   "cell_type": "code",
   "execution_count": null,
   "metadata": {},
   "outputs": [],
   "source": [
    "real_volumetric_flow = volumetric_flow_mean*conversion_factor\n",
    "real_volumetric_flow"
   ]
  },
  {
   "cell_type": "code",
   "execution_count": null,
   "metadata": {},
   "outputs": [],
   "source": [
    "# vol_flow_real= calculator.calculate_real_volumetric_flow(conversion_factor = conversion_factor, measured_volumetric_flow_mean = vol_flow_mean )\n",
    "# vol_flow_real"
   ]
  },
  {
   "cell_type": "markdown",
   "metadata": {},
   "source": [
    "Calculate volumetric flow fractions in %."
   ]
  },
  {
   "cell_type": "code",
   "execution_count": null,
   "metadata": {},
   "outputs": [],
   "source": [
    "volumetric_flow_fractions_df=calculator.calculate_volumetric_flow_fractions(\n",
    "    real_volumetric_flow=real_volumetric_flow, volumetric_fractions_df=volumetric_fractions_df\n",
    ")\n",
    "volumetric_flow_fractions_df"
   ]
  },
  {
   "attachments": {},
   "cell_type": "markdown",
   "metadata": {},
   "source": [
    "Calculate material flow in mmol/min."
   ]
  },
  {
   "cell_type": "code",
   "execution_count": null,
   "metadata": {},
   "outputs": [],
   "source": [
    "material_flow_df = calculator.calcualte_material_flow(volumetric_flow_fractions_df=volumetric_flow_fractions_df)\n",
    "material_flow_df"
   ]
  },
  {
   "attachments": {},
   "cell_type": "markdown",
   "metadata": {},
   "source": [
    "Get initial current in mA and initial time in s."
   ]
  },
  {
   "cell_type": "code",
   "execution_count": null,
   "metadata": {},
   "outputs": [],
   "source": [
    "initial_current, initial_time = get_initial_time_and_current(experiment)\n",
    "print(f'Initial current in mA: {initial_current}')\n",
    "print(f'Initial time in s: {initial_time}')"
   ]
  },
  {
   "attachments": {},
   "cell_type": "markdown",
   "metadata": {},
   "source": [
    "Calculate theoretical material flow in mmol/min."
   ]
  },
  {
   "cell_type": "code",
   "execution_count": null,
   "metadata": {},
   "outputs": [],
   "source": [
    "electrode_surface_area = 1.0 # cm^2\n",
    "theoretical_material_flow_df=calculator.calculate_theoretical_material_flow(\n",
    "    initial_current=initial_current, initial_time=initial_time, electrode_surface_area=electrode_surface_area\n",
    ")\n",
    "theoretical_material_flow_df"
   ]
  },
  {
   "attachments": {},
   "cell_type": "markdown",
   "metadata": {},
   "source": [
    "Calculate Faraday efficiency and load into dataset."
   ]
  },
  {
   "cell_type": "code",
   "execution_count": null,
   "metadata": {},
   "outputs": [],
   "source": [
    "faraday_efficiency_df = material_flow_df['Material_flow'] / theoretical_material_flow_df['Theoretical_material_flow']\n",
    "faraday_efficiency_df"
   ]
  },
  {
   "cell_type": "markdown",
   "metadata": {},
   "source": [
    "---\n",
    "## DaRUS upload\n",
    "---"
   ]
  },
  {
   "cell_type": "code",
   "execution_count": null,
   "metadata": {},
   "outputs": [],
   "source": [
    "dataset.experiments.append(experiment)"
   ]
  },
  {
   "cell_type": "code",
   "execution_count": null,
   "metadata": {},
   "outputs": [],
   "source": [
    "with open(json_files[index_dataset], \"w\") as f:\n",
    "    f.write(dataset.json())"
   ]
  },
  {
   "cell_type": "code",
   "execution_count": null,
   "metadata": {},
   "outputs": [],
   "source": [
    "button = widgets.Button(description=\"Append experiment\", layout=widgets.Layout(width='30%', height='80px'))\n",
    "button.style.button_color = 'darkcyan'\n",
    "button.style.text_color = 'lightgrey'\n",
    "button.style.font_size = '30px'\n",
    "\n",
    "\n",
    "output = widgets.Output()\n",
    "\n",
    "display(button, output)\n",
    "\n",
    "def click_on_button(b):\n",
    "    with output:\n",
    "        print(\"Experiment successfully appended.\")\n",
    "\n",
    "button.on_click(click_on_button)"
   ]
  },
  {
   "cell_type": "code",
   "execution_count": null,
   "metadata": {},
   "outputs": [],
   "source": [
    "# %%html\n",
    "# <style>\n",
    "# .cell-output-ipywidget-background {\n",
    "#    background-color: transparent !important;\n",
    "# }\n",
    "# .cell-output-ipywidget-foreground {\n",
    "\n",
    "\n",
    "    \n",
    "# .jp-OutputArea-output {\n",
    "#    background-color: transparent;\n",
    "# }  \n",
    "# </style>"
   ]
  },
  {
   "cell_type": "code",
   "execution_count": null,
   "metadata": {},
   "outputs": [],
   "source": [
    "%%html\n",
    "<style>\n",
    ".cell-output-ipywidget-background {\n",
    "    background-color: transparent !important;\n",
    "}\n",
    ":root {\n",
    "    --jp-widgets-color: var(--vscode-editor-foreground);\n",
    "    --jp-widgets-font-size: var(--vscode-editor-font-size);\n",
    "}  \n",
    "</style>"
   ]
  }
 ],
 "metadata": {
  "kernelspec": {
   "display_name": "b07",
   "language": "python",
   "name": "python3"
  },
  "language_info": {
   "codemirror_mode": {
    "name": "ipython",
    "version": 3
   },
   "file_extension": ".py",
   "mimetype": "text/x-python",
   "name": "python",
   "nbconvert_exporter": "python",
   "pygments_lexer": "ipython3",
   "version": "3.10.4"
  },
  "orig_nbformat": 4,
  "vscode": {
   "interpreter": {
    "hash": "9f62ab2d43dc75e3c3b007469adeb0f7488873df876b9b71dd3b119f0280ba41"
   }
  }
 },
 "nbformat": 4,
 "nbformat_minor": 2
}
