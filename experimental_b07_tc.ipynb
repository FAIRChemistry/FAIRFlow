{
 "cells": [
  {
   "attachments": {},
   "cell_type": "markdown",
   "metadata": {},
   "source": [
    "# Workflow for the CRC1333 project B07 - Technical Chemistry"
   ]
  },
  {
   "attachments": {},
   "cell_type": "markdown",
   "metadata": {},
   "source": [
    "**Import necessary packages.**"
   ]
  },
  {
   "cell_type": "code",
   "execution_count": 1,
   "metadata": {},
   "outputs": [],
   "source": [
    "# import matplotlib.pyplot as plt\n",
    "# import numpy as np\n",
    "# import networkx as nx\n",
    "# import pandas as pd\n",
    "\n",
    "from datetime import datetime\n",
    "from sdRDM import DataModel\n",
    "from modules import GCParser\n",
    "from modules import GstaticParser\n",
    "from modules import MFMParser\n",
    "from modules import Calculator\n",
    "from modules import get_volumetric_flow_mean\n",
    "from modules import get_initial_time_and_current\n",
    "from modules import assign_peaks\n",
    "from pathlib import Path\n",
    "# from DEXPI2sdRDM import DEXPI2sdRDM"
   ]
  },
  {
   "attachments": {},
   "cell_type": "markdown",
   "metadata": {},
   "source": [
    "**Load data model from git or markdown file**"
   ]
  },
  {
   "cell_type": "code",
   "execution_count": 2,
   "metadata": {},
   "outputs": [],
   "source": [
    "# lib = DataModel.from_markdown('specifications/datamodel_b07_tc.md')\n",
    "# lib = DataModel.from_git(url='https://github.com/FAIRChemistry/datamodel_b07_tc.git')"
   ]
  },
  {
   "attachments": {},
   "cell_type": "markdown",
   "metadata": {},
   "source": [
    "**Set path to current working directory and available datasets.**"
   ]
  },
  {
   "cell_type": "code",
   "execution_count": 3,
   "metadata": {},
   "outputs": [],
   "source": [
    "# Get the current working directory\n",
    "current_directory = Path.cwd()\n",
    "\n",
    "# Set the path for the datasets\n",
    "path_to_dataset = current_directory / 'datasets'"
   ]
  },
  {
   "cell_type": "code",
   "execution_count": 4,
   "metadata": {},
   "outputs": [
    {
     "name": "stdout",
     "output_type": "stream",
     "text": [
      "0: b07.json\n"
     ]
    }
   ],
   "source": [
    "# List all files in the directory\n",
    "files = path_to_dataset.iterdir()\n",
    "\n",
    "# Filter the files with .json extension\n",
    "json_files = {index:file for index, file in enumerate(files) if file.suffix == \".json\"}\n",
    "\n",
    "# Print the JSON file names\n",
    "for index, file in json_files.items():\n",
    "    print(f\"{index}: {file.name}\")"
   ]
  },
  {
   "attachments": {},
   "cell_type": "markdown",
   "metadata": {},
   "source": [
    "**Choose dataset to parse.**"
   ]
  },
  {
   "cell_type": "code",
   "execution_count": 5,
   "metadata": {},
   "outputs": [],
   "source": [
    "index_dataset = 0"
   ]
  },
  {
   "attachments": {},
   "cell_type": "markdown",
   "metadata": {},
   "source": [
    "**Load dataset for project B07**"
   ]
  },
  {
   "cell_type": "code",
   "execution_count": 6,
   "metadata": {},
   "outputs": [],
   "source": [
    "dataset, lib = DataModel.parse(json_files[index_dataset])"
   ]
  },
  {
   "attachments": {},
   "cell_type": "markdown",
   "metadata": {},
   "source": [
    "**Instantiate an experiment object which holds all the information about one single experiment.**"
   ]
  },
  {
   "cell_type": "code",
   "execution_count": 7,
   "metadata": {},
   "outputs": [],
   "source": [
    "experiment = lib.Experiment()\n",
    "dataset.experiments.append(experiment)"
   ]
  },
  {
   "cell_type": "code",
   "execution_count": 8,
   "metadata": {},
   "outputs": [],
   "source": [
    "# print(dataset.json())"
   ]
  },
  {
   "attachments": {},
   "cell_type": "markdown",
   "metadata": {},
   "source": [
    "### **Parsing experimental data and metadata from various output files.**"
   ]
  },
  {
   "attachments": {},
   "cell_type": "markdown",
   "metadata": {},
   "source": [
    "### gstatic"
   ]
  },
  {
   "attachments": {},
   "cell_type": "markdown",
   "metadata": {},
   "source": [
    "**Create an instance of the ``GstaticParser`` to parse Gamry output files and show available files in the selected directory.**"
   ]
  },
  {
   "cell_type": "code",
   "execution_count": 9,
   "metadata": {},
   "outputs": [
    {
     "name": "stdout",
     "output_type": "stream",
     "text": [
      "0: GSTATIC(Potentiostat)\n"
     ]
    }
   ],
   "source": [
    "gstaticparser = GstaticParser(current_directory / 'data')\n",
    "dict_of_gstatic_files = gstaticparser.enumerate_available_files()\n",
    "for index, gstatic_file in dict_of_gstatic_files.items():\n",
    "    print(f\"{index}: {gstatic_file}\")\n",
    "# available_files = gstaticparser.available_files\n",
    "# print(available_files)"
   ]
  },
  {
   "attachments": {},
   "cell_type": "markdown",
   "metadata": {},
   "source": [
    "**Chose specific file.**"
   ]
  },
  {
   "cell_type": "code",
   "execution_count": 10,
   "metadata": {},
   "outputs": [
    {
     "data": {
      "text/plain": [
       "'GSTATIC(Potentiostat)'"
      ]
     },
     "execution_count": 10,
     "metadata": {},
     "output_type": "execute_result"
    }
   ],
   "source": [
    "gstatic_file = dict_of_gstatic_files[0]\n",
    "gstatic_file"
   ]
  },
  {
   "attachments": {},
   "cell_type": "markdown",
   "metadata": {},
   "source": [
    "**Extract the metadata from it using the ``GstaticParser`` and load into the data model.**"
   ]
  },
  {
   "cell_type": "code",
   "execution_count": 11,
   "metadata": {},
   "outputs": [
    {
     "data": {
      "text/html": [
       "<div>\n",
       "<style scoped>\n",
       "    .dataframe tbody tr th:only-of-type {\n",
       "        vertical-align: middle;\n",
       "    }\n",
       "\n",
       "    .dataframe tbody tr th {\n",
       "        vertical-align: top;\n",
       "    }\n",
       "\n",
       "    .dataframe thead th {\n",
       "        text-align: right;\n",
       "    }\n",
       "</style>\n",
       "<table border=\"1\" class=\"dataframe\">\n",
       "  <thead>\n",
       "    <tr style=\"text-align: right;\">\n",
       "      <th></th>\n",
       "      <th>Parameter</th>\n",
       "      <th>Data_type</th>\n",
       "      <th>Value</th>\n",
       "      <th>Description</th>\n",
       "    </tr>\n",
       "  </thead>\n",
       "  <tbody>\n",
       "    <tr>\n",
       "      <th>0</th>\n",
       "      <td>PSTAT</td>\n",
       "      <td>PSTAT</td>\n",
       "      <td>REF3000-19129</td>\n",
       "      <td>Potentiostat</td>\n",
       "    </tr>\n",
       "    <tr>\n",
       "      <th>1</th>\n",
       "      <td>IINIT</td>\n",
       "      <td>QUANT</td>\n",
       "      <td>-2.00000E+002</td>\n",
       "      <td>Initial I (mA/cm^2)</td>\n",
       "    </tr>\n",
       "    <tr>\n",
       "      <th>2</th>\n",
       "      <td>TINIT</td>\n",
       "      <td>QUANT</td>\n",
       "      <td>3.60000E+003</td>\n",
       "      <td>Initial Time (s)</td>\n",
       "    </tr>\n",
       "    <tr>\n",
       "      <th>3</th>\n",
       "      <td>IFINAL</td>\n",
       "      <td>QUANT</td>\n",
       "      <td>-2.00000E+002</td>\n",
       "      <td>Final I (mA/cm^2)</td>\n",
       "    </tr>\n",
       "    <tr>\n",
       "      <th>4</th>\n",
       "      <td>TFINAL</td>\n",
       "      <td>QUANT</td>\n",
       "      <td>0.00000E+000</td>\n",
       "      <td>Final Time (s)</td>\n",
       "    </tr>\n",
       "    <tr>\n",
       "      <th>5</th>\n",
       "      <td>SAMPLETIME</td>\n",
       "      <td>QUANT</td>\n",
       "      <td>1.00000E+000</td>\n",
       "      <td>Sample Period (s)</td>\n",
       "    </tr>\n",
       "    <tr>\n",
       "      <th>6</th>\n",
       "      <td>AREA</td>\n",
       "      <td>QUANT</td>\n",
       "      <td>1.00000E+000</td>\n",
       "      <td>Sample Area (cm^2)</td>\n",
       "    </tr>\n",
       "    <tr>\n",
       "      <th>7</th>\n",
       "      <td>DENSITY</td>\n",
       "      <td>QUANT</td>\n",
       "      <td>7.87000E+000</td>\n",
       "      <td>Density (g/cm^3)</td>\n",
       "    </tr>\n",
       "    <tr>\n",
       "      <th>8</th>\n",
       "      <td>EQUIV</td>\n",
       "      <td>QUANT</td>\n",
       "      <td>2.79200E+001</td>\n",
       "      <td>Equiv. Wt</td>\n",
       "    </tr>\n",
       "    <tr>\n",
       "      <th>9</th>\n",
       "      <td>IRCOMP</td>\n",
       "      <td>TOGGLE</td>\n",
       "      <td>T</td>\n",
       "      <td>IR Comp</td>\n",
       "    </tr>\n",
       "    <tr>\n",
       "      <th>10</th>\n",
       "      <td>EOC</td>\n",
       "      <td>QUANT</td>\n",
       "      <td>0</td>\n",
       "      <td>Open Circuit (V)</td>\n",
       "    </tr>\n",
       "    <tr>\n",
       "      <th>11</th>\n",
       "      <td>SEQUENCER</td>\n",
       "      <td>TOGGLE</td>\n",
       "      <td>TRUE</td>\n",
       "      <td>Run as Sequence</td>\n",
       "    </tr>\n",
       "    <tr>\n",
       "      <th>12</th>\n",
       "      <td>PSTATMODEL</td>\n",
       "      <td>IQUANT</td>\n",
       "      <td>5</td>\n",
       "      <td>Pstat Model</td>\n",
       "    </tr>\n",
       "    <tr>\n",
       "      <th>13</th>\n",
       "      <td>PSTATSECTION</td>\n",
       "      <td>LABEL</td>\n",
       "      <td>REF3000-19129</td>\n",
       "      <td>Pstat Section</td>\n",
       "    </tr>\n",
       "    <tr>\n",
       "      <th>14</th>\n",
       "      <td>PSTATSERIALNO</td>\n",
       "      <td>LABEL</td>\n",
       "      <td>19129</td>\n",
       "      <td>Pstat Serial Number</td>\n",
       "    </tr>\n",
       "    <tr>\n",
       "      <th>15</th>\n",
       "      <td>CTRLMODE</td>\n",
       "      <td>IQUANT</td>\n",
       "      <td>0</td>\n",
       "      <td>Control Mode</td>\n",
       "    </tr>\n",
       "    <tr>\n",
       "      <th>16</th>\n",
       "      <td>ELECTROMETER</td>\n",
       "      <td>IQUANT</td>\n",
       "      <td>0</td>\n",
       "      <td>RE=0 or CS=1</td>\n",
       "    </tr>\n",
       "    <tr>\n",
       "      <th>17</th>\n",
       "      <td>IESTAB</td>\n",
       "      <td>IQUANT</td>\n",
       "      <td>0</td>\n",
       "      <td>I/E Stability</td>\n",
       "    </tr>\n",
       "    <tr>\n",
       "      <th>18</th>\n",
       "      <td>CASPEED</td>\n",
       "      <td>IQUANT</td>\n",
       "      <td>4</td>\n",
       "      <td>Control Amp Speed</td>\n",
       "    </tr>\n",
       "    <tr>\n",
       "      <th>19</th>\n",
       "      <td>CONVENTION</td>\n",
       "      <td>IQUANT</td>\n",
       "      <td>1</td>\n",
       "      <td>Current Convention</td>\n",
       "    </tr>\n",
       "    <tr>\n",
       "      <th>20</th>\n",
       "      <td>ICHRANGE</td>\n",
       "      <td>IQUANT</td>\n",
       "      <td>2</td>\n",
       "      <td>Ich Range</td>\n",
       "    </tr>\n",
       "    <tr>\n",
       "      <th>21</th>\n",
       "      <td>ICHRANGEMODE</td>\n",
       "      <td>TOGGLE</td>\n",
       "      <td>T</td>\n",
       "      <td>Ich Auto Range</td>\n",
       "    </tr>\n",
       "    <tr>\n",
       "      <th>22</th>\n",
       "      <td>ICHOFFSETENABLE</td>\n",
       "      <td>TOGGLE</td>\n",
       "      <td>F</td>\n",
       "      <td>Ich Offset Enable</td>\n",
       "    </tr>\n",
       "    <tr>\n",
       "      <th>23</th>\n",
       "      <td>ICHOFFSET</td>\n",
       "      <td>QUANT</td>\n",
       "      <td>0</td>\n",
       "      <td>Ich Offset (V)</td>\n",
       "    </tr>\n",
       "    <tr>\n",
       "      <th>24</th>\n",
       "      <td>ICHFILTER</td>\n",
       "      <td>IQUANT</td>\n",
       "      <td>3</td>\n",
       "      <td>Ich Filter</td>\n",
       "    </tr>\n",
       "    <tr>\n",
       "      <th>25</th>\n",
       "      <td>VCHRANGE</td>\n",
       "      <td>IQUANT</td>\n",
       "      <td>3</td>\n",
       "      <td>Vch Range</td>\n",
       "    </tr>\n",
       "    <tr>\n",
       "      <th>26</th>\n",
       "      <td>VCHRANGEMODE</td>\n",
       "      <td>TOGGLE</td>\n",
       "      <td>T</td>\n",
       "      <td>Vch Auto Range</td>\n",
       "    </tr>\n",
       "    <tr>\n",
       "      <th>27</th>\n",
       "      <td>VCHOFFSETENABLE</td>\n",
       "      <td>TOGGLE</td>\n",
       "      <td>F</td>\n",
       "      <td>Vch Offset Enable</td>\n",
       "    </tr>\n",
       "    <tr>\n",
       "      <th>28</th>\n",
       "      <td>VCHOFFSET</td>\n",
       "      <td>QUANT</td>\n",
       "      <td>0</td>\n",
       "      <td>Vch Offset (V)</td>\n",
       "    </tr>\n",
       "    <tr>\n",
       "      <th>29</th>\n",
       "      <td>VCHFILTER</td>\n",
       "      <td>IQUANT</td>\n",
       "      <td>1</td>\n",
       "      <td>Vch Filter</td>\n",
       "    </tr>\n",
       "    <tr>\n",
       "      <th>30</th>\n",
       "      <td>ACHRANGE</td>\n",
       "      <td>IQUANT</td>\n",
       "      <td>2</td>\n",
       "      <td>Ach Range</td>\n",
       "    </tr>\n",
       "    <tr>\n",
       "      <th>31</th>\n",
       "      <td>ACHOFFSETENABLE</td>\n",
       "      <td>TOGGLE</td>\n",
       "      <td>F</td>\n",
       "      <td>Ach Offset Enable</td>\n",
       "    </tr>\n",
       "    <tr>\n",
       "      <th>32</th>\n",
       "      <td>ACHOFFSET</td>\n",
       "      <td>QUANT</td>\n",
       "      <td>0</td>\n",
       "      <td>Ach Offset (V)</td>\n",
       "    </tr>\n",
       "    <tr>\n",
       "      <th>33</th>\n",
       "      <td>ACHFILTER</td>\n",
       "      <td>IQUANT</td>\n",
       "      <td>1</td>\n",
       "      <td>Ach Filter</td>\n",
       "    </tr>\n",
       "    <tr>\n",
       "      <th>34</th>\n",
       "      <td>IERANGELOWERLIMIT</td>\n",
       "      <td>IQUANT</td>\n",
       "      <td>4</td>\n",
       "      <td>I/E Range Lower Limit</td>\n",
       "    </tr>\n",
       "    <tr>\n",
       "      <th>35</th>\n",
       "      <td>IERANGEMODE</td>\n",
       "      <td>TOGGLE</td>\n",
       "      <td>F</td>\n",
       "      <td>I/E AutoRange</td>\n",
       "    </tr>\n",
       "    <tr>\n",
       "      <th>36</th>\n",
       "      <td>IERANGE</td>\n",
       "      <td>IQUANT</td>\n",
       "      <td>11</td>\n",
       "      <td>I/E Range</td>\n",
       "    </tr>\n",
       "    <tr>\n",
       "      <th>37</th>\n",
       "      <td>POSFEEDENABLE</td>\n",
       "      <td>TOGGLE</td>\n",
       "      <td>F</td>\n",
       "      <td>Positive Feedback IR Comp</td>\n",
       "    </tr>\n",
       "    <tr>\n",
       "      <th>38</th>\n",
       "      <td>POSFEEDRESISTANCE</td>\n",
       "      <td>QUANT</td>\n",
       "      <td>0</td>\n",
       "      <td>Positive Feedback Resistance (ohm)</td>\n",
       "    </tr>\n",
       "    <tr>\n",
       "      <th>39</th>\n",
       "      <td>ACHSELECT</td>\n",
       "      <td>IQUANT</td>\n",
       "      <td>0</td>\n",
       "      <td>Ach Select</td>\n",
       "    </tr>\n",
       "    <tr>\n",
       "      <th>40</th>\n",
       "      <td>SENSECABLEID</td>\n",
       "      <td>IQUANT</td>\n",
       "      <td>14</td>\n",
       "      <td>Sense Cable ID</td>\n",
       "    </tr>\n",
       "    <tr>\n",
       "      <th>41</th>\n",
       "      <td>PWRCABLEID</td>\n",
       "      <td>IQUANT</td>\n",
       "      <td>13</td>\n",
       "      <td>Power Cable ID</td>\n",
       "    </tr>\n",
       "    <tr>\n",
       "      <th>42</th>\n",
       "      <td>DCCALDATE</td>\n",
       "      <td>LABEL</td>\n",
       "      <td>11/22/2022</td>\n",
       "      <td>DC Calibration Date</td>\n",
       "    </tr>\n",
       "    <tr>\n",
       "      <th>43</th>\n",
       "      <td>ACCALDATE</td>\n",
       "      <td>LABEL</td>\n",
       "      <td>NaN</td>\n",
       "      <td>AC Calibration Date</td>\n",
       "    </tr>\n",
       "    <tr>\n",
       "      <th>44</th>\n",
       "      <td>THERMOSELECT</td>\n",
       "      <td>IQUANT</td>\n",
       "      <td>1</td>\n",
       "      <td>Thermo Select</td>\n",
       "    </tr>\n",
       "    <tr>\n",
       "      <th>45</th>\n",
       "      <td>FRAMEWORKVERSION</td>\n",
       "      <td>QUANT</td>\n",
       "      <td>7.07</td>\n",
       "      <td>Framework Version</td>\n",
       "    </tr>\n",
       "    <tr>\n",
       "      <th>46</th>\n",
       "      <td>INSTRUMENTVERSION</td>\n",
       "      <td>LABEL</td>\n",
       "      <td>4.35</td>\n",
       "      <td>Instrument Version</td>\n",
       "    </tr>\n",
       "    <tr>\n",
       "      <th>47</th>\n",
       "      <td>COMPLIANCEVOLTAGE</td>\n",
       "      <td>IQUANT</td>\n",
       "      <td>0</td>\n",
       "      <td>Compliance Voltage</td>\n",
       "    </tr>\n",
       "  </tbody>\n",
       "</table>\n",
       "</div>"
      ],
      "text/plain": [
       "            Parameter Data_type          Value   \n",
       "0               PSTAT     PSTAT  REF3000-19129  \\\n",
       "1               IINIT     QUANT  -2.00000E+002   \n",
       "2               TINIT     QUANT   3.60000E+003   \n",
       "3              IFINAL     QUANT  -2.00000E+002   \n",
       "4              TFINAL     QUANT   0.00000E+000   \n",
       "5          SAMPLETIME     QUANT   1.00000E+000   \n",
       "6                AREA     QUANT   1.00000E+000   \n",
       "7             DENSITY     QUANT   7.87000E+000   \n",
       "8               EQUIV     QUANT   2.79200E+001   \n",
       "9              IRCOMP    TOGGLE              T   \n",
       "10                EOC     QUANT              0   \n",
       "11          SEQUENCER    TOGGLE           TRUE   \n",
       "12         PSTATMODEL    IQUANT              5   \n",
       "13       PSTATSECTION     LABEL  REF3000-19129   \n",
       "14      PSTATSERIALNO     LABEL          19129   \n",
       "15           CTRLMODE    IQUANT              0   \n",
       "16       ELECTROMETER    IQUANT              0   \n",
       "17             IESTAB    IQUANT              0   \n",
       "18            CASPEED    IQUANT              4   \n",
       "19         CONVENTION    IQUANT              1   \n",
       "20           ICHRANGE    IQUANT              2   \n",
       "21       ICHRANGEMODE    TOGGLE              T   \n",
       "22    ICHOFFSETENABLE    TOGGLE              F   \n",
       "23          ICHOFFSET     QUANT              0   \n",
       "24          ICHFILTER    IQUANT              3   \n",
       "25           VCHRANGE    IQUANT              3   \n",
       "26       VCHRANGEMODE    TOGGLE              T   \n",
       "27    VCHOFFSETENABLE    TOGGLE              F   \n",
       "28          VCHOFFSET     QUANT              0   \n",
       "29          VCHFILTER    IQUANT              1   \n",
       "30           ACHRANGE    IQUANT              2   \n",
       "31    ACHOFFSETENABLE    TOGGLE              F   \n",
       "32          ACHOFFSET     QUANT              0   \n",
       "33          ACHFILTER    IQUANT              1   \n",
       "34  IERANGELOWERLIMIT    IQUANT              4   \n",
       "35        IERANGEMODE    TOGGLE              F   \n",
       "36            IERANGE    IQUANT             11   \n",
       "37      POSFEEDENABLE    TOGGLE              F   \n",
       "38  POSFEEDRESISTANCE     QUANT              0   \n",
       "39          ACHSELECT    IQUANT              0   \n",
       "40       SENSECABLEID    IQUANT             14   \n",
       "41         PWRCABLEID    IQUANT             13   \n",
       "42          DCCALDATE     LABEL     11/22/2022   \n",
       "43          ACCALDATE     LABEL            NaN   \n",
       "44       THERMOSELECT    IQUANT              1   \n",
       "45   FRAMEWORKVERSION     QUANT           7.07   \n",
       "46  INSTRUMENTVERSION     LABEL           4.35   \n",
       "47  COMPLIANCEVOLTAGE    IQUANT              0   \n",
       "\n",
       "                           Description  \n",
       "0                         Potentiostat  \n",
       "1                  Initial I (mA/cm^2)  \n",
       "2                     Initial Time (s)  \n",
       "3                    Final I (mA/cm^2)  \n",
       "4                       Final Time (s)  \n",
       "5                    Sample Period (s)  \n",
       "6                   Sample Area (cm^2)  \n",
       "7                     Density (g/cm^3)  \n",
       "8                            Equiv. Wt  \n",
       "9                              IR Comp  \n",
       "10                    Open Circuit (V)  \n",
       "11                     Run as Sequence  \n",
       "12                         Pstat Model  \n",
       "13                       Pstat Section  \n",
       "14                 Pstat Serial Number  \n",
       "15                        Control Mode  \n",
       "16                        RE=0 or CS=1  \n",
       "17                       I/E Stability  \n",
       "18                   Control Amp Speed  \n",
       "19                  Current Convention  \n",
       "20                           Ich Range  \n",
       "21                      Ich Auto Range  \n",
       "22                   Ich Offset Enable  \n",
       "23                      Ich Offset (V)  \n",
       "24                          Ich Filter  \n",
       "25                           Vch Range  \n",
       "26                      Vch Auto Range  \n",
       "27                   Vch Offset Enable  \n",
       "28                      Vch Offset (V)  \n",
       "29                          Vch Filter  \n",
       "30                           Ach Range  \n",
       "31                   Ach Offset Enable  \n",
       "32                      Ach Offset (V)  \n",
       "33                          Ach Filter  \n",
       "34               I/E Range Lower Limit  \n",
       "35                       I/E AutoRange  \n",
       "36                           I/E Range  \n",
       "37           Positive Feedback IR Comp  \n",
       "38  Positive Feedback Resistance (ohm)  \n",
       "39                          Ach Select  \n",
       "40                      Sense Cable ID  \n",
       "41                      Power Cable ID  \n",
       "42                 DC Calibration Date  \n",
       "43                 AC Calibration Date  \n",
       "44                       Thermo Select  \n",
       "45                   Framework Version  \n",
       "46                  Instrument Version  \n",
       "47                  Compliance Voltage  "
      ]
     },
     "execution_count": 11,
     "metadata": {},
     "output_type": "execute_result"
    }
   ],
   "source": [
    "gstatic_metadata_df, gstatic_metadata = gstaticparser.extract_metadata(gstatic_file)\n",
    "potentiometric_measurement = lib.Measurement(measurement_type=lib.enums.MeasurementType.POTENTIOSTATIC, metadata=gstatic_metadata)\n",
    "experiment.measurements = [potentiometric_measurement]\n",
    "gstatic_metadata_df"
   ]
  },
  {
   "attachments": {},
   "cell_type": "markdown",
   "metadata": {},
   "source": [
    "### Mass flow meter"
   ]
  },
  {
   "attachments": {},
   "cell_type": "markdown",
   "metadata": {},
   "source": [
    "**Create an instance of the ``MFMParser`` to parse MFM output files and show available files in the selected directory.**"
   ]
  },
  {
   "cell_type": "code",
   "execution_count": 12,
   "metadata": {},
   "outputs": [
    {
     "name": "stdout",
     "output_type": "stream",
     "text": [
      "0: Bench-2h-GSS_D9-pH70-1303-C4-2103-1_200_50c_24h\n",
      "1: data\n",
      "2: PX409-USBH\n",
      "3: test_data_mfm\n"
     ]
    }
   ],
   "source": [
    "mfmparser = MFMParser(current_directory / 'data')\n",
    "dict_of_mfm_files = mfmparser.enumerate_available_files()\n",
    "for index, mfmfile in dict_of_mfm_files.items():\n",
    "    print(f\"{index}: {mfmfile}\")"
   ]
  },
  {
   "attachments": {},
   "cell_type": "markdown",
   "metadata": {},
   "source": [
    "**Chose specific file**"
   ]
  },
  {
   "cell_type": "code",
   "execution_count": 13,
   "metadata": {},
   "outputs": [
    {
     "data": {
      "text/plain": [
       "'test_data_mfm'"
      ]
     },
     "execution_count": 13,
     "metadata": {},
     "output_type": "execute_result"
    }
   ],
   "source": [
    "mfm_file = dict_of_mfm_files[3]\n",
    "mfm_file"
   ]
  },
  {
   "attachments": {},
   "cell_type": "markdown",
   "metadata": {},
   "source": [
    "**Extract the experimental data from it using the ``MFMParser`` and load into the data model.**"
   ]
  },
  {
   "cell_type": "code",
   "execution_count": 14,
   "metadata": {},
   "outputs": [],
   "source": [
    "mfm_experimental_data_df, mfm_experimental_data = mfmparser.extract_exp_data(mfm_file)\n",
    "mfm = lib.Measurement(\n",
    "            measurement_type=lib.enums.MeasurementType.MFM.value,\n",
    "            experimental_data=[value for value in mfm_experimental_data.values()],\n",
    "        )\n",
    "experiment.measurements.append(mfm)"
   ]
  },
  {
   "attachments": {},
   "cell_type": "markdown",
   "metadata": {},
   "source": [
    "**Print first 10 rows of the mfm experimental data.**"
   ]
  },
  {
   "cell_type": "code",
   "execution_count": 15,
   "metadata": {},
   "outputs": [
    {
     "data": {
      "text/html": [
       "<div>\n",
       "<style scoped>\n",
       "    .dataframe tbody tr th:only-of-type {\n",
       "        vertical-align: middle;\n",
       "    }\n",
       "\n",
       "    .dataframe tbody tr th {\n",
       "        vertical-align: top;\n",
       "    }\n",
       "\n",
       "    .dataframe thead th {\n",
       "        text-align: right;\n",
       "    }\n",
       "</style>\n",
       "<table border=\"1\" class=\"dataframe\">\n",
       "  <thead>\n",
       "    <tr style=\"text-align: right;\">\n",
       "      <th></th>\n",
       "      <th>Datetime</th>\n",
       "      <th>Time</th>\n",
       "      <th>Signal</th>\n",
       "      <th>Flow_rate</th>\n",
       "    </tr>\n",
       "  </thead>\n",
       "  <tbody>\n",
       "    <tr>\n",
       "      <th>0</th>\n",
       "      <td>2023-03-21 12:14:06</td>\n",
       "      <td>7002</td>\n",
       "      <td>2337</td>\n",
       "      <td>3.651953</td>\n",
       "    </tr>\n",
       "    <tr>\n",
       "      <th>1</th>\n",
       "      <td>2023-03-21 12:14:08</td>\n",
       "      <td>7004</td>\n",
       "      <td>2333</td>\n",
       "      <td>3.645957</td>\n",
       "    </tr>\n",
       "    <tr>\n",
       "      <th>2</th>\n",
       "      <td>2023-03-21 12:14:10</td>\n",
       "      <td>7006</td>\n",
       "      <td>2340</td>\n",
       "      <td>3.656559</td>\n",
       "    </tr>\n",
       "    <tr>\n",
       "      <th>3</th>\n",
       "      <td>2023-03-21 12:14:12</td>\n",
       "      <td>7008</td>\n",
       "      <td>2337</td>\n",
       "      <td>3.651343</td>\n",
       "    </tr>\n",
       "    <tr>\n",
       "      <th>4</th>\n",
       "      <td>2023-03-21 12:14:14</td>\n",
       "      <td>7010</td>\n",
       "      <td>2345</td>\n",
       "      <td>3.664264</td>\n",
       "    </tr>\n",
       "    <tr>\n",
       "      <th>5</th>\n",
       "      <td>2023-03-21 12:14:16</td>\n",
       "      <td>7012</td>\n",
       "      <td>2336</td>\n",
       "      <td>3.650289</td>\n",
       "    </tr>\n",
       "    <tr>\n",
       "      <th>6</th>\n",
       "      <td>2023-03-21 12:14:18</td>\n",
       "      <td>7014</td>\n",
       "      <td>2313</td>\n",
       "      <td>3.613605</td>\n",
       "    </tr>\n",
       "    <tr>\n",
       "      <th>7</th>\n",
       "      <td>2023-03-21 12:14:20</td>\n",
       "      <td>7016</td>\n",
       "      <td>2323</td>\n",
       "      <td>3.630366</td>\n",
       "    </tr>\n",
       "    <tr>\n",
       "      <th>8</th>\n",
       "      <td>2023-03-21 12:14:22</td>\n",
       "      <td>7018</td>\n",
       "      <td>2337</td>\n",
       "      <td>3.652303</td>\n",
       "    </tr>\n",
       "    <tr>\n",
       "      <th>9</th>\n",
       "      <td>2023-03-21 12:14:24</td>\n",
       "      <td>7020</td>\n",
       "      <td>2356</td>\n",
       "      <td>3.681728</td>\n",
       "    </tr>\n",
       "    <tr>\n",
       "      <th>10</th>\n",
       "      <td>2023-03-21 12:14:26</td>\n",
       "      <td>7022</td>\n",
       "      <td>2375</td>\n",
       "      <td>3.710529</td>\n",
       "    </tr>\n",
       "  </tbody>\n",
       "</table>\n",
       "</div>"
      ],
      "text/plain": [
       "              Datetime  Time  Signal  Flow_rate\n",
       "0  2023-03-21 12:14:06  7002    2337   3.651953\n",
       "1  2023-03-21 12:14:08  7004    2333   3.645957\n",
       "2  2023-03-21 12:14:10  7006    2340   3.656559\n",
       "3  2023-03-21 12:14:12  7008    2337   3.651343\n",
       "4  2023-03-21 12:14:14  7010    2345   3.664264\n",
       "5  2023-03-21 12:14:16  7012    2336   3.650289\n",
       "6  2023-03-21 12:14:18  7014    2313   3.613605\n",
       "7  2023-03-21 12:14:20  7016    2323   3.630366\n",
       "8  2023-03-21 12:14:22  7018    2337   3.652303\n",
       "9  2023-03-21 12:14:24  7020    2356   3.681728\n",
       "10 2023-03-21 12:14:26  7022    2375   3.710529"
      ]
     },
     "execution_count": 15,
     "metadata": {},
     "output_type": "execute_result"
    }
   ],
   "source": [
    "truncated_mfm_experimental_data_df= mfm_experimental_data_df.truncate(after=10)\n",
    "truncated_mfm_experimental_data_df"
   ]
  },
  {
   "attachments": {},
   "cell_type": "markdown",
   "metadata": {},
   "source": [
    "### Gas chromatography"
   ]
  },
  {
   "attachments": {},
   "cell_type": "markdown",
   "metadata": {},
   "source": [
    "**Create an instance of the ``GCParser`` to parse GC output files and show available files in the selected directory.**"
   ]
  },
  {
   "cell_type": "code",
   "execution_count": 16,
   "metadata": {},
   "outputs": [
    {
     "name": "stdout",
     "output_type": "stream",
     "text": [
      "0: report00\n",
      "1: REPORT01\n"
     ]
    }
   ],
   "source": [
    "gcparser = GCParser(current_directory / 'data')\n",
    "dict_of_gc_files = gcparser.enumerate_available_files()\n",
    "for index, gc_file in dict_of_gc_files.items():\n",
    "    print(f\"{index}: {gc_file}\")"
   ]
  },
  {
   "attachments": {},
   "cell_type": "markdown",
   "metadata": {},
   "source": [
    "**Select gc file that contains the metadata**"
   ]
  },
  {
   "cell_type": "code",
   "execution_count": 17,
   "metadata": {},
   "outputs": [],
   "source": [
    "gc_metadata_file = dict_of_gc_files[0]"
   ]
  },
  {
   "attachments": {},
   "cell_type": "markdown",
   "metadata": {},
   "source": [
    "**Select file that contains the experimental data**"
   ]
  },
  {
   "cell_type": "code",
   "execution_count": 18,
   "metadata": {},
   "outputs": [],
   "source": [
    "gc_experimental_data_file = dict_of_gc_files[1]"
   ]
  },
  {
   "attachments": {},
   "cell_type": "markdown",
   "metadata": {},
   "source": [
    "**Extract the metadata and experimental data from them and load into the dataset.**"
   ]
  },
  {
   "cell_type": "code",
   "execution_count": 19,
   "metadata": {},
   "outputs": [
    {
     "data": {
      "text/html": [
       "<div>\n",
       "<style scoped>\n",
       "    .dataframe tbody tr th:only-of-type {\n",
       "        vertical-align: middle;\n",
       "    }\n",
       "\n",
       "    .dataframe tbody tr th {\n",
       "        vertical-align: top;\n",
       "    }\n",
       "\n",
       "    .dataframe thead th {\n",
       "        text-align: right;\n",
       "    }\n",
       "</style>\n",
       "<table border=\"1\" class=\"dataframe\">\n",
       "  <thead>\n",
       "    <tr style=\"text-align: right;\">\n",
       "      <th></th>\n",
       "      <th>Parameter</th>\n",
       "      <th>Value</th>\n",
       "      <th>Description</th>\n",
       "    </tr>\n",
       "  </thead>\n",
       "  <tbody>\n",
       "    <tr>\n",
       "      <th>0</th>\n",
       "      <td>Sample Name</td>\n",
       "      <td>NaN</td>\n",
       "      <td>NaN</td>\n",
       "    </tr>\n",
       "    <tr>\n",
       "      <th>1</th>\n",
       "      <td>Sample Info</td>\n",
       "      <td>NaN</td>\n",
       "      <td>NaN</td>\n",
       "    </tr>\n",
       "    <tr>\n",
       "      <th>2</th>\n",
       "      <td>Data File</td>\n",
       "      <td>D:\\GC\\Kurz\\D9-pH70-1303-C4-2103-1\\JH-1H 2023-0...</td>\n",
       "      <td>NV-F0201.D</td>\n",
       "    </tr>\n",
       "    <tr>\n",
       "      <th>3</th>\n",
       "      <td>Acq. Instrument</td>\n",
       "      <td>Instrument 1</td>\n",
       "      <td>NaN</td>\n",
       "    </tr>\n",
       "    <tr>\n",
       "      <th>4</th>\n",
       "      <td>Analysis Method</td>\n",
       "      <td>D:\\GC\\Kurz\\D9-pH70-1303-C4-2103-1\\JH-1H 2023-0...</td>\n",
       "      <td>JH_GASPRODUKTE_30MIN.M</td>\n",
       "    </tr>\n",
       "    <tr>\n",
       "      <th>5</th>\n",
       "      <td>Method Info</td>\n",
       "      <td>NaN</td>\n",
       "      <td>NaN</td>\n",
       "    </tr>\n",
       "    <tr>\n",
       "      <th>6</th>\n",
       "      <td>Results Created</td>\n",
       "      <td>21.03.2023 12:44:58</td>\n",
       "      <td>NaN</td>\n",
       "    </tr>\n",
       "    <tr>\n",
       "      <th>7</th>\n",
       "      <td>Results Created by</td>\n",
       "      <td>MS</td>\n",
       "      <td>NaN</td>\n",
       "    </tr>\n",
       "    <tr>\n",
       "      <th>8</th>\n",
       "      <td>Acq. Method</td>\n",
       "      <td>JH_GASPRODUKTE_30MIN.M</td>\n",
       "      <td>NaN</td>\n",
       "    </tr>\n",
       "    <tr>\n",
       "      <th>9</th>\n",
       "      <td>Injection Date</td>\n",
       "      <td>21-Mar-23, 12:14:56</td>\n",
       "      <td>NaN</td>\n",
       "    </tr>\n",
       "    <tr>\n",
       "      <th>10</th>\n",
       "      <td>Acq. Operator</td>\n",
       "      <td>21-Mar-23, 12:14:56</td>\n",
       "      <td>NaN</td>\n",
       "    </tr>\n",
       "    <tr>\n",
       "      <th>11</th>\n",
       "      <td>Seq. Line</td>\n",
       "      <td>2</td>\n",
       "      <td>NaN</td>\n",
       "    </tr>\n",
       "    <tr>\n",
       "      <th>12</th>\n",
       "      <td>Location</td>\n",
       "      <td>-1</td>\n",
       "      <td>NaN</td>\n",
       "    </tr>\n",
       "    <tr>\n",
       "      <th>13</th>\n",
       "      <td>unused Loc.</td>\n",
       "      <td>0</td>\n",
       "      <td>NaN</td>\n",
       "    </tr>\n",
       "    <tr>\n",
       "      <th>14</th>\n",
       "      <td>Inj</td>\n",
       "      <td>1</td>\n",
       "      <td>NaN</td>\n",
       "    </tr>\n",
       "    <tr>\n",
       "      <th>15</th>\n",
       "      <td>Inj Volume</td>\n",
       "      <td>No inj</td>\n",
       "      <td>NaN</td>\n",
       "    </tr>\n",
       "    <tr>\n",
       "      <th>16</th>\n",
       "      <td>Actual Inj Volume</td>\n",
       "      <td>No inj</td>\n",
       "      <td>NaN</td>\n",
       "    </tr>\n",
       "    <tr>\n",
       "      <th>17</th>\n",
       "      <td>Sequence File</td>\n",
       "      <td>D:\\GC\\Kurz\\D9-pH70-1303-C4-2103-1\\JH-1H 2023-0...</td>\n",
       "      <td>JH-1H.S</td>\n",
       "    </tr>\n",
       "    <tr>\n",
       "      <th>18</th>\n",
       "      <td>Report Title</td>\n",
       "      <td>Area Percent Report</td>\n",
       "      <td>NaN</td>\n",
       "    </tr>\n",
       "    <tr>\n",
       "      <th>19</th>\n",
       "      <td>Sorted By</td>\n",
       "      <td>Retention Time</td>\n",
       "      <td>NaN</td>\n",
       "    </tr>\n",
       "    <tr>\n",
       "      <th>20</th>\n",
       "      <td>Multiplier:</td>\n",
       "      <td>1</td>\n",
       "      <td>NaN</td>\n",
       "    </tr>\n",
       "    <tr>\n",
       "      <th>21</th>\n",
       "      <td>Dilution:</td>\n",
       "      <td>1</td>\n",
       "      <td>NaN</td>\n",
       "    </tr>\n",
       "    <tr>\n",
       "      <th>22</th>\n",
       "      <td>Number of Signals</td>\n",
       "      <td>2</td>\n",
       "      <td>NaN</td>\n",
       "    </tr>\n",
       "    <tr>\n",
       "      <th>23</th>\n",
       "      <td>Signal 1</td>\n",
       "      <td>TCD1 A, Front Signal</td>\n",
       "      <td>NaN</td>\n",
       "    </tr>\n",
       "    <tr>\n",
       "      <th>24</th>\n",
       "      <td>Signal 2</td>\n",
       "      <td>FID2 B, Back Signal</td>\n",
       "      <td>NaN</td>\n",
       "    </tr>\n",
       "    <tr>\n",
       "      <th>25</th>\n",
       "      <td>Number of Errors and Warnings</td>\n",
       "      <td>0</td>\n",
       "      <td>NaN</td>\n",
       "    </tr>\n",
       "    <tr>\n",
       "      <th>26</th>\n",
       "      <td>Number of Columns</td>\n",
       "      <td>7</td>\n",
       "      <td>NaN</td>\n",
       "    </tr>\n",
       "    <tr>\n",
       "      <th>27</th>\n",
       "      <td>Column 1</td>\n",
       "      <td>Peak Number</td>\n",
       "      <td>NaN</td>\n",
       "    </tr>\n",
       "    <tr>\n",
       "      <th>28</th>\n",
       "      <td>Column 2</td>\n",
       "      <td>Retention Time</td>\n",
       "      <td>min</td>\n",
       "    </tr>\n",
       "    <tr>\n",
       "      <th>29</th>\n",
       "      <td>Column 3</td>\n",
       "      <td>Signal</td>\n",
       "      <td>NaN</td>\n",
       "    </tr>\n",
       "    <tr>\n",
       "      <th>30</th>\n",
       "      <td>Column 4</td>\n",
       "      <td>Peak Type</td>\n",
       "      <td>NaN</td>\n",
       "    </tr>\n",
       "    <tr>\n",
       "      <th>31</th>\n",
       "      <td>Column 5</td>\n",
       "      <td>Area</td>\n",
       "      <td></td>\n",
       "    </tr>\n",
       "    <tr>\n",
       "      <th>32</th>\n",
       "      <td>Column 6</td>\n",
       "      <td>Height</td>\n",
       "      <td></td>\n",
       "    </tr>\n",
       "    <tr>\n",
       "      <th>33</th>\n",
       "      <td>Column 7</td>\n",
       "      <td>Area   %</td>\n",
       "      <td>NaN</td>\n",
       "    </tr>\n",
       "  </tbody>\n",
       "</table>\n",
       "</div>"
      ],
      "text/plain": [
       "                         Parameter   \n",
       "0                      Sample Name  \\\n",
       "1                      Sample Info   \n",
       "2                        Data File   \n",
       "3                  Acq. Instrument   \n",
       "4                  Analysis Method   \n",
       "5                      Method Info   \n",
       "6                  Results Created   \n",
       "7               Results Created by   \n",
       "8                      Acq. Method   \n",
       "9                   Injection Date   \n",
       "10                   Acq. Operator   \n",
       "11                       Seq. Line   \n",
       "12                        Location   \n",
       "13                     unused Loc.   \n",
       "14                             Inj   \n",
       "15                      Inj Volume   \n",
       "16               Actual Inj Volume   \n",
       "17                   Sequence File   \n",
       "18                    Report Title   \n",
       "19                       Sorted By   \n",
       "20  Multiplier:                      \n",
       "21  Dilution:                        \n",
       "22               Number of Signals   \n",
       "23                        Signal 1   \n",
       "24                        Signal 2   \n",
       "25   Number of Errors and Warnings   \n",
       "26               Number of Columns   \n",
       "27                        Column 1   \n",
       "28                        Column 2   \n",
       "29                        Column 3   \n",
       "30                        Column 4   \n",
       "31                        Column 5   \n",
       "32                        Column 6   \n",
       "33                        Column 7   \n",
       "\n",
       "                                                Value             Description  \n",
       "0                                                 NaN                     NaN  \n",
       "1                                                 NaN                     NaN  \n",
       "2   D:\\GC\\Kurz\\D9-pH70-1303-C4-2103-1\\JH-1H 2023-0...              NV-F0201.D  \n",
       "3                                        Instrument 1                     NaN  \n",
       "4   D:\\GC\\Kurz\\D9-pH70-1303-C4-2103-1\\JH-1H 2023-0...  JH_GASPRODUKTE_30MIN.M  \n",
       "5                                                 NaN                     NaN  \n",
       "6                                 21.03.2023 12:44:58                     NaN  \n",
       "7                                                  MS                     NaN  \n",
       "8                              JH_GASPRODUKTE_30MIN.M                     NaN  \n",
       "9                                 21-Mar-23, 12:14:56                     NaN  \n",
       "10                                21-Mar-23, 12:14:56                     NaN  \n",
       "11                                                  2                     NaN  \n",
       "12                                                 -1                     NaN  \n",
       "13                                                  0                     NaN  \n",
       "14                                                  1                     NaN  \n",
       "15                                             No inj                     NaN  \n",
       "16                                             No inj                     NaN  \n",
       "17  D:\\GC\\Kurz\\D9-pH70-1303-C4-2103-1\\JH-1H 2023-0...                 JH-1H.S  \n",
       "18                                Area Percent Report                     NaN  \n",
       "19                                     Retention Time                     NaN  \n",
       "20                                                  1                     NaN  \n",
       "21                                                  1                     NaN  \n",
       "22                                                  2                     NaN  \n",
       "23                               TCD1 A, Front Signal                     NaN  \n",
       "24                                FID2 B, Back Signal                     NaN  \n",
       "25                                                  0                     NaN  \n",
       "26                                                  7                     NaN  \n",
       "27                                        Peak Number                     NaN  \n",
       "28                                     Retention Time                     min  \n",
       "29                                             Signal                     NaN  \n",
       "30                                          Peak Type                     NaN  \n",
       "31                                             Area                            \n",
       "32                                             Height                          \n",
       "33                                           Area   %                     NaN  "
      ]
     },
     "execution_count": 19,
     "metadata": {},
     "output_type": "execute_result"
    }
   ],
   "source": [
    "gc_metadata_df, gc_metadata= gcparser.extract_metadata(gc_metadata_file)\n",
    "gc_experimental_data_df, gc_experimental_data = gcparser.extract_exp_data(gc_experimental_data_file)\n",
    "gc = lib.Measurement(\n",
    "    measurement_type=lib.enums.MeasurementType.GC.value,\n",
    "    metadata=[value for value in gc_metadata.values()],\n",
    "    experimental_data=[value for value in gc_experimental_data.values()]\n",
    ")\n",
    "experiment.measurements.append(gc)\n",
    "gc_metadata_df"
   ]
  },
  {
   "cell_type": "code",
   "execution_count": 20,
   "metadata": {},
   "outputs": [
    {
     "data": {
      "text/html": [
       "<div>\n",
       "<style scoped>\n",
       "    .dataframe tbody tr th:only-of-type {\n",
       "        vertical-align: middle;\n",
       "    }\n",
       "\n",
       "    .dataframe tbody tr th {\n",
       "        vertical-align: top;\n",
       "    }\n",
       "\n",
       "    .dataframe thead th {\n",
       "        text-align: right;\n",
       "    }\n",
       "</style>\n",
       "<table border=\"1\" class=\"dataframe\">\n",
       "  <thead>\n",
       "    <tr style=\"text-align: right;\">\n",
       "      <th></th>\n",
       "      <th>Peak_number</th>\n",
       "      <th>Retention_time</th>\n",
       "      <th>Signal</th>\n",
       "      <th>Peak_type</th>\n",
       "      <th>Peak_area</th>\n",
       "      <th>Peak_height</th>\n",
       "      <th>Peak_area_percentage</th>\n",
       "    </tr>\n",
       "  </thead>\n",
       "  <tbody>\n",
       "    <tr>\n",
       "      <th>0</th>\n",
       "      <td>1</td>\n",
       "      <td>1.734678</td>\n",
       "      <td>1</td>\n",
       "      <td>BBAN</td>\n",
       "      <td>61.917892</td>\n",
       "      <td>12.646031</td>\n",
       "      <td>0.071954</td>\n",
       "    </tr>\n",
       "    <tr>\n",
       "      <th>1</th>\n",
       "      <td>2</td>\n",
       "      <td>2.905288</td>\n",
       "      <td>1</td>\n",
       "      <td>BBA</td>\n",
       "      <td>70992.437500</td>\n",
       "      <td>4047.076660</td>\n",
       "      <td>82.499118</td>\n",
       "    </tr>\n",
       "    <tr>\n",
       "      <th>2</th>\n",
       "      <td>3</td>\n",
       "      <td>3.420898</td>\n",
       "      <td>2</td>\n",
       "      <td>BV</td>\n",
       "      <td>206.927628</td>\n",
       "      <td>56.432930</td>\n",
       "      <td>0.240467</td>\n",
       "    </tr>\n",
       "    <tr>\n",
       "      <th>3</th>\n",
       "      <td>4</td>\n",
       "      <td>3.652101</td>\n",
       "      <td>2</td>\n",
       "      <td>VB</td>\n",
       "      <td>59.064323</td>\n",
       "      <td>20.202883</td>\n",
       "      <td>0.068638</td>\n",
       "    </tr>\n",
       "    <tr>\n",
       "      <th>4</th>\n",
       "      <td>5</td>\n",
       "      <td>6.014212</td>\n",
       "      <td>2</td>\n",
       "      <td>BB</td>\n",
       "      <td>6365.441895</td>\n",
       "      <td>1324.453613</td>\n",
       "      <td>7.397173</td>\n",
       "    </tr>\n",
       "    <tr>\n",
       "      <th>5</th>\n",
       "      <td>6</td>\n",
       "      <td>13.005888</td>\n",
       "      <td>1</td>\n",
       "      <td>BV</td>\n",
       "      <td>1924.299561</td>\n",
       "      <td>50.554913</td>\n",
       "      <td>2.236196</td>\n",
       "    </tr>\n",
       "    <tr>\n",
       "      <th>6</th>\n",
       "      <td>7</td>\n",
       "      <td>14.186999</td>\n",
       "      <td>2</td>\n",
       "      <td>BB</td>\n",
       "      <td>183.061951</td>\n",
       "      <td>59.090946</td>\n",
       "      <td>0.212733</td>\n",
       "    </tr>\n",
       "    <tr>\n",
       "      <th>7</th>\n",
       "      <td>8</td>\n",
       "      <td>15.824186</td>\n",
       "      <td>1</td>\n",
       "      <td>VV</td>\n",
       "      <td>2871.221191</td>\n",
       "      <td>20.406471</td>\n",
       "      <td>3.336598</td>\n",
       "    </tr>\n",
       "    <tr>\n",
       "      <th>8</th>\n",
       "      <td>9</td>\n",
       "      <td>17.882446</td>\n",
       "      <td>1</td>\n",
       "      <td>VV</td>\n",
       "      <td>2126.794922</td>\n",
       "      <td>16.856892</td>\n",
       "      <td>2.471513</td>\n",
       "    </tr>\n",
       "    <tr>\n",
       "      <th>9</th>\n",
       "      <td>10</td>\n",
       "      <td>20.661367</td>\n",
       "      <td>1</td>\n",
       "      <td>VB</td>\n",
       "      <td>1031.903687</td>\n",
       "      <td>8.965669</td>\n",
       "      <td>1.199158</td>\n",
       "    </tr>\n",
       "    <tr>\n",
       "      <th>10</th>\n",
       "      <td>11</td>\n",
       "      <td>23.493719</td>\n",
       "      <td>1</td>\n",
       "      <td>BB</td>\n",
       "      <td>229.288666</td>\n",
       "      <td>2.539829</td>\n",
       "      <td>0.266453</td>\n",
       "    </tr>\n",
       "  </tbody>\n",
       "</table>\n",
       "</div>"
      ],
      "text/plain": [
       "    Peak_number  Retention_time  Signal Peak_type     Peak_area  Peak_height   \n",
       "0             1        1.734678       1      BBAN     61.917892    12.646031  \\\n",
       "1             2        2.905288       1      BBA   70992.437500  4047.076660   \n",
       "2             3        3.420898       2      BV      206.927628    56.432930   \n",
       "3             4        3.652101       2      VB       59.064323    20.202883   \n",
       "4             5        6.014212       2      BB     6365.441895  1324.453613   \n",
       "5             6       13.005888       1      BV     1924.299561    50.554913   \n",
       "6             7       14.186999       2      BB      183.061951    59.090946   \n",
       "7             8       15.824186       1      VV     2871.221191    20.406471   \n",
       "8             9       17.882446       1      VV     2126.794922    16.856892   \n",
       "9            10       20.661367       1      VB     1031.903687     8.965669   \n",
       "10           11       23.493719       1      BB      229.288666     2.539829   \n",
       "\n",
       "    Peak_area_percentage  \n",
       "0               0.071954  \n",
       "1              82.499118  \n",
       "2               0.240467  \n",
       "3               0.068638  \n",
       "4               7.397173  \n",
       "5               2.236196  \n",
       "6               0.212733  \n",
       "7               3.336598  \n",
       "8               2.471513  \n",
       "9               1.199158  \n",
       "10              0.266453  "
      ]
     },
     "execution_count": 20,
     "metadata": {},
     "output_type": "execute_result"
    }
   ],
   "source": [
    "gc_experimental_data_df"
   ]
  },
  {
   "attachments": {},
   "cell_type": "markdown",
   "metadata": {},
   "source": [
    "**Print current state of the data model**"
   ]
  },
  {
   "cell_type": "code",
   "execution_count": 21,
   "metadata": {},
   "outputs": [],
   "source": [
    "# print(experiment.json())"
   ]
  },
  {
   "attachments": {},
   "cell_type": "markdown",
   "metadata": {},
   "source": [
    "**Assign peak areas to species.** \\\n",
    "The peak areas recorded by the GC have to be matched with the correct species. The individial ``Area`` is selected by its corresponding ``Peak_Number``. It is possible that the same species is accountable for multiple peaks, i.d. multiple peaks are assigned to the same species.\n"
   ]
  },
  {
   "cell_type": "code",
   "execution_count": 22,
   "metadata": {},
   "outputs": [
    {
     "name": "stdout",
     "output_type": "stream",
     "text": [
      "H2: 61.9178924560547\n",
      "CO2: 70992.4375\n",
      "CO: 1924.29956054688\n",
      "CH4: 206.927627563477\n"
     ]
    }
   ],
   "source": [
    "assign_peak_dict={\n",
    "    'H2': [1],\n",
    "    'CO2': [2],\n",
    "    'CO': [6],\n",
    "    'CH4': [3],\n",
    "    # 'C2H4': [5],\n",
    "    # 'C2H6': [4],\n",
    "}\n",
    "peak_area_dict = assign_peaks(dataset, assign_peak_dict)\n",
    "\n",
    "for species, peak_area in peak_area_dict.items():\n",
    "    print(f\"{species}: {peak_area}\")"
   ]
  },
  {
   "attachments": {},
   "cell_type": "markdown",
   "metadata": {},
   "source": [
    "**Set calibration input values and import into the data model.** \\\n",
    "To determine the concentrations of the individual species, a calibration has to be performed in advance to match the individual values for ``Area`` with their corresponding concentrations."
   ]
  },
  {
   "cell_type": "code",
   "execution_count": 23,
   "metadata": {},
   "outputs": [],
   "source": [
    "calibration_input_dict={\n",
    "    'H2': [\n",
    "        lib.enums.Species.HYDROGEN,\n",
    "        [71,153,330],\n",
    "        [5,10,20]\n",
    "        ],\n",
    "    'CO':[\n",
    "        lib.enums.Species.CARBONMONOXIDE,\n",
    "        [797,1328,7223],\n",
    "        [0.5,1,5]\n",
    "    ],\n",
    "    'CO2': [\n",
    "        lib.enums.Species.CARBONDIOXIDE,\n",
    "        [0,38653],\n",
    "        [0,50]\n",
    "    ],\n",
    "    'CH4':[\n",
    "        lib.enums.Species.METHANE,\n",
    "        [5727,11991],\n",
    "        [5,10]\n",
    "    ],\n",
    "    # 'C2H4':[\n",
    "    #     lib.enums.Species.ETHENE,\n",
    "    #     [1122,4864,7297],\n",
    "    #     [0.5,2,3]\n",
    "    # ],\n",
    "    # 'C2H6':[\n",
    "    #     [0,12168],\n",
    "    #     [0,5],\n",
    "    #     lib.enums.Species.ETHANE\n",
    "    # ],\n",
    "}"
   ]
  },
  {
   "cell_type": "code",
   "execution_count": 24,
   "metadata": {},
   "outputs": [],
   "source": [
    "mydata= lib.Data()"
   ]
  },
  {
   "cell_type": "code",
   "execution_count": null,
   "metadata": {},
   "outputs": [],
   "source": []
  },
  {
   "attachments": {},
   "cell_type": "markdown",
   "metadata": {},
   "source": [
    "**Instantiate the ``Calculator`` module.**"
   ]
  },
  {
   "cell_type": "code",
   "execution_count": 25,
   "metadata": {},
   "outputs": [],
   "source": [
    "calculator=Calculator(path_to_dataset=path_to_dataset)"
   ]
  },
  {
   "attachments": {},
   "cell_type": "markdown",
   "metadata": {},
   "source": [
    "**Calibrate using the ``calibrate`` method of the ``Calculator`` module.**"
   ]
  },
  {
   "cell_type": "code",
   "execution_count": 26,
   "metadata": {},
   "outputs": [
    {
     "name": "stdout",
     "output_type": "stream",
     "text": [
      "H2\n",
      "CO\n",
      "CO2\n",
      "CH4\n"
     ]
    }
   ],
   "source": [
    "for key, value in calibration_input_dict.items():\n",
    "    print(value[0].value)"
   ]
  },
  {
   "cell_type": "code",
   "execution_count": 36,
   "metadata": {},
   "outputs": [
    {
     "name": "stdout",
     "output_type": "stream",
     "text": [
      "H2: id='calibration24' species='H2' peak_area=Data(id='data131', quantity=None, values=[71.0, 153.0, 330.0], unit='none') concentration=Data(id='data132', quantity=None, values=[5.0, 10.0, 20.0], unit='%') slope=Data(id='data133', quantity='Slope', values=[0.0576882835238838], unit='%') intercept=Data(id='data134', quantity='Intercept', values=[1.0135636425894585], unit='%') coefficient_of_determination=Data(id='data135', quantity='Coefficient of determination', values=[0.9996555416353008], unit='none')\n",
      "CO: id='calibration25' species='CO' peak_area=Data(id='data136', quantity=None, values=[797.0, 1328.0, 7223.0], unit='none') concentration=Data(id='data137', quantity=None, values=[0.5, 1.0, 5.0], unit='%') slope=Data(id='data138', quantity='Slope', values=[0.0006912740171292098], unit='%') intercept=Data(id='data139', quantity='Intercept', values=[0.012656829292048588], unit='%') coefficient_of_determination=Data(id='data140', quantity='Coefficient of determination', values=[0.999269735035067], unit='none')\n",
      "CO2: id='calibration26' species='CO2' peak_area=Data(id='data141', quantity=None, values=[0.0, 38653.0], unit='none') concentration=Data(id='data142', quantity=None, values=[0.0, 50.0], unit='%') slope=Data(id='data143', quantity='Slope', values=[0.0012935606550591157], unit='%') intercept=Data(id='data144', quantity='Intercept', values=[0.0], unit='%') coefficient_of_determination=Data(id='data145', quantity='Coefficient of determination', values=[1.0], unit='none')\n",
      "CH4: id='calibration27' species='CH4' peak_area=Data(id='data146', quantity=None, values=[5727.0, 11991.0], unit='none') concentration=Data(id='data147', quantity=None, values=[5.0, 10.0], unit='%') slope=Data(id='data148', quantity='Slope', values=[0.0007982120051085569], unit='%') intercept=Data(id='data149', quantity='Intercept', values=[0.4286398467432946], unit='%') coefficient_of_determination=Data(id='data150', quantity='Coefficient of determination', values=[1.0], unit='none')\n"
     ]
    }
   ],
   "source": [
    "calibration_df, calibration_dict=calculator.calibrate(calibration_input_dict)\n",
    "# calibration_df\n",
    "for species, value in calibration_dict.items():\n",
    "    print(f\"{species}: {value}\")\n",
    "    # print(lib.Calibration(value))"
   ]
  },
  {
   "cell_type": "code",
   "execution_count": 37,
   "metadata": {},
   "outputs": [
    {
     "ename": "ValidationError",
     "evalue": "8 validation errors for Calculation\ncalibrations -> 0 -> peak_area\n  value is not a valid list (type=type_error.list)\ncalibrations -> 0 -> concentration\n  value is not a valid list (type=type_error.list)\ncalibrations -> 1 -> peak_area\n  value is not a valid list (type=type_error.list)\ncalibrations -> 1 -> concentration\n  value is not a valid list (type=type_error.list)\ncalibrations -> 2 -> peak_area\n  value is not a valid list (type=type_error.list)\ncalibrations -> 2 -> concentration\n  value is not a valid list (type=type_error.list)\ncalibrations -> 3 -> peak_area\n  value is not a valid list (type=type_error.list)\ncalibrations -> 3 -> concentration\n  value is not a valid list (type=type_error.list)",
     "output_type": "error",
     "traceback": [
      "\u001b[0;31m---------------------------------------------------------------------------\u001b[0m",
      "\u001b[0;31mValidationError\u001b[0m                           Traceback (most recent call last)",
      "\u001b[1;32m/mnt/c/Users/rscho/Documents/GitHub/datamodel_b07_tc/experimental_b07_tc.ipynb Cell 56\u001b[0m in \u001b[0;36m<cell line: 2>\u001b[0;34m()\u001b[0m\n\u001b[1;32m      <a href='vscode-notebook-cell://wsl%2Bubuntu-22.04/mnt/c/Users/rscho/Documents/GitHub/datamodel_b07_tc/experimental_b07_tc.ipynb#Y103sdnNjb2RlLXJlbW90ZQ%3D%3D?line=0'>1</a>\u001b[0m calculation \u001b[39m=\u001b[39m lib\u001b[39m.\u001b[39mCalculation()\n\u001b[0;32m----> <a href='vscode-notebook-cell://wsl%2Bubuntu-22.04/mnt/c/Users/rscho/Documents/GitHub/datamodel_b07_tc/experimental_b07_tc.ipynb#Y103sdnNjb2RlLXJlbW90ZQ%3D%3D?line=1'>2</a>\u001b[0m calculation\u001b[39m.\u001b[39mcalibrations \u001b[39m=\u001b[39m [calibration \u001b[39mfor\u001b[39;00m calibration \u001b[39min\u001b[39;00m calibration_dict\u001b[39m.\u001b[39mvalues()]\n\u001b[1;32m      <a href='vscode-notebook-cell://wsl%2Bubuntu-22.04/mnt/c/Users/rscho/Documents/GitHub/datamodel_b07_tc/experimental_b07_tc.ipynb#Y103sdnNjb2RlLXJlbW90ZQ%3D%3D?line=2'>3</a>\u001b[0m experiment\u001b[39m.\u001b[39mcalculations \u001b[39m=\u001b[39m calculation\n",
      "File \u001b[0;32m/mnt/c/Users/rscho/Documents/GitHub/software-driven-rdm/sdRDM/base/datamodel.py:711\u001b[0m, in \u001b[0;36mDataModel.__setattr__\u001b[0;34m(self, name, value)\u001b[0m\n\u001b[1;32m    708\u001b[0m \u001b[39mself\u001b[39m\u001b[39m.\u001b[39mset_parent_instances(value)\n\u001b[1;32m    709\u001b[0m \u001b[39mself\u001b[39m\u001b[39m.\u001b[39mcheck_references(name, value)\n\u001b[0;32m--> 711\u001b[0m \u001b[39msuper\u001b[39;49m()\u001b[39m.\u001b[39;49m\u001b[39m__setattr__\u001b[39;49m(name, value)\n\u001b[1;32m    713\u001b[0m \u001b[39mif\u001b[39;00m \u001b[39misinstance\u001b[39m(value, \u001b[39mlist\u001b[39m):\n\u001b[1;32m    714\u001b[0m     \u001b[39mself\u001b[39m\u001b[39m.\u001b[39m\u001b[39m__dict__\u001b[39m[name]\u001b[39m.\u001b[39m__parent__ \u001b[39m=\u001b[39m \u001b[39mself\u001b[39m\n",
      "File \u001b[0;32m~/miniconda3/envs/b07/lib/python3.10/site-packages/pydantic/main.py:380\u001b[0m, in \u001b[0;36mpydantic.main.BaseModel.__setattr__\u001b[0;34m()\u001b[0m\n",
      "\u001b[0;31mValidationError\u001b[0m: 8 validation errors for Calculation\ncalibrations -> 0 -> peak_area\n  value is not a valid list (type=type_error.list)\ncalibrations -> 0 -> concentration\n  value is not a valid list (type=type_error.list)\ncalibrations -> 1 -> peak_area\n  value is not a valid list (type=type_error.list)\ncalibrations -> 1 -> concentration\n  value is not a valid list (type=type_error.list)\ncalibrations -> 2 -> peak_area\n  value is not a valid list (type=type_error.list)\ncalibrations -> 2 -> concentration\n  value is not a valid list (type=type_error.list)\ncalibrations -> 3 -> peak_area\n  value is not a valid list (type=type_error.list)\ncalibrations -> 3 -> concentration\n  value is not a valid list (type=type_error.list)"
     ]
    }
   ],
   "source": [
    "calculation = lib.Calculation()\n",
    "calculation.calibrations = [calibration for calibration in calibration_dict.values()]\n",
    "experiment.calculations = calculation"
   ]
  },
  {
   "attachments": {},
   "cell_type": "markdown",
   "metadata": {},
   "source": [
    "**Print current state of the dataset**"
   ]
  },
  {
   "cell_type": "code",
   "execution_count": null,
   "metadata": {},
   "outputs": [],
   "source": [
    "# print(experiment.json())"
   ]
  },
  {
   "cell_type": "code",
   "execution_count": null,
   "metadata": {},
   "outputs": [],
   "source": []
  },
  {
   "cell_type": "code",
   "execution_count": null,
   "metadata": {},
   "outputs": [],
   "source": []
  },
  {
   "attachments": {},
   "cell_type": "markdown",
   "metadata": {},
   "source": [
    "**Calculate volumetric fractions.**"
   ]
  },
  {
   "cell_type": "code",
   "execution_count": null,
   "metadata": {},
   "outputs": [],
   "source": [
    "volumetric_fractions_df = calculator.calculate_volumetric_fractions(peak_area_dict=peak_area_dict, calibration_result_df=calibration_result_df)\n",
    "volumetric_fractions_df"
   ]
  },
  {
   "attachments": {},
   "cell_type": "markdown",
   "metadata": {},
   "source": [
    "**Set the correction factors.**"
   ]
  },
  {
   "cell_type": "code",
   "execution_count": null,
   "metadata": {},
   "outputs": [],
   "source": [
    "correction_factors_dict= {\n",
    "    'H2':1.01,\n",
    "    'CO':0.74,\n",
    "    'CO2':1.00,\n",
    "    'CH4':0.76,\n",
    "    # 'C2H4':,\n",
    "    # 'C2H6':,\n",
    "}"
   ]
  },
  {
   "attachments": {},
   "cell_type": "markdown",
   "metadata": {},
   "source": [
    "**Calculate the conversion factor using the correction factors.**"
   ]
  },
  {
   "cell_type": "code",
   "execution_count": null,
   "metadata": {},
   "outputs": [],
   "source": [
    "conversion_factor = calculator.calculate_conversion_factor(\n",
    "    volumetric_fractions_df=volumetric_fractions_df, correction_factors_dict=correction_factors_dict\n",
    ")\n",
    "conversion_factor"
   ]
  },
  {
   "attachments": {},
   "cell_type": "markdown",
   "metadata": {},
   "source": [
    "**Get mean flow rate at the time of the gc measurement.**"
   ]
  },
  {
   "cell_type": "code",
   "execution_count": null,
   "metadata": {},
   "outputs": [],
   "source": [
    "volumetric_flow_mean = get_volumetric_flow_mean(experiment, 10)\n",
    "volumetric_flow_mean"
   ]
  },
  {
   "attachments": {},
   "cell_type": "markdown",
   "metadata": {},
   "source": [
    "**Calculate the real volumetric flow.**"
   ]
  },
  {
   "cell_type": "code",
   "execution_count": null,
   "metadata": {},
   "outputs": [],
   "source": [
    "real_volumetric_flow = volumetric_flow_mean*conversion_factor\n",
    "real_volumetric_flow"
   ]
  },
  {
   "cell_type": "code",
   "execution_count": null,
   "metadata": {},
   "outputs": [],
   "source": [
    "# vol_flow_real= calculator.calculate_real_volumetric_flow(conversion_factor = conversion_factor, measured_volumetric_flow_mean = vol_flow_mean )\n",
    "# vol_flow_real"
   ]
  },
  {
   "cell_type": "code",
   "execution_count": null,
   "metadata": {},
   "outputs": [],
   "source": [
    "volumetric_flow_fractions_df=calculator.calculate_volumetric_flow_fractions(\n",
    "    real_volumetric_flow=real_volumetric_flow, volumetric_fractions_df=volumetric_fractions_df\n",
    ")\n",
    "volumetric_flow_fractions_df"
   ]
  },
  {
   "attachments": {},
   "cell_type": "markdown",
   "metadata": {},
   "source": [
    "**Calculate material flow.**"
   ]
  },
  {
   "cell_type": "code",
   "execution_count": null,
   "metadata": {},
   "outputs": [],
   "source": [
    "material_flow_df = calculator.calcualte_material_flow(volumetric_flow_fractions_df=volumetric_flow_fractions_df)\n",
    "material_flow_df"
   ]
  },
  {
   "attachments": {},
   "cell_type": "markdown",
   "metadata": {},
   "source": [
    "**Get initial current in mA and initial time in s.**"
   ]
  },
  {
   "cell_type": "code",
   "execution_count": null,
   "metadata": {},
   "outputs": [],
   "source": [
    "initial_current, initial_time = get_initial_time_and_current(experiment)\n",
    "print(f'Initial current in mA: {initial_current}')\n",
    "print(f'Initial time in s: {initial_time}')"
   ]
  },
  {
   "attachments": {},
   "cell_type": "markdown",
   "metadata": {},
   "source": [
    "**Calculate theoretical material flow.**"
   ]
  },
  {
   "cell_type": "code",
   "execution_count": null,
   "metadata": {},
   "outputs": [],
   "source": [
    "electrode_surface_area = 1.0 # cm^2\n",
    "theoretical_material_flow_df=calculator.calculate_theoretical_material_flow(\n",
    "    initial_current=initial_current, initial_time=initial_time, electrode_surface_area=electrode_surface_area\n",
    ")\n",
    "theoretical_material_flow_df"
   ]
  },
  {
   "cell_type": "code",
   "execution_count": null,
   "metadata": {},
   "outputs": [],
   "source": [
    "for species, material_flow in material_flow_df['Material_flow'].items():\n",
    "    print(species, material_flow)\n"
   ]
  },
  {
   "attachments": {},
   "cell_type": "markdown",
   "metadata": {},
   "source": [
    "**Calculate Faraday efficiency and load into dataset.**"
   ]
  },
  {
   "cell_type": "code",
   "execution_count": null,
   "metadata": {},
   "outputs": [],
   "source": [
    "faraday_efficiency_df = material_flow_df['Material_flow'] / theoretical_material_flow_df['Theoretical_material_flow']\n",
    "faraday_efficiency_df"
   ]
  },
  {
   "cell_type": "code",
   "execution_count": null,
   "metadata": {},
   "outputs": [],
   "source": [
    "dataset.experiments.append(experiment)"
   ]
  },
  {
   "cell_type": "code",
   "execution_count": null,
   "metadata": {},
   "outputs": [],
   "source": [
    "with open(json_files[index_dataset], \"w\") as f:\n",
    "  f.write(dataset.json())"
   ]
  },
  {
   "cell_type": "code",
   "execution_count": null,
   "metadata": {},
   "outputs": [],
   "source": [
    "# class DirectedGraph:\n",
    "    \n",
    "#     def __init__(self, name, connections):\n",
    "#         self.name = name\n",
    "#         self.connections = connections\n",
    "#         self.connec_tuple = []\n",
    "#         self.make_connectivity()\n",
    "\n",
    "        \n",
    "#     def make_connectivity(self):\n",
    "#         if len(self.connections) == 0: \n",
    "#             return([])\n",
    "#         for connection in self.connections:\n",
    "#             self.connec_tuple.append((self.name, connection))"
   ]
  },
  {
   "cell_type": "code",
   "execution_count": null,
   "metadata": {},
   "outputs": [],
   "source": [
    "# mod_1 = DirectedGraph(input0, [tubing0])\n",
    "# mod_2 = DirectedGraph(input1, [tubing1])\n",
    "# mod_3 = DirectedGraph(tubing0, [valve0])\n",
    "# mod_4 = DirectedGraph(tubing1, [valve0])\n",
    "# mod_5 = DirectedGraph(valve0, [tubing2])\n",
    "# mod_6 = DirectedGraph(fc, [tubing2])\n",
    "# mod_7 = DirectedGraph(tubing2, [valve1])\n",
    "# mod_8 = DirectedGraph(valve1, [tubing4])\n",
    "# mod_9 = DirectedGraph(tubing4, [valve2])\n",
    "# mod_10 = DirectedGraph(valve2, [tubing5])\n",
    "# mod_11 = DirectedGraph(tubing5, [gc])\n",
    "# mod_12 = DirectedGraph(tubing5, [fr])\n",
    "\n",
    "# modules = [mod_1, mod_2, mod_3, mod_4, mod_5, mod_6, mod_7, mod_8, mod_9, mod_10, mod_11, mod_12]\n",
    "# module_names = [flow_mod.name for flow_mod in modules]"
   ]
  },
  {
   "cell_type": "code",
   "execution_count": null,
   "metadata": {},
   "outputs": [],
   "source": [
    "# area = exp_df['Area']\n",
    "# peak_area_dict = {\n",
    "#     'co2': area.iloc[[1]].sum(),\n",
    "#     'co': area.iloc[[5,6]].sum(),\n",
    "#     'h2': area.iloc[[0]].sum(),\n",
    "#     'ch4': area.iloc[[2,3]].sum(),\n",
    "#     'c2h4': area.iloc[[4]].sum(),\n",
    "#     # 'c2h6': area.iloc[[0,1]].sum()\n",
    "# }\n",
    "# peak_area_dict"
   ]
  },
  {
   "cell_type": "code",
   "execution_count": null,
   "metadata": {},
   "outputs": [],
   "source": [
    "# flowG = nx.DiGraph()\n",
    "# flowG.add_nodes_from(module_names)\n",
    "# for module in modules:\n",
    "#     flowG.add_edges_from(module.connec_tuple)\n",
    "# my_pos = nx.spring_layout(flowG, seed = 5) # this fixes the style of the graph, if it's ugly change the seed\n",
    "# nx.draw(flowG, pos = my_pos, with_labels=True)"
   ]
  }
 ],
 "metadata": {
  "kernelspec": {
   "display_name": "b07",
   "language": "python",
   "name": "python3"
  },
  "language_info": {
   "codemirror_mode": {
    "name": "ipython",
    "version": 3
   },
   "file_extension": ".py",
   "mimetype": "text/x-python",
   "name": "python",
   "nbconvert_exporter": "python",
   "pygments_lexer": "ipython3",
   "version": "3.10.4"
  },
  "orig_nbformat": 4,
  "vscode": {
   "interpreter": {
    "hash": "9f62ab2d43dc75e3c3b007469adeb0f7488873df876b9b71dd3b119f0280ba41"
   }
  }
 },
 "nbformat": 4,
 "nbformat_minor": 2
}
