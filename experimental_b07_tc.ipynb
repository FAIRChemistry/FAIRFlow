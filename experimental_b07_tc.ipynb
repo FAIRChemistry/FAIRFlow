{
 "cells": [
  {
   "attachments": {},
   "cell_type": "markdown",
   "metadata": {},
   "source": [
    "# Workflow for the CRC1333 project B07 - Technical Chemistry"
   ]
  },
  {
   "attachments": {},
   "cell_type": "markdown",
   "metadata": {},
   "source": [
    "**Import necessary packages.**"
   ]
  },
  {
   "cell_type": "code",
   "execution_count": 11,
   "metadata": {},
   "outputs": [],
   "source": [
    "# import matplotlib.pyplot as plt\n",
    "# import numpy as np\n",
    "# import networkx as nx\n",
    "# import pandas as pd\n",
    "\n",
    "from datetime import datetime\n",
    "from sdRDM import DataModel\n",
    "from modules import GCParser\n",
    "from modules import GstaticParser\n",
    "from modules import MFMParser\n",
    "from modules import Calculator\n",
    "from modules import get_mfr\n",
    "from modules import get_initial_time_current\n",
    "from modules import assign_peaks\n",
    "from pathlib import Path\n",
    "# from DEXPI2sdRDM import DEXPI2sdRDM"
   ]
  },
  {
   "attachments": {},
   "cell_type": "markdown",
   "metadata": {},
   "source": [
    "**Load data model from git or markdown file**"
   ]
  },
  {
   "cell_type": "code",
   "execution_count": 12,
   "metadata": {},
   "outputs": [],
   "source": [
    "lib = DataModel.from_markdown('specifications/datamodel_b07_tc.md')\n",
    "# lib = DataModel.from_git(url='https://github.com/FAIRChemistry/datamodel_b07_tc.git')"
   ]
  },
  {
   "attachments": {},
   "cell_type": "markdown",
   "metadata": {},
   "source": [
    "**Set path to current working directory and available datasets.**"
   ]
  },
  {
   "cell_type": "code",
   "execution_count": 13,
   "metadata": {},
   "outputs": [],
   "source": [
    "# Get the current working directory\n",
    "current_directory = Path.cwd()\n",
    "\n",
    "\n",
    "path_to_dataset = current_directory / 'datasets'"
   ]
  },
  {
   "cell_type": "code",
   "execution_count": 19,
   "metadata": {},
   "outputs": [
    {
     "name": "stdout",
     "output_type": "stream",
     "text": [
      "0: b07.json\n"
     ]
    }
   ],
   "source": [
    "# List all files in the directory\n",
    "files = path_to_dataset.iterdir()\n",
    "\n",
    "# Filter the files with .json extension\n",
    "json_files = {index:file for index, file in enumerate(files) if file.suffix == \".json\"}\n",
    "\n",
    "# Print the JSON file names\n",
    "\n",
    "for index, file in json_files.items():\n",
    "    print(f\"{index}: {file.name}\")"
   ]
  },
  {
   "attachments": {},
   "cell_type": "markdown",
   "metadata": {},
   "source": [
    "**Choose dataset to parse.**"
   ]
  },
  {
   "cell_type": "code",
   "execution_count": 20,
   "metadata": {},
   "outputs": [
    {
     "ename": "KeyError",
     "evalue": "'repo'",
     "output_type": "error",
     "traceback": [
      "\u001b[0;31m---------------------------------------------------------------------------\u001b[0m",
      "\u001b[0;31mKeyError\u001b[0m                                  Traceback (most recent call last)",
      "\u001b[1;32m/mnt/c/Users/rscho/Documents/GitHub/datamodel_b07_tc/experimental_b07_tc.ipynb Cell 10\u001b[0m in \u001b[0;36m<cell line: 2>\u001b[0;34m()\u001b[0m\n\u001b[1;32m      <a href='vscode-notebook-cell://wsl%2Bubuntu-22.04/mnt/c/Users/rscho/Documents/GitHub/datamodel_b07_tc/experimental_b07_tc.ipynb#Y124sdnNjb2RlLXJlbW90ZQ%3D%3D?line=0'>1</a>\u001b[0m index_dataset \u001b[39m=\u001b[39m \u001b[39m0\u001b[39m\n\u001b[0;32m----> <a href='vscode-notebook-cell://wsl%2Bubuntu-22.04/mnt/c/Users/rscho/Documents/GitHub/datamodel_b07_tc/experimental_b07_tc.ipynb#Y124sdnNjb2RlLXJlbW90ZQ%3D%3D?line=1'>2</a>\u001b[0m DataModel\u001b[39m.\u001b[39;49mparse(json_files[index_dataset])\n",
      "File \u001b[0;32m/mnt/c/Users/rscho/Documents/GitHub/software-driven-rdm/sdRDM/base/datamodel.py:497\u001b[0m, in \u001b[0;36mDataModel.parse\u001b[0;34m(cls, path, data, root_name, attr_replace)\u001b[0m\n\u001b[1;32m    494\u001b[0m     \u001b[39mreturn\u001b[39;00m root\u001b[39m.\u001b[39mfrom_dict(dataset), lib\n\u001b[1;32m    495\u001b[0m \u001b[39melse\u001b[39;00m:\n\u001b[1;32m    496\u001b[0m     \u001b[39m# Get source and build libary\u001b[39;00m\n\u001b[0;32m--> 497\u001b[0m     url \u001b[39m=\u001b[39m dataset\u001b[39m.\u001b[39;49mget(\u001b[39m\"\u001b[39;49m\u001b[39m__source__\u001b[39;49m\u001b[39m\"\u001b[39;49m)[\u001b[39m\"\u001b[39;49m\u001b[39mrepo\u001b[39;49m\u001b[39m\"\u001b[39;49m]\n\u001b[1;32m    498\u001b[0m     commit \u001b[39m=\u001b[39m dataset\u001b[39m.\u001b[39mget(\u001b[39m\"\u001b[39m\u001b[39m__source__\u001b[39m\u001b[39m\"\u001b[39m)[\u001b[39m\"\u001b[39m\u001b[39mcommit\u001b[39m\u001b[39m\"\u001b[39m]\n\u001b[1;32m    499\u001b[0m     root \u001b[39m=\u001b[39m dataset\u001b[39m.\u001b[39mget(\u001b[39m\"\u001b[39m\u001b[39m__source__\u001b[39m\u001b[39m\"\u001b[39m)[\u001b[39m\"\u001b[39m\u001b[39mroot\u001b[39m\u001b[39m\"\u001b[39m]\n",
      "\u001b[0;31mKeyError\u001b[0m: 'repo'"
     ]
    }
   ],
   "source": [
    "index_dataset = 0\n",
    "DataModel.parse(json_files[index_dataset])\n"
   ]
  },
  {
   "attachments": {},
   "cell_type": "markdown",
   "metadata": {},
   "source": [
    "**Load dataset for project B07**"
   ]
  },
  {
   "cell_type": "code",
   "execution_count": null,
   "metadata": {},
   "outputs": [],
   "source": [
    "b07=DataModel.parse('./dataset_b07.json')"
   ]
  },
  {
   "attachments": {},
   "cell_type": "markdown",
   "metadata": {},
   "source": [
    "**Instantiate an experiment object which holds all the information about one single experiment.**"
   ]
  },
  {
   "cell_type": "code",
   "execution_count": null,
   "metadata": {},
   "outputs": [],
   "source": [
    "experiment = lib.Experiment()"
   ]
  },
  {
   "attachments": {},
   "cell_type": "markdown",
   "metadata": {},
   "source": [
    "### **Parsing experimental data and metadata from various output files.**"
   ]
  },
  {
   "attachments": {},
   "cell_type": "markdown",
   "metadata": {},
   "source": [
    "### gstatic"
   ]
  },
  {
   "attachments": {},
   "cell_type": "markdown",
   "metadata": {},
   "source": [
    "**Create an instance of the ``GstaticParser`` to parse Gamry output files and show available files in the selected directory.**"
   ]
  },
  {
   "cell_type": "code",
   "execution_count": null,
   "metadata": {},
   "outputs": [],
   "source": [
    "gstaticparser = GstaticParser(path_to_dataset / 'data')\n",
    "dict_of_gstatic_files = gstaticparser.enumerate_available_files()\n",
    "for index, gstatic_file in dict_of_gstatic_files.items():\n",
    "    print(f\"{index}: {gstatic_file}\")\n",
    "# available_files = gstaticparser.available_files\n",
    "# print(available_files)"
   ]
  },
  {
   "attachments": {},
   "cell_type": "markdown",
   "metadata": {},
   "source": [
    "**Chose specific file.**"
   ]
  },
  {
   "cell_type": "code",
   "execution_count": null,
   "metadata": {},
   "outputs": [],
   "source": [
    "gstatic_file = dict_of_gstatic_files[0]\n",
    "gstatic_file"
   ]
  },
  {
   "attachments": {},
   "cell_type": "markdown",
   "metadata": {},
   "source": [
    "**Extract the metadata from it using the ``GstaticParser`` and load into the data model.**"
   ]
  },
  {
   "cell_type": "code",
   "execution_count": null,
   "metadata": {},
   "outputs": [],
   "source": [
    "gstatic_metadata_df, gstatic_metadata = gstaticparser.extract_metadata(gstatic_file)\n",
    "pot = lib.Measurement(measurement_type=lib.enums.MeasurementType.POTENTIOSTATIC, metadata=gstatic_metadata)\n",
    "experiment.measurements = [pot]\n",
    "b07.experiments=[experiment]\n",
    "gstatic_metadata_df"
   ]
  },
  {
   "attachments": {},
   "cell_type": "markdown",
   "metadata": {},
   "source": [
    "### mfm"
   ]
  },
  {
   "attachments": {},
   "cell_type": "markdown",
   "metadata": {},
   "source": [
    "**Create an instance of the ``MFMParser`` to parse MFM output files and show available files in the selected directory.**"
   ]
  },
  {
   "cell_type": "code",
   "execution_count": null,
   "metadata": {},
   "outputs": [],
   "source": [
    "mfmparser = MFMParser(path_to_dataset / 'data')\n",
    "dict_of_mfm_files = mfmparser.enumerate_available_files()\n",
    "for index, mfmfile in dict_of_mfm_files.items():\n",
    "    print(f\"{index}: {mfmfile}\")"
   ]
  },
  {
   "attachments": {},
   "cell_type": "markdown",
   "metadata": {},
   "source": [
    "**Chose specific file**"
   ]
  },
  {
   "cell_type": "code",
   "execution_count": null,
   "metadata": {},
   "outputs": [],
   "source": [
    "mfm_file = dict_of_mfm_files[3]\n",
    "mfm_file"
   ]
  },
  {
   "attachments": {},
   "cell_type": "markdown",
   "metadata": {},
   "source": [
    "**Extract the experimental data from it using the ``MFMParser`` and load into the data model.**"
   ]
  },
  {
   "cell_type": "code",
   "execution_count": null,
   "metadata": {},
   "outputs": [],
   "source": [
    "mfm_exp_data_df, mfm_exp_data = mfmparser.extract_exp_data(mfm_file)\n",
    "mfm = lib.Measurement(\n",
    "            measurement_type=lib.enums.MeasurementType.MFM.value,\n",
    "            experimental_data=[value for value in mfm_exp_data.values()],\n",
    "        )\n",
    "b07.experiments[0].measurements.append(mfm)\n",
    "mfm_exp_data_df"
   ]
  },
  {
   "attachments": {},
   "cell_type": "markdown",
   "metadata": {},
   "source": [
    "### gc"
   ]
  },
  {
   "attachments": {},
   "cell_type": "markdown",
   "metadata": {},
   "source": [
    "**Create an instance of the ``GCParser`` to parse GC output files and show available files in the selected directory.**"
   ]
  },
  {
   "cell_type": "code",
   "execution_count": null,
   "metadata": {},
   "outputs": [],
   "source": [
    "gcparser = GCParser(path_to_dataset / 'data')\n",
    "dict_of_gc_files = gcparser.enumerate_available_files()\n",
    "for index, gc_file in dict_of_gc_files.items():\n",
    "    print(f\"{index}: {gc_file}\")"
   ]
  },
  {
   "attachments": {},
   "cell_type": "markdown",
   "metadata": {},
   "source": [
    "**Chose file that contains the metadata**"
   ]
  },
  {
   "cell_type": "code",
   "execution_count": null,
   "metadata": {},
   "outputs": [],
   "source": [
    "gcmd_file = dict_of_gc_files[0]"
   ]
  },
  {
   "attachments": {},
   "cell_type": "markdown",
   "metadata": {},
   "source": [
    "**Chose file that contains the experimental data**"
   ]
  },
  {
   "cell_type": "code",
   "execution_count": null,
   "metadata": {},
   "outputs": [],
   "source": [
    "gced_file = dict_of_gc_files[1]"
   ]
  },
  {
   "attachments": {},
   "cell_type": "markdown",
   "metadata": {},
   "source": [
    "**Extract the metadata and experimental data from them using the ``GCParser`` and load into the data model.**"
   ]
  },
  {
   "cell_type": "code",
   "execution_count": null,
   "metadata": {},
   "outputs": [],
   "source": [
    "gc_metadata_df, gc_metadata= gcparser.extract_metadata(gcmd_file)\n",
    "gc_exp_data_df, gc_exp_data = gcparser.extract_exp_data(gced_file)\n",
    "gc = lib.Measurement(\n",
    "    measurement_type=lib.enums.MeasurementType.GC.value,\n",
    "    metadata=[value for value in gc_metadata.values()],\n",
    "    experimental_data=[value for value in gc_exp_data.values()]\n",
    ")\n",
    "b07.experiments[0].measurements.append(gc)\n",
    "gc_metadata_df"
   ]
  },
  {
   "cell_type": "code",
   "execution_count": null,
   "metadata": {},
   "outputs": [],
   "source": [
    "gc_exp_data_df"
   ]
  },
  {
   "cell_type": "code",
   "execution_count": null,
   "metadata": {},
   "outputs": [],
   "source": [
    "type(gc_exp_data_df[\"Peak_number\"].values.tolist()[0])"
   ]
  },
  {
   "attachments": {},
   "cell_type": "markdown",
   "metadata": {},
   "source": [
    "**Print current state of the data model**"
   ]
  },
  {
   "cell_type": "code",
   "execution_count": null,
   "metadata": {},
   "outputs": [],
   "source": [
    "print(b07.json())"
   ]
  },
  {
   "attachments": {},
   "cell_type": "markdown",
   "metadata": {},
   "source": [
    "**Get initial current in mA and initial time in s.**"
   ]
  },
  {
   "cell_type": "code",
   "execution_count": null,
   "metadata": {},
   "outputs": [],
   "source": [
    "I_init, t_init = get_initial_time_current(b07)\n",
    "I_init, t_init"
   ]
  },
  {
   "attachments": {},
   "cell_type": "markdown",
   "metadata": {},
   "source": [
    "**Get mean flow rate at the time of the gc measurement.**"
   ]
  },
  {
   "cell_type": "code",
   "execution_count": null,
   "metadata": {},
   "outputs": [],
   "source": [
    "inj_date, inj_dates, mfr, vol_flow_mean = get_mfr(b07, 10)\n",
    "vol_flow_mean"
   ]
  },
  {
   "attachments": {},
   "cell_type": "markdown",
   "metadata": {},
   "source": [
    "**Assign peak areas to species.** \\\n",
    "The peak areas recorded by the GC have to be matched with the correct species. The individial ``Area`` is selected by its corresponding ``Peak_Number``. It is possible that the same species is accountable for multiple peaks, i.d. multiple peaks are assigned to the same species.\n"
   ]
  },
  {
   "cell_type": "code",
   "execution_count": null,
   "metadata": {},
   "outputs": [],
   "source": [
    "gc_exp_data_df"
   ]
  },
  {
   "cell_type": "code",
   "execution_count": null,
   "metadata": {},
   "outputs": [],
   "source": [
    "assign_peak_dict={\n",
    "    'CO2': [2],\n",
    "    'CO': [6],\n",
    "    'H2': [1],\n",
    "    'CH4': [3],\n",
    "    'C2H4': [5],\n",
    "    # 'C2H6': [4],\n",
    "}\n",
    "peak_area_dict = assign_peaks(b07, assign_peak_dict)"
   ]
  },
  {
   "attachments": {},
   "cell_type": "markdown",
   "metadata": {},
   "source": [
    "**Set calibration input values and import into the data model.** \\\n",
    "To determine the concentrations of the individual species, a calibration has to be performed in advance to match the individual values for ``Area`` with their corresponding concentrations."
   ]
  },
  {
   "cell_type": "code",
   "execution_count": null,
   "metadata": {},
   "outputs": [],
   "source": [
    "cali_input_dict={\n",
    "    'CO2': [[0,38653],[0,50], lib.enums.Species.CARBONDIOXIDE],\n",
    "    'CO':[[797,1328,7223],[0.5,1,5], lib.enums.Species.CARBONMONOXIDE],\n",
    "    'H2':[[71,153,330], [5,10,20], lib.enums.Species.HYDROGEN],\n",
    "    'CH4':[[5727,11991], [5,10], lib.enums.Species.METHANE],\n",
    "    'C2H4':[[1122,4864,7297], [0.5,2,3], lib.enums.Species.ETHENE],\n",
    "    'C2H6':[[0,12168], [0,5], lib.enums.Species.ETHANE],\n",
    "}"
   ]
  },
  {
   "cell_type": "code",
   "execution_count": null,
   "metadata": {},
   "outputs": [],
   "source": [
    "calibration_list = []\n",
    "for value in cali_input_dict.values():\n",
    "    calibration_list.append(\n",
    "        lib.Calibration(\n",
    "            peak_area=[\n",
    "                lib.Data(  \n",
    "                    values=value[0],\n",
    "                    unit=lib.enums.Unit.VOLFRACTION\n",
    "                )\n",
    "            ],\n",
    "            concentration=[\n",
    "                lib.Data(  \n",
    "                    values=value[1],\n",
    "                    unit=lib.enums.Unit.VOLFRACTION\n",
    "                )\n",
    "            ],\n",
    "            species=value[2]\n",
    "        )\n",
    "    )\n"
   ]
  },
  {
   "cell_type": "code",
   "execution_count": null,
   "metadata": {},
   "outputs": [],
   "source": [
    "calc = lib.Calculation()\n",
    "calc.calibrations = calibration_list\n",
    "b07.experiments[0].calculations = calc"
   ]
  },
  {
   "cell_type": "code",
   "execution_count": null,
   "metadata": {},
   "outputs": [],
   "source": [
    "print(b07.json())"
   ]
  },
  {
   "attachments": {},
   "cell_type": "markdown",
   "metadata": {},
   "source": [
    "Instantiate the ``Calculator`` module."
   ]
  },
  {
   "cell_type": "code",
   "execution_count": null,
   "metadata": {},
   "outputs": [],
   "source": [
    "calculator=Calculator(path_to_dataset=path_to_dataset)"
   ]
  },
  {
   "attachments": {},
   "cell_type": "markdown",
   "metadata": {},
   "source": [
    "Calibrate using the ``calibrate`` method of the ``Calculator`` module."
   ]
  },
  {
   "cell_type": "code",
   "execution_count": null,
   "metadata": {},
   "outputs": [],
   "source": [
    "cali_result_df=calculator.calibrate(b07)\n",
    "cali_result_df"
   ]
  },
  {
   "attachments": {},
   "cell_type": "markdown",
   "metadata": {},
   "source": [
    "Calculate volume fractions using the ``calculate_volume_fractions`` method of the ``Calculator`` module."
   ]
  },
  {
   "cell_type": "code",
   "execution_count": null,
   "metadata": {},
   "outputs": [],
   "source": [
    "vol_frac_df = calculator.calculate_volume_fractions(peak_area_dict=peak_area_dict, calibration_result_df=cali_result_df)\n",
    "vol_frac_df"
   ]
  },
  {
   "attachments": {},
   "cell_type": "markdown",
   "metadata": {},
   "source": [
    "Calculate the conversion factors of the individual species using the ``calculate_conversion_factors`` method of the ``Calculator`` module and the correction factors."
   ]
  },
  {
   "cell_type": "code",
   "execution_count": null,
   "metadata": {},
   "outputs": [],
   "source": [
    "f_corr_dict= {\n",
    "    'H2':1.01,\n",
    "    'CO':0.74,\n",
    "    'CO2':1.00,\n",
    "    'CH4':0.76,\n",
    "    # 'C2H4':,\n",
    "    # 'C2H6':,\n",
    "}"
   ]
  },
  {
   "cell_type": "code",
   "execution_count": null,
   "metadata": {},
   "outputs": [],
   "source": [
    "vol_frac_df.loc['H2'][0]"
   ]
  },
  {
   "cell_type": "code",
   "execution_count": null,
   "metadata": {},
   "outputs": [],
   "source": [
    "f_conv = calculator.calculate_conversion_factor(volume_fractions=vol_frac_df, correction_factors=f_corr_dict)\n",
    "f_conv"
   ]
  },
  {
   "cell_type": "code",
   "execution_count": null,
   "metadata": {},
   "outputs": [],
   "source": [
    "vol_flow_r_df = calculator.calculate_vol_flow_r(conversion_factor = f_conv, volumetric_flow_measured = mfm_exp_data_df )\n",
    "vol_flow_r_df"
   ]
  },
  {
   "cell_type": "code",
   "execution_count": null,
   "metadata": {},
   "outputs": [],
   "source": [
    "# class DirectedGraph:\n",
    "    \n",
    "#     def __init__(self, name, connections):\n",
    "#         self.name = name\n",
    "#         self.connections = connections\n",
    "#         self.connec_tuple = []\n",
    "#         self.make_connectivity()\n",
    "\n",
    "        \n",
    "#     def make_connectivity(self):\n",
    "#         if len(self.connections) == 0: \n",
    "#             return([])\n",
    "#         for connection in self.connections:\n",
    "#             self.connec_tuple.append((self.name, connection))"
   ]
  },
  {
   "cell_type": "code",
   "execution_count": null,
   "metadata": {},
   "outputs": [],
   "source": [
    "# mod_1 = DirectedGraph(input0, [tubing0])\n",
    "# mod_2 = DirectedGraph(input1, [tubing1])\n",
    "# mod_3 = DirectedGraph(tubing0, [valve0])\n",
    "# mod_4 = DirectedGraph(tubing1, [valve0])\n",
    "# mod_5 = DirectedGraph(valve0, [tubing2])\n",
    "# mod_6 = DirectedGraph(fc, [tubing2])\n",
    "# mod_7 = DirectedGraph(tubing2, [valve1])\n",
    "# mod_8 = DirectedGraph(valve1, [tubing4])\n",
    "# mod_9 = DirectedGraph(tubing4, [valve2])\n",
    "# mod_10 = DirectedGraph(valve2, [tubing5])\n",
    "# mod_11 = DirectedGraph(tubing5, [gc])\n",
    "# mod_12 = DirectedGraph(tubing5, [fr])\n",
    "\n",
    "# modules = [mod_1, mod_2, mod_3, mod_4, mod_5, mod_6, mod_7, mod_8, mod_9, mod_10, mod_11, mod_12]\n",
    "# module_names = [flow_mod.name for flow_mod in modules]"
   ]
  },
  {
   "cell_type": "code",
   "execution_count": null,
   "metadata": {},
   "outputs": [],
   "source": [
    "# area = exp_df['Area']\n",
    "# peak_area_dict = {\n",
    "#     'co2': area.iloc[[1]].sum(),\n",
    "#     'co': area.iloc[[5,6]].sum(),\n",
    "#     'h2': area.iloc[[0]].sum(),\n",
    "#     'ch4': area.iloc[[2,3]].sum(),\n",
    "#     'c2h4': area.iloc[[4]].sum(),\n",
    "#     # 'c2h6': area.iloc[[0,1]].sum()\n",
    "# }\n",
    "# peak_area_dict"
   ]
  },
  {
   "cell_type": "code",
   "execution_count": null,
   "metadata": {},
   "outputs": [],
   "source": [
    "# flowG = nx.DiGraph()\n",
    "# flowG.add_nodes_from(module_names)\n",
    "# for module in modules:\n",
    "#     flowG.add_edges_from(module.connec_tuple)\n",
    "# my_pos = nx.spring_layout(flowG, seed = 5) # this fixes the style of the graph, if it's ugly change the seed\n",
    "# nx.draw(flowG, pos = my_pos, with_labels=True)"
   ]
  }
 ],
 "metadata": {
  "kernelspec": {
   "display_name": "b07",
   "language": "python",
   "name": "python3"
  },
  "language_info": {
   "codemirror_mode": {
    "name": "ipython",
    "version": 3
   },
   "file_extension": ".py",
   "mimetype": "text/x-python",
   "name": "python",
   "nbconvert_exporter": "python",
   "pygments_lexer": "ipython3",
   "version": "3.10.4"
  },
  "orig_nbformat": 4,
  "vscode": {
   "interpreter": {
    "hash": "9f62ab2d43dc75e3c3b007469adeb0f7488873df876b9b71dd3b119f0280ba41"
   }
  }
 },
 "nbformat": 4,
 "nbformat_minor": 2
}
