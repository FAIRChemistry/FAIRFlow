{
 "cells": [
  {
   "cell_type": "code",
   "execution_count": 37,
   "metadata": {},
   "outputs": [],
   "source": [
    "import json\n",
    "\n",
    "from datetime import datetime\n",
    "from sdRDM import DataModel\n",
    "from modules import GCParser\n",
    "from modules import GstaticParser\n",
    "from modules import MFMParser\n",
    "from modules import Calculator\n",
    "from modules import get_mfr\n",
    "from modules import get_initial_time_current\n",
    "from modules import assign_peaks\n",
    "from pathlib import Path"
   ]
  },
  {
   "cell_type": "code",
   "execution_count": 38,
   "metadata": {},
   "outputs": [],
   "source": [
    "lib = DataModel.from_markdown('specifications/datamodel_b07_tc.md')"
   ]
  },
  {
   "cell_type": "code",
   "execution_count": 39,
   "metadata": {},
   "outputs": [],
   "source": [
    "path_to_dataset = Path.cwd()"
   ]
  },
  {
   "cell_type": "code",
   "execution_count": 40,
   "metadata": {},
   "outputs": [
    {
     "data": {
      "text/plain": [
       "{'id': 'dataset1', 'general_information': None, 'experiments': []}"
      ]
     },
     "execution_count": 40,
     "metadata": {},
     "output_type": "execute_result"
    }
   ],
   "source": [
    "b07 = lib.Dataset()\n",
    "b07.__dict__"
   ]
  },
  {
   "cell_type": "code",
   "execution_count": 41,
   "metadata": {},
   "outputs": [],
   "source": [
    "gen_inf = lib.GeneralInformation()\n",
    "title = 'some title'\n",
    "gen_inf.title = title\n",
    "description = 'The aim of this project is to blablabla'\n",
    "gen_inf.description = description\n",
    "author_1 = lib.Author(name= 'Max Mustermann', affiliation = 'University of Musterstadt')\n",
    "author_2 = lib.Author(name= 'Erika Mustermann', affiliation = 'University of Musterstadt')\n",
    "gen_inf.authors = [author_1, author_2]\n",
    "b07.general_information = gen_inf"
   ]
  },
  {
   "cell_type": "code",
   "execution_count": 42,
   "metadata": {},
   "outputs": [],
   "source": [
    "experiment = lib.Experiment()"
   ]
  },
  {
   "cell_type": "code",
   "execution_count": 43,
   "metadata": {},
   "outputs": [],
   "source": [
    "pot = lib.Measurement(measurement_type=lib.enums.MeasurementType.POTENTIOSTATIC)\n",
    "experiment.measurements = [pot]\n",
    "b07.experiments=[experiment]"
   ]
  },
  {
   "cell_type": "code",
   "execution_count": 48,
   "metadata": {},
   "outputs": [
    {
     "data": {
      "text/plain": [
       "'\"{\\\\n  \\\\\"id\\\\\": \\\\\"dataset1\\\\\",\\\\n  \\\\\"general_information\\\\\": {\\\\n    \\\\\"id\\\\\": \\\\\"generalinformation1\\\\\",\\\\n    \\\\\"title\\\\\": \\\\\"some title\\\\\",\\\\n    \\\\\"description\\\\\": \\\\\"The aim of this project is to blablabla\\\\\",\\\\n    \\\\\"authors\\\\\": [\\\\n      {\\\\n        \\\\\"id\\\\\": \\\\\"author2\\\\\",\\\\n        \\\\\"name\\\\\": \\\\\"Max Mustermann\\\\\",\\\\n        \\\\\"affiliation\\\\\": \\\\\"University of Musterstadt\\\\\"\\\\n      },\\\\n      {\\\\n        \\\\\"id\\\\\": \\\\\"author3\\\\\",\\\\n        \\\\\"name\\\\\": \\\\\"Erika Mustermann\\\\\",\\\\n        \\\\\"affiliation\\\\\": \\\\\"University of Musterstadt\\\\\"\\\\n      }\\\\n    ]\\\\n  },\\\\n  \\\\\"experiments\\\\\": [\\\\n    {\\\\n      \\\\\"id\\\\\": \\\\\"experiment1\\\\\",\\\\n      \\\\\"measurements\\\\\": [\\\\n        {\\\\n          \\\\\"id\\\\\": \\\\\"measurement1\\\\\",\\\\n          \\\\\"measurement_type\\\\\": \\\\\"Potentiostatic Measurement\\\\\"\\\\n        }\\\\n      ]\\\\n    }\\\\n  ],\\\\n  \\\\\"__source__\\\\\": {\\\\n    \\\\\"root\\\\\": \\\\\"Dataset\\\\\"\\\\n  }\\\\n}\"'"
      ]
     },
     "execution_count": 48,
     "metadata": {},
     "output_type": "execute_result"
    }
   ],
   "source": [
    "from pydantic.dataclasses import dataclass\n",
    "json.dumps(b07.json())"
   ]
  },
  {
   "cell_type": "code",
   "execution_count": null,
   "metadata": {},
   "outputs": [],
   "source": [
    "with open(\"data.json\", \"w\") as json_file:\n",
    "    json.dump(project, json_file)"
   ]
  },
  {
   "cell_type": "code",
   "execution_count": null,
   "metadata": {},
   "outputs": [
    {
     "ename": "AttributeError",
     "evalue": "'str' object has no attribute 'read'",
     "output_type": "error",
     "traceback": [
      "\u001b[0;31m---------------------------------------------------------------------------\u001b[0m",
      "\u001b[0;31mAttributeError\u001b[0m                            Traceback (most recent call last)",
      "\u001b[1;32m/mnt/c/Users/rscho/Documents/GitHub/datamodel_b07_tc/add_experiments_test.ipynb Cell 10\u001b[0m in \u001b[0;36m<cell line: 1>\u001b[0;34m()\u001b[0m\n\u001b[0;32m----> <a href='vscode-notebook-cell://wsl%2Bubuntu-22.04/mnt/c/Users/rscho/Documents/GitHub/datamodel_b07_tc/add_experiments_test.ipynb#X16sdnNjb2RlLXJlbW90ZQ%3D%3D?line=0'>1</a>\u001b[0m b07\u001b[39m.\u001b[39;49mfrom_json(\u001b[39m\"\u001b[39;49m\u001b[39mdata.json\u001b[39;49m\u001b[39m\"\u001b[39;49m)\n",
      "File \u001b[0;32m/mnt/c/Users/rscho/Documents/GitHub/software-driven-rdm/sdRDM/base/datamodel.py:415\u001b[0m, in \u001b[0;36mDataModel.from_json\u001b[0;34m(cls, handler)\u001b[0m\n\u001b[1;32m    413\u001b[0m \u001b[39m@classmethod\u001b[39m\n\u001b[1;32m    414\u001b[0m \u001b[39mdef\u001b[39;00m \u001b[39mfrom_json\u001b[39m(\u001b[39mcls\u001b[39m, handler: IO):\n\u001b[0;32m--> 415\u001b[0m     \u001b[39mreturn\u001b[39;00m \u001b[39mcls\u001b[39m\u001b[39m.\u001b[39mfrom_dict(json\u001b[39m.\u001b[39;49mload(handler))\n",
      "File \u001b[0;32m~/miniconda3/envs/b07/lib/python3.10/json/__init__.py:293\u001b[0m, in \u001b[0;36mload\u001b[0;34m(fp, cls, object_hook, parse_float, parse_int, parse_constant, object_pairs_hook, **kw)\u001b[0m\n\u001b[1;32m    274\u001b[0m \u001b[39mdef\u001b[39;00m \u001b[39mload\u001b[39m(fp, \u001b[39m*\u001b[39m, \u001b[39mcls\u001b[39m\u001b[39m=\u001b[39m\u001b[39mNone\u001b[39;00m, object_hook\u001b[39m=\u001b[39m\u001b[39mNone\u001b[39;00m, parse_float\u001b[39m=\u001b[39m\u001b[39mNone\u001b[39;00m,\n\u001b[1;32m    275\u001b[0m         parse_int\u001b[39m=\u001b[39m\u001b[39mNone\u001b[39;00m, parse_constant\u001b[39m=\u001b[39m\u001b[39mNone\u001b[39;00m, object_pairs_hook\u001b[39m=\u001b[39m\u001b[39mNone\u001b[39;00m, \u001b[39m*\u001b[39m\u001b[39m*\u001b[39mkw):\n\u001b[1;32m    276\u001b[0m     \u001b[39m\"\"\"Deserialize ``fp`` (a ``.read()``-supporting file-like object containing\u001b[39;00m\n\u001b[1;32m    277\u001b[0m \u001b[39m    a JSON document) to a Python object.\u001b[39;00m\n\u001b[1;32m    278\u001b[0m \n\u001b[0;32m   (...)\u001b[0m\n\u001b[1;32m    291\u001b[0m \u001b[39m    kwarg; otherwise ``JSONDecoder`` is used.\u001b[39;00m\n\u001b[1;32m    292\u001b[0m \u001b[39m    \"\"\"\u001b[39;00m\n\u001b[0;32m--> 293\u001b[0m     \u001b[39mreturn\u001b[39;00m loads(fp\u001b[39m.\u001b[39;49mread(),\n\u001b[1;32m    294\u001b[0m         \u001b[39mcls\u001b[39m\u001b[39m=\u001b[39m\u001b[39mcls\u001b[39m, object_hook\u001b[39m=\u001b[39mobject_hook,\n\u001b[1;32m    295\u001b[0m         parse_float\u001b[39m=\u001b[39mparse_float, parse_int\u001b[39m=\u001b[39mparse_int,\n\u001b[1;32m    296\u001b[0m         parse_constant\u001b[39m=\u001b[39mparse_constant, object_pairs_hook\u001b[39m=\u001b[39mobject_pairs_hook, \u001b[39m*\u001b[39m\u001b[39m*\u001b[39mkw)\n",
      "\u001b[0;31mAttributeError\u001b[0m: 'str' object has no attribute 'read'"
     ]
    }
   ],
   "source": [
    "b07.from_json(\"data.json\")"
   ]
  },
  {
   "cell_type": "code",
   "execution_count": null,
   "metadata": {},
   "outputs": [],
   "source": [
    "newlib=DataModel.from_json_string(\"data.json\")"
   ]
  }
 ],
 "metadata": {
  "kernelspec": {
   "display_name": "b07",
   "language": "python",
   "name": "python3"
  },
  "language_info": {
   "codemirror_mode": {
    "name": "ipython",
    "version": 3
   },
   "file_extension": ".py",
   "mimetype": "text/x-python",
   "name": "python",
   "nbconvert_exporter": "python",
   "pygments_lexer": "ipython3",
   "version": "3.10.4"
  },
  "orig_nbformat": 4
 },
 "nbformat": 4,
 "nbformat_minor": 2
}
