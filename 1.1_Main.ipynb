{
 "cells": [
  {
   "cell_type": "markdown",
   "metadata": {},
   "source": [
    "# <center>Workflow for the CRC1333 project B07 - Technical Chemistry</center>\n",
    "# <center>Main notebook</center>"
   ]
  },
  {
   "cell_type": "markdown",
   "metadata": {},
   "source": [
    "This is the ```main notebook``` for on-line GC analysis in flow chemistry applications. Its purpose is to set up the framework of the dataset containing only information about the project, that do not change over the individual experiments within the project, such as its title, authors or description. It will be extended later on in the ```experimental notebook```."
   ]
  },
  {
   "cell_type": "markdown",
   "metadata": {},
   "source": [
    "Import necessary packages."
   ]
  },
  {
   "cell_type": "code",
   "execution_count": 12,
   "metadata": {},
   "outputs": [],
   "source": [
    "import os\n",
    "from pathlib import Path\n",
    "from sdRDM import DataModel"
   ]
  },
  {
   "attachments": {},
   "cell_type": "markdown",
   "metadata": {},
   "source": [
    "Load the data model as ```lib``` (=library). This can either be done by pulling it from the corresponding git repository or directly from the markdown file, which is contained in the ```specifications/``` directory. The first way is the recommended. The latter can be used in case of no internet connection. "
   ]
  },
  {
   "cell_type": "code",
   "execution_count": 3,
   "metadata": {},
   "outputs": [],
   "source": [
    "lib = DataModel.from_git(url='https://github.com/FAIRChemistry/datamodel_b07_tc.git')\n",
    "# lib = DataModel.from_git(url='https://github.com/FAIRChemistry/datamodel_b07_tc.git', commit='8748a18ee412d72aa1fd01aa80bfacbbb898a856')\n",
    "# lib = DataModel.from_markdown('specifications/datamodel_b07_tc.md')"
   ]
  },
  {
   "cell_type": "code",
   "execution_count": 4,
   "metadata": {},
   "outputs": [],
   "source": [
    "dataset.general_information.add_to_authors"
   ]
  },
  {
   "attachments": {},
   "cell_type": "markdown",
   "metadata": {},
   "source": [
    "Instantiate ```Dataset``` class of the data model. It is the root class of the data model containing all the other classes. The yet empty dataset is printed to showcase its structure in json format."
   ]
  },
  {
   "cell_type": "markdown",
   "metadata": {},
   "source": [
    "**Note that there is a fundamental difference between a dataset and a data model! Whereas the data model holds the hierarchically structured python classes created by sdRDM, the dataset comprises only the python classes that are instantiated yet, where multiple instances of the same class can be allowed.**"
   ]
  },
  {
   "cell_type": "code",
   "execution_count": 6,
   "metadata": {},
   "outputs": [],
   "source": [
    "## Initialize the dataset ##\n",
    "\n",
    "dataset = lib.Dataset()\n",
    "\n",
    "# Define name of the project, description as well as authors #\n",
    "dataset.general_information.title       = 'Electrocatalytic CO2-reduction on carbon'\n",
    "dataset.general_information.description = 'The aim of this project is to blablabla'\n",
    "\n",
    "# List with authors and their affiliation #\n",
    "authors      = [ 'Richard Schömig', 'Maximilian Schmidt' ] \n",
    "affiliations = [ 'University of Stuttgart', 'University of Stuttgart' ]\n",
    "\n",
    "for aut,aff in zip(authors,affiliations):\n",
    "    dataset.general_information.add_to_authors( name=aut, affiliation=aff )"
   ]
  },
  {
   "cell_type": "markdown",
   "metadata": {},
   "source": [
    "General metadata about the project is now added in the dataset and will be stored in a json file in the ```datasets/``` directory."
   ]
  },
  {
   "cell_type": "code",
   "execution_count": 7,
   "metadata": {},
   "outputs": [],
   "source": [
    "# Define name of dataset #\n",
    "dataset_name = 'b07.json'\n",
    "\n",
    "# Define output folder #\n",
    "path_to_datasets     = Path.cwd() / 'datasets'\n",
    "path_to_dataset_file = path_to_datasets / dataset_name\n",
    "\n",
    "# Write file #\n",
    "if not os.path.exists(path_to_datasets): os.makedirs(path_to_datasets)\n",
    "with open(path_to_dataset_file, \"w\") as f: f.write(dataset.json())"
   ]
  }
 ],
 "metadata": {
  "kernelspec": {
   "display_name": "b07",
   "language": "python",
   "name": "python3"
  },
  "language_info": {
   "codemirror_mode": {
    "name": "ipython",
    "version": 3
   },
   "file_extension": ".py",
   "mimetype": "text/x-python",
   "name": "python",
   "nbconvert_exporter": "python",
   "pygments_lexer": "ipython3",
   "version": "3.11.5"
  },
  "orig_nbformat": 4
 },
 "nbformat": 4,
 "nbformat_minor": 2
}
