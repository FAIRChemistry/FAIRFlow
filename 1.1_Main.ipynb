{
 "cells": [
  {
   "cell_type": "markdown",
   "metadata": {},
   "source": [
    "# <center>Workflow for the CRC1333 project B07 - Technical Chemistry</center>\n",
    "# <center>Main notebook</center>"
   ]
  },
  {
   "cell_type": "markdown",
   "metadata": {},
   "source": [
    "This is the ```main notebook``` for on-line GC analysis in flow chemistry applications. Its purpose is to set up the framework of the dataset containing only information about the project, that do not change over the individual experiments within the project, such as its title, authors or description. It will be extended later on in the ```experimental notebook```."
   ]
  },
  {
   "cell_type": "markdown",
   "metadata": {},
   "source": [
    "Import necessary packages."
   ]
  },
  {
   "cell_type": "code",
   "execution_count": 1,
   "metadata": {},
   "outputs": [],
   "source": [
    "from pathlib import Path\n",
    "from sdRDM import DataModel"
   ]
  },
  {
   "attachments": {},
   "cell_type": "markdown",
   "metadata": {},
   "source": [
    "Load the data model as ```lib``` (=library). This can either be done by pulling it from the corresponding git repository or directly from the markdown file, which is contained in the ```specifications/``` directory. The first way is the recommended. The latter can be used in case of no internet connection. "
   ]
  },
  {
   "cell_type": "code",
   "execution_count": 2,
   "metadata": {},
   "outputs": [],
   "source": [
    "lib = DataModel.from_git(url='https://github.com/FAIRChemistry/datamodel_b07_tc.git', commit='8748a18ee412d72aa1fd01aa80bfacbbb898a856')\n",
    "# lib = DataModel.from_markdown('specifications/datamodel_b07_tc.md')"
   ]
  },
  {
   "attachments": {},
   "cell_type": "markdown",
   "metadata": {},
   "source": [
    "Instantiate ```Dataset``` class of the data model. It is the root class of the data model containing all the other classes. The yet empty dataset is printed to showcase its structure in json format."
   ]
  },
  {
   "cell_type": "markdown",
   "metadata": {},
   "source": [
    "**Note that there is a fundamental difference between a dataset and a data model! Whereas the data model holds the hierarchically structured python classes created by sdRDM, the dataset comprises only the python classes that are instantiated yet, where multiple instances of the same class can be allowed.**"
   ]
  },
  {
   "cell_type": "code",
   "execution_count": 3,
   "metadata": {},
   "outputs": [
    {
     "name": "stdout",
     "output_type": "stream",
     "text": [
      "{\n",
      "  \"id\": \"dataset0\",\n",
      "  \"__source__\": {\n",
      "    \"root\": \"Dataset\",\n",
      "    \"repo\": \"https://github.com/FAIRChemistry/datamodel_b07_tc.git\",\n",
      "    \"commit\": \"b342319c31e24a3228fb1eb0627492dcd63f35d5\",\n",
      "    \"url\": \"https://github.com/FAIRChemistry/datamodel_b07_tc/tree/b342319c31e24a3228fb1eb0627492dcd63f35d5\"\n",
      "  }\n",
      "}\n"
     ]
    }
   ],
   "source": [
    "dataset = lib.Dataset()\n",
    "print(dataset.json())"
   ]
  },
  {
   "attachments": {},
   "cell_type": "markdown",
   "metadata": {},
   "source": [
    "Instantiate further classes of the data model and filling them with content, for example the title of the project, the authors and a project description into the data model. A class can either be instantiated ```empty``` , where the content is added ```afterwards```,"
   ]
  },
  {
   "cell_type": "code",
   "execution_count": 4,
   "metadata": {},
   "outputs": [],
   "source": [
    "gen_inf = lib.GeneralInformation()\n",
    "title = 'Electrocatalytic CO2-reduction on carbon'\n",
    "gen_inf.title = title\n",
    "description = 'The aim of this project is to blablabla'\n",
    "gen_inf.description = description"
   ]
  },
  {
   "cell_type": "markdown",
   "metadata": {},
   "source": [
    "or ```directly``` when the object is ```created```."
   ]
  },
  {
   "cell_type": "code",
   "execution_count": 5,
   "metadata": {},
   "outputs": [],
   "source": [
    "author_1 = lib.Author(name= 'Richard Schömig', affiliation = 'University of Stuttgart')\n",
    "author_2 = lib.Author(name= 'Maximilian Schmidt', affiliation = 'University of Stuttgart')\n",
    "gen_inf.authors = [author_1, author_2]"
   ]
  },
  {
   "cell_type": "markdown",
   "metadata": {},
   "source": [
    "The ```general_information``` is subsequently added to the dataset."
   ]
  },
  {
   "cell_type": "code",
   "execution_count": 6,
   "metadata": {},
   "outputs": [],
   "source": [
    "dataset.general_information = gen_inf"
   ]
  },
  {
   "cell_type": "markdown",
   "metadata": {},
   "source": [
    "The framework of the dataset is with some metadata about the project is now set up and will be stored in a json file in the ```datasets/``` directory."
   ]
  },
  {
   "cell_type": "code",
   "execution_count": 7,
   "metadata": {},
   "outputs": [],
   "source": [
    "current_directory = Path.cwd()\n",
    "path_to_datasets = current_directory / 'datasets'\n",
    "dataset_name = 'b07.json'\n",
    "path_to_dataset_file = path_to_datasets / dataset_name\n",
    "with open(path_to_dataset_file, \"w\") as f:\n",
    "  f.write(dataset.json())"
   ]
  }
 ],
 "metadata": {
  "kernelspec": {
   "display_name": "b07",
   "language": "python",
   "name": "python3"
  },
  "language_info": {
   "codemirror_mode": {
    "name": "ipython",
    "version": 3
   },
   "file_extension": ".py",
   "mimetype": "text/x-python",
   "name": "python",
   "nbconvert_exporter": "python",
   "pygments_lexer": "ipython3",
   "version": "3.10.4"
  },
  "orig_nbformat": 4
 },
 "nbformat": 4,
 "nbformat_minor": 2
}
