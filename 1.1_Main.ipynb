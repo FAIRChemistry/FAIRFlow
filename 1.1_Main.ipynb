{
 "cells": [
  {
   "cell_type": "markdown",
   "metadata": {},
   "source": [
    "# <center>Workflow for the CRC1333 project B07 - Technical Chemistry</center>\n",
    "# <center>Main notebook</center>"
   ]
  },
  {
   "cell_type": "markdown",
   "metadata": {},
   "source": [
    "This is the ```main notebook``` for on-line GC analysis in flow chemistry applications. Its purpose is to set up the framework of the dataset containing only information about the project, that do not change over the individual experiments within the project, such as its title, authors or description. It will be extended later on in the ```experimental notebook```."
   ]
  },
  {
   "cell_type": "code",
   "execution_count": 1,
   "metadata": {},
   "outputs": [],
   "source": [
    "# Import necessary packages #\n",
    "\n",
    "import os\n",
    "from pathlib import Path\n",
    "from sdRDM import DataModel"
   ]
  },
  {
   "attachments": {},
   "cell_type": "markdown",
   "metadata": {},
   "source": [
    "Provide a project title, description as well as a list of authors and their affiliations to initialize the basic meta data of this dataset"
   ]
  },
  {
   "cell_type": "code",
   "execution_count": 3,
   "metadata": {},
   "outputs": [],
   "source": [
    "## Definition of basic meta data of the project ##\n",
    "\n",
    "title       = 'Electrocatalytic CO2-reduction on carbon'\n",
    "description = 'The aim of this project is to blablabla'\n",
    "\n",
    "# List with authors and their affiliation #\n",
    "authors      = [ 'Richard Schömig', 'Maximilian Schmidt' ] \n",
    "affiliations = [ 'University of Stuttgart', 'University of Stuttgart' ]\n",
    "\n",
    "\n",
    "# Define name of dataset #\n",
    "dataset_name = 'b07.json'"
   ]
  },
  {
   "cell_type": "code",
   "execution_count": 6,
   "metadata": {},
   "outputs": [],
   "source": [
    "## Load the data model as ```lib``` (=library). This can either be done by pulling it from the corresponding git repository or ##\n",
    "## directly from the markdown file, which is contained in the ```specifications/``` directory. The first way is the recommended. ##\n",
    "## The latter can be used in case of no internet connection. ##\n",
    "\n",
    "lib = DataModel.from_git(url='https://github.com/FAIRChemistry/datamodel_b07_tc.git')\n",
    "# lib = DataModel.from_markdown('specifications/datamodel_b07_tc.md')\n",
    "\n",
    "# Initialize the dataset #\n",
    "dataset = lib.Dataset()\n",
    "\n",
    "# Define name of the project, description as well as authors #\n",
    "dataset.general_information.title       = title\n",
    "dataset.general_information.description = description\n",
    "\n",
    "# Add authors to the dataset #\n",
    "for aut,aff in zip(authors,affiliations):\n",
    "    dataset.general_information.add_to_authors( name=aut, affiliation=aff )\n",
    "\n",
    "# Define output folder #\n",
    "path_to_datasets     = Path.cwd() / 'datasets'\n",
    "path_to_dataset_file = path_to_datasets / dataset_name\n",
    "\n",
    "# Write file #\n",
    "if not os.path.exists(path_to_datasets): os.makedirs(path_to_datasets)\n",
    "with open(path_to_dataset_file, \"w\") as f: f.write(dataset.json())"
   ]
  }
 ],
 "metadata": {
  "kernelspec": {
   "display_name": "b07",
   "language": "python",
   "name": "python3"
  },
  "language_info": {
   "codemirror_mode": {
    "name": "ipython",
    "version": 3
   },
   "file_extension": ".py",
   "mimetype": "text/x-python",
   "name": "python",
   "nbconvert_exporter": "python",
   "pygments_lexer": "ipython3",
   "version": "3.11.5"
  },
  "orig_nbformat": 4
 },
 "nbformat": 4,
 "nbformat_minor": 2
}
