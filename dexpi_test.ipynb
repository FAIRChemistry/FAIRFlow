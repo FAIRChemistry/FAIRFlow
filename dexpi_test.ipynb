{
 "cells": [
  {
   "cell_type": "code",
   "execution_count": 3,
   "metadata": {},
   "outputs": [],
   "source": [
    "import os\n",
    "import xml.etree.ElementTree as ET\n",
    "import pandas as pd\n",
    "from datamodel_b07_tc.modified.plantsetup import PlantSetup\n",
    "from sdRDM import DataModel\n",
    "from pathlib import Path"
   ]
  },
  {
   "cell_type": "code",
   "execution_count": 15,
   "metadata": {},
   "outputs": [],
   "source": [
    "def DEXPI2sdRDM(filepath: Path,):\n",
    "    tree = ET.parse(filepath)\n",
    "    root = tree.getroot()\n",
    "    ID_list = pd.DataFrame(columns=[\"ID\", \"P&ID_name\", \"neighbors\"])\n",
    "\n",
    "    for equipment in root.findall(\"Equipment\"):\n",
    "        ID = equipment.get(\"ID\")\n",
    "        TagName = equipment.get(\"TagName\")\n",
    "        print(f\"equipment:{ID}, {TagName}\")\n",
    "        for generic_attribute in equipment.findall(\n",
    "            \"GenericAttributes/GenericAttribute\"\n",
    "        ):\n",
    "            if (\n",
    "                generic_attribute.get(\"Name\") == \"CLASS\"\n",
    "            ):\n",
    "                C = generic_attribute.get(\"Value\")\n",
    "                print(f\"class:{C}\")\n",
    "\n",
    "    for piping_component in root.findall(\n",
    "        \"PipingNetworkSystem//PipingComponent\"\n",
    "    ):\n",
    "        ID = piping_component.get(\"ID\")\n",
    "        TagName = piping_component.get(\"TagName\")\n",
    "        print(f\"piping_component:{ID}, {TagName}\")\n",
    "        for generic_attribute in piping_component.findall(\n",
    "            \"GenericAttributes/GenericAttribute\"\n",
    "        ):\n",
    "            if (\n",
    "                generic_attribute.get(\"Name\") == \"CLASS\"\n",
    "            ):\n",
    "                C = generic_attribute.get(\"Value\")\n",
    "                print(f\"class:{C}\")\n",
    "\n",
    "    for PNS in root.findall(\"PipingNetworkSystem/PipingNetworkSegment\"):\n",
    "        # identificate connection\n",
    "        for connection in PNS.findall(\"Connection\"):\n",
    "            FromID = connection.get(\"FromID\")\n",
    "            ToID = connection.get(\"ToID\")\n",
    "            print(f\"connection:{FromID}, {ToID}\")\n",
    "            for generic_attribute in connection.findall(\n",
    "                \"GenericAttributes/GenericAttribute\"\n",
    "            ):\n",
    "                if (\n",
    "                    generic_attribute.get(\"Name\") == \"CLASS\"\n",
    "                ):\n",
    "                    C = generic_attribute.get(\"Value\")\n",
    "                    print(f\"class:{C}\")\n",
    "\n",
    "    # ID_list\n",
    "    # print(f\"ID_list:{ID_list}\")\n"
   ]
  },
  {
   "cell_type": "code",
   "execution_count": 4,
   "metadata": {},
   "outputs": [],
   "source": [
    "root = Path(os.path.abspath(''))\n",
    "dexpi_file_path = root / \"data\" / \"plant_setup\" / \"b07.xml\""
   ]
  },
  {
   "cell_type": "code",
   "execution_count": 16,
   "metadata": {},
   "outputs": [
    {
     "name": "stdout",
     "output_type": "stream",
     "text": [
      "equipment:E_1, \n",
      "class:Gas cylinder\n",
      "equipment:E_2, \n",
      "class:Gas cylinder\n",
      "piping_component:PC_3, \n",
      "class:Valve, three way ball type\n",
      "connection:E_1, PC_3\n",
      "connection:PC_3, E_2\n"
     ]
    }
   ],
   "source": [
    "DEXPI2sdRDM(filepath=dexpi_file_path)"
   ]
  },
  {
   "cell_type": "code",
   "execution_count": null,
   "metadata": {},
   "outputs": [],
   "source": []
  }
 ],
 "metadata": {
  "kernelspec": {
   "display_name": "b07",
   "language": "python",
   "name": "python3"
  },
  "language_info": {
   "codemirror_mode": {
    "name": "ipython",
    "version": 3
   },
   "file_extension": ".py",
   "mimetype": "text/x-python",
   "name": "python",
   "nbconvert_exporter": "python",
   "pygments_lexer": "ipython3",
   "version": "3.10.4"
  }
 },
 "nbformat": 4,
 "nbformat_minor": 2
}
