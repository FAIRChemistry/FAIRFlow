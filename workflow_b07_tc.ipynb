{
 "cells": [
  {
   "attachments": {},
   "cell_type": "markdown",
   "metadata": {},
   "source": [
    "# Workflow for the CRC1333 project B07 - Technical Chemistry"
   ]
  },
  {
   "attachments": {},
   "cell_type": "markdown",
   "metadata": {},
   "source": [
    "**Import necessary packages.**"
   ]
  },
  {
   "cell_type": "code",
   "execution_count": 4,
   "metadata": {},
   "outputs": [],
   "source": [
    "import sklearn\n",
    "\n",
    "import matplotlib.pyplot as plt\n",
    "import numpy as np\n",
    "import networkx as nx\n",
    "import pandas as pd\n",
    "\n",
    "from datetime import datetime\n",
    "from sdRDM import DataModel\n",
    "from modules import GCParser\n",
    "from modules import GstaticParser\n",
    "from modules import MFMParser\n",
    "from modules import Calculator\n",
    "from pathlib import Path\n",
    "# from DEXPI2sdRDM import DEXPI2sdRDM"
   ]
  },
  {
   "attachments": {},
   "cell_type": "markdown",
   "metadata": {},
   "source": [
    "### Set up the data model and the correct path to the working directory."
   ]
  },
  {
   "attachments": {},
   "cell_type": "markdown",
   "metadata": {},
   "source": [
    "**Load data model from markdown file.**"
   ]
  },
  {
   "cell_type": "code",
   "execution_count": 5,
   "metadata": {},
   "outputs": [],
   "source": [
    "model = DataModel.from_markdown('specifications/datamodel_b07_tc.md')"
   ]
  },
  {
   "cell_type": "code",
   "execution_count": 6,
   "metadata": {},
   "outputs": [],
   "source": [
    "# model = DataModel.from_git(url='https://github.com/FAIRChemistry/datamodel_b07_tc.git')"
   ]
  },
  {
   "attachments": {},
   "cell_type": "markdown",
   "metadata": {},
   "source": [
    "**Set path to current working directory.**"
   ]
  },
  {
   "cell_type": "code",
   "execution_count": 7,
   "metadata": {},
   "outputs": [],
   "source": [
    "path_to_dataset = Path.cwd()"
   ]
  },
  {
   "attachments": {},
   "cell_type": "markdown",
   "metadata": {},
   "source": [
    "**Initialize Dataset of the project.**"
   ]
  },
  {
   "cell_type": "code",
   "execution_count": 8,
   "metadata": {},
   "outputs": [
    {
     "data": {
      "text/plain": [
       "{'id': 'dataset0', 'general_information': None, 'experiments': []}"
      ]
     },
     "execution_count": 8,
     "metadata": {},
     "output_type": "execute_result"
    }
   ],
   "source": [
    "b07 = model.Dataset()\n",
    "b07.__dict__"
   ]
  },
  {
   "attachments": {},
   "cell_type": "markdown",
   "metadata": {},
   "source": [
    "**Store general information about the project like the title of the project, the authors and a project description into the data model.**"
   ]
  },
  {
   "cell_type": "code",
   "execution_count": 9,
   "metadata": {},
   "outputs": [
    {
     "name": "stdout",
     "output_type": "stream",
     "text": [
      "{'id': 'dataset0', 'general_information': GeneralInformation(id='generalinformation0', title='Electrocatalytic CO2-reduction on carbon', description='The aim of this project is to blablabla', authors=[Author(id='author0', name='Richard Schömig', affiliation='University of Stuttgart'), Author(id='author1', name='Maximilian Schmidt', affiliation='University of Stuttgart')]), 'experiments': []}\n"
     ]
    }
   ],
   "source": [
    "gen_inf = model.GeneralInformation()\n",
    "title = 'Electrocatalytic CO2-reduction on carbon'\n",
    "gen_inf.title = title\n",
    "description = 'The aim of this project is to blablabla'\n",
    "gen_inf.description = description\n",
    "author_1 = model.Author(name= 'Richard Schömig', affiliation = 'University of Stuttgart')\n",
    "author_2 = model.Author(name= 'Maximilian Schmidt', affiliation = 'University of Stuttgart')\n",
    "gen_inf.authors = [author_1, author_2]\n",
    "b07.general_information= gen_inf\n",
    "# b07.general_information = gen_inf\n",
    "# gen_inf.add_to_authors(name='test')\n",
    "# gen_inf.add_to_authors(name='test')\n",
    "print(b07.__dict__)"
   ]
  },
  {
   "cell_type": "code",
   "execution_count": 10,
   "metadata": {},
   "outputs": [],
   "source": [
    "# calculation=model.Calculation(calibrations= list(cali_dict.values()))\n",
    "# experiment_1=model.Experiment(calculations=calculation)\n",
    "# b07=model.Dataset(experiments=[experiment_1])\n",
    "# # b07.add_experiment_to_experiments(experiment_1)\n",
    "# b07.general_information=general_information\n",
    "# b07.__dict__\n",
    "# # b07"
   ]
  },
  {
   "attachments": {},
   "cell_type": "markdown",
   "metadata": {},
   "source": [
    "**Instantiate an experiment objects which holds all the information about one single experiment.**"
   ]
  },
  {
   "cell_type": "code",
   "execution_count": 11,
   "metadata": {},
   "outputs": [],
   "source": [
    "experiment = model.Experiment()"
   ]
  },
  {
   "attachments": {},
   "cell_type": "markdown",
   "metadata": {},
   "source": [
    "### Load metadata into the datamodel."
   ]
  },
  {
   "attachments": {},
   "cell_type": "markdown",
   "metadata": {},
   "source": [
    "**Load P&ID file.**"
   ]
  },
  {
   "cell_type": "code",
   "execution_count": 12,
   "metadata": {},
   "outputs": [],
   "source": [
    "# filename = \"column\"\n",
    "# path = \"./f'{filename}'\""
   ]
  },
  {
   "attachments": {},
   "cell_type": "markdown",
   "metadata": {},
   "source": [
    "**Load DEXPI conform P&ID file into the data model using the ``DEXPI2sdRDM`` module.**"
   ]
  },
  {
   "cell_type": "code",
   "execution_count": 13,
   "metadata": {},
   "outputs": [],
   "source": [
    "# DEXPI2sdRDM(\n",
    "# )"
   ]
  },
  {
   "attachments": {},
   "cell_type": "markdown",
   "metadata": {},
   "source": [
    "**Create an instance of the ``GstaticParser`` to parse Gamry output files and show available files in the selected directory.**"
   ]
  },
  {
   "cell_type": "code",
   "execution_count": 14,
   "metadata": {},
   "outputs": [
    {
     "name": "stdout",
     "output_type": "stream",
     "text": [
      "0: GSTATIC(Potentiostat)\n"
     ]
    }
   ],
   "source": [
    "gstaticparser = GstaticParser(path_to_dataset / 'data')\n",
    "dict_of_gstatic_files = gstaticparser.enumerate_available_files()\n",
    "for index, gstatic_file in dict_of_gstatic_files.items():\n",
    "    print(f\"{index}: {gstatic_file}\")\n",
    "# available_files = gstaticparser.available_files\n",
    "# print(available_files)"
   ]
  },
  {
   "cell_type": "code",
   "execution_count": 15,
   "metadata": {},
   "outputs": [],
   "source": [
    "# measurements = model.Measurement()"
   ]
  },
  {
   "attachments": {},
   "cell_type": "markdown",
   "metadata": {},
   "source": [
    "**Chose specific file and extract the metadata from it using the ``GstaticParser``.**"
   ]
  },
  {
   "cell_type": "code",
   "execution_count": 16,
   "metadata": {},
   "outputs": [
    {
     "name": "stdout",
     "output_type": "stream",
     "text": [
      "{\n",
      "  \"id\": \"dataset0\",\n",
      "  \"general_information\": {\n",
      "    \"id\": \"generalinformation0\",\n",
      "    \"title\": \"Electrocatalytic CO2-reduction on carbon\",\n",
      "    \"description\": \"The aim of this project is to blablabla\",\n",
      "    \"authors\": [\n",
      "      {\n",
      "        \"id\": \"author0\",\n",
      "        \"name\": \"Richard Sch\\u00f6mig\",\n",
      "        \"affiliation\": \"University of Stuttgart\"\n",
      "      },\n",
      "      {\n",
      "        \"id\": \"author1\",\n",
      "        \"name\": \"Maximilian Schmidt\",\n",
      "        \"affiliation\": \"University of Stuttgart\"\n",
      "      }\n",
      "    ]\n",
      "  },\n",
      "  \"experiments\": [\n",
      "    {\n",
      "      \"id\": \"experiment0\",\n",
      "      \"measurements\": [\n",
      "        {\n",
      "          \"id\": \"potentiostaticmeasurement0\",\n",
      "          \"metadata\": [\n",
      "            {\n",
      "              \"id\": \"metadata0\",\n",
      "              \"parameter\": \"Galvanostatic Scan\",\n",
      "              \"abbreviation\": \"TITLE\",\n",
      "              \"description\": \"Test Identifier\"\n",
      "            },\n",
      "            {\n",
      "              \"id\": \"metadata1\",\n",
      "              \"parameter\": \"7.2.2023\",\n",
      "              \"abbreviation\": \"DATE\",\n",
      "              \"description\": \"Date\"\n",
      "            },\n",
      "            {\n",
      "              \"id\": \"metadata2\",\n",
      "              \"parameter\": \"9:14:53\",\n",
      "              \"abbreviation\": \"TIME\",\n",
      "              \"description\": \"Time\"\n",
      "            },\n",
      "            {\n",
      "              \"id\": \"metadata3\",\n",
      "              \"parameter\": \"1\",\n",
      "              \"abbreviation\": \"NOTES\",\n",
      "              \"description\": \"Notes...\"\n",
      "            },\n",
      "            {\n",
      "              \"id\": \"metadata4\",\n",
      "              \"abbreviation\": \"nan\"\n",
      "            },\n",
      "            {\n",
      "              \"id\": \"metadata5\",\n",
      "              \"parameter\": \"REF3000-19129\",\n",
      "              \"abbreviation\": \"PSTAT\",\n",
      "              \"description\": \"Potentiostat\"\n",
      "            },\n",
      "            {\n",
      "              \"id\": \"metadata6\",\n",
      "              \"parameter\": \"-2.00000E+002\",\n",
      "              \"abbreviation\": \"IINIT\",\n",
      "              \"description\": \"Initial I (mA/cm^2)\"\n",
      "            },\n",
      "            {\n",
      "              \"id\": \"metadata7\",\n",
      "              \"parameter\": \"3.60000E+003\",\n",
      "              \"abbreviation\": \"TINIT\",\n",
      "              \"description\": \"Initial Time (s)\"\n",
      "            },\n",
      "            {\n",
      "              \"id\": \"metadata8\",\n",
      "              \"parameter\": \"-2.00000E+002\",\n",
      "              \"abbreviation\": \"IFINAL\",\n",
      "              \"description\": \"Final I (mA/cm^2)\"\n",
      "            },\n",
      "            {\n",
      "              \"id\": \"metadata9\",\n",
      "              \"parameter\": \"0.00000E+000\",\n",
      "              \"abbreviation\": \"TFINAL\",\n",
      "              \"description\": \"Final Time (s)\"\n",
      "            },\n",
      "            {\n",
      "              \"id\": \"metadata10\",\n",
      "              \"parameter\": \"1.00000E+000\",\n",
      "              \"abbreviation\": \"SAMPLETIME\",\n",
      "              \"description\": \"Sample Period (s)\"\n",
      "            },\n",
      "            {\n",
      "              \"id\": \"metadata11\",\n",
      "              \"parameter\": \"1.00000E+000\",\n",
      "              \"abbreviation\": \"AREA\",\n",
      "              \"description\": \"Sample Area (cm^2)\"\n",
      "            },\n",
      "            {\n",
      "              \"id\": \"metadata12\",\n",
      "              \"parameter\": \"7.87000E+000\",\n",
      "              \"abbreviation\": \"DENSITY\",\n",
      "              \"description\": \"Density (g/cm^3)\"\n",
      "            },\n",
      "            {\n",
      "              \"id\": \"metadata13\",\n",
      "              \"parameter\": \"2.79200E+001\",\n",
      "              \"abbreviation\": \"EQUIV\",\n",
      "              \"description\": \"Equiv. Wt\"\n",
      "            },\n",
      "            {\n",
      "              \"id\": \"metadata14\",\n",
      "              \"parameter\": \"T\",\n",
      "              \"abbreviation\": \"IRCOMP\",\n",
      "              \"description\": \"IR Comp\"\n",
      "            },\n",
      "            {\n",
      "              \"id\": \"metadata15\",\n",
      "              \"parameter\": \"0\",\n",
      "              \"abbreviation\": \"EOC\",\n",
      "              \"description\": \"Open Circuit (V)\"\n",
      "            },\n",
      "            {\n",
      "              \"id\": \"metadata16\",\n",
      "              \"parameter\": \"TRUE\",\n",
      "              \"abbreviation\": \"SEQUENCER\",\n",
      "              \"description\": \"Run as Sequence\"\n",
      "            },\n",
      "            {\n",
      "              \"id\": \"metadata17\",\n",
      "              \"parameter\": \"5\",\n",
      "              \"abbreviation\": \"PSTATMODEL\",\n",
      "              \"description\": \"Pstat Model\"\n",
      "            },\n",
      "            {\n",
      "              \"id\": \"metadata18\",\n",
      "              \"parameter\": \"REF3000-19129\",\n",
      "              \"abbreviation\": \"PSTATSECTION\",\n",
      "              \"description\": \"Pstat Section\"\n",
      "            },\n",
      "            {\n",
      "              \"id\": \"metadata19\",\n",
      "              \"parameter\": \"19129\",\n",
      "              \"abbreviation\": \"PSTATSERIALNO\",\n",
      "              \"description\": \"Pstat Serial Number\"\n",
      "            },\n",
      "            {\n",
      "              \"id\": \"metadata20\",\n",
      "              \"parameter\": \"0\",\n",
      "              \"abbreviation\": \"CTRLMODE\",\n",
      "              \"description\": \"Control Mode\"\n",
      "            },\n",
      "            {\n",
      "              \"id\": \"metadata21\",\n",
      "              \"parameter\": \"0\",\n",
      "              \"abbreviation\": \"ELECTROMETER\",\n",
      "              \"description\": \"RE=0 or CS=1\"\n",
      "            },\n",
      "            {\n",
      "              \"id\": \"metadata22\",\n",
      "              \"parameter\": \"0\",\n",
      "              \"abbreviation\": \"IESTAB\",\n",
      "              \"description\": \"I/E Stability\"\n",
      "            },\n",
      "            {\n",
      "              \"id\": \"metadata23\",\n",
      "              \"parameter\": \"4\",\n",
      "              \"abbreviation\": \"CASPEED\",\n",
      "              \"description\": \"Control Amp Speed\"\n",
      "            },\n",
      "            {\n",
      "              \"id\": \"metadata24\",\n",
      "              \"parameter\": \"1\",\n",
      "              \"abbreviation\": \"CONVENTION\",\n",
      "              \"description\": \"Current Convention\"\n",
      "            },\n",
      "            {\n",
      "              \"id\": \"metadata25\",\n",
      "              \"parameter\": \"2\",\n",
      "              \"abbreviation\": \"ICHRANGE\",\n",
      "              \"description\": \"Ich Range\"\n",
      "            },\n",
      "            {\n",
      "              \"id\": \"metadata26\",\n",
      "              \"parameter\": \"T\",\n",
      "              \"abbreviation\": \"ICHRANGEMODE\",\n",
      "              \"description\": \"Ich Auto Range\"\n",
      "            },\n",
      "            {\n",
      "              \"id\": \"metadata27\",\n",
      "              \"parameter\": \"F\",\n",
      "              \"abbreviation\": \"ICHOFFSETENABLE\",\n",
      "              \"description\": \"Ich Offset Enable\"\n",
      "            },\n",
      "            {\n",
      "              \"id\": \"metadata28\",\n",
      "              \"parameter\": \"0\",\n",
      "              \"abbreviation\": \"ICHOFFSET\",\n",
      "              \"description\": \"Ich Offset (V)\"\n",
      "            },\n",
      "            {\n",
      "              \"id\": \"metadata29\",\n",
      "              \"parameter\": \"3\",\n",
      "              \"abbreviation\": \"ICHFILTER\",\n",
      "              \"description\": \"Ich Filter\"\n",
      "            },\n",
      "            {\n",
      "              \"id\": \"metadata30\",\n",
      "              \"parameter\": \"3\",\n",
      "              \"abbreviation\": \"VCHRANGE\",\n",
      "              \"description\": \"Vch Range\"\n",
      "            },\n",
      "            {\n",
      "              \"id\": \"metadata31\",\n",
      "              \"parameter\": \"T\",\n",
      "              \"abbreviation\": \"VCHRANGEMODE\",\n",
      "              \"description\": \"Vch Auto Range\"\n",
      "            },\n",
      "            {\n",
      "              \"id\": \"metadata32\",\n",
      "              \"parameter\": \"F\",\n",
      "              \"abbreviation\": \"VCHOFFSETENABLE\",\n",
      "              \"description\": \"Vch Offset Enable\"\n",
      "            },\n",
      "            {\n",
      "              \"id\": \"metadata33\",\n",
      "              \"parameter\": \"0\",\n",
      "              \"abbreviation\": \"VCHOFFSET\",\n",
      "              \"description\": \"Vch Offset (V)\"\n",
      "            },\n",
      "            {\n",
      "              \"id\": \"metadata34\",\n",
      "              \"parameter\": \"1\",\n",
      "              \"abbreviation\": \"VCHFILTER\",\n",
      "              \"description\": \"Vch Filter\"\n",
      "            },\n",
      "            {\n",
      "              \"id\": \"metadata35\",\n",
      "              \"parameter\": \"2\",\n",
      "              \"abbreviation\": \"ACHRANGE\",\n",
      "              \"description\": \"Ach Range\"\n",
      "            },\n",
      "            {\n",
      "              \"id\": \"metadata36\",\n",
      "              \"parameter\": \"F\",\n",
      "              \"abbreviation\": \"ACHOFFSETENABLE\",\n",
      "              \"description\": \"Ach Offset Enable\"\n",
      "            },\n",
      "            {\n",
      "              \"id\": \"metadata37\",\n",
      "              \"parameter\": \"0\",\n",
      "              \"abbreviation\": \"ACHOFFSET\",\n",
      "              \"description\": \"Ach Offset (V)\"\n",
      "            },\n",
      "            {\n",
      "              \"id\": \"metadata38\",\n",
      "              \"parameter\": \"1\",\n",
      "              \"abbreviation\": \"ACHFILTER\",\n",
      "              \"description\": \"Ach Filter\"\n",
      "            },\n",
      "            {\n",
      "              \"id\": \"metadata39\",\n",
      "              \"parameter\": \"4\",\n",
      "              \"abbreviation\": \"IERANGELOWERLIMIT\",\n",
      "              \"description\": \"I/E Range Lower Limit\"\n",
      "            },\n",
      "            {\n",
      "              \"id\": \"metadata40\",\n",
      "              \"parameter\": \"F\",\n",
      "              \"abbreviation\": \"IERANGEMODE\",\n",
      "              \"description\": \"I/E AutoRange\"\n",
      "            },\n",
      "            {\n",
      "              \"id\": \"metadata41\",\n",
      "              \"parameter\": \"11\",\n",
      "              \"abbreviation\": \"IERANGE\",\n",
      "              \"description\": \"I/E Range\"\n",
      "            },\n",
      "            {\n",
      "              \"id\": \"metadata42\",\n",
      "              \"parameter\": \"F\",\n",
      "              \"abbreviation\": \"POSFEEDENABLE\",\n",
      "              \"description\": \"Positive Feedback IR Comp\"\n",
      "            },\n",
      "            {\n",
      "              \"id\": \"metadata43\",\n",
      "              \"parameter\": \"0\",\n",
      "              \"abbreviation\": \"POSFEEDRESISTANCE\",\n",
      "              \"description\": \"Positive Feedback Resistance (ohm)\"\n",
      "            },\n",
      "            {\n",
      "              \"id\": \"metadata44\",\n",
      "              \"parameter\": \"0\",\n",
      "              \"abbreviation\": \"ACHSELECT\",\n",
      "              \"description\": \"Ach Select\"\n",
      "            },\n",
      "            {\n",
      "              \"id\": \"metadata45\",\n",
      "              \"parameter\": \"14\",\n",
      "              \"abbreviation\": \"SENSECABLEID\",\n",
      "              \"description\": \"Sense Cable ID\"\n",
      "            },\n",
      "            {\n",
      "              \"id\": \"metadata46\",\n",
      "              \"parameter\": \"13\",\n",
      "              \"abbreviation\": \"PWRCABLEID\",\n",
      "              \"description\": \"Power Cable ID\"\n",
      "            },\n",
      "            {\n",
      "              \"id\": \"metadata47\",\n",
      "              \"parameter\": \"11/22/2022\",\n",
      "              \"abbreviation\": \"DCCALDATE\",\n",
      "              \"description\": \"DC Calibration Date\"\n",
      "            },\n",
      "            {\n",
      "              \"id\": \"metadata48\",\n",
      "              \"parameter\": \"nan\",\n",
      "              \"abbreviation\": \"ACCALDATE\",\n",
      "              \"description\": \"AC Calibration Date\"\n",
      "            },\n",
      "            {\n",
      "              \"id\": \"metadata49\",\n",
      "              \"parameter\": \"1\",\n",
      "              \"abbreviation\": \"THERMOSELECT\",\n",
      "              \"description\": \"Thermo Select\"\n",
      "            },\n",
      "            {\n",
      "              \"id\": \"metadata50\",\n",
      "              \"parameter\": \"7.07\",\n",
      "              \"abbreviation\": \"FRAMEWORKVERSION\",\n",
      "              \"description\": \"Framework Version\"\n",
      "            },\n",
      "            {\n",
      "              \"id\": \"metadata51\",\n",
      "              \"parameter\": \"4.35\",\n",
      "              \"abbreviation\": \"INSTRUMENTVERSION\",\n",
      "              \"description\": \"Instrument Version\"\n",
      "            },\n",
      "            {\n",
      "              \"id\": \"metadata52\",\n",
      "              \"parameter\": \"0\",\n",
      "              \"abbreviation\": \"COMPLIANCEVOLTAGE\",\n",
      "              \"description\": \"Compliance Voltage\"\n",
      "            }\n",
      "          ]\n",
      "        }\n",
      "      ]\n",
      "    }\n",
      "  ],\n",
      "  \"__source__\": {\n",
      "    \"root\": \"Dataset\"\n",
      "  }\n",
      "}\n"
     ]
    },
    {
     "name": "stderr",
     "output_type": "stream",
     "text": [
      "/home/shambles/miniconda3/envs/b07/lib/python3.10/site-packages/sdRDM/base/datamodel.py:213: UserWarning: No 'URL' and 'Commit' specified. This model might not be re-usable.\n",
      "  warnings.warn(\n"
     ]
    }
   ],
   "source": [
    "gstatic_file = dict_of_gstatic_files[0]\n",
    "gstatic_meta_df, gstatic_meta = gstaticparser.extract_metadata(gstatic_file)\n",
    "# ExPot = model.PotentiostaticMeasurement()\n",
    "# experiment.add_to_measurements(gstatic_meta)\n",
    "experiment.measurements = [gstatic_meta]\n",
    "# gstatic_meta_df\n",
    "# experiment.__dict__\n",
    "# b07.add_to_experiments(experiment)\n",
    "b07.experiments=[experiment]\n",
    "print(b07.json())"
   ]
  },
  {
   "attachments": {},
   "cell_type": "markdown",
   "metadata": {},
   "source": [
    "**Get initial current in mA and initial time in s.**"
   ]
  },
  {
   "cell_type": "code",
   "execution_count": 17,
   "metadata": {},
   "outputs": [
    {
     "data": {
      "text/plain": [
       "(-200.0, 3600.0)"
      ]
     },
     "execution_count": 17,
     "metadata": {},
     "output_type": "execute_result"
    }
   ],
   "source": [
    "query_IINIT = '{measurements {metadata (abbreviation: IINIT) {parameter}}}'\n",
    "I_init= float(b07.query(query_IINIT)['measurements'][0]['metadata'][0]['parameter'])\n",
    "\n",
    "query_TINIT = '{measurements {metadata (abbreviation: TINIT) {parameter}}}'\n",
    "T_init = float(b07.query(query_TINIT)['measurements'][0]['metadata'][0]['parameter'])\n",
    "\n",
    "I_init, T_init"
   ]
  },
  {
   "attachments": {},
   "cell_type": "markdown",
   "metadata": {},
   "source": [
    "**Create an instance of the ``MFMParser`` to parse MFM output files and show available files in the selected directory.**"
   ]
  },
  {
   "cell_type": "code",
   "execution_count": 18,
   "metadata": {},
   "outputs": [
    {
     "name": "stdout",
     "output_type": "stream",
     "text": [
      "0: Bench-2h-GSS_D9-pH70-1303-C4-2103-1_200_50c_24h\n",
      "1: PX409-USBH\n"
     ]
    }
   ],
   "source": [
    "mfmparser = MFMParser(path_to_dataset / 'data')\n",
    "dict_of_mfm_files = mfmparser.enumerate_available_files()\n",
    "for index, mfmfile in dict_of_mfm_files.items():\n",
    "    print(f\"{index}: {mfmfile}\")"
   ]
  },
  {
   "attachments": {},
   "cell_type": "markdown",
   "metadata": {},
   "source": [
    "**Chose specific file and extract the metadata from it using the ``MFMParser``.**"
   ]
  },
  {
   "cell_type": "code",
   "execution_count": 19,
   "metadata": {},
   "outputs": [],
   "source": [
    "mfm_file = dict_of_mfm_files[0]"
   ]
  },
  {
   "cell_type": "code",
   "execution_count": 20,
   "metadata": {},
   "outputs": [
    {
     "data": {
      "text/plain": [
       "'ml/s'"
      ]
     },
     "execution_count": 20,
     "metadata": {},
     "output_type": "execute_result"
    }
   ],
   "source": [
    "model.enums.Unit.MILLILITERPERSECOND.value"
   ]
  },
  {
   "cell_type": "code",
   "execution_count": 21,
   "metadata": {},
   "outputs": [
    {
     "ename": "AttributeError",
     "evalue": "time",
     "output_type": "error",
     "traceback": [
      "\u001b[0;31m---------------------------------------------------------------------------\u001b[0m",
      "\u001b[0;31mAttributeError\u001b[0m                            Traceback (most recent call last)",
      "\u001b[1;32m/mnt/c/Users/rscho/Documents/GitHub/datamodel_b07_tc/workflow_b07_tc.ipynb Cell 34\u001b[0m in \u001b[0;36m<cell line: 1>\u001b[0;34m()\u001b[0m\n\u001b[0;32m----> <a href='vscode-notebook-cell://wsl%2Bubuntu-22.04/mnt/c/Users/rscho/Documents/GitHub/datamodel_b07_tc/workflow_b07_tc.ipynb#X45sdnNjb2RlLXJlbW90ZQ%3D%3D?line=0'>1</a>\u001b[0m mfm_exp_data_df, mfm_exp_data \u001b[39m=\u001b[39m mfmparser\u001b[39m.\u001b[39;49mextract_exp_data(mfm_file)\n",
      "File \u001b[0;32m/mnt/c/Users/rscho/Documents/GitHub/datamodel_b07_tc/modules/readers/mfmparser.py:76\u001b[0m, in \u001b[0;36mMFMParser.extract_exp_data\u001b[0;34m(self, filestem)\u001b[0m\n\u001b[1;32m     69\u001b[0m datetime \u001b[39m=\u001b[39m \u001b[39mlist\u001b[39m(exp_data_df[\u001b[39m\"\u001b[39m\u001b[39mDatetime\u001b[39m\u001b[39m\"\u001b[39m]\u001b[39m.\u001b[39mastype(\u001b[39m\"\u001b[39m\u001b[39mstr\u001b[39m\u001b[39m\"\u001b[39m))\n\u001b[1;32m     70\u001b[0m \u001b[39m# Data(\u001b[39;00m\n\u001b[1;32m     71\u001b[0m \u001b[39m# values=list(exp_data_df[\"datetime\"]),\u001b[39;00m\n\u001b[1;32m     72\u001b[0m \u001b[39m# .dt.to_pydatetime()\u001b[39;00m\n\u001b[1;32m     73\u001b[0m \u001b[39m#     unit=Unit.DATETIME,\u001b[39;00m\n\u001b[1;32m     74\u001b[0m \u001b[39m# )\u001b[39;00m\n\u001b[1;32m     75\u001b[0m time \u001b[39m=\u001b[39m Data(\n\u001b[0;32m---> 76\u001b[0m     quantity\u001b[39m=\u001b[39mQuantity\u001b[39m.\u001b[39;49mtime\u001b[39m.\u001b[39mvalue,\n\u001b[1;32m     77\u001b[0m     values\u001b[39m=\u001b[39m\u001b[39mlist\u001b[39m(exp_data_df[\u001b[39m\"\u001b[39m\u001b[39mTime\u001b[39m\u001b[39m\"\u001b[39m]),\n\u001b[1;32m     78\u001b[0m     unit\u001b[39m=\u001b[39mUnit\u001b[39m.\u001b[39mSECONDS\u001b[39m.\u001b[39mvalue,\n\u001b[1;32m     79\u001b[0m )\n\u001b[1;32m     80\u001b[0m signal \u001b[39m=\u001b[39m Data(\n\u001b[1;32m     81\u001b[0m     quantity\u001b[39m=\u001b[39mQuantity\u001b[39m.\u001b[39msignal\u001b[39m.\u001b[39mvalue,\n\u001b[1;32m     82\u001b[0m     values\u001b[39m=\u001b[39m\u001b[39mlist\u001b[39m(exp_data_df[\u001b[39m\"\u001b[39m\u001b[39mSignal\u001b[39m\u001b[39m\"\u001b[39m]),\n\u001b[1;32m     83\u001b[0m     unit\u001b[39m=\u001b[39mUnit\u001b[39m.\u001b[39mNONE\u001b[39m.\u001b[39mvalue,\n\u001b[1;32m     84\u001b[0m )\n\u001b[1;32m     85\u001b[0m flow_rate \u001b[39m=\u001b[39m Data(\n\u001b[1;32m     86\u001b[0m     quantity\u001b[39m=\u001b[39mQuantity\u001b[39m.\u001b[39mflow_rate\u001b[39m.\u001b[39mvalue,\n\u001b[1;32m     87\u001b[0m     values\u001b[39m=\u001b[39m\u001b[39mlist\u001b[39m(exp_data_df[\u001b[39m\"\u001b[39m\u001b[39mFlow_rate\u001b[39m\u001b[39m\"\u001b[39m]),\n\u001b[1;32m     88\u001b[0m     unit\u001b[39m=\u001b[39mUnit\u001b[39m.\u001b[39mMILLILITERPERSECOND\u001b[39m.\u001b[39mvalue,\n\u001b[1;32m     89\u001b[0m )\n",
      "File \u001b[0;32m~/miniconda3/envs/b07/lib/python3.10/enum.py:437\u001b[0m, in \u001b[0;36mEnumMeta.__getattr__\u001b[0;34m(cls, name)\u001b[0m\n\u001b[1;32m    435\u001b[0m     \u001b[39mreturn\u001b[39;00m \u001b[39mcls\u001b[39m\u001b[39m.\u001b[39m_member_map_[name]\n\u001b[1;32m    436\u001b[0m \u001b[39mexcept\u001b[39;00m \u001b[39mKeyError\u001b[39;00m:\n\u001b[0;32m--> 437\u001b[0m     \u001b[39mraise\u001b[39;00m \u001b[39mAttributeError\u001b[39;00m(name) \u001b[39mfrom\u001b[39;00m \u001b[39mNone\u001b[39m\n",
      "\u001b[0;31mAttributeError\u001b[0m: time"
     ]
    }
   ],
   "source": [
    "mfm_exp_data_df, mfm_exp_data = mfmparser.extract_exp_data(mfm_file)\n",
    "# mfm_exp_data_df\n",
    "# mfm_exp_data_df['datetime']#.dt.to_pydatetime()\n",
    "# pd.to_datetime(mfm_exp_data_df['datetime'])#.tolist()\n",
    "# mfm_exp_data_df.dropna().to_csv('mfm_exp_data_df.csv')\n",
    "# list_of_types = mfmparser.extract_exp_data(mfm_file)\n"
   ]
  },
  {
   "cell_type": "code",
   "execution_count": null,
   "metadata": {},
   "outputs": [],
   "source": [
    "timestamp_object = mfm_exp_data_df.at[100000,'datetime'].to_pydatetime()\n",
    "timestamp_object\n",
    "# datetime.fromtimestamp(timestamp_object)"
   ]
  },
  {
   "cell_type": "code",
   "execution_count": null,
   "metadata": {},
   "outputs": [],
   "source": [
    "gcparser = GCParser(path_to_dataset / 'data')\n",
    "dict_of_gcmd_files = gcparser.enumerate_available_files()\n",
    "for index, gcmd_file in dict_of_gcmd_files.items():\n",
    "    print(f\"{index}: {gcmd_file}\")"
   ]
  },
  {
   "cell_type": "code",
   "execution_count": null,
   "metadata": {},
   "outputs": [],
   "source": [
    "gcmd_file = dict_of_gcmd_files[0]\n",
    "# print(gcmdparser._available_files[gcm]\n",
    "# )\n",
    "metadata, metadata_df = gcparser.extract_metadata(gcmd_file)\n",
    "metadata_df"
   ]
  },
  {
   "cell_type": "code",
   "execution_count": null,
   "metadata": {},
   "outputs": [],
   "source": [
    "inj_date = metadata_df.at[9, 'column_2']\n",
    "inj_date"
   ]
  },
  {
   "cell_type": "code",
   "execution_count": null,
   "metadata": {},
   "outputs": [],
   "source": [
    "inj_date_datetime = datetime.strptime(inj_date, '%d-%b-%y, %H:%M:%S')\n",
    "inj_date_datetime"
   ]
  },
  {
   "cell_type": "code",
   "execution_count": null,
   "metadata": {},
   "outputs": [],
   "source": [
    "vol_flow = []\n",
    "m = 10\n",
    "for i, time in enumerate(mfm_exp_data_df['datetime']):\n",
    "    if time.to_pydatetime() == inj_date_datetime:\n",
    "        for j in range(i-m,i+m+1):\n",
    "            vol_flow.append(mfm_exp_data_df.at[j,'flow'])\n",
    "vol_flow_mean = sum(vol_flow) / (m*2+1)\n",
    "vol_flow_mean"
   ]
  },
  {
   "attachments": {},
   "cell_type": "markdown",
   "metadata": {},
   "source": [
    "**Create an instance of the ``GCEDParser`` to parse GC experimental data output files and show available files in the selected directory.**"
   ]
  },
  {
   "cell_type": "code",
   "execution_count": null,
   "metadata": {},
   "outputs": [],
   "source": [
    "gcedparser = GCEDParser(path_to_dataset / 'data')\n",
    "dict_of_gced_files = gcedparser.enumerate_available_files()\n",
    "for index, gced_file in dict_of_gced_files.items():\n",
    "    print(f\"{index}: {gced_file}\")\n",
    "# available_files = parser.available_files\n",
    "# print(available_files)"
   ]
  },
  {
   "attachments": {},
   "cell_type": "markdown",
   "metadata": {},
   "source": [
    "**Chose specific file and extract the metadata from it using the ``GCParser``.**"
   ]
  },
  {
   "cell_type": "code",
   "execution_count": null,
   "metadata": {},
   "outputs": [],
   "source": [
    "gcedfile = dict_of_gced_files[1]\n",
    "exp_df = gcedparser.extract_exp_data(gced_file)\n",
    "exp_df"
   ]
  },
  {
   "attachments": {},
   "cell_type": "markdown",
   "metadata": {},
   "source": [
    "**Assign peak areas to species.** \\\n",
    "The peak areas recorded by the GC have to be matched with the correct species. The individial ``Area`` is selected by its corresponding ``Peak_Number``. It is possible that the same species is accountable for multiple peaks, i.d. multiple peaks are assigned to the same species.\n"
   ]
  },
  {
   "cell_type": "code",
   "execution_count": null,
   "metadata": {},
   "outputs": [],
   "source": [
    "assign_peak_dict={\n",
    "    'CO2': [2],\n",
    "    'CO': [6],\n",
    "    'H2': [1],\n",
    "    'CH4': [3],\n",
    "    'C2H4': [5],\n",
    "    # 'C2H6': [4],\n",
    "}\n",
    "peak_area_dict = {}\n",
    "for key, value in assign_peak_dict.items():\n",
    "    peak_area_dict[key]=exp_df.query('Peak_Number==@value')['Area'].sum()\n",
    "peak_area_dict"
   ]
  },
  {
   "attachments": {},
   "cell_type": "markdown",
   "metadata": {},
   "source": [
    "**Set calibration input values and import into the data model.** \\\n",
    "To determine the concentrations of the individual species, a calibration has to be performed in advance to match the individual values for ``Area`` with their corresponding concentrations."
   ]
  },
  {
   "cell_type": "code",
   "execution_count": null,
   "metadata": {},
   "outputs": [],
   "source": [
    "cali_input_dict={\n",
    "    'CO2': [[0,38653],[0,50]],\n",
    "    'CO':[[797,1328,7223],[0.5,1,5]],\n",
    "    'H2':[[71,153,330], [5,10,20]],\n",
    "    'CH4':[[5727,11991], [5,10]],\n",
    "    'C2H4':[[1122,4864,7297], [0.5,2,3]],\n",
    "    'C2H6':[[0,12168], [0,5]],\n",
    "}"
   ]
  },
  {
   "cell_type": "code",
   "execution_count": null,
   "metadata": {},
   "outputs": [],
   "source": [
    "cali_dict={}\n",
    "for key, value in cali_input_dict.items():\n",
    "    cali_dict[key]=model.Calibration(\n",
    "        peak_area=[\n",
    "            model.Data(\n",
    "                values=value[0],\n",
    "                # unit=model.\n",
    "                unit=model.enums.Unit.VOLFRACTION\n",
    "            )\n",
    "        ],\n",
    "        concentration=[\n",
    "            model.Data(  \n",
    "                values=value[1],\n",
    "                unit=model.enums.Unit.VOLFRACTION\n",
    "            )\n",
    "        ]    \n",
    "    )"
   ]
  },
  {
   "cell_type": "code",
   "execution_count": null,
   "metadata": {},
   "outputs": [],
   "source": [
    "b07.general_information.title"
   ]
  },
  {
   "cell_type": "code",
   "execution_count": null,
   "metadata": {},
   "outputs": [],
   "source": [
    "# model.Datamodel.visualize_tree("
   ]
  },
  {
   "cell_type": "code",
   "execution_count": null,
   "metadata": {},
   "outputs": [],
   "source": [
    "model.Dataset.visualize_tree()"
   ]
  },
  {
   "attachments": {},
   "cell_type": "markdown",
   "metadata": {},
   "source": [
    "Instantiate the ``Calculator`` module."
   ]
  },
  {
   "cell_type": "code",
   "execution_count": null,
   "metadata": {},
   "outputs": [],
   "source": [
    "calculator=Calculator(path_to_dataset=path_to_dataset)"
   ]
  },
  {
   "attachments": {},
   "cell_type": "markdown",
   "metadata": {},
   "source": [
    "Calibrate using the ``calibrate`` method of the ``Calculator`` module."
   ]
  },
  {
   "cell_type": "code",
   "execution_count": null,
   "metadata": {},
   "outputs": [],
   "source": [
    "cali_result_df=calculator.calibrate(calibration_input_dict=cali_input_dict)\n",
    "cali_result_df"
   ]
  },
  {
   "attachments": {},
   "cell_type": "markdown",
   "metadata": {},
   "source": [
    "Calculate volume fractions using the ``calculate_volume_fractions`` method of the ``Calculator`` module."
   ]
  },
  {
   "cell_type": "code",
   "execution_count": null,
   "metadata": {},
   "outputs": [],
   "source": [
    "vol_frac_df = calculator.calculate_volume_fractions(peak_area_dict=peak_area_dict, calibration_result_df=cali_result_df)\n",
    "vol_frac_df"
   ]
  },
  {
   "attachments": {},
   "cell_type": "markdown",
   "metadata": {},
   "source": [
    "Calculate the conversion factors of the individual species using the ``calculate_conversion_factors`` method of the ``Calculator`` module and the correction factors."
   ]
  },
  {
   "cell_type": "code",
   "execution_count": null,
   "metadata": {},
   "outputs": [],
   "source": [
    "f_corr_dict= {\n",
    "    'H2':1.01,\n",
    "    'CO':0.74,\n",
    "    'CO2':1.00,\n",
    "    'CH4':0.76,\n",
    "    # 'C2H4':,\n",
    "    # 'C2H6':,\n",
    "}"
   ]
  },
  {
   "cell_type": "code",
   "execution_count": null,
   "metadata": {},
   "outputs": [],
   "source": [
    "vol_frac_df.loc['H2'][0]"
   ]
  },
  {
   "cell_type": "code",
   "execution_count": null,
   "metadata": {},
   "outputs": [],
   "source": [
    "f_conv = calculator.calculate_conversion_factor(volume_fractions=vol_frac_df, correction_factors=f_corr_dict)\n",
    "f_conv"
   ]
  },
  {
   "cell_type": "code",
   "execution_count": null,
   "metadata": {},
   "outputs": [],
   "source": [
    "vol_flow_r_df = calculator.calculate_vol_flow_r(conversion_factor = f_conv, volumetric_flow_measured = mfm_exp_data_df )\n",
    "vol_flow_r_df"
   ]
  },
  {
   "cell_type": "code",
   "execution_count": null,
   "metadata": {},
   "outputs": [],
   "source": [
    "# class DirectedGraph:\n",
    "    \n",
    "#     def __init__(self, name, connections):\n",
    "#         self.name = name\n",
    "#         self.connections = connections\n",
    "#         self.connec_tuple = []\n",
    "#         self.make_connectivity()\n",
    "\n",
    "        \n",
    "#     def make_connectivity(self):\n",
    "#         if len(self.connections) == 0: \n",
    "#             return([])\n",
    "#         for connection in self.connections:\n",
    "#             self.connec_tuple.append((self.name, connection))"
   ]
  },
  {
   "cell_type": "code",
   "execution_count": null,
   "metadata": {},
   "outputs": [],
   "source": [
    "# mod_1 = DirectedGraph(input0, [tubing0])\n",
    "# mod_2 = DirectedGraph(input1, [tubing1])\n",
    "# mod_3 = DirectedGraph(tubing0, [valve0])\n",
    "# mod_4 = DirectedGraph(tubing1, [valve0])\n",
    "# mod_5 = DirectedGraph(valve0, [tubing2])\n",
    "# mod_6 = DirectedGraph(fc, [tubing2])\n",
    "# mod_7 = DirectedGraph(tubing2, [valve1])\n",
    "# mod_8 = DirectedGraph(valve1, [tubing4])\n",
    "# mod_9 = DirectedGraph(tubing4, [valve2])\n",
    "# mod_10 = DirectedGraph(valve2, [tubing5])\n",
    "# mod_11 = DirectedGraph(tubing5, [gc])\n",
    "# mod_12 = DirectedGraph(tubing5, [fr])\n",
    "\n",
    "# modules = [mod_1, mod_2, mod_3, mod_4, mod_5, mod_6, mod_7, mod_8, mod_9, mod_10, mod_11, mod_12]\n",
    "# module_names = [flow_mod.name for flow_mod in modules]"
   ]
  },
  {
   "cell_type": "code",
   "execution_count": null,
   "metadata": {},
   "outputs": [],
   "source": [
    "# area = exp_df['Area']\n",
    "# peak_area_dict = {\n",
    "#     'co2': area.iloc[[1]].sum(),\n",
    "#     'co': area.iloc[[5,6]].sum(),\n",
    "#     'h2': area.iloc[[0]].sum(),\n",
    "#     'ch4': area.iloc[[2,3]].sum(),\n",
    "#     'c2h4': area.iloc[[4]].sum(),\n",
    "#     # 'c2h6': area.iloc[[0,1]].sum()\n",
    "# }\n",
    "# peak_area_dict"
   ]
  },
  {
   "cell_type": "code",
   "execution_count": null,
   "metadata": {},
   "outputs": [],
   "source": [
    "# flowG = nx.DiGraph()\n",
    "# flowG.add_nodes_from(module_names)\n",
    "# for module in modules:\n",
    "#     flowG.add_edges_from(module.connec_tuple)\n",
    "# my_pos = nx.spring_layout(flowG, seed = 5) # this fixes the style of the graph, if it's ugly change the seed\n",
    "# nx.draw(flowG, pos = my_pos, with_labels=True)"
   ]
  }
 ],
 "metadata": {
  "kernelspec": {
   "display_name": "b07",
   "language": "python",
   "name": "python3"
  },
  "language_info": {
   "codemirror_mode": {
    "name": "ipython",
    "version": 3
   },
   "file_extension": ".py",
   "mimetype": "text/x-python",
   "name": "python",
   "nbconvert_exporter": "python",
   "pygments_lexer": "ipython3",
   "version": "3.10.4"
  },
  "orig_nbformat": 4,
  "vscode": {
   "interpreter": {
    "hash": "9f62ab2d43dc75e3c3b007469adeb0f7488873df876b9b71dd3b119f0280ba41"
   }
  }
 },
 "nbformat": 4,
 "nbformat_minor": 2
}
