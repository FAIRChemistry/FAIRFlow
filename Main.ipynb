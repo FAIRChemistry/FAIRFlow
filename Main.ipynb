{
 "cells": [
  {
   "attachments": {},
   "cell_type": "markdown",
   "metadata": {},
   "source": [
    "# <center>Workflow for on-line GC and HPLC analysis in flow chemistry</center>\n"
   ]
  },
  {
   "cell_type": "markdown",
   "metadata": {},
   "source": [
    "---\n",
    "## Section 0: Imports, Paths, and Logging\n",
    "---\n",
    "\n",
    "In this section all the necessary python packages are imported, the path to this notebook and the logger for this notebook is set up."
   ]
  },
  {
   "cell_type": "code",
   "execution_count": 1,
   "metadata": {},
   "outputs": [],
   "source": [
    "# Activate autoreload to keep on track with changing modules #\n",
    "%reload_ext autoreload\n",
    "%autoreload 2\n",
    "\n",
    "# Import standard libraries #\n",
    "import numpy as np\n",
    "import logging\n",
    "import json\n",
    "from pathlib import Path\n",
    "\n",
    "# Import tools for data processing and analysis #\n",
    "from datamodel.tools import initialize_dataset\n",
    "from datamodel.tools import reading_raw_data_widget\n",
    "from datamodel.tools import analyzing_raw_data_widget\n"
   ]
  },
  {
   "cell_type": "code",
   "execution_count": 2,
   "metadata": {},
   "outputs": [],
   "source": [
    "# Define paths for loggin output #\n",
    "root                = Path.cwd()\n",
    "logging_config_path = root / \"datamodel/tools/logger_config.json\"\n",
    "\n",
    "# Read in logger specs and configurate logger (set name to current notebook) #\n",
    "with open(logging_config_path) as logging_config_json: logging.config.dictConfig( json.load( logging_config_json ) )\n",
    "logger = logging.getLogger(__name__)\n",
    "\n",
    "# Set the level of thid-party logger to avoid dumping too much information #\n",
    "for logger_ in ['markdown_it', 'h5py', 'numexpr', 'git']: logging.getLogger(logger_).setLevel('WARNING')"
   ]
  },
  {
   "cell_type": "markdown",
   "metadata": {},
   "source": [
    "---\n",
    "## Section 1: Dataset and raw data\n",
    "---\n",
    "In this section the dataset as well as the to analyze raw data is choosen"
   ]
  },
  {
   "cell_type": "code",
   "execution_count": 7,
   "metadata": {},
   "outputs": [
    {
     "data": {
      "application/vnd.jupyter.widget-view+json": {
       "model_id": "b6880d70b4ad404480436d2c902634c6",
       "version_major": 2,
       "version_minor": 0
      },
      "text/plain": [
       "VBox(children=(HBox(children=(Dropdown(description='Choose datamodel', layout=Layout(width='auto'), options=((…"
      ]
     },
     "metadata": {},
     "output_type": "display_data"
    }
   ],
   "source": [
    "git_path = 'https://github.com/FAIRChemistry/datamodel_b07_tc.git'\n",
    "branch   = 'samir_develop'\n",
    "\n",
    "id = initialize_dataset()\n",
    "id.write_dataset(root, git_path, branch)"
   ]
  },
  {
   "cell_type": "code",
   "execution_count": 5,
   "metadata": {},
   "outputs": [],
   "source": [
    "## Definition of basic meta data of the project ##\n",
    "\n",
    "id.title.value        = 'Electrocatalytic CO2-reduction on carbon'\n",
    "id.description.value  = 'The aim of this project is to blablabla'\n",
    "\n",
    "# List with authors and their affiliation #\n",
    "id.authors.value      = 'Richard Schömig, Maximilian Schmidt' \n",
    "id.affiliations.value = 'University of Stuttgart, University of Stuttgart'\n",
    "id.dataset_text.value = \"test\""
   ]
  },
  {
   "cell_type": "code",
   "execution_count": 13,
   "metadata": {},
   "outputs": [
    {
     "data": {
      "application/vnd.jupyter.widget-view+json": {
       "model_id": "933cb30f507a4067be3708937fe5765e",
       "version_major": 2,
       "version_minor": 0
      },
      "text/plain": [
       "VBox(children=(HBox(children=(Dropdown(description='Choose dataset', layout=Layout(width='auto'), options=(('b…"
      ]
     },
     "metadata": {},
     "output_type": "display_data"
    }
   ],
   "source": [
    "## Search for dataset and raw data ##\n",
    "\n",
    "rrdw = reading_raw_data_widget()\n",
    "rrdw.choose_data(root)"
   ]
  },
  {
   "cell_type": "code",
   "execution_count": 7,
   "metadata": {},
   "outputs": [],
   "source": [
    "#str(root) = \"c:/Users/darouich/OneDrive/Dokumente/\"\n",
    "\n",
    "e_chem = str(root)+'/data/Rohdaten/01_EChem/CAD14-Cu@AB/GSTATIC.DTA'\n",
    "mfm    = str(root)+'/data/Rohdaten/03_MFM/CAD14-Cu@AB/Bench-2h-GSS_CAD14-Cu@AB_200_50c_24h_truncated.csv'\n",
    "gc     = [str(root)+'/data/Rohdaten/02_GC/CAD14-Cu@AB/JH-1H 2023-02-06 10-00-18/NV-F0102.D/report00.CSV',\n",
    "        str(root)+'/data/Rohdaten/02_GC/CAD14-Cu@AB/JH-1H 2023-02-06 10-00-18/NV-F0102.D/REPORT01.CSV',\n",
    "        str(root)+'/data/Rohdaten/02_GC/CAD14-Cu@AB/JH-1H 2023-02-06 10-00-18/NV-F0103.D/report00.CSV',\n",
    "        str(root)+'/data/Rohdaten/02_GC/CAD14-Cu@AB/JH-1H 2023-02-06 10-00-18/NV-F0103.D/REPORT01.CSV',\n",
    "        str(root)+'/data/Rohdaten/02_GC/CAD14-Cu@AB/JH-1H 2023-02-06 10-00-18/NV-F0104.D/report00.CSV',\n",
    "        str(root)+'/data/Rohdaten/02_GC/CAD14-Cu@AB/JH-1H 2023-02-06 10-00-18/NV-F0104.D/REPORT01.CSV']\n",
    "calib  = str(root)+'/data/calibration/calibration.json'\n",
    "correc = str(root)+'/data/correction_factors/correction_factors.json'\n",
    "farada = str(root)+'/data/faraday_coefficients/faraday_coefficients.json'\n",
    "\n",
    "rrdw.Echem_files.value = [e_chem]\n",
    "rrdw.MFM_files.value   = [mfm]\n",
    "rrdw.GC_files.value    = gc\n",
    "rrdw.calib_files.value = [calib]\n",
    "rrdw.correction_files.value = [correc]\n",
    "rrdw.faraday_files.value    = [farada]"
   ]
  },
  {
   "cell_type": "markdown",
   "metadata": {},
   "source": [
    "---\n",
    "## Section 2: Analysis of data\n",
    "---\n",
    "In this section the raw data of the above choosen dataset is analyzed (if you change the dataset above, then reexecute this cell)"
   ]
  },
  {
   "cell_type": "code",
   "execution_count": 27,
   "metadata": {},
   "outputs": [
    {
     "data": {
      "application/vnd.jupyter.widget-view+json": {
       "model_id": "fbb9c4956ced4ef7bf05be7455bea9e8",
       "version_major": 2,
       "version_minor": 0
      },
      "text/plain": [
       "VBox(children=(HBox(children=(Dropdown(description='Choose experiment:', layout=Layout(width='auto'), options=…"
      ]
     },
     "metadata": {},
     "output_type": "display_data"
    },
    {
     "data": {
      "application/vnd.jupyter.widget-view+json": {
       "model_id": "f2e6e0960ae8420d8532ce81ccfafa6b",
       "version_major": 2,
       "version_minor": 0
      },
      "text/plain": [
       "VBox(children=(HBox(children=(VBox(children=(Label(value='Measurement number 0', layout=Layout(height='30px', …"
      ]
     },
     "metadata": {},
     "output_type": "display_data"
    },
    {
     "data": {
      "application/vnd.jupyter.widget-view+json": {
       "model_id": "0ab1aefb3ce14f3faf908aa8fb6895ca",
       "version_major": 2,
       "version_minor": 0
      },
      "text/plain": [
       "VBox(children=(VBox(children=(VBox(children=(HTML(value='The mass flow at the time of the GC measurement is de…"
      ]
     },
     "metadata": {},
     "output_type": "display_data"
    },
    {
     "name": "stdout",
     "output_type": "stream",
     "text": [
      "\n",
      "Starting the postprocessing\n",
      "\n",
      "\n",
      "!!! Warning: Volume fractions doesn't add up to 1.0 !!!\n",
      "\n",
      "Faraday effiencies of GC measurement n°0\n",
      "                Faraday_efficiency [%]\n",
      "Carbon dioxide              245.965934\n",
      "Carbon monoxide               5.898531\n",
      "Ethene                         12.1804\n",
      "Hydrogen                     14.528083\n",
      "Methane                        7.80829 \n",
      "\n",
      "Faraday effiencies of GC measurement n°1\n",
      "                Faraday_efficiency [%]\n",
      "Carbon dioxide              250.311538\n",
      "Carbon monoxide               7.082942\n",
      "Ethene                       10.766099\n",
      "Hydrogen                     19.263657\n",
      "Methane                       8.853112 \n",
      "\n",
      "Faraday effiencies of GC measurement n°2\n",
      "                Faraday_efficiency [%]\n",
      "Carbon dioxide              262.134414\n",
      "Carbon monoxide               6.829024\n",
      "Ethene                        9.418884\n",
      "Hydrogen                     18.747449\n",
      "Methane                       9.164263 \n",
      "\n",
      "\n",
      "Mean Faraday efficency over all GC measurements\n",
      "                Faraday_efficiency [%]\n",
      "Carbon dioxide              252.803962\n",
      "Carbon monoxide               6.603499\n",
      "Ethene                       10.788461\n",
      "Hydrogen                     17.513063\n",
      "Methane                       8.608555 \n",
      "\n"
     ]
    }
   ],
   "source": [
    "# Provide a typical retention time dictionary to pre assign retention times \n",
    "\n",
    "typical_retention_time = {\"Hydrogen\": 1.7, \"Carbon dioxide\": 3.0, \"Carbon monoxide\": 13.6, \n",
    "                          \"Methane\": 3.6, \"Ethene\": 6.0, \"Ethane\": 7.1}\n",
    "\n",
    "ardw = analyzing_raw_data_widget()\n",
    "ardw.choose_experiment( datamodel = rrdw.datamodel, \n",
    "                        dataset_path = rrdw.dataset_dropdown.value, \n",
    "                        typical_retention_time = typical_retention_time)"
   ]
  },
  {
   "cell_type": "markdown",
   "metadata": {},
   "source": [
    "---\n",
    "## Section 3: Upload of data to DaRUS\n",
    "---\n",
    "In this section the dataset containing the processed as well as the raw data, is uploaded to DaRUS"
   ]
  },
  {
   "cell_type": "code",
   "execution_count": 61,
   "metadata": {},
   "outputs": [],
   "source": [
    "import ipywidgets as widgets\n",
    "from IPython.display import display, clear_output\n",
    "from pyDaRUS import Citation\n",
    "from pyDaRUS import Dataset as DaRUS_dataset\n",
    "from pyDaRUS.metadatablocks.citation import SubjectEnum, IdentifierScheme, RelatedPublication, TopicClassification, Keyword\n",
    "from datetime import datetime\n",
    "\n",
    "import os\n",
    "import ipywidgets as widgets\n",
    "import pandas as pd\n",
    "from pathlib import Path\n",
    "from IPython.display import display, clear_output\n",
    "\n",
    "# Import modified sdRDM objects #\n",
    "from sdRDM import DataModel\n",
    "\n",
    "# Import general tools and objects of this datamodel #\n",
    "\n",
    "# Objects #\n",
    "from datamodel.core import Experiment\n",
    "from datamodel.core import MeasurementType\n",
    "from datamodel.core import Quantity\n",
    "\n",
    "# Tools #\n",
    "from datamodel.tools.auxiliary import Librarian"
   ]
  },
  {
   "cell_type": "code",
   "execution_count": 7,
   "metadata": {},
   "outputs": [],
   "source": [
    "class DaRUS_upload:\n",
    "\n",
    "    def upload_to_DaRUS(self,_):\n",
    "\n",
    "        #### Initialize and write DaRUS dataset ####\n",
    "\n",
    "        DaRUS_dataset = DaRUS_dataset()\n",
    "\n",
    "        ## Get citation metadata from the general information object of the provided dataset ##\n",
    "\n",
    "        citation      = Citation()\n",
    "\n",
    "\n",
    "\n",
    "        ## **{k:author.__dict__[k] for k in author.__dict__.keys() if k!=\"id\"}\n",
    "\n",
    "        # Extract general information from the provided dataset\n",
    "        citation.add_project( name = self.dataset.general_information.project, level=1 )\n",
    "        \n",
    "        citation.title = self.dataset.general_information.title\n",
    "        \n",
    "        for author in self.dataset.general_information.authors: citation.add_author( **author.__dict__ ) \n",
    "\n",
    "        citation.add_contact( **self.dataset.general_information.contact.__dict__ )\n",
    "\n",
    "        citation.subject      = self.dataset.general_information.subject\n",
    "\n",
    "        citation.depositor    = self.depositor_text.value.strip()\n",
    "        citation.deposit_date = datetime.now().date().strftime(\"%Y-%m-%d\")\n",
    "        \n",
    "        citation.add_grant_information( grant_agency=\"DFG\", grant_number=\"358283783 - SFB 1333\")\n",
    "\n",
    "        citation.language     = \"English\"\n",
    "\n",
    "        citation.add_related_publication( **self.dataset.general_information.related_publication.__dict__ )\n",
    "        \n",
    "        for classification in self.dataset.general_information.topic_classifications: citation.add_topic_classification( **classification.__dict__ )\n",
    "\n",
    "        for keyword in self.dataset.general_information.keywords: citation.add_keyword( **keyword.__dict__ )\n",
    "\n",
    "        DaRUS_dataset.add_metadatablock(citation)\n",
    "        \n",
    "        ## Get Prcoess metadata from the general information object of the provided dataset ##\n",
    "\n",
    "\n",
    "\n",
    "        ## Add files and directories ##\n",
    "\n",
    "        DaRUS_dataset.add_directory(\"Examples/dataset_upload/\")\n",
    "        DaRUS_dataset.add_file(dv_path=\"my.file\", local_path=\"my.file\")\n",
    "\n",
    "        ## Upload ##\n",
    "\n",
    "        DaRUS_dataset.upload(dataverse_name = self.dataverse_dropdown.value,\n",
    "                             DATAVERSE_URL  = \"https://darus.uni-stuttgart.de\",\n",
    "                             API_TOKEN      = self.api_token_text.value)\n",
    "\n",
    "    def upload(self,datamodel,dataset_path,dataverse_list):\n",
    "        \n",
    "        # Common variables\n",
    "\n",
    "        self.dataset_path           = dataset_path\n",
    "        self.dataset, self.lib      = datamodel\n",
    "        \n",
    "        self.dataverse_dropdown     = widgets.Dropdown(options= dataverse_list,\n",
    "                                                    description=\"Choose dataverse\",\n",
    "                                                    layout=widgets.Layout(width='auto'),\n",
    "                                                    style={'description_width': 'auto'})\n",
    "        \n",
    "        self.depositor_text         = widgets.Text (description=\"Depositor:\",\n",
    "                                                    placeholder=\"Name of the person uploading this dataset (e.g.: Max Mustermann)\",\n",
    "                                                    layout=widgets.Layout(width='auto'),\n",
    "                                                    style={'description_width': 'auto'})\n",
    "        \n",
    "        self.api_token_text         = widgets.Text (description=\"API token:\",\n",
    "                                                    placeholder=\"Provide personal API token from DaRUS (e.g.: xxx-xxx-xxx-xxx-xxx)\",\n",
    "                                                    layout=widgets.Layout(width='auto'),\n",
    "                                                    style={'description_width': 'auto'})\n",
    "\n",
    "        \n",
    "        \n",
    "        self.button_upload          = widgets.Button(description='Upload dataset to DaRUS',\n",
    "                                                     layout=widgets.Layout(width=\"30%\"),\n",
    "                                                     style={\"button_color\": 'lightblue'})\n",
    "        \n",
    "        # Handle button\n",
    "        self.button_upload.on_click(self.upload_to_DaRUS)\n",
    "\n",
    "        \n",
    "        display(self.subject_dropdown)"
   ]
  },
  {
   "cell_type": "code",
   "execution_count": 8,
   "metadata": {},
   "outputs": [
    {
     "data": {
      "application/vnd.jupyter.widget-view+json": {
       "model_id": "c34ba5e601824142bd18d50a50c99fd3",
       "version_major": 2,
       "version_minor": 0
      },
      "text/plain": [
       "Dropdown(description='Choose datamodel', layout=Layout(width='auto'), options=('Agricultural Sciences', 'Arts …"
      ]
     },
     "metadata": {},
     "output_type": "display_data"
    }
   ],
   "source": [
    "test = DaRUS_upload()\n",
    "\n",
    "test.upload()"
   ]
  },
  {
   "cell_type": "code",
   "execution_count": null,
   "metadata": {},
   "outputs": [],
   "source": [
    "sfb1333_dataverse_list = [ \"sfb1333-hansen-gross\" ]\n",
    "api_token = \"4afecd82-c92d-4935-b786-2225af43531e\""
   ]
  },
  {
   "cell_type": "code",
   "execution_count": 2,
   "metadata": {},
   "outputs": [
    {
     "name": "stdout",
     "output_type": "stream",
     "text": [
      "Attribute project not valid for import (dv_up).\n",
      "Dataset with pid 'doi:10.18419/darus-3806' created.\n",
      "Zipping data files: 100%|██████████| 1/1 [00:00<00:00, 68.79it/s]\n",
      "Uploading data files: 100%|██████████| 1/1 [00:01<00:00,  1.02s/it]\n",
      "https://darus.uni-stuttgart.de/dataset.xhtml?persistentId=doi:10.18419/darus-3806\n"
     ]
    },
    {
     "data": {
      "text/plain": [
       "'doi:10.18419/darus-3806'"
      ]
     },
     "execution_count": 2,
     "metadata": {},
     "output_type": "execute_result"
    }
   ],
   "source": [
    "\n",
    "\n",
    "subject_list = [ subject.value for subject in SubjectEnum ]\n",
    "\n",
    "# Initialize the dataset and the metadatablock\n",
    "dataset  = Dataset()\n",
    "citation = Citation()\n",
    "\n",
    "citation.title = \"My Title\"\n",
    "\n",
    "citation.add_description(text=\"test\")\n",
    "citation.add_author(name=\"Samir\", affiliation=\"ITT\")\n",
    "citation.add_contact(name=\"Samir\", email=\"samir.darouich@itt.uni-stuttgart.de\")\n",
    "\n",
    "citation.subject = [SubjectEnum.engineering]\n",
    "\n",
    "\n",
    "citation.depositor = \"max \"\n",
    "citation.deposit_date = \"2023\"\n",
    "\n",
    "\n",
    "dataset.add_metadatablock(citation)\n",
    "\n",
    "dataset.add_file(dv_path=\"my.file\", local_path=\"my.file\")\n",
    "\n"
   ]
  },
  {
   "cell_type": "code",
   "execution_count": 3,
   "metadata": {},
   "outputs": [
    {
     "data": {
      "text/plain": [
       "['Agricultural Sciences',\n",
       " 'Arts and Humanities',\n",
       " 'Astronomy and Astrophysics',\n",
       " 'Business and Management',\n",
       " 'Chemistry',\n",
       " 'Computer and Information Science',\n",
       " 'Earth and Environmental Sciences',\n",
       " 'Engineering',\n",
       " 'Law',\n",
       " 'Mathematical Sciences',\n",
       " 'Medicine, Health and Life Sciences',\n",
       " 'Physics',\n",
       " 'Social Sciences',\n",
       " 'Other']"
      ]
     },
     "execution_count": 3,
     "metadata": {},
     "output_type": "execute_result"
    }
   ],
   "source": [
    "subject_list"
   ]
  }
 ],
 "metadata": {
  "kernelspec": {
   "display_name": "b07",
   "language": "python",
   "name": "python3"
  },
  "language_info": {
   "codemirror_mode": {
    "name": "ipython",
    "version": 3
   },
   "file_extension": ".py",
   "mimetype": "text/x-python",
   "name": "python",
   "nbconvert_exporter": "python",
   "pygments_lexer": "ipython3",
   "version": "3.11.5"
  },
  "orig_nbformat": 4,
  "vscode": {
   "interpreter": {
    "hash": "9f62ab2d43dc75e3c3b007469adeb0f7488873df876b9b71dd3b119f0280ba41"
   }
  }
 },
 "nbformat": 4,
 "nbformat_minor": 2
}
