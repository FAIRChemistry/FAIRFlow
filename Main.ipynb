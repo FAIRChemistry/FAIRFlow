{
 "cells": [
  {
   "attachments": {},
   "cell_type": "markdown",
   "metadata": {},
   "source": [
    "# <center>Workflow for on-line GC and HPLC analysis in flow chemistry</center>\n"
   ]
  },
  {
   "cell_type": "markdown",
   "metadata": {},
   "source": [
    "---\n",
    "## Section 0: Imports, Paths, and Logging\n",
    "---\n",
    "\n",
    "In this section all the necessary python packages are imported, the path to this notebook and the logger for this notebook is set up."
   ]
  },
  {
   "cell_type": "code",
   "execution_count": 1,
   "metadata": {},
   "outputs": [],
   "source": [
    "# Activate autoreload to keep on track with changing modules\n",
    "%reload_ext autoreload\n",
    "%autoreload 2\n",
    "\n",
    "# Import standard libraries\n",
    "import logging\n",
    "from pathlib import Path\n",
    "\n",
    "# Import tools for data processing and analysis and DaRUS upload\n",
    "from FAIRFlowChemistry.tools.logger_setup import setup_logger\n",
    "from FAIRFlowChemistry.tools import initialize_dataset, reading_raw_data_widget, analyzing_raw_data_widget, DaRUS_upload\n",
    "\n",
    "# Get root path of the notebook\n",
    "root = Path.cwd()\n",
    "\n",
    "# Setup logger\n",
    "setup_logger( \"log_faraday_efficency.log\" )\n",
    "logger = logging.getLogger( \"main\" )"
   ]
  },
  {
   "cell_type": "markdown",
   "metadata": {},
   "source": [
    "---\n",
    "## Section 1: Dataset and raw data\n",
    "---\n",
    "In this section the dataset as well as the to analyze raw data is choosen"
   ]
  },
  {
   "cell_type": "code",
   "execution_count": 2,
   "metadata": {},
   "outputs": [
    {
     "data": {
      "application/vnd.jupyter.widget-view+json": {
       "model_id": "a38c3b411d2c440f84685300e60c351a",
       "version_major": 2,
       "version_minor": 0
      },
      "text/plain": [
       "VBox(children=(VBox(children=(Text(value='', description='Title of the project:', layout=Layout(width='auto'),…"
      ]
     },
     "metadata": {},
     "output_type": "display_data"
    }
   ],
   "source": [
    "DaRUS_subjects = ['Agricultural Sciences', 'Arts and Humanities', 'Astronomy and Astrophysics', 'Business and Management', 'Chemistry', \n",
    "                  'Computer and Information Science', 'Earth and Environmental Sciences', 'Engineering', 'Law', 'Mathematical Sciences', \n",
    "                  'Medicine, Health and Life Sciences', 'Physics', 'Social Sciences', 'Other']\n",
    "\n",
    "init_data = initialize_dataset()\n",
    "init_data.write_dataset( subjects = DaRUS_subjects )"
   ]
  },
  {
   "cell_type": "code",
   "execution_count": 29,
   "metadata": {},
   "outputs": [],
   "source": [
    "## Definition of basic meta data of the project ##\n",
    "\n",
    "init_data.title.value        = 'FAIRFlow: A Jupyter notebook-based platform for on-line analysis in flow chemistry '\n",
    "init_data.description.value  = 'The aim of this project is to introduce the FAIR (findable, accessible, interoperable, reusable) principles into miniplant flow chemistry'\n",
    "init_data.project.value      = 'Project B07'\n",
    "\n",
    "# List with authors and their affiliation #\n",
    "init_data.authors.value      = 'Richard Schömig, Jan Range, Samir Darouich, Maximilian Schmidt, Seda Yilmaz, Elias Klemm, Jürgen Pleiss' \n",
    "init_data.affiliations.value = 'University of Stuttgart, University of Stuttgart, University of Stuttgart, University of Stuttgart, University of Stuttgart, University of Stuttgart, University of Stuttgart'\n",
    "init_data.identifier.value   = 'xxx-xxx-xxx-xxx, xxx-xxx-xxx-xxx, xxx-xxx-xxx-xxx, xxx-xxx-xxx-xxx, xxx-xxx-xxx-xxx, xxx-xxx-xxx-xxx, xxx-xxx-xxx-xxx'\n",
    "init_data.contact_text.value = 'Jürgen Pleiss, juergen.pleiss@itb.uni-stuttgart.de'\n",
    "\n",
    "init_data.related_publication.value = \"test, https://id.loc.gov/authorities/subjects/sh2014001146.html\"\n",
    "\n",
    "init_data.topic_classification.value = \"homogeneous catalysis (LCSH), https://id.loc.gov/authorities/subjects/sh2014001146.html\"\n",
    "init_data.keywords.value             = \"polymer chemistry (Loterre Chemistry Vocabulary), https://skosmos.loterre.fr/ERC/en/page/?uri=http%3A%2F%2Fdata.loterre.fr%2Fark%3A%2F67375%2FERC-KCSKD4X9-P\"\n",
    "\n",
    "init_data.dataset_text.value = \"datasets/final\""
   ]
  },
  {
   "cell_type": "code",
   "execution_count": 2,
   "metadata": {},
   "outputs": [
    {
     "data": {
      "application/vnd.jupyter.widget-view+json": {
       "model_id": "e377279908cb44689997b04c468c918b",
       "version_major": 2,
       "version_minor": 0
      },
      "text/plain": [
       "VBox(children=(HBox(children=(Dropdown(description='Choose dataset', layout=Layout(width='auto'), options=(('f…"
      ]
     },
     "metadata": {},
     "output_type": "display_data"
    }
   ],
   "source": [
    "## Search for dataset and raw data ##\n",
    "\n",
    "rrdw = reading_raw_data_widget()\n",
    "rrdw.choose_data( root = root, dataset_directory = \"datasets\")"
   ]
  },
  {
   "cell_type": "code",
   "execution_count": 14,
   "metadata": {},
   "outputs": [],
   "source": [
    "## Change initalizing species data!"
   ]
  },
  {
   "cell_type": "code",
   "execution_count": 1,
   "metadata": {},
   "outputs": [
    {
     "data": {
      "text/plain": [
       "{'Carbon dioxide': {'chemical_formula': 'CO2',\n",
       "  'calibration': {'concentrations': [0, 50], 'peak_areas': [0, 38653]},\n",
       "  'correction_factor': 0.74,\n",
       "  'electron_transfer': 2},\n",
       " 'Carbon monoxide': {'chemical_formula': 'CO',\n",
       "  'calibration': {'concentrations': [0.5, 1, 5],\n",
       "   'peak_areas': [797, 1328, 7223]},\n",
       "  'correction_factor': 1.0,\n",
       "  'electron_transfer': 2},\n",
       " 'Hydrogen': {'chemical_formula': 'H2',\n",
       "  'calibration': {'concentrations': [5, 10, 20], 'peak_areas': [71, 153, 330]},\n",
       "  'correction_factor': 1.01,\n",
       "  'electron_transfer': 2},\n",
       " 'Ethane': {'chemical_formula': 'C2H6',\n",
       "  'calibration': {'concentrations': [0, 5], 'peak_areas': [0, 12168]},\n",
       "  'correction_factor': None,\n",
       "  'electron_transfer': 16},\n",
       " 'Ethene': {'chemical_formula': 'C2H4',\n",
       "  'calibration': {'concentrations': [0.5, 2, 3],\n",
       "   'peak_areas': [1122, 4864, 7297]},\n",
       "  'correction_factor': None,\n",
       "  'electron_transfer': 12},\n",
       " 'Methane': {'chemical_formula': 'CH4',\n",
       "  'calibration': {'concentrations': [5, 10], 'peak_areas': [5727, 11991]},\n",
       "  'correction_factor': 0.76,\n",
       "  'electron_transfer': 8}}"
      ]
     },
     "execution_count": 1,
     "metadata": {},
     "output_type": "execute_result"
    }
   ],
   "source": [
    "import yaml\n",
    "from FAIRFlowChemistry.core import Calibration, Data, Quantity, Experiment\n",
    "\n",
    "\n",
    "with open(\"data/additional_data/species_data.yaml\") as f:\n",
    "    species_data = yaml.safe_load(f)\n",
    "species_data"
   ]
  },
  {
   "cell_type": "code",
   "execution_count": 2,
   "metadata": {},
   "outputs": [],
   "source": [
    "test = Experiment()"
   ]
  },
  {
   "cell_type": "code",
   "execution_count": 3,
   "metadata": {},
   "outputs": [
    {
     "name": "stdout",
     "output_type": "stream",
     "text": [
      "\u001b[4mCalibration\u001b[0m\n",
      "├── \u001b[94mid\u001b[0m = bcef0a33-0954-40e8-84ce-812c2aa34286\n",
      "├── \u001b[94mpeak_areas\u001b[0m\n",
      "│   └── \u001b[4mData\u001b[0m\n",
      "│       ├── \u001b[94mid\u001b[0m = 6dbccfbd-2c00-478e-89d9-f17a37cdad92\n",
      "│       ├── \u001b[94mquantity\u001b[0m = Peak area\n",
      "│       └── \u001b[94mvalues\u001b[0m = [0.0, 38653.0, ...]\n",
      "├── \u001b[94mconcentrations\u001b[0m\n",
      "│   └── \u001b[4mData\u001b[0m\n",
      "│       ├── \u001b[94mid\u001b[0m = 7824671b-6ad3-48e5-a08e-75fda85486bd\n",
      "│       ├── \u001b[94mquantity\u001b[0m = Concentration\n",
      "│       └── \u001b[94mvalues\u001b[0m = [0.0, 50.0, ...]\n",
      "├── \u001b[94mregression_coefficients\u001b[0m = [-4.466559424312742e-15, 0.0012935606550591155, ...]\n",
      "└── \u001b[94mdegree\u001b[0m = 1\n",
      "\n",
      "\u001b[4mCalibration\u001b[0m\n",
      "├── \u001b[94mid\u001b[0m = 66c51884-1dae-451e-b103-e6825139a3d4\n",
      "├── \u001b[94mpeak_areas\u001b[0m\n",
      "│   └── \u001b[4mData\u001b[0m\n",
      "│       ├── \u001b[94mid\u001b[0m = 23ce97b3-17cc-461d-9611-007fb871847e\n",
      "│       ├── \u001b[94mquantity\u001b[0m = Peak area\n",
      "│       └── \u001b[94mvalues\u001b[0m = [797.0, 1328.0, 7223.0, ...]\n",
      "├── \u001b[94mconcentrations\u001b[0m\n",
      "│   └── \u001b[4mData\u001b[0m\n",
      "│       ├── \u001b[94mid\u001b[0m = aac491a0-c4f5-4089-bb3b-e6da4fa87d5b\n",
      "│       ├── \u001b[94mquantity\u001b[0m = Concentration\n",
      "│       └── \u001b[94mvalues\u001b[0m = [0.5, 1.0, 5.0, ...]\n",
      "├── \u001b[94mregression_coefficients\u001b[0m = [0.012656829292048657, 0.0006912740171292097, ...]\n",
      "└── \u001b[94mdegree\u001b[0m = 1\n",
      "\n",
      "\u001b[4mCalibration\u001b[0m\n",
      "├── \u001b[94mid\u001b[0m = abcb5f13-bdc7-4184-81e3-72f43d209ba1\n",
      "├── \u001b[94mpeak_areas\u001b[0m\n",
      "│   └── \u001b[4mData\u001b[0m\n",
      "│       ├── \u001b[94mid\u001b[0m = cf425f61-3655-40af-a425-e6b1d50b70df\n",
      "│       ├── \u001b[94mquantity\u001b[0m = Peak area\n",
      "│       └── \u001b[94mvalues\u001b[0m = [71.0, 153.0, 330.0, ...]\n",
      "├── \u001b[94mconcentrations\u001b[0m\n",
      "│   └── \u001b[4mData\u001b[0m\n",
      "│       ├── \u001b[94mid\u001b[0m = 0531cb42-b9e1-4065-a1cf-2e564f28084a\n",
      "│       ├── \u001b[94mquantity\u001b[0m = Concentration\n",
      "│       └── \u001b[94mvalues\u001b[0m = [5.0, 10.0, 20.0, ...]\n",
      "├── \u001b[94mregression_coefficients\u001b[0m = [1.0135636425894583, 0.05768828352388381, ...]\n",
      "└── \u001b[94mdegree\u001b[0m = 1\n",
      "\n",
      "\u001b[4mCalibration\u001b[0m\n",
      "├── \u001b[94mid\u001b[0m = 94115cf4-c6d5-4756-997c-e431378b28ac\n",
      "├── \u001b[94mpeak_areas\u001b[0m\n",
      "│   └── \u001b[4mData\u001b[0m\n",
      "│       ├── \u001b[94mid\u001b[0m = 41a4c0e7-46f6-4102-b790-54d8ef169a1c\n",
      "│       ├── \u001b[94mquantity\u001b[0m = Peak area\n",
      "│       └── \u001b[94mvalues\u001b[0m = [0.0, 12168.0, ...]\n",
      "├── \u001b[94mconcentrations\u001b[0m\n",
      "│   └── \u001b[4mData\u001b[0m\n",
      "│       ├── \u001b[94mid\u001b[0m = e6ae0432-d07f-4d02-b56b-265045b8404e\n",
      "│       ├── \u001b[94mquantity\u001b[0m = Concentration\n",
      "│       └── \u001b[94mvalues\u001b[0m = [0.0, 5.0, ...]\n",
      "├── \u001b[94mregression_coefficients\u001b[0m = [3.146078039972546e-16, 0.0004109138724523339, ...]\n",
      "└── \u001b[94mdegree\u001b[0m = 1\n",
      "\n",
      "\u001b[4mCalibration\u001b[0m\n",
      "├── \u001b[94mid\u001b[0m = 683a26eb-79bc-4c6c-837f-617cb7f3577a\n",
      "├── \u001b[94mpeak_areas\u001b[0m\n",
      "│   └── \u001b[4mData\u001b[0m\n",
      "│       ├── \u001b[94mid\u001b[0m = d894b18d-c1f7-4920-8553-64de6277e082\n",
      "│       ├── \u001b[94mquantity\u001b[0m = Peak area\n",
      "│       └── \u001b[94mvalues\u001b[0m = [1122.0, 4864.0, 7297.0, ...]\n",
      "├── \u001b[94mconcentrations\u001b[0m\n",
      "│   └── \u001b[4mData\u001b[0m\n",
      "│       ├── \u001b[94mid\u001b[0m = 05af66ef-32ce-4a6e-86c7-d7e7353401ad\n",
      "│       ├── \u001b[94mquantity\u001b[0m = Concentration\n",
      "│       └── \u001b[94mvalues\u001b[0m = [0.5, 2.0, 3.0, ...]\n",
      "├── \u001b[94mregression_coefficients\u001b[0m = [0.04225127219798618, 0.0004045205287514898, ...]\n",
      "└── \u001b[94mdegree\u001b[0m = 1\n",
      "\n",
      "\u001b[4mCalibration\u001b[0m\n",
      "├── \u001b[94mid\u001b[0m = 98bc4c48-7644-4fbd-bd1f-ef2092ca2a5e\n",
      "├── \u001b[94mpeak_areas\u001b[0m\n",
      "│   └── \u001b[4mData\u001b[0m\n",
      "│       ├── \u001b[94mid\u001b[0m = a30301a1-a5fc-4c40-9e05-1448cb73baf5\n",
      "│       ├── \u001b[94mquantity\u001b[0m = Peak area\n",
      "│       └── \u001b[94mvalues\u001b[0m = [5727.0, 11991.0, ...]\n",
      "├── \u001b[94mconcentrations\u001b[0m\n",
      "│   └── \u001b[4mData\u001b[0m\n",
      "│       ├── \u001b[94mid\u001b[0m = d38f9ca7-29bf-4547-a6d7-6899d29a4d33\n",
      "│       ├── \u001b[94mquantity\u001b[0m = Concentration\n",
      "│       └── \u001b[94mvalues\u001b[0m = [5.0, 10.0, ...]\n",
      "├── \u001b[94mregression_coefficients\u001b[0m = [0.4286398467432958, 0.0007982120051085568, ...]\n",
      "└── \u001b[94mdegree\u001b[0m = 1\n",
      "\n"
     ]
    }
   ],
   "source": [
    "for species,item in species_data.items():\n",
    "\n",
    "    # Create Calibration object and fit it to the given data\n",
    "    calibration = Calibration(\n",
    "        peak_areas=Data(\n",
    "            quantity=\"Peak area\", values=item[\"calibration\"][\"peak_areas\"]\n",
    "        ),\n",
    "        concentrations=Data(\n",
    "            quantity=Quantity.CONCENTRATION.value,\n",
    "            values=item[\"calibration\"][\"concentrations\"],\n",
    "        ),\n",
    "    )\n",
    "    calibration.calibrate()\n",
    "    \n",
    "    test.add_to_species_data( species = species, \n",
    "                              chemical_formula = item[\"chemical_formula\"],\n",
    "                              calibration = calibration,\n",
    "                              correction_factor = item[\"correction_factor\"],\n",
    "                              electron_transfer = item[\"electron_transfer\"]\n",
    "                               )"
   ]
  },
  {
   "cell_type": "code",
   "execution_count": 7,
   "metadata": {},
   "outputs": [],
   "source": [
    "# widget that reads in PID and LINKS each measurement types to devices?\n",
    "\n",
    "# or first read PID and then provide the possibility to link each measurement to a device from dropdown!"
   ]
  },
  {
   "cell_type": "code",
   "execution_count": 32,
   "metadata": {},
   "outputs": [],
   "source": [
    "#str(root) = \"c:/Users/darouich/OneDrive/Dokumente/\"\n",
    "\n",
    "e_chem = str(root)+'/data/Rohdaten/7.1_nm_OMC/Gammry_Data/230705-1-CV-PEG20-068-GTA25/GSTATIC.DTA'\n",
    "mfm    = [str(root)+'/data/Rohdaten/7.1_nm_OMC/MFM_Data/1-CV-PEG20-068/MFM_1-CV-PEG20-068.csv',\n",
    "          str(root)+'/data/Rohdaten/7.1_nm_OMC/MFM_Data/2-CV-PEG20-068-GTA25/GSS_2-CV-PEG20-068-GTA25_200_20c_1h.csv',\n",
    "          str(root)+'/data/Rohdaten/7.1_nm_OMC/MFM_Data/3-CV-PEG20-068-GTA25/GSS_3-CV-PEG20-068-GTA25_200_20c_1h.csv' ]\n",
    "gc     = [str(root)+'/data/Rohdaten/7.1_nm_OMC/GC_Data/230705-1-CV-PEG20-068-GTA25/JH-1H 2023-07-05 11-45-17/NV-F0102.D/report00.CSV',\n",
    "        str(root)+'/data/Rohdaten/7.1_nm_OMC/GC_Data/230705-1-CV-PEG20-068-GTA25/JH-1H 2023-07-05 11-45-17/NV-F0102.D/REPORT01.CSV',\n",
    "        str(root)+'/data/Rohdaten/7.1_nm_OMC/GC_Data/230705-1-CV-PEG20-068-GTA25/JH-1H 2023-07-05 11-45-17/NV-F0103.D/report00.CSV',\n",
    "        str(root)+'/data/Rohdaten/7.1_nm_OMC/GC_Data/230705-1-CV-PEG20-068-GTA25/JH-1H 2023-07-05 11-45-17/NV-F0103.D/REPORT01.CSV',\n",
    "        str(root)+'/data/Rohdaten/7.1_nm_OMC/GC_Data/230705-1-CV-PEG20-068-GTA25/JH-1H 2023-07-05 11-45-17/NV-F0104.D/report00.CSV',\n",
    "        str(root)+'/data/Rohdaten/7.1_nm_OMC/GC_Data/230705-1-CV-PEG20-068-GTA25/JH-1H 2023-07-05 11-45-17/NV-F0104.D/REPORT01.CSV',\n",
    "\n",
    "        str(root)+'/data/Rohdaten/7.1_nm_OMC/GC_Data/230705-2-CV-PEG20-068-GTA25/JH-1H 2023-07-05 14-19-03/NV-F0102.D/report00.CSV',\n",
    "        str(root)+'/data/Rohdaten/7.1_nm_OMC/GC_Data/230705-2-CV-PEG20-068-GTA25/JH-1H 2023-07-05 14-19-03/NV-F0102.D/REPORT01.CSV',\n",
    "        str(root)+'/data/Rohdaten/7.1_nm_OMC/GC_Data/230705-2-CV-PEG20-068-GTA25/JH-1H 2023-07-05 14-19-03/NV-F0103.D/report00.CSV',\n",
    "        str(root)+'/data/Rohdaten/7.1_nm_OMC/GC_Data/230705-2-CV-PEG20-068-GTA25/JH-1H 2023-07-05 14-19-03/NV-F0103.D/REPORT01.CSV',\n",
    "        str(root)+'/data/Rohdaten/7.1_nm_OMC/GC_Data/230705-2-CV-PEG20-068-GTA25/JH-1H 2023-07-05 14-19-03/NV-F0104.D/report00.CSV',\n",
    "        str(root)+'/data/Rohdaten/7.1_nm_OMC/GC_Data/230705-2-CV-PEG20-068-GTA25/JH-1H 2023-07-05 14-19-03/NV-F0104.D/REPORT01.CSV',\n",
    "\n",
    "        str(root)+'/data/Rohdaten/7.1_nm_OMC/GC_Data/230705-3-CV-PEG20-068-GTA25/JH-1H 2023-07-05 15-59-41/NV-F0102.D/report00.CSV',\n",
    "        str(root)+'/data/Rohdaten/7.1_nm_OMC/GC_Data/230705-3-CV-PEG20-068-GTA25/JH-1H 2023-07-05 15-59-41/NV-F0102.D/REPORT01.CSV',\n",
    "        str(root)+'/data/Rohdaten/7.1_nm_OMC/GC_Data/230705-3-CV-PEG20-068-GTA25/JH-1H 2023-07-05 15-59-41/NV-F0103.D/report00.CSV',\n",
    "        str(root)+'/data/Rohdaten/7.1_nm_OMC/GC_Data/230705-3-CV-PEG20-068-GTA25/JH-1H 2023-07-05 15-59-41/NV-F0103.D/REPORT01.CSV',\n",
    "        str(root)+'/data/Rohdaten/7.1_nm_OMC/GC_Data/230705-3-CV-PEG20-068-GTA25/JH-1H 2023-07-05 15-59-41/NV-F0104.D/report00.CSV',\n",
    "        str(root)+'/data/Rohdaten/7.1_nm_OMC/GC_Data/230705-3-CV-PEG20-068-GTA25/JH-1H 2023-07-05 15-59-41/NV-F0104.D/REPORT01.CSV']\n",
    "\n",
    "\n",
    "e_chem = str(root)+'/data/Rohdaten/7.1_nm_OMC_washing/Gammry_Data/230706-1-CV-PEG20-068-GTA25-washing/GSTATIC.DTA'\n",
    "mfm    = [str(root)+'/data/Rohdaten/7.1_nm_OMC_washing/MFM_Data/1-CV-PEG20-068-GTA25-washing/GSS_1-CV-PEG20-068-GTA25-washing_200_20c_1h.csv',\n",
    "          str(root)+'/data/Rohdaten/7.1_nm_OMC_washing/MFM_Data/2-CV-PEG20-068-GTA25-washing/GSS_2-CV-PEG20-068-GTA25-washing_200_20c_1h.csv',\n",
    "          str(root)+'/data/Rohdaten/7.1_nm_OMC_washing/MFM_Data/3-CV-PEG20-068-GTA25-washing/GSS_3-CV-PEG20-068-GTA25-washing_200_20c_1h.csv' ]\n",
    "gc     = [str(root)+'/data/Rohdaten/7.1_nm_OMC_washing/GC_Data/230706-1-CV-PEG20-068-GTA25-washing/JH-1H 2023-07-06 09-26-39/NV-F0102.D/report00.CSV',\n",
    "        str(root)+'/data/Rohdaten/7.1_nm_OMC_washing/GC_Data/230706-1-CV-PEG20-068-GTA25-washing/JH-1H 2023-07-06 09-26-39/NV-F0102.D/REPORT01.CSV',\n",
    "        str(root)+'/data/Rohdaten/7.1_nm_OMC_washing/GC_Data/230706-1-CV-PEG20-068-GTA25-washing/JH-1H 2023-07-06 09-26-39/NV-F0103.D/report00.CSV',\n",
    "        str(root)+'/data/Rohdaten/7.1_nm_OMC_washing/GC_Data/230706-1-CV-PEG20-068-GTA25-washing/JH-1H 2023-07-06 09-26-39/NV-F0103.D/REPORT01.CSV',\n",
    "        str(root)+'/data/Rohdaten/7.1_nm_OMC_washing/GC_Data/230706-1-CV-PEG20-068-GTA25-washing/JH-1H 2023-07-06 09-26-39/NV-F0104.D/report00.CSV',\n",
    "        str(root)+'/data/Rohdaten/7.1_nm_OMC_washing/GC_Data/230706-1-CV-PEG20-068-GTA25-washing/JH-1H 2023-07-06 09-26-39/NV-F0104.D/REPORT01.CSV',\n",
    "\n",
    "        str(root)+'/data/Rohdaten/7.1_nm_OMC_washing/GC_Data/230706-2-CV-PEG20-068-GTA25-washing/JH-1H 2023-07-06 11-05-18/NV-F0102.D/report00.CSV',\n",
    "        str(root)+'/data/Rohdaten/7.1_nm_OMC_washing/GC_Data/230706-2-CV-PEG20-068-GTA25-washing/JH-1H 2023-07-06 11-05-18/NV-F0102.D/REPORT01.CSV',\n",
    "        str(root)+'/data/Rohdaten/7.1_nm_OMC_washing/GC_Data/230706-2-CV-PEG20-068-GTA25-washing/JH-1H 2023-07-06 11-05-18/NV-F0103.D/report00.CSV',\n",
    "        str(root)+'/data/Rohdaten/7.1_nm_OMC_washing/GC_Data/230706-2-CV-PEG20-068-GTA25-washing/JH-1H 2023-07-06 11-05-18/NV-F0103.D/REPORT01.CSV',\n",
    "        str(root)+'/data/Rohdaten/7.1_nm_OMC_washing/GC_Data/230706-2-CV-PEG20-068-GTA25-washing/JH-1H 2023-07-06 11-05-18/NV-F0104.D/report00.CSV',\n",
    "        str(root)+'/data/Rohdaten/7.1_nm_OMC_washing/GC_Data/230706-2-CV-PEG20-068-GTA25-washing/JH-1H 2023-07-06 11-05-18/NV-F0104.D/REPORT01.CSV',\n",
    "\n",
    "        str(root)+'/data/Rohdaten/7.1_nm_OMC_washing/GC_Data/230706-3-CV-PEG20-068-GTA25-washing/JH-1H 2023-07-06 12-32-22/NV-F0102.D/report00.CSV',\n",
    "        str(root)+'/data/Rohdaten/7.1_nm_OMC_washing/GC_Data/230706-3-CV-PEG20-068-GTA25-washing/JH-1H 2023-07-06 12-32-22/NV-F0102.D/REPORT01.CSV',\n",
    "        str(root)+'/data/Rohdaten/7.1_nm_OMC_washing/GC_Data/230706-3-CV-PEG20-068-GTA25-washing/JH-1H 2023-07-06 12-32-22/NV-F0103.D/report00.CSV',\n",
    "        str(root)+'/data/Rohdaten/7.1_nm_OMC_washing/GC_Data/230706-3-CV-PEG20-068-GTA25-washing/JH-1H 2023-07-06 12-32-22/NV-F0103.D/REPORT01.CSV',\n",
    "        str(root)+'/data/Rohdaten/7.1_nm_OMC_washing/GC_Data/230706-3-CV-PEG20-068-GTA25-washing/JH-1H 2023-07-06 12-32-22/NV-F0104.D/report00.CSV',\n",
    "        str(root)+'/data/Rohdaten/7.1_nm_OMC_washing/GC_Data/230706-3-CV-PEG20-068-GTA25-washing/JH-1H 2023-07-06 12-32-22/NV-F0104.D/REPORT01.CSV']\n",
    "\n",
    "e_chem = str(root)+'/data/Rohdaten/9.2_nm/Gammry_Data/230705-1-CV-PEG35-052-GTA25/GSTATIC.DTA'\n",
    "mfm    = [str(root)+'/data/Rohdaten/9.2_nm/MFM_Data/1-CV-PEG35-052-GTA25/GSS_1-CV-PEG35-052-GTA25_200_20c_1h.csv',\n",
    "          str(root)+'/data/Rohdaten/9.2_nm/MFM_Data/2-CV-PEG35-052-GTA25/GSS_2-CV-PEG35-052-GTA25_200_20c_1h.csv',]\n",
    "gc     = [str(root)+'/data/Rohdaten/9.2_nm/GC_Data/230705-1-CV-PEG35-052-GTA25/JH-1H 2023-07-05 18-32-59/NV-F0102.D/report00.CSV',\n",
    "        str(root)+'/data/Rohdaten/9.2_nm/GC_Data/230705-1-CV-PEG35-052-GTA25/JH-1H 2023-07-05 18-32-59/NV-F0102.D/REPORT01.CSV',\n",
    "        str(root)+'/data/Rohdaten/9.2_nm/GC_Data/230705-1-CV-PEG35-052-GTA25/JH-1H 2023-07-05 18-32-59/NV-F0103.D/report00.CSV',\n",
    "        str(root)+'/data/Rohdaten/9.2_nm/GC_Data/230705-1-CV-PEG35-052-GTA25/JH-1H 2023-07-05 18-32-59/NV-F0103.D/REPORT01.CSV',\n",
    "        str(root)+'/data/Rohdaten/9.2_nm/GC_Data/230705-1-CV-PEG35-052-GTA25/JH-1H 2023-07-05 18-32-59/NV-F0104.D/report00.CSV',\n",
    "        str(root)+'/data/Rohdaten/9.2_nm/GC_Data/230705-1-CV-PEG35-052-GTA25/JH-1H 2023-07-05 18-32-59/NV-F0104.D/REPORT01.CSV',\n",
    "\n",
    "        str(root)+'/data/Rohdaten/9.2_nm/GC_Data/230705-2-CV-PEG35-052-GTA25/JH-1H 2023-07-05 20-04-01/NV-F0102.D/report00.CSV',\n",
    "        str(root)+'/data/Rohdaten/9.2_nm/GC_Data/230705-2-CV-PEG35-052-GTA25/JH-1H 2023-07-05 20-04-01/NV-F0102.D/REPORT01.CSV',\n",
    "        str(root)+'/data/Rohdaten/9.2_nm/GC_Data/230705-2-CV-PEG35-052-GTA25/JH-1H 2023-07-05 20-04-01/NV-F0103.D/report00.CSV',\n",
    "        str(root)+'/data/Rohdaten/9.2_nm/GC_Data/230705-2-CV-PEG35-052-GTA25/JH-1H 2023-07-05 20-04-01/NV-F0103.D/REPORT01.CSV',\n",
    "        str(root)+'/data/Rohdaten/9.2_nm/GC_Data/230705-2-CV-PEG35-052-GTA25/JH-1H 2023-07-05 20-04-01/NV-F0104.D/report00.CSV',\n",
    "        str(root)+'/data/Rohdaten/9.2_nm/GC_Data/230705-2-CV-PEG35-052-GTA25/JH-1H 2023-07-05 20-04-01/NV-F0104.D/REPORT01.CSV']\n",
    "\n",
    "e_chem = str(root)+'/data/raw_data/01_EChem/CAD14-Cu@AB/GSTATIC.DTA'\n",
    "mfm    = [str(root)+'/data/raw_data/03_MFM/CAD14-Cu@AB/Bench-2h-GSS_CAD14-Cu@AB_200_50c_24h_truncated.csv']\n",
    "gc     = [str(root)+'/data/raw_data/02_GC/CAD14-Cu@AB/JH-1H 2023-02-06 10-00-18/NV-F0102.D/report00.CSV',\n",
    "        str(root)+'/data/raw_data/02_GC/CAD14-Cu@AB/JH-1H 2023-02-06 10-00-18/NV-F0102.D/REPORT01.CSV',\n",
    "        str(root)+'/data/raw_data/02_GC/CAD14-Cu@AB/JH-1H 2023-02-06 10-00-18/NV-F0103.D/report00.CSV',\n",
    "        str(root)+'/data/raw_data/02_GC/CAD14-Cu@AB/JH-1H 2023-02-06 10-00-18/NV-F0103.D/REPORT01.CSV',\n",
    "        str(root)+'/data/raw_data/02_GC/CAD14-Cu@AB/JH-1H 2023-02-06 10-00-18/NV-F0104.D/report00.CSV',\n",
    "        str(root)+'/data/raw_data/02_GC/CAD14-Cu@AB/JH-1H 2023-02-06 10-00-18/NV-F0104.D/REPORT01.CSV']\n",
    "calib  = str(root)+'/data/additional_data/calibration.json'\n",
    "correc = str(root)+'/data/additional_data/correction_factors.json'\n",
    "farada = str(root)+'/data/additional_data/faraday_coefficients.json'\n",
    "\n",
    "rrdw.galvano_files.value = [e_chem]\n",
    "rrdw.MFM_files.value   = mfm\n",
    "rrdw.GC_files.value    = gc\n",
    "rrdw.calib_files.value = [calib]\n",
    "rrdw.correction_files.value = [correc]\n",
    "rrdw.faraday_files.value    = [farada]"
   ]
  },
  {
   "cell_type": "markdown",
   "metadata": {},
   "source": [
    "---\n",
    "## Section 2: Analysis of data\n",
    "---\n",
    "In this section the raw data of the above choosen dataset is analyzed (if you change the dataset above, then reexecute this cell)"
   ]
  },
  {
   "cell_type": "code",
   "execution_count": 8,
   "metadata": {},
   "outputs": [
    {
     "data": {
      "application/vnd.jupyter.widget-view+json": {
       "model_id": "635505571189438e9654b2242e474c26",
       "version_major": 2,
       "version_minor": 0
      },
      "text/plain": [
       "VBox(children=(HBox(children=(Dropdown(description='Choose experiment:', layout=Layout(width='auto'), options=…"
      ]
     },
     "metadata": {},
     "output_type": "display_data"
    },
    {
     "name": "stderr",
     "output_type": "stream",
     "text": [
      "\n",
      "GC measurement already contains an assignment. Use this assignment rather than the default dictionary.\n",
      "\n"
     ]
    },
    {
     "data": {
      "application/vnd.jupyter.widget-view+json": {
       "model_id": "cefd94b3340640b180b278e77d64bead",
       "version_major": 2,
       "version_minor": 0
      },
      "text/plain": [
       "VBox(children=(HBox(children=(VBox(children=(Label(value='Measurement number 0', layout=Layout(height='30px', …"
      ]
     },
     "metadata": {},
     "output_type": "display_data"
    },
    {
     "data": {
      "application/vnd.jupyter.widget-view+json": {
       "model_id": "7a05578cf4694c5291fac440bcadb95f",
       "version_major": 2,
       "version_minor": 0
      },
      "text/plain": [
       "VBox(children=(VBox(children=(HTML(value='The mass flow at the time of the gas chromatography measurement is d…"
      ]
     },
     "metadata": {},
     "output_type": "display_data"
    }
   ],
   "source": [
    "# Provide a typical retention time dictionary to pre assign retention times \n",
    "\n",
    "typical_retention_time = {\"Hydrogen\": 1.7, \"Carbon dioxide\": 3.0, \"Carbon monoxide\": 13.6, \n",
    "                          \"Methane\": 3.6, \"Ethene\": 6.0, \"Ethane\": 7.1}\n",
    "\n",
    "ardw = analyzing_raw_data_widget()\n",
    "ardw.choose_experiment( dataset = rrdw.dataset, \n",
    "                        dataset_path = rrdw.dataset_dropdown.value, \n",
    "                        typical_retention_time = typical_retention_time)"
   ]
  },
  {
   "cell_type": "markdown",
   "metadata": {},
   "source": [
    "---\n",
    "## Section 3: Upload of data to DaRUS\n",
    "---\n",
    "In this section the above choosen dataset, containing the processed as well as the raw data, is uploaded to DaRUS"
   ]
  },
  {
   "cell_type": "code",
   "execution_count": 9,
   "metadata": {},
   "outputs": [
    {
     "data": {
      "application/vnd.jupyter.widget-view+json": {
       "model_id": "e051338c09e24f1da79700923b36aacc",
       "version_major": 2,
       "version_minor": 0
      },
      "text/plain": [
       "VBox(children=(Dropdown(description='Choose whether you want to create a new data record or edit an existing o…"
      ]
     },
     "metadata": {},
     "output_type": "display_data"
    }
   ],
   "source": [
    "# Predefined list of all SFB1333 dataverses. If a new dataverse wants to be appended, just add in the list\n",
    "sfb1333_dataverse_list = [ \"sfb1333-\"+group_name for group_name in [\"hansen-gross\", \"grabowski\", \"sarkar\", \"tallarek\", \"peters\", \"schmitz\", \"inf\", \"pluhackova\", \"giesselmann\", \"klemm\", \"schlaich\", \"traa\", \"naumann\", \"lotsch\", \"vanSlageren\", \"holm\", \"fyta\", \"estes\", \"laschat\", \"bruckner\", \"bill\", \"ludwigs\", \"dyballa\", \"ringenberg\", \"kaestner\", \"Buchmeiser\", \"sottmann\"] ]\n",
    "\n",
    "Darus_upload = DaRUS_upload()\n",
    "\n",
    "Darus_upload.DaRUS( dataset = ardw.dataset, \n",
    "                    dataset_path = rrdw.dataset_dropdown.value,\n",
    "                    dataverse_list = sfb1333_dataverse_list )\n",
    "\n",
    "Darus_upload.api_token_text.value = \"4afecd82-c92d-4935-b786-2225af43531e\""
   ]
  },
  {
   "cell_type": "code",
   "execution_count": null,
   "metadata": {},
   "outputs": [],
   "source": []
  }
 ],
 "metadata": {
  "kernelspec": {
   "display_name": "Python 3 (ipykernel)",
   "language": "python",
   "name": "python3"
  },
  "language_info": {
   "codemirror_mode": {
    "name": "ipython",
    "version": 3
   },
   "file_extension": ".py",
   "mimetype": "text/x-python",
   "name": "python",
   "nbconvert_exporter": "python",
   "pygments_lexer": "ipython3",
   "version": "3.11.7"
  },
  "vscode": {
   "interpreter": {
    "hash": "9f62ab2d43dc75e3c3b007469adeb0f7488873df876b9b71dd3b119f0280ba41"
   }
  }
 },
 "nbformat": 4,
 "nbformat_minor": 4
}
