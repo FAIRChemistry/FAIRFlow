{
 "cells": [
  {
   "attachments": {},
   "cell_type": "markdown",
   "metadata": {},
   "source": [
    "# <center>Workflow for on-line GC and HPLC analysis in flow chemistry</center>\n"
   ]
  },
  {
   "cell_type": "markdown",
   "metadata": {},
   "source": [
    "---\n",
    "## Section 0: Imports, Paths, and Logging\n",
    "---\n",
    "\n",
    "In this section all the necessary python packages are imported, the path to this notebook and the logger for this notebook is set up."
   ]
  },
  {
   "cell_type": "code",
   "execution_count": 1,
   "metadata": {},
   "outputs": [],
   "source": [
    "# Activate autoreload to keep on track with changing modules\n",
    "%reload_ext autoreload\n",
    "%autoreload 2\n",
    "\n",
    "# Import standard libraries\n",
    "import logging\n",
    "from pathlib import Path\n",
    "\n",
    "# Import tools for data processing and analysis and DaRUS upload\n",
    "from FAIRFlowChemistry.tools.logger_setup import setup_logger\n",
    "from FAIRFlowChemistry.tools import initialize_dataset, reading_raw_data_widget, analyzing_raw_data_widget, DaRUS_upload\n",
    "\n",
    "# Get root path of the notebook\n",
    "root = Path.cwd()\n",
    "\n",
    "# Setup logger\n",
    "setup_logger( \"log_faraday_efficency.log\" )\n",
    "logger = logging.getLogger( \"main\" )"
   ]
  },
  {
   "cell_type": "markdown",
   "metadata": {},
   "source": [
    "---\n",
    "## Section 1: Dataset and raw data\n",
    "---\n",
    "In this section the dataset as well as the to analyze raw data is choosen"
   ]
  },
  {
   "cell_type": "code",
   "execution_count": 28,
   "metadata": {},
   "outputs": [
    {
     "data": {
      "application/vnd.jupyter.widget-view+json": {
       "model_id": "686ef0d4689b4b48a45159c1e3d301ff",
       "version_major": 2,
       "version_minor": 0
      },
      "text/plain": [
       "VBox(children=(VBox(children=(Text(value='', description='Title of the project:', layout=Layout(width='auto'),…"
      ]
     },
     "metadata": {},
     "output_type": "display_data"
    }
   ],
   "source": [
    "DaRUS_subjects = ['Agricultural Sciences', 'Arts and Humanities', 'Astronomy and Astrophysics', 'Business and Management', 'Chemistry', \n",
    "                  'Computer and Information Science', 'Earth and Environmental Sciences', 'Engineering', 'Law', 'Mathematical Sciences', \n",
    "                  'Medicine, Health and Life Sciences', 'Physics', 'Social Sciences', 'Other']\n",
    "\n",
    "init_data = initialize_dataset()\n",
    "init_data.write_dataset( subjects = DaRUS_subjects )"
   ]
  },
  {
   "cell_type": "code",
   "execution_count": 29,
   "metadata": {},
   "outputs": [],
   "source": [
    "## Definition of basic meta data of the project ##\n",
    "\n",
    "init_data.title.value        = 'FAIRFlow: A Jupyter notebook-based platform for on-line analysis in flow chemistry '\n",
    "init_data.description.value  = 'The aim of this project is to introduce the FAIR (findable, accessible, interoperable, reusable) principles into miniplant flow chemistry'\n",
    "init_data.project.value      = 'Project B07'\n",
    "\n",
    "# List with authors and their affiliation #\n",
    "init_data.authors.value      = 'Richard Schömig, Jan Range, Samir Darouich, Maximilian Schmidt, Seda Yilmaz, Elias Klemm, Jürgen Pleiss' \n",
    "init_data.affiliations.value = 'University of Stuttgart, University of Stuttgart, University of Stuttgart, University of Stuttgart, University of Stuttgart, University of Stuttgart, University of Stuttgart'\n",
    "init_data.identifier.value   = 'xxx-xxx-xxx-xxx, xxx-xxx-xxx-xxx, xxx-xxx-xxx-xxx, xxx-xxx-xxx-xxx, xxx-xxx-xxx-xxx, xxx-xxx-xxx-xxx, xxx-xxx-xxx-xxx'\n",
    "init_data.contact_text.value = 'Jürgen Pleiss, juergen.pleiss@itb.uni-stuttgart.de'\n",
    "\n",
    "init_data.related_publication.value = \"test, https://id.loc.gov/authorities/subjects/sh2014001146.html\"\n",
    "\n",
    "init_data.topic_classification.value = \"homogeneous catalysis (LCSH), https://id.loc.gov/authorities/subjects/sh2014001146.html\"\n",
    "init_data.keywords.value             = \"polymer chemistry (Loterre Chemistry Vocabulary), https://skosmos.loterre.fr/ERC/en/page/?uri=http%3A%2F%2Fdata.loterre.fr%2Fark%3A%2F67375%2FERC-KCSKD4X9-P\"\n",
    "\n",
    "init_data.dataset_text.value = \"datasets/final\""
   ]
  },
  {
   "cell_type": "code",
   "execution_count": 39,
   "metadata": {},
   "outputs": [
    {
     "data": {
      "application/vnd.jupyter.widget-view+json": {
       "model_id": "39bbe802b42c464cb3ad558d573e04fb",
       "version_major": 2,
       "version_minor": 0
      },
      "text/plain": [
       "VBox(children=(HBox(children=(Dropdown(description='Choose dataset', layout=Layout(width='auto'), options=(('t…"
      ]
     },
     "metadata": {},
     "output_type": "display_data"
    }
   ],
   "source": [
    "## Search for dataset and raw data ##\n",
    "\n",
    "rrdw = reading_raw_data_widget()\n",
    "rrdw.choose_data( root = root, dataset_directory = \"datasets\")"
   ]
  },
  {
   "cell_type": "code",
   "execution_count": 32,
   "metadata": {},
   "outputs": [],
   "source": [
    "#str(root) = \"c:/Users/darouich/OneDrive/Dokumente/\"\n",
    "\n",
    "e_chem = str(root)+'/data/Rohdaten/7.1_nm_OMC/Gammry_Data/230705-1-CV-PEG20-068-GTA25/GSTATIC.DTA'\n",
    "mfm    = [str(root)+'/data/Rohdaten/7.1_nm_OMC/MFM_Data/1-CV-PEG20-068/MFM_1-CV-PEG20-068.csv',\n",
    "          str(root)+'/data/Rohdaten/7.1_nm_OMC/MFM_Data/2-CV-PEG20-068-GTA25/GSS_2-CV-PEG20-068-GTA25_200_20c_1h.csv',\n",
    "          str(root)+'/data/Rohdaten/7.1_nm_OMC/MFM_Data/3-CV-PEG20-068-GTA25/GSS_3-CV-PEG20-068-GTA25_200_20c_1h.csv' ]\n",
    "gc     = [str(root)+'/data/Rohdaten/7.1_nm_OMC/GC_Data/230705-1-CV-PEG20-068-GTA25/JH-1H 2023-07-05 11-45-17/NV-F0102.D/report00.CSV',\n",
    "        str(root)+'/data/Rohdaten/7.1_nm_OMC/GC_Data/230705-1-CV-PEG20-068-GTA25/JH-1H 2023-07-05 11-45-17/NV-F0102.D/REPORT01.CSV',\n",
    "        str(root)+'/data/Rohdaten/7.1_nm_OMC/GC_Data/230705-1-CV-PEG20-068-GTA25/JH-1H 2023-07-05 11-45-17/NV-F0103.D/report00.CSV',\n",
    "        str(root)+'/data/Rohdaten/7.1_nm_OMC/GC_Data/230705-1-CV-PEG20-068-GTA25/JH-1H 2023-07-05 11-45-17/NV-F0103.D/REPORT01.CSV',\n",
    "        str(root)+'/data/Rohdaten/7.1_nm_OMC/GC_Data/230705-1-CV-PEG20-068-GTA25/JH-1H 2023-07-05 11-45-17/NV-F0104.D/report00.CSV',\n",
    "        str(root)+'/data/Rohdaten/7.1_nm_OMC/GC_Data/230705-1-CV-PEG20-068-GTA25/JH-1H 2023-07-05 11-45-17/NV-F0104.D/REPORT01.CSV',\n",
    "\n",
    "        str(root)+'/data/Rohdaten/7.1_nm_OMC/GC_Data/230705-2-CV-PEG20-068-GTA25/JH-1H 2023-07-05 14-19-03/NV-F0102.D/report00.CSV',\n",
    "        str(root)+'/data/Rohdaten/7.1_nm_OMC/GC_Data/230705-2-CV-PEG20-068-GTA25/JH-1H 2023-07-05 14-19-03/NV-F0102.D/REPORT01.CSV',\n",
    "        str(root)+'/data/Rohdaten/7.1_nm_OMC/GC_Data/230705-2-CV-PEG20-068-GTA25/JH-1H 2023-07-05 14-19-03/NV-F0103.D/report00.CSV',\n",
    "        str(root)+'/data/Rohdaten/7.1_nm_OMC/GC_Data/230705-2-CV-PEG20-068-GTA25/JH-1H 2023-07-05 14-19-03/NV-F0103.D/REPORT01.CSV',\n",
    "        str(root)+'/data/Rohdaten/7.1_nm_OMC/GC_Data/230705-2-CV-PEG20-068-GTA25/JH-1H 2023-07-05 14-19-03/NV-F0104.D/report00.CSV',\n",
    "        str(root)+'/data/Rohdaten/7.1_nm_OMC/GC_Data/230705-2-CV-PEG20-068-GTA25/JH-1H 2023-07-05 14-19-03/NV-F0104.D/REPORT01.CSV',\n",
    "\n",
    "        str(root)+'/data/Rohdaten/7.1_nm_OMC/GC_Data/230705-3-CV-PEG20-068-GTA25/JH-1H 2023-07-05 15-59-41/NV-F0102.D/report00.CSV',\n",
    "        str(root)+'/data/Rohdaten/7.1_nm_OMC/GC_Data/230705-3-CV-PEG20-068-GTA25/JH-1H 2023-07-05 15-59-41/NV-F0102.D/REPORT01.CSV',\n",
    "        str(root)+'/data/Rohdaten/7.1_nm_OMC/GC_Data/230705-3-CV-PEG20-068-GTA25/JH-1H 2023-07-05 15-59-41/NV-F0103.D/report00.CSV',\n",
    "        str(root)+'/data/Rohdaten/7.1_nm_OMC/GC_Data/230705-3-CV-PEG20-068-GTA25/JH-1H 2023-07-05 15-59-41/NV-F0103.D/REPORT01.CSV',\n",
    "        str(root)+'/data/Rohdaten/7.1_nm_OMC/GC_Data/230705-3-CV-PEG20-068-GTA25/JH-1H 2023-07-05 15-59-41/NV-F0104.D/report00.CSV',\n",
    "        str(root)+'/data/Rohdaten/7.1_nm_OMC/GC_Data/230705-3-CV-PEG20-068-GTA25/JH-1H 2023-07-05 15-59-41/NV-F0104.D/REPORT01.CSV']\n",
    "\n",
    "\n",
    "e_chem = str(root)+'/data/Rohdaten/7.1_nm_OMC_washing/Gammry_Data/230706-1-CV-PEG20-068-GTA25-washing/GSTATIC.DTA'\n",
    "mfm    = [str(root)+'/data/Rohdaten/7.1_nm_OMC_washing/MFM_Data/1-CV-PEG20-068-GTA25-washing/GSS_1-CV-PEG20-068-GTA25-washing_200_20c_1h.csv',\n",
    "          str(root)+'/data/Rohdaten/7.1_nm_OMC_washing/MFM_Data/2-CV-PEG20-068-GTA25-washing/GSS_2-CV-PEG20-068-GTA25-washing_200_20c_1h.csv',\n",
    "          str(root)+'/data/Rohdaten/7.1_nm_OMC_washing/MFM_Data/3-CV-PEG20-068-GTA25-washing/GSS_3-CV-PEG20-068-GTA25-washing_200_20c_1h.csv' ]\n",
    "gc     = [str(root)+'/data/Rohdaten/7.1_nm_OMC_washing/GC_Data/230706-1-CV-PEG20-068-GTA25-washing/JH-1H 2023-07-06 09-26-39/NV-F0102.D/report00.CSV',\n",
    "        str(root)+'/data/Rohdaten/7.1_nm_OMC_washing/GC_Data/230706-1-CV-PEG20-068-GTA25-washing/JH-1H 2023-07-06 09-26-39/NV-F0102.D/REPORT01.CSV',\n",
    "        str(root)+'/data/Rohdaten/7.1_nm_OMC_washing/GC_Data/230706-1-CV-PEG20-068-GTA25-washing/JH-1H 2023-07-06 09-26-39/NV-F0103.D/report00.CSV',\n",
    "        str(root)+'/data/Rohdaten/7.1_nm_OMC_washing/GC_Data/230706-1-CV-PEG20-068-GTA25-washing/JH-1H 2023-07-06 09-26-39/NV-F0103.D/REPORT01.CSV',\n",
    "        str(root)+'/data/Rohdaten/7.1_nm_OMC_washing/GC_Data/230706-1-CV-PEG20-068-GTA25-washing/JH-1H 2023-07-06 09-26-39/NV-F0104.D/report00.CSV',\n",
    "        str(root)+'/data/Rohdaten/7.1_nm_OMC_washing/GC_Data/230706-1-CV-PEG20-068-GTA25-washing/JH-1H 2023-07-06 09-26-39/NV-F0104.D/REPORT01.CSV',\n",
    "\n",
    "        str(root)+'/data/Rohdaten/7.1_nm_OMC_washing/GC_Data/230706-2-CV-PEG20-068-GTA25-washing/JH-1H 2023-07-06 11-05-18/NV-F0102.D/report00.CSV',\n",
    "        str(root)+'/data/Rohdaten/7.1_nm_OMC_washing/GC_Data/230706-2-CV-PEG20-068-GTA25-washing/JH-1H 2023-07-06 11-05-18/NV-F0102.D/REPORT01.CSV',\n",
    "        str(root)+'/data/Rohdaten/7.1_nm_OMC_washing/GC_Data/230706-2-CV-PEG20-068-GTA25-washing/JH-1H 2023-07-06 11-05-18/NV-F0103.D/report00.CSV',\n",
    "        str(root)+'/data/Rohdaten/7.1_nm_OMC_washing/GC_Data/230706-2-CV-PEG20-068-GTA25-washing/JH-1H 2023-07-06 11-05-18/NV-F0103.D/REPORT01.CSV',\n",
    "        str(root)+'/data/Rohdaten/7.1_nm_OMC_washing/GC_Data/230706-2-CV-PEG20-068-GTA25-washing/JH-1H 2023-07-06 11-05-18/NV-F0104.D/report00.CSV',\n",
    "        str(root)+'/data/Rohdaten/7.1_nm_OMC_washing/GC_Data/230706-2-CV-PEG20-068-GTA25-washing/JH-1H 2023-07-06 11-05-18/NV-F0104.D/REPORT01.CSV',\n",
    "\n",
    "        str(root)+'/data/Rohdaten/7.1_nm_OMC_washing/GC_Data/230706-3-CV-PEG20-068-GTA25-washing/JH-1H 2023-07-06 12-32-22/NV-F0102.D/report00.CSV',\n",
    "        str(root)+'/data/Rohdaten/7.1_nm_OMC_washing/GC_Data/230706-3-CV-PEG20-068-GTA25-washing/JH-1H 2023-07-06 12-32-22/NV-F0102.D/REPORT01.CSV',\n",
    "        str(root)+'/data/Rohdaten/7.1_nm_OMC_washing/GC_Data/230706-3-CV-PEG20-068-GTA25-washing/JH-1H 2023-07-06 12-32-22/NV-F0103.D/report00.CSV',\n",
    "        str(root)+'/data/Rohdaten/7.1_nm_OMC_washing/GC_Data/230706-3-CV-PEG20-068-GTA25-washing/JH-1H 2023-07-06 12-32-22/NV-F0103.D/REPORT01.CSV',\n",
    "        str(root)+'/data/Rohdaten/7.1_nm_OMC_washing/GC_Data/230706-3-CV-PEG20-068-GTA25-washing/JH-1H 2023-07-06 12-32-22/NV-F0104.D/report00.CSV',\n",
    "        str(root)+'/data/Rohdaten/7.1_nm_OMC_washing/GC_Data/230706-3-CV-PEG20-068-GTA25-washing/JH-1H 2023-07-06 12-32-22/NV-F0104.D/REPORT01.CSV']\n",
    "\n",
    "e_chem = str(root)+'/data/Rohdaten/9.2_nm/Gammry_Data/230705-1-CV-PEG35-052-GTA25/GSTATIC.DTA'\n",
    "mfm    = [str(root)+'/data/Rohdaten/9.2_nm/MFM_Data/1-CV-PEG35-052-GTA25/GSS_1-CV-PEG35-052-GTA25_200_20c_1h.csv',\n",
    "          str(root)+'/data/Rohdaten/9.2_nm/MFM_Data/2-CV-PEG35-052-GTA25/GSS_2-CV-PEG35-052-GTA25_200_20c_1h.csv',]\n",
    "gc     = [str(root)+'/data/Rohdaten/9.2_nm/GC_Data/230705-1-CV-PEG35-052-GTA25/JH-1H 2023-07-05 18-32-59/NV-F0102.D/report00.CSV',\n",
    "        str(root)+'/data/Rohdaten/9.2_nm/GC_Data/230705-1-CV-PEG35-052-GTA25/JH-1H 2023-07-05 18-32-59/NV-F0102.D/REPORT01.CSV',\n",
    "        str(root)+'/data/Rohdaten/9.2_nm/GC_Data/230705-1-CV-PEG35-052-GTA25/JH-1H 2023-07-05 18-32-59/NV-F0103.D/report00.CSV',\n",
    "        str(root)+'/data/Rohdaten/9.2_nm/GC_Data/230705-1-CV-PEG35-052-GTA25/JH-1H 2023-07-05 18-32-59/NV-F0103.D/REPORT01.CSV',\n",
    "        str(root)+'/data/Rohdaten/9.2_nm/GC_Data/230705-1-CV-PEG35-052-GTA25/JH-1H 2023-07-05 18-32-59/NV-F0104.D/report00.CSV',\n",
    "        str(root)+'/data/Rohdaten/9.2_nm/GC_Data/230705-1-CV-PEG35-052-GTA25/JH-1H 2023-07-05 18-32-59/NV-F0104.D/REPORT01.CSV',\n",
    "\n",
    "        str(root)+'/data/Rohdaten/9.2_nm/GC_Data/230705-2-CV-PEG35-052-GTA25/JH-1H 2023-07-05 20-04-01/NV-F0102.D/report00.CSV',\n",
    "        str(root)+'/data/Rohdaten/9.2_nm/GC_Data/230705-2-CV-PEG35-052-GTA25/JH-1H 2023-07-05 20-04-01/NV-F0102.D/REPORT01.CSV',\n",
    "        str(root)+'/data/Rohdaten/9.2_nm/GC_Data/230705-2-CV-PEG35-052-GTA25/JH-1H 2023-07-05 20-04-01/NV-F0103.D/report00.CSV',\n",
    "        str(root)+'/data/Rohdaten/9.2_nm/GC_Data/230705-2-CV-PEG35-052-GTA25/JH-1H 2023-07-05 20-04-01/NV-F0103.D/REPORT01.CSV',\n",
    "        str(root)+'/data/Rohdaten/9.2_nm/GC_Data/230705-2-CV-PEG35-052-GTA25/JH-1H 2023-07-05 20-04-01/NV-F0104.D/report00.CSV',\n",
    "        str(root)+'/data/Rohdaten/9.2_nm/GC_Data/230705-2-CV-PEG35-052-GTA25/JH-1H 2023-07-05 20-04-01/NV-F0104.D/REPORT01.CSV']\n",
    "\n",
    "e_chem = str(root)+'/data/raw_data/01_EChem/CAD14-Cu@AB/GSTATIC.DTA'\n",
    "mfm    = [str(root)+'/data/raw_data/03_MFM/CAD14-Cu@AB/Bench-2h-GSS_CAD14-Cu@AB_200_50c_24h_truncated.csv']\n",
    "gc     = [str(root)+'/data/raw_data/02_GC/CAD14-Cu@AB/JH-1H 2023-02-06 10-00-18/NV-F0102.D/report00.CSV',\n",
    "        str(root)+'/data/raw_data/02_GC/CAD14-Cu@AB/JH-1H 2023-02-06 10-00-18/NV-F0102.D/REPORT01.CSV',\n",
    "        str(root)+'/data/raw_data/02_GC/CAD14-Cu@AB/JH-1H 2023-02-06 10-00-18/NV-F0103.D/report00.CSV',\n",
    "        str(root)+'/data/raw_data/02_GC/CAD14-Cu@AB/JH-1H 2023-02-06 10-00-18/NV-F0103.D/REPORT01.CSV',\n",
    "        str(root)+'/data/raw_data/02_GC/CAD14-Cu@AB/JH-1H 2023-02-06 10-00-18/NV-F0104.D/report00.CSV',\n",
    "        str(root)+'/data/raw_data/02_GC/CAD14-Cu@AB/JH-1H 2023-02-06 10-00-18/NV-F0104.D/REPORT01.CSV']\n",
    "calib  = str(root)+'/data/additional_data/calibration.json'\n",
    "correc = str(root)+'/data/additional_data/correction_factors.json'\n",
    "farada = str(root)+'/data/additional_data/faraday_coefficients.json'\n",
    "\n",
    "rrdw.galvano_files.value = [e_chem]\n",
    "rrdw.MFM_files.value   = mfm\n",
    "rrdw.GC_files.value    = gc\n",
    "rrdw.calib_files.value = [calib]\n",
    "rrdw.correction_files.value = [correc]\n",
    "rrdw.faraday_files.value    = [farada]"
   ]
  },
  {
   "cell_type": "markdown",
   "metadata": {},
   "source": [
    "---\n",
    "## Section 2: Analysis of data\n",
    "---\n",
    "In this section the raw data of the above choosen dataset is analyzed (if you change the dataset above, then reexecute this cell)"
   ]
  },
  {
   "cell_type": "code",
   "execution_count": 41,
   "metadata": {},
   "outputs": [
    {
     "data": {
      "application/vnd.jupyter.widget-view+json": {
       "model_id": "bbac0e93f6f74ca983915c5fb6ffae02",
       "version_major": 2,
       "version_minor": 0
      },
      "text/plain": [
       "VBox(children=(HBox(children=(Dropdown(description='Choose experiment:', layout=Layout(width='auto'), options=…"
      ]
     },
     "metadata": {},
     "output_type": "display_data"
    },
    {
     "name": "stderr",
     "output_type": "stream",
     "text": [
      "\n",
      "GC measurement already contains an assignment. Use this assignment rather than the default dictionary.\n",
      "\n"
     ]
    },
    {
     "data": {
      "application/vnd.jupyter.widget-view+json": {
       "model_id": "3f33f5f756f547438ff75efc5901ca7f",
       "version_major": 2,
       "version_minor": 0
      },
      "text/plain": [
       "VBox(children=(HBox(children=(VBox(children=(Label(value='Measurement number 0', layout=Layout(height='30px', …"
      ]
     },
     "metadata": {},
     "output_type": "display_data"
    },
    {
     "data": {
      "application/vnd.jupyter.widget-view+json": {
       "model_id": "7df769b932004737a11bb0ec4b7a8214",
       "version_major": 2,
       "version_minor": 0
      },
      "text/plain": [
       "VBox(children=(VBox(children=(HTML(value='The mass flow at the time of the gas chromatography measurement is d…"
      ]
     },
     "metadata": {},
     "output_type": "display_data"
    }
   ],
   "source": [
    "# Provide a typical retention time dictionary to pre assign retention times \n",
    "\n",
    "typical_retention_time = {\"Hydrogen\": 1.7, \"Carbon dioxide\": 3.0, \"Carbon monoxide\": 13.6, \n",
    "                          \"Methane\": 3.6, \"Ethene\": 6.0, \"Ethane\": 7.1}\n",
    "\n",
    "ardw = analyzing_raw_data_widget()\n",
    "ardw.choose_experiment( dataset = rrdw.dataset, \n",
    "                        dataset_path = rrdw.dataset_dropdown.value, \n",
    "                        typical_retention_time = typical_retention_time)"
   ]
  },
  {
   "cell_type": "markdown",
   "metadata": {},
   "source": [
    "---\n",
    "## Section 3: Upload of data to DaRUS\n",
    "---\n",
    "In this section the above choosen dataset, containing the processed as well as the raw data, is uploaded to DaRUS"
   ]
  },
  {
   "cell_type": "code",
   "execution_count": 43,
   "metadata": {},
   "outputs": [
    {
     "data": {
      "application/vnd.jupyter.widget-view+json": {
       "model_id": "503e918e498640998bdcf56d1dfe2c1f",
       "version_major": 2,
       "version_minor": 0
      },
      "text/plain": [
       "VBox(children=(Dropdown(description='Choose whether you want to create a new data record or edit an existing o…"
      ]
     },
     "metadata": {},
     "output_type": "display_data"
    },
    {
     "name": "stdout",
     "output_type": "stream",
     "text": [
      "Attribute project not valid for import (dv_up).\n"
     ]
    },
    {
     "ename": "HTTPError",
     "evalue": "403 Client Error: Forbidden for url: https://darus.uni-stuttgart.de//api/v1/dataverses/sfb1333-hansen-gross/datasets?User-Agent=pydataverse&key=4afecd82-c92d-4935-b786-2225af43531e",
     "output_type": "error",
     "traceback": [
      "\u001b[1;31m---------------------------------------------------------------------------\u001b[0m",
      "\u001b[1;31mHTTPError\u001b[0m                                 Traceback (most recent call last)",
      "File \u001b[1;32mc:\\Users\\darouich\\OneDrive\\Dokumente\\DataSteward_SFB\\Fairflow\\FAIRFlowChemistry\\tools\\darus_upload.py:227\u001b[0m, in \u001b[0;36mDaRUS_upload.upload_to_DaRUS\u001b[1;34m(self, _)\u001b[0m\n\u001b[0;32m    224\u001b[0m \u001b[38;5;28mself\u001b[39m\u001b[38;5;241m.\u001b[39madd_files_dir_to_dataset()\n\u001b[0;32m    226\u001b[0m \u001b[38;5;66;03m# Upload dataset\u001b[39;00m\n\u001b[1;32m--> 227\u001b[0m \u001b[38;5;28;43mself\u001b[39;49m\u001b[38;5;241;43m.\u001b[39;49m\u001b[43mDaRUS_data\u001b[49m\u001b[38;5;241;43m.\u001b[39;49m\u001b[43mupload\u001b[49m\u001b[43m(\u001b[49m\u001b[43m \u001b[49m\u001b[43mdataverse_name\u001b[49m\u001b[43m \u001b[49m\u001b[38;5;241;43m=\u001b[39;49m\u001b[43m \u001b[49m\u001b[38;5;28;43mself\u001b[39;49m\u001b[38;5;241;43m.\u001b[39;49m\u001b[43mdataverse_dropdown\u001b[49m\u001b[38;5;241;43m.\u001b[39;49m\u001b[43mvalue\u001b[49m\u001b[43m \u001b[49m\u001b[43m)\u001b[49m\n",
      "File \u001b[1;32mc:\\Users\\darouich\\miniconda3\\envs\\fairflow\\Lib\\site-packages\\easyDataverse\\dataset.py:198\u001b[0m, in \u001b[0;36mDataset.upload\u001b[1;34m(self, dataverse_name, content_loc, n_parallel)\u001b[0m\n\u001b[0;32m    188\u001b[0m \u001b[38;5;250m\u001b[39m\u001b[38;5;124;03m\"\"\"Uploads a given dataset to a Dataverse installation specified in the environment variable.\u001b[39;00m\n\u001b[0;32m    189\u001b[0m \n\u001b[0;32m    190\u001b[0m \u001b[38;5;124;03mArgs:\u001b[39;00m\n\u001b[1;32m   (...)\u001b[0m\n\u001b[0;32m    195\u001b[0m \u001b[38;5;124;03m    str: [description]\u001b[39;00m\n\u001b[0;32m    196\u001b[0m \u001b[38;5;124;03m\"\"\"\u001b[39;00m\n\u001b[0;32m    197\u001b[0m \u001b[38;5;28mself\u001b[39m\u001b[38;5;241m.\u001b[39m_validate_required_fields()\n\u001b[1;32m--> 198\u001b[0m \u001b[38;5;28mself\u001b[39m\u001b[38;5;241m.\u001b[39mp_id \u001b[38;5;241m=\u001b[39m \u001b[43mupload_to_dataverse\u001b[49m\u001b[43m(\u001b[49m\n\u001b[0;32m    199\u001b[0m \u001b[43m    \u001b[49m\u001b[43mjson_data\u001b[49m\u001b[38;5;241;43m=\u001b[39;49m\u001b[38;5;28;43mself\u001b[39;49m\u001b[38;5;241;43m.\u001b[39;49m\u001b[43mdataverse_json\u001b[49m\u001b[43m(\u001b[49m\u001b[43m)\u001b[49m\u001b[43m,\u001b[49m\n\u001b[0;32m    200\u001b[0m \u001b[43m    \u001b[49m\u001b[43mdataverse_name\u001b[49m\u001b[38;5;241;43m=\u001b[39;49m\u001b[43mdataverse_name\u001b[49m\u001b[43m,\u001b[49m\n\u001b[0;32m    201\u001b[0m \u001b[43m    \u001b[49m\u001b[43mfiles\u001b[49m\u001b[38;5;241;43m=\u001b[39;49m\u001b[38;5;28;43mself\u001b[39;49m\u001b[38;5;241;43m.\u001b[39;49m\u001b[43mfiles\u001b[49m\u001b[43m,\u001b[49m\n\u001b[0;32m    202\u001b[0m \u001b[43m    \u001b[49m\u001b[43mp_id\u001b[49m\u001b[38;5;241;43m=\u001b[39;49m\u001b[38;5;28;43mself\u001b[39;49m\u001b[38;5;241;43m.\u001b[39;49m\u001b[43mp_id\u001b[49m\u001b[43m,\u001b[49m\n\u001b[0;32m    203\u001b[0m \u001b[43m    \u001b[49m\u001b[43mDATAVERSE_URL\u001b[49m\u001b[38;5;241;43m=\u001b[39;49m\u001b[38;5;28;43mstr\u001b[39;49m\u001b[43m(\u001b[49m\u001b[38;5;28;43mself\u001b[39;49m\u001b[38;5;241;43m.\u001b[39;49m\u001b[43mDATAVERSE_URL\u001b[49m\u001b[43m)\u001b[49m\u001b[43m,\u001b[49m\n\u001b[0;32m    204\u001b[0m \u001b[43m    \u001b[49m\u001b[43mAPI_TOKEN\u001b[49m\u001b[38;5;241;43m=\u001b[39;49m\u001b[38;5;28;43mstr\u001b[39;49m\u001b[43m(\u001b[49m\u001b[38;5;28;43mself\u001b[39;49m\u001b[38;5;241;43m.\u001b[39;49m\u001b[43mAPI_TOKEN\u001b[49m\u001b[43m)\u001b[49m\u001b[43m,\u001b[49m\n\u001b[0;32m    205\u001b[0m \u001b[43m    \u001b[49m\u001b[43mcontent_loc\u001b[49m\u001b[38;5;241;43m=\u001b[39;49m\u001b[43mcontent_loc\u001b[49m\u001b[43m,\u001b[49m\n\u001b[0;32m    206\u001b[0m \u001b[43m    \u001b[49m\u001b[43mn_parallel\u001b[49m\u001b[38;5;241;43m=\u001b[39;49m\u001b[43mn_parallel\u001b[49m\u001b[43m,\u001b[49m\n\u001b[0;32m    207\u001b[0m \u001b[43m\u001b[49m\u001b[43m)\u001b[49m\n\u001b[0;32m    209\u001b[0m \u001b[38;5;28;01mreturn\u001b[39;00m \u001b[38;5;28mself\u001b[39m\u001b[38;5;241m.\u001b[39mp_id\n",
      "File \u001b[1;32mc:\\Users\\darouich\\miniconda3\\envs\\fairflow\\Lib\\site-packages\\easyDataverse\\uploader.py:56\u001b[0m, in \u001b[0;36mupload_to_dataverse\u001b[1;34m(json_data, dataverse_name, files, p_id, n_parallel, content_loc, DATAVERSE_URL, API_TOKEN)\u001b[0m\n\u001b[0;32m     53\u001b[0m     create_params[\u001b[38;5;124m\"\u001b[39m\u001b[38;5;124mpid\u001b[39m\u001b[38;5;124m\"\u001b[39m] \u001b[38;5;241m=\u001b[39m p_id\n\u001b[0;32m     55\u001b[0m response \u001b[38;5;241m=\u001b[39m api\u001b[38;5;241m.\u001b[39mcreate_dataset(\u001b[38;5;241m*\u001b[39m\u001b[38;5;241m*\u001b[39mcreate_params)\n\u001b[1;32m---> 56\u001b[0m \u001b[43mresponse\u001b[49m\u001b[38;5;241;43m.\u001b[39;49m\u001b[43mraise_for_status\u001b[49m\u001b[43m(\u001b[49m\u001b[43m)\u001b[49m\n\u001b[0;32m     58\u001b[0m \u001b[38;5;66;03m# Get response data\u001b[39;00m\n\u001b[0;32m     59\u001b[0m p_id \u001b[38;5;241m=\u001b[39m response\u001b[38;5;241m.\u001b[39mjson()[\u001b[38;5;124m\"\u001b[39m\u001b[38;5;124mdata\u001b[39m\u001b[38;5;124m\"\u001b[39m][\u001b[38;5;124m\"\u001b[39m\u001b[38;5;124mpersistentId\u001b[39m\u001b[38;5;124m\"\u001b[39m]\n",
      "File \u001b[1;32mc:\\Users\\darouich\\miniconda3\\envs\\fairflow\\Lib\\site-packages\\requests\\models.py:1021\u001b[0m, in \u001b[0;36mResponse.raise_for_status\u001b[1;34m(self)\u001b[0m\n\u001b[0;32m   1016\u001b[0m     http_error_msg \u001b[38;5;241m=\u001b[39m (\n\u001b[0;32m   1017\u001b[0m         \u001b[38;5;124mf\u001b[39m\u001b[38;5;124m\"\u001b[39m\u001b[38;5;132;01m{\u001b[39;00m\u001b[38;5;28mself\u001b[39m\u001b[38;5;241m.\u001b[39mstatus_code\u001b[38;5;132;01m}\u001b[39;00m\u001b[38;5;124m Server Error: \u001b[39m\u001b[38;5;132;01m{\u001b[39;00mreason\u001b[38;5;132;01m}\u001b[39;00m\u001b[38;5;124m for url: \u001b[39m\u001b[38;5;132;01m{\u001b[39;00m\u001b[38;5;28mself\u001b[39m\u001b[38;5;241m.\u001b[39murl\u001b[38;5;132;01m}\u001b[39;00m\u001b[38;5;124m\"\u001b[39m\n\u001b[0;32m   1018\u001b[0m     )\n\u001b[0;32m   1020\u001b[0m \u001b[38;5;28;01mif\u001b[39;00m http_error_msg:\n\u001b[1;32m-> 1021\u001b[0m     \u001b[38;5;28;01mraise\u001b[39;00m HTTPError(http_error_msg, response\u001b[38;5;241m=\u001b[39m\u001b[38;5;28mself\u001b[39m)\n",
      "\u001b[1;31mHTTPError\u001b[0m: 403 Client Error: Forbidden for url: https://darus.uni-stuttgart.de//api/v1/dataverses/sfb1333-hansen-gross/datasets?User-Agent=pydataverse&key=4afecd82-c92d-4935-b786-2225af43531e"
     ]
    }
   ],
   "source": [
    "# Predefined list of all SFB1333 dataverses. If a new dataverse wants to be appended, just add in the list\n",
    "sfb1333_dataverse_list = [ \"sfb1333-\"+group_name for group_name in [\"hansen-gross\", \"grabowski\", \"sarkar\", \"tallarek\", \"peters\", \"schmitz\", \"inf\", \"pluhackova\", \"giesselmann\", \"klemm\", \"schlaich\", \"traa\", \"naumann\", \"lotsch\", \"vanSlageren\", \"holm\", \"fyta\", \"estes\", \"laschat\", \"bruckner\", \"bill\", \"ludwigs\", \"dyballa\", \"ringenberg\", \"kaestner\", \"Buchmeiser\", \"sottmann\"] ]\n",
    "\n",
    "Darus_upload = DaRUS_upload()\n",
    "\n",
    "Darus_upload.DaRUS( dataset = ardw.dataset, \n",
    "                    dataset_path = rrdw.dataset_dropdown.value,\n",
    "                    dataverse_list = sfb1333_dataverse_list )\n",
    "\n",
    "Darus_upload.api_token_text.value = \"4afecd82-c92d-4935-b786-2225af43531e\""
   ]
  }
 ],
 "metadata": {
  "kernelspec": {
   "display_name": "Python 3 (ipykernel)",
   "language": "python",
   "name": "python3"
  },
  "language_info": {
   "codemirror_mode": {
    "name": "ipython",
    "version": 3
   },
   "file_extension": ".py",
   "mimetype": "text/x-python",
   "name": "python",
   "nbconvert_exporter": "python",
   "pygments_lexer": "ipython3",
   "version": "0.0.0"
  },
  "vscode": {
   "interpreter": {
    "hash": "9f62ab2d43dc75e3c3b007469adeb0f7488873df876b9b71dd3b119f0280ba41"
   }
  }
 },
 "nbformat": 4,
 "nbformat_minor": 4
}
