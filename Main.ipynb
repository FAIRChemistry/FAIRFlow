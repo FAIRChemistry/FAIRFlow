{
 "cells": [
  {
   "attachments": {},
   "cell_type": "markdown",
   "metadata": {},
   "source": [
    "# <center>Workflow for on-line GC and HPLC analysis in flow chemistry</center>\n"
   ]
  },
  {
   "cell_type": "markdown",
   "metadata": {},
   "source": [
    "---\n",
    "## Section 0: Imports, Paths, and Logging\n",
    "---\n",
    "\n",
    "In this section all the necessary python packages are imported, the path to this notebook and the logger for this notebook is set up."
   ]
  },
  {
   "cell_type": "code",
   "execution_count": 5,
   "metadata": {},
   "outputs": [],
   "source": [
    "from sklearn.linear_model import LinearRegression\n",
    "\n",
    "a = LinearRegression()\n"
   ]
  },
  {
   "cell_type": "code",
   "execution_count": 9,
   "metadata": {},
   "outputs": [
    {
     "ename": "AttributeError",
     "evalue": "'LinearRegression' object has no attribute '__name__'",
     "output_type": "error",
     "traceback": [
      "\u001b[0;31m---------------------------------------------------------------------------\u001b[0m",
      "\u001b[0;31mAttributeError\u001b[0m                            Traceback (most recent call last)",
      "\u001b[1;32m/Users/samir/Documents/PhD/SFB1333/datamodel_b07_tc/Main.ipynb Cell 4\u001b[0m line \u001b[0;36m1\n\u001b[0;32m----> <a href='vscode-notebook-cell:/Users/samir/Documents/PhD/SFB1333/datamodel_b07_tc/Main.ipynb#Y150sZmlsZQ%3D%3D?line=0'>1</a>\u001b[0m a\u001b[39m.\u001b[39;49m\u001b[39m__name__\u001b[39;49m\n",
      "\u001b[0;31mAttributeError\u001b[0m: 'LinearRegression' object has no attribute '__name__'"
     ]
    }
   ],
   "source": [
    "a.__name__"
   ]
  },
  {
   "cell_type": "code",
   "execution_count": 1,
   "metadata": {},
   "outputs": [],
   "source": [
    "# Activate autoreload to keep on track with changing modules #\n",
    "%reload_ext autoreload\n",
    "%autoreload 2\n",
    "\n",
    "# Import standard libraries #\n",
    "import numpy as np\n",
    "import logging\n",
    "import json\n",
    "from pathlib import Path\n",
    "from sdRDM import DataModel\n",
    "\n",
    "# Import tools for data processing and analysis #\n",
    "from datamodel.tools import initialize_dataset\n",
    "from datamodel.tools import reading_raw_data_widget\n",
    "from datamodel.tools import analyzing_raw_data_widget\n"
   ]
  },
  {
   "cell_type": "code",
   "execution_count": 2,
   "metadata": {},
   "outputs": [],
   "source": [
    "from datamodel.core import Experiment\n",
    "from datamodel.tools.readers.gcparser import gc_parser\n",
    "from datamodel.tools.readers.gstaticparser import gstatic_parser\n",
    "from datamodel.tools.readers.mfmparser import mfm_parser\n",
    "\n",
    "from datamodel.tools.calculus.faraday_efficiency_calculator import FaradayEfficiencyCalculator"
   ]
  },
  {
   "cell_type": "code",
   "execution_count": 3,
   "metadata": {},
   "outputs": [],
   "source": [
    "# Define paths for loggin output #\n",
    "root                = Path.cwd()\n",
    "logging_config_path = root / \"datamodel_b07_tc/tools/logging/config.json\"\n",
    "\n",
    "# Read in logger specs and configurate logger (set name to current notebook) #\n",
    "with open(logging_config_path) as logging_config_json: logging.config.dictConfig( json.load( logging_config_json ) )\n",
    "logger = logging.getLogger(__name__)\n",
    "\n",
    "# Set the level of thid-party logger to avoid dumping too much information #\n",
    "for logger_ in ['markdown_it', 'h5py', 'numexpr', 'git']: logging.getLogger(logger_).setLevel('WARNING')"
   ]
  },
  {
   "cell_type": "code",
   "execution_count": 21,
   "metadata": {},
   "outputs": [],
   "source": [
    "e_chem = str(root)+'/data/Rohdaten/01_EChem/CAD14-Cu@AB/GSTATIC.DTA'\n",
    "mfm    = str(root)+'/data/Rohdaten/03_MFM/CAD14-Cu@AB/Bench-2h-GSS_CAD14-Cu@AB_200_50c_24h_truncated.csv'\n",
    "gc     = [str(root)+'/data/Rohdaten/02_GC/CAD14-Cu@AB/JH-1H 2023-02-06 10-00-18/NV-F0102.D/report00.CSV',\n",
    "        str(root)+'/data/Rohdaten/02_GC/CAD14-Cu@AB/JH-1H 2023-02-06 10-00-18/NV-F0102.D/REPORT01.CSV',\n",
    "        str(root)+'/data/Rohdaten/02_GC/CAD14-Cu@AB/JH-1H 2023-02-06 10-00-18/NV-F0103.D/report00.CSV',\n",
    "        str(root)+'/data/Rohdaten/02_GC/CAD14-Cu@AB/JH-1H 2023-02-06 10-00-18/NV-F0103.D/REPORT01.CSV',\n",
    "        str(root)+'/data/Rohdaten/02_GC/CAD14-Cu@AB/JH-1H 2023-02-06 10-00-18/NV-F0104.D/report00.CSV',\n",
    "        str(root)+'/data/Rohdaten/02_GC/CAD14-Cu@AB/JH-1H 2023-02-06 10-00-18/NV-F0104.D/REPORT01.CSV']\n",
    "calib  = str(root)+'/data/calibration/calibration.json'\n",
    "correc = str(root)+'/data/correction_factors/correction_factors.json'\n",
    "farada = str(root)+'/data/faraday_coefficients/faraday_coefficients.json'\n",
    "\n",
    "experiment                 = Experiment()\n",
    "        \n",
    "potentiostatic_measurement = gstatic_parser( metadata_path = e_chem )\n",
    "mfm_measurement            = mfm_parser( experimental_data_path = mfm )\n",
    "gc_measurements_list       = [ gc_parser( metadata_path = gc[i], experimental_data_path = gc[i+1] ) for i in range( 0, len(gc), 2 ) ]\n",
    "\n",
    "experiment.measurements    = [ potentiostatic_measurement, mfm_measurement, *gc_measurements_list ]\n",
    "\n",
    "# Read in parameters such as calibration, correction factors and farraday coefficients and save it in Experiment class #\n",
    "experiment.calibrate_from_json( calib, degree=1 )\n",
    "experiment.read_correction_factors( correc )\n",
    "experiment.read_faraday_coefficients( farada )\n",
    "\n",
    "\n",
    "ass_dict = {\"Hydrogen\":[69.1716],\"Carbon dioxide\":[65492.7461],\"Carbon monoxide\":[2876.9526,43.7317],\n",
    "            \"Methane\":[164.157,141.1739],\"Ethene\":[1624.0737],\"Ethane\":[]}\n",
    "\n",
    "\n",
    "fe = FaradayEfficiencyCalculator(experiment=experiment)\n",
    "fe.calculate_faraday_efficiencies( experiment.measurements[2].get(\"metadata\",\"parameter\",\"Injection Date\")[0][0].value, ass_dict )"
   ]
  },
  {
   "cell_type": "markdown",
   "metadata": {},
   "source": [
    "---\n",
    "## Section 1: Dataset and raw data\n",
    "---\n",
    "In this section the dataset as well as the to analyze raw data is choosen"
   ]
  },
  {
   "cell_type": "code",
   "execution_count": null,
   "metadata": {},
   "outputs": [],
   "source": [
    "# To do:\n",
    "# 0) If dataset is saved and read in again, the dataset has the object \"equipment\", what is not there in the modified verison\n",
    "#    this will cause an error\n",
    "# 1) DaRUS extension\n"
   ]
  },
  {
   "cell_type": "code",
   "execution_count": 4,
   "metadata": {},
   "outputs": [
    {
     "ename": "ValueError",
     "evalue": "Could not find object 'LinearRegression' in objects.",
     "output_type": "error",
     "traceback": [
      "\u001b[0;31m---------------------------------------------------------------------------\u001b[0m",
      "\u001b[0;31mStopIteration\u001b[0m                             Traceback (most recent call last)",
      "File \u001b[0;32m~/miniconda3/lib/python3.11/site-packages/sdRDM/generator/classrender.py:569\u001b[0m, in \u001b[0;36mget_object\u001b[0;34m(name, objects)\u001b[0m\n\u001b[1;32m    568\u001b[0m \u001b[39mtry\u001b[39;00m:\n\u001b[0;32m--> 569\u001b[0m     \u001b[39mreturn\u001b[39;00m \u001b[39mnext\u001b[39m(\u001b[39mfilter\u001b[39m(\u001b[39mlambda\u001b[39;00m \u001b[39mobject\u001b[39m: \u001b[39mobject\u001b[39m[\u001b[39m\"\u001b[39m\u001b[39mname\u001b[39m\u001b[39m\"\u001b[39m] \u001b[39m==\u001b[39m name, objects))\n\u001b[1;32m    570\u001b[0m \u001b[39mexcept\u001b[39;00m \u001b[39mStopIteration\u001b[39;00m:\n",
      "\u001b[0;31mStopIteration\u001b[0m: ",
      "\nDuring handling of the above exception, another exception occurred:\n",
      "\u001b[0;31mValueError\u001b[0m                                Traceback (most recent call last)",
      "\u001b[1;32m/Users/samir/Documents/PhD/SFB1333/datamodel_b07_tc/Main.ipynb Cell 9\u001b[0m line \u001b[0;36m4\n\u001b[1;32m      <a href='vscode-notebook-cell:/Users/samir/Documents/PhD/SFB1333/datamodel_b07_tc/Main.ipynb#X53sZmlsZQ%3D%3D?line=0'>1</a>\u001b[0m git_path \u001b[39m=\u001b[39m \u001b[39m'\u001b[39m\u001b[39mhttps://github.com/FAIRChemistry/datamodel_b07_tc.git.samir_develop\u001b[39m\u001b[39m'\u001b[39m\n\u001b[1;32m      <a href='vscode-notebook-cell:/Users/samir/Documents/PhD/SFB1333/datamodel_b07_tc/Main.ipynb#X53sZmlsZQ%3D%3D?line=2'>3</a>\u001b[0m \u001b[39mid\u001b[39m \u001b[39m=\u001b[39m initialize_dataset()\n\u001b[0;32m----> <a href='vscode-notebook-cell:/Users/samir/Documents/PhD/SFB1333/datamodel_b07_tc/Main.ipynb#X53sZmlsZQ%3D%3D?line=3'>4</a>\u001b[0m \u001b[39mid\u001b[39;49m\u001b[39m.\u001b[39;49mwrite_dataset(root,git_path)\n",
      "File \u001b[0;32m~/Documents/PhD/SFB1333/datamodel_b07_tc/datamodel/tools/data_processing_widgets.py:105\u001b[0m, in \u001b[0;36minitialize_dataset.write_dataset\u001b[0;34m(self, root, git_path)\u001b[0m\n\u001b[1;32m    103\u001b[0m     lib \u001b[39m=\u001b[39m DataModel\u001b[39m.\u001b[39mfrom_git( url\u001b[39m=\u001b[39m\u001b[39mself\u001b[39m\u001b[39m.\u001b[39mdatamodels_dropdown\u001b[39m.\u001b[39mvalue )\n\u001b[1;32m    104\u001b[0m \u001b[39melse\u001b[39;00m:\n\u001b[0;32m--> 105\u001b[0m     lib \u001b[39m=\u001b[39m DataModel\u001b[39m.\u001b[39;49mfrom_markdown( \u001b[39mself\u001b[39;49m\u001b[39m.\u001b[39;49mdatamodels_dropdown\u001b[39m.\u001b[39;49mvalue )\n\u001b[1;32m    107\u001b[0m \u001b[39mself\u001b[39m\u001b[39m.\u001b[39mdataset \u001b[39m=\u001b[39m lib\u001b[39m.\u001b[39mDataset()\n\u001b[1;32m    109\u001b[0m \u001b[39m# Handle on observing\u001b[39;00m\n",
      "File \u001b[0;32m~/miniconda3/lib/python3.11/site-packages/sdRDM/base/datamodel.py:665\u001b[0m, in \u001b[0;36mDataModel.from_markdown\u001b[0;34m(cls, path)\u001b[0m\n\u001b[1;32m    663\u001b[0m     lib_name \u001b[39m=\u001b[39m \u001b[39mf\u001b[39m\u001b[39m\"\u001b[39m\u001b[39msdRDM-Library-\u001b[39m\u001b[39m{\u001b[39;00m\u001b[39mstr\u001b[39m(random\u001b[39m.\u001b[39mrandint(\u001b[39m0\u001b[39m,\u001b[39m30\u001b[39m))\u001b[39m}\u001b[39;00m\u001b[39m\"\u001b[39m\n\u001b[1;32m    664\u001b[0m     api_loc \u001b[39m=\u001b[39m os\u001b[39m.\u001b[39mpath\u001b[39m.\u001b[39mjoin(tmpdirname, lib_name)\n\u001b[0;32m--> 665\u001b[0m     generate_python_api(\n\u001b[1;32m    666\u001b[0m         path\u001b[39m=\u001b[39;49mpath, dirpath\u001b[39m=\u001b[39;49mtmpdirname, libname\u001b[39m=\u001b[39;49mlib_name, use_formatter\u001b[39m=\u001b[39;49m\u001b[39mFalse\u001b[39;49;00m\n\u001b[1;32m    667\u001b[0m     )\n\u001b[1;32m    669\u001b[0m     lib \u001b[39m=\u001b[39m _import_library(api_loc, lib_name)\n\u001b[1;32m    671\u001b[0m \u001b[39mreturn\u001b[39;00m \u001b[39mcls\u001b[39m\u001b[39m.\u001b[39m_extract_modules(lib\u001b[39m=\u001b[39mlib, links\u001b[39m=\u001b[39m{})\n",
      "File \u001b[0;32m~/miniconda3/lib/python3.11/site-packages/sdRDM/generator/codegen.py:45\u001b[0m, in \u001b[0;36mgenerate_python_api\u001b[0;34m(path, dirpath, libname, url, commit, only_classes, use_formatter)\u001b[0m\n\u001b[1;32m     42\u001b[0m \u001b[39mif\u001b[39;00m only_classes:\n\u001b[1;32m     43\u001b[0m     \u001b[39mreturn\u001b[39;00m parser\n\u001b[0;32m---> 45\u001b[0m generate_api_from_parser(\n\u001b[1;32m     46\u001b[0m     parser\u001b[39m=\u001b[39;49mparser,\n\u001b[1;32m     47\u001b[0m     dirpath\u001b[39m=\u001b[39;49mdirpath,\n\u001b[1;32m     48\u001b[0m     libname\u001b[39m=\u001b[39;49mlibname,\n\u001b[1;32m     49\u001b[0m     url\u001b[39m=\u001b[39;49murl,\n\u001b[1;32m     50\u001b[0m     commit\u001b[39m=\u001b[39;49mcommit,\n\u001b[1;32m     51\u001b[0m     use_formatter\u001b[39m=\u001b[39;49muse_formatter,\n\u001b[1;32m     52\u001b[0m )\n",
      "File \u001b[0;32m~/miniconda3/lib/python3.11/site-packages/sdRDM/generator/codegen.py:67\u001b[0m, in \u001b[0;36mgenerate_api_from_parser\u001b[0;34m(parser, dirpath, libname, url, commit, use_formatter)\u001b[0m\n\u001b[1;32m     64\u001b[0m libpath \u001b[39m=\u001b[39m create_directory_structure(dirpath, libname)\n\u001b[1;32m     66\u001b[0m \u001b[39m# Write classes to the directory\u001b[39;00m\n\u001b[0;32m---> 67\u001b[0m write_classes(\n\u001b[1;32m     68\u001b[0m     libpath,\n\u001b[1;32m     69\u001b[0m     parser\u001b[39m.\u001b[39;49mobjects,\n\u001b[1;32m     70\u001b[0m     parser\u001b[39m.\u001b[39;49menums,\n\u001b[1;32m     71\u001b[0m     parser\u001b[39m.\u001b[39;49minherits,\n\u001b[1;32m     72\u001b[0m     use_formatter,\n\u001b[1;32m     73\u001b[0m     url,\n\u001b[1;32m     74\u001b[0m     commit,\n\u001b[1;32m     75\u001b[0m )\n\u001b[1;32m     77\u001b[0m \u001b[39m# Write init files\u001b[39;00m\n\u001b[1;32m     78\u001b[0m core_init \u001b[39m=\u001b[39m render_core_init_file(parser\u001b[39m.\u001b[39mobjects, parser\u001b[39m.\u001b[39menums)\n",
      "File \u001b[0;32m~/miniconda3/lib/python3.11/site-packages/sdRDM/generator/codegen.py:107\u001b[0m, in \u001b[0;36mwrite_classes\u001b[0;34m(libpath, objects, enums, inherits, use_formatter, repo, commit)\u001b[0m\n\u001b[1;32m    100\u001b[0m small_types \u001b[39m=\u001b[39m {\n\u001b[1;32m    101\u001b[0m     small_type[\u001b[39m\"\u001b[39m\u001b[39mname\u001b[39m\u001b[39m\"\u001b[39m]: small_type\n\u001b[1;32m    102\u001b[0m     \u001b[39mfor\u001b[39;00m \u001b[39mobject\u001b[39m \u001b[39min\u001b[39;00m objects\n\u001b[1;32m    103\u001b[0m     \u001b[39mfor\u001b[39;00m small_type \u001b[39min\u001b[39;00m \u001b[39mobject\u001b[39m[\u001b[39m\"\u001b[39m\u001b[39msubtypes\u001b[39m\u001b[39m\"\u001b[39m]\n\u001b[1;32m    104\u001b[0m }\n\u001b[1;32m    106\u001b[0m \u001b[39mfor\u001b[39;00m \u001b[39mobject\u001b[39m \u001b[39min\u001b[39;00m objects:\n\u001b[0;32m--> 107\u001b[0m     rendered \u001b[39m=\u001b[39m render_object(\n\u001b[1;32m    108\u001b[0m         \u001b[39mobject\u001b[39;49m,\n\u001b[1;32m    109\u001b[0m         objects,\n\u001b[1;32m    110\u001b[0m         enums,\n\u001b[1;32m    111\u001b[0m         inherits,\n\u001b[1;32m    112\u001b[0m         repo,\n\u001b[1;32m    113\u001b[0m         commit,\n\u001b[1;32m    114\u001b[0m         small_types,\n\u001b[1;32m    115\u001b[0m     )\n\u001b[1;32m    116\u001b[0m     path \u001b[39m=\u001b[39m os\u001b[39m.\u001b[39mpath\u001b[39m.\u001b[39mjoin(libpath, \u001b[39m\"\u001b[39m\u001b[39mcore\u001b[39m\u001b[39m\"\u001b[39m, \u001b[39mf\u001b[39m\u001b[39m\"\u001b[39m\u001b[39m{\u001b[39;00m\u001b[39mobject\u001b[39m[\u001b[39m'\u001b[39m\u001b[39mname\u001b[39m\u001b[39m'\u001b[39m]\u001b[39m.\u001b[39mlower()\u001b[39m}\u001b[39;00m\u001b[39m.py\u001b[39m\u001b[39m\"\u001b[39m)\n\u001b[1;32m    117\u001b[0m     save_rendered_to_file(rendered, path, use_formatter)\n",
      "File \u001b[0;32m~/miniconda3/lib/python3.11/site-packages/sdRDM/generator/classrender.py:74\u001b[0m, in \u001b[0;36mrender_object\u001b[0;34m(object, objects, enums, inherits, repo, commit, small_types)\u001b[0m\n\u001b[1;32m     64\u001b[0m class_body \u001b[39m=\u001b[39m \u001b[39m\"\u001b[39m\u001b[39m\\n\u001b[39;00m\u001b[39m\"\u001b[39m\u001b[39m.\u001b[39mjoin(\n\u001b[1;32m     65\u001b[0m     [\n\u001b[1;32m     66\u001b[0m         small_type_part,\n\u001b[0;32m   (...)\u001b[0m\n\u001b[1;32m     70\u001b[0m     ]\n\u001b[1;32m     71\u001b[0m )\n\u001b[1;32m     73\u001b[0m \u001b[39m# Clean and render imports\u001b[39;00m\n\u001b[0;32m---> 74\u001b[0m imports \u001b[39m=\u001b[39m render_imports(\n\u001b[1;32m     75\u001b[0m     \u001b[39mobject\u001b[39;49m\u001b[39m=\u001b[39;49m\u001b[39mobject\u001b[39;49m,\n\u001b[1;32m     76\u001b[0m     objects\u001b[39m=\u001b[39;49mall_objects,\n\u001b[1;32m     77\u001b[0m     inherits\u001b[39m=\u001b[39;49minherits,\n\u001b[1;32m     78\u001b[0m     obj_name\u001b[39m=\u001b[39;49m\u001b[39mobject\u001b[39;49m[\u001b[39m\"\u001b[39;49m\u001b[39mname\u001b[39;49m\u001b[39m\"\u001b[39;49m],\n\u001b[1;32m     79\u001b[0m     small_types\u001b[39m=\u001b[39;49msmall_types,\n\u001b[1;32m     80\u001b[0m )\n\u001b[1;32m     82\u001b[0m \u001b[39mreturn\u001b[39;00m \u001b[39mf\u001b[39m\u001b[39m\"\u001b[39m\u001b[39m{\u001b[39;00mimports\u001b[39m}\u001b[39;00m\u001b[39m\\n\u001b[39;00m\u001b[39m\\n\u001b[39;00m\u001b[39m{\u001b[39;00mclass_body\u001b[39m}\u001b[39;00m\u001b[39m\"\u001b[39m\n",
      "File \u001b[0;32m~/miniconda3/lib/python3.11/site-packages/sdRDM/generator/classrender.py:489\u001b[0m, in \u001b[0;36mrender_imports\u001b[0;34m(object, objects, inherits, obj_name, small_types)\u001b[0m\n\u001b[1;32m    486\u001b[0m objects \u001b[39m=\u001b[39m deepcopy(objects)\n\u001b[1;32m    487\u001b[0m \u001b[39mobject\u001b[39m \u001b[39m=\u001b[39m deepcopy(\u001b[39mobject\u001b[39m)\n\u001b[0;32m--> 489\u001b[0m all_types \u001b[39m=\u001b[39m gather_all_types(\n\u001b[1;32m    490\u001b[0m     \u001b[39mobject\u001b[39;49m[\u001b[39m\"\u001b[39;49m\u001b[39mattributes\u001b[39;49m\u001b[39m\"\u001b[39;49m], objects, small_types, \u001b[39mobject\u001b[39;49m[\u001b[39m\"\u001b[39;49m\u001b[39mname\u001b[39;49m\u001b[39m\"\u001b[39;49m]\n\u001b[1;32m    491\u001b[0m )\n\u001b[1;32m    493\u001b[0m \u001b[39mfor\u001b[39;00m inherit \u001b[39min\u001b[39;00m inherits:\n\u001b[1;32m    494\u001b[0m     \u001b[39mif\u001b[39;00m inherit[\u001b[39m\"\u001b[39m\u001b[39mchild\u001b[39m\u001b[39m\"\u001b[39m] \u001b[39m!=\u001b[39m \u001b[39mobject\u001b[39m[\u001b[39m\"\u001b[39m\u001b[39mname\u001b[39m\u001b[39m\"\u001b[39m]:\n",
      "File \u001b[0;32m~/miniconda3/lib/python3.11/site-packages/sdRDM/generator/classrender.py:560\u001b[0m, in \u001b[0;36mgather_all_types\u001b[0;34m(attributes, objects, small_types, obj_name)\u001b[0m\n\u001b[1;32m    557\u001b[0m         \u001b[39mif\u001b[39;00m nested_type \u001b[39m==\u001b[39m obj_name:\n\u001b[1;32m    558\u001b[0m             \u001b[39mcontinue\u001b[39;00m\n\u001b[0;32m--> 560\u001b[0m         types \u001b[39m+\u001b[39m\u001b[39m=\u001b[39m process_subtypes(nested_type, objects, small_types)\n\u001b[1;32m    562\u001b[0m \u001b[39mreturn\u001b[39;00m types\n",
      "File \u001b[0;32m~/miniconda3/lib/python3.11/site-packages/sdRDM/generator/classrender.py:594\u001b[0m, in \u001b[0;36mprocess_subtypes\u001b[0;34m(nested_type, objects, small_types)\u001b[0m\n\u001b[1;32m    591\u001b[0m     \u001b[39mreturn\u001b[39;00m []\n\u001b[1;32m    593\u001b[0m attributes \u001b[39m=\u001b[39m \u001b[39mobject\u001b[39m[\u001b[39m\"\u001b[39m\u001b[39mattributes\u001b[39m\u001b[39m\"\u001b[39m]\n\u001b[0;32m--> 594\u001b[0m subtypes \u001b[39m=\u001b[39m gather_all_types(attributes, objects, small_types, \u001b[39mobject\u001b[39;49m[\u001b[39m\"\u001b[39;49m\u001b[39mname\u001b[39;49m\u001b[39m\"\u001b[39;49m])\n\u001b[1;32m    596\u001b[0m \u001b[39mif\u001b[39;00m \u001b[39mobject\u001b[39m\u001b[39m.\u001b[39mget(\u001b[39m\"\u001b[39m\u001b[39mparent\u001b[39m\u001b[39m\"\u001b[39m):\n\u001b[1;32m    597\u001b[0m     parent_obj \u001b[39m=\u001b[39m get_object(\u001b[39mobject\u001b[39m[\u001b[39m\"\u001b[39m\u001b[39mparent\u001b[39m\u001b[39m\"\u001b[39m], objects)\n",
      "File \u001b[0;32m~/miniconda3/lib/python3.11/site-packages/sdRDM/generator/classrender.py:560\u001b[0m, in \u001b[0;36mgather_all_types\u001b[0;34m(attributes, objects, small_types, obj_name)\u001b[0m\n\u001b[1;32m    557\u001b[0m         \u001b[39mif\u001b[39;00m nested_type \u001b[39m==\u001b[39m obj_name:\n\u001b[1;32m    558\u001b[0m             \u001b[39mcontinue\u001b[39;00m\n\u001b[0;32m--> 560\u001b[0m         types \u001b[39m+\u001b[39m\u001b[39m=\u001b[39m process_subtypes(nested_type, objects, small_types)\n\u001b[1;32m    562\u001b[0m \u001b[39mreturn\u001b[39;00m types\n",
      "File \u001b[0;32m~/miniconda3/lib/python3.11/site-packages/sdRDM/generator/classrender.py:594\u001b[0m, in \u001b[0;36mprocess_subtypes\u001b[0;34m(nested_type, objects, small_types)\u001b[0m\n\u001b[1;32m    591\u001b[0m     \u001b[39mreturn\u001b[39;00m []\n\u001b[1;32m    593\u001b[0m attributes \u001b[39m=\u001b[39m \u001b[39mobject\u001b[39m[\u001b[39m\"\u001b[39m\u001b[39mattributes\u001b[39m\u001b[39m\"\u001b[39m]\n\u001b[0;32m--> 594\u001b[0m subtypes \u001b[39m=\u001b[39m gather_all_types(attributes, objects, small_types, \u001b[39mobject\u001b[39;49m[\u001b[39m\"\u001b[39;49m\u001b[39mname\u001b[39;49m\u001b[39m\"\u001b[39;49m])\n\u001b[1;32m    596\u001b[0m \u001b[39mif\u001b[39;00m \u001b[39mobject\u001b[39m\u001b[39m.\u001b[39mget(\u001b[39m\"\u001b[39m\u001b[39mparent\u001b[39m\u001b[39m\"\u001b[39m):\n\u001b[1;32m    597\u001b[0m     parent_obj \u001b[39m=\u001b[39m get_object(\u001b[39mobject\u001b[39m[\u001b[39m\"\u001b[39m\u001b[39mparent\u001b[39m\u001b[39m\"\u001b[39m], objects)\n",
      "File \u001b[0;32m~/miniconda3/lib/python3.11/site-packages/sdRDM/generator/classrender.py:560\u001b[0m, in \u001b[0;36mgather_all_types\u001b[0;34m(attributes, objects, small_types, obj_name)\u001b[0m\n\u001b[1;32m    557\u001b[0m         \u001b[39mif\u001b[39;00m nested_type \u001b[39m==\u001b[39m obj_name:\n\u001b[1;32m    558\u001b[0m             \u001b[39mcontinue\u001b[39;00m\n\u001b[0;32m--> 560\u001b[0m         types \u001b[39m+\u001b[39m\u001b[39m=\u001b[39m process_subtypes(nested_type, objects, small_types)\n\u001b[1;32m    562\u001b[0m \u001b[39mreturn\u001b[39;00m types\n",
      "File \u001b[0;32m~/miniconda3/lib/python3.11/site-packages/sdRDM/generator/classrender.py:594\u001b[0m, in \u001b[0;36mprocess_subtypes\u001b[0;34m(nested_type, objects, small_types)\u001b[0m\n\u001b[1;32m    591\u001b[0m     \u001b[39mreturn\u001b[39;00m []\n\u001b[1;32m    593\u001b[0m attributes \u001b[39m=\u001b[39m \u001b[39mobject\u001b[39m[\u001b[39m\"\u001b[39m\u001b[39mattributes\u001b[39m\u001b[39m\"\u001b[39m]\n\u001b[0;32m--> 594\u001b[0m subtypes \u001b[39m=\u001b[39m gather_all_types(attributes, objects, small_types, \u001b[39mobject\u001b[39;49m[\u001b[39m\"\u001b[39;49m\u001b[39mname\u001b[39;49m\u001b[39m\"\u001b[39;49m])\n\u001b[1;32m    596\u001b[0m \u001b[39mif\u001b[39;00m \u001b[39mobject\u001b[39m\u001b[39m.\u001b[39mget(\u001b[39m\"\u001b[39m\u001b[39mparent\u001b[39m\u001b[39m\"\u001b[39m):\n\u001b[1;32m    597\u001b[0m     parent_obj \u001b[39m=\u001b[39m get_object(\u001b[39mobject\u001b[39m[\u001b[39m\"\u001b[39m\u001b[39mparent\u001b[39m\u001b[39m\"\u001b[39m], objects)\n",
      "File \u001b[0;32m~/miniconda3/lib/python3.11/site-packages/sdRDM/generator/classrender.py:560\u001b[0m, in \u001b[0;36mgather_all_types\u001b[0;34m(attributes, objects, small_types, obj_name)\u001b[0m\n\u001b[1;32m    557\u001b[0m         \u001b[39mif\u001b[39;00m nested_type \u001b[39m==\u001b[39m obj_name:\n\u001b[1;32m    558\u001b[0m             \u001b[39mcontinue\u001b[39;00m\n\u001b[0;32m--> 560\u001b[0m         types \u001b[39m+\u001b[39m\u001b[39m=\u001b[39m process_subtypes(nested_type, objects, small_types)\n\u001b[1;32m    562\u001b[0m \u001b[39mreturn\u001b[39;00m types\n",
      "File \u001b[0;32m~/miniconda3/lib/python3.11/site-packages/sdRDM/generator/classrender.py:588\u001b[0m, in \u001b[0;36mprocess_subtypes\u001b[0;34m(nested_type, objects, small_types)\u001b[0m\n\u001b[1;32m    585\u001b[0m \u001b[39melif\u001b[39;00m nested_type \u001b[39min\u001b[39;00m small_types:\n\u001b[1;32m    586\u001b[0m     \u001b[39mreturn\u001b[39;00m []\n\u001b[0;32m--> 588\u001b[0m \u001b[39mobject\u001b[39m \u001b[39m=\u001b[39m get_object(nested_type, objects)\n\u001b[1;32m    590\u001b[0m \u001b[39mif\u001b[39;00m \u001b[39mobject\u001b[39m[\u001b[39m\"\u001b[39m\u001b[39mtype\u001b[39m\u001b[39m\"\u001b[39m] \u001b[39m==\u001b[39m \u001b[39m\"\u001b[39m\u001b[39menum\u001b[39m\u001b[39m\"\u001b[39m:\n\u001b[1;32m    591\u001b[0m     \u001b[39mreturn\u001b[39;00m []\n",
      "File \u001b[0;32m~/miniconda3/lib/python3.11/site-packages/sdRDM/generator/classrender.py:571\u001b[0m, in \u001b[0;36mget_object\u001b[0;34m(name, objects)\u001b[0m\n\u001b[1;32m    569\u001b[0m     \u001b[39mreturn\u001b[39;00m \u001b[39mnext\u001b[39m(\u001b[39mfilter\u001b[39m(\u001b[39mlambda\u001b[39;00m \u001b[39mobject\u001b[39m: \u001b[39mobject\u001b[39m[\u001b[39m\"\u001b[39m\u001b[39mname\u001b[39m\u001b[39m\"\u001b[39m] \u001b[39m==\u001b[39m name, objects))\n\u001b[1;32m    570\u001b[0m \u001b[39mexcept\u001b[39;00m \u001b[39mStopIteration\u001b[39;00m:\n\u001b[0;32m--> 571\u001b[0m     \u001b[39mraise\u001b[39;00m \u001b[39mValueError\u001b[39;00m(\u001b[39mf\u001b[39m\u001b[39m\"\u001b[39m\u001b[39mCould not find object \u001b[39m\u001b[39m'\u001b[39m\u001b[39m{\u001b[39;00mname\u001b[39m}\u001b[39;00m\u001b[39m'\u001b[39m\u001b[39m in objects.\u001b[39m\u001b[39m\"\u001b[39m)\n",
      "\u001b[0;31mValueError\u001b[0m: Could not find object 'LinearRegression' in objects."
     ]
    }
   ],
   "source": [
    "git_path = 'https://github.com/FAIRChemistry/datamodel_b07_tc.git.samir_develop'\n",
    "\n",
    "id = initialize_dataset()\n",
    "id.write_dataset(root,git_path)"
   ]
  },
  {
   "cell_type": "code",
   "execution_count": 4,
   "metadata": {},
   "outputs": [],
   "source": [
    "## Definition of basic meta data of the project ##\n",
    "\n",
    "id.title.value        = 'Electrocatalytic CO2-reduction on carbon'\n",
    "id.description.value  = 'The aim of this project is to blablabla'\n",
    "\n",
    "# List with authors and their affiliation #\n",
    "id.authors.value      = 'Richard Schömig, Maximilian Schmidt' \n",
    "id.affiliations.value = 'University of Stuttgart, University of Stuttgart'\n",
    "id.dataset_text.value = \"test1\""
   ]
  },
  {
   "cell_type": "code",
   "execution_count": 6,
   "metadata": {},
   "outputs": [
    {
     "data": {
      "application/vnd.jupyter.widget-view+json": {
       "model_id": "35443080257a493b88e4a4122ffa1385",
       "version_major": 2,
       "version_minor": 0
      },
      "text/plain": [
       "VBox(children=(HBox(children=(Dropdown(description='Choose dataset', layout=Layout(width='auto'), options=(('b…"
      ]
     },
     "metadata": {},
     "output_type": "display_data"
    },
    {
     "ename": "KeyError",
     "evalue": "'type'",
     "output_type": "error",
     "traceback": [
      "\u001b[0;31m---------------------------------------------------------------------------\u001b[0m",
      "\u001b[0;31mKeyError\u001b[0m                                  Traceback (most recent call last)",
      "File \u001b[0;32m~/Documents/PhD/SFB1333/datamodel_b07_tc/datamodel_b07_tc/tools/auxiliary/data_processing_widgets.py:180\u001b[0m, in \u001b[0;36mreading_raw_data_widget.add_experiment\u001b[0;34m(self, _)\u001b[0m\n\u001b[1;32m    177\u001b[0m gc_metadata_df_list          \u001b[39m=\u001b[39m []\n\u001b[1;32m    178\u001b[0m gc_measurements_list         \u001b[39m=\u001b[39m []\n\u001b[0;32m--> 180\u001b[0m potentiostatic_metadata_df, potentiostatic_measurement \u001b[39m=\u001b[39m Measurement\u001b[39m.\u001b[39;49mfrom_parser( parser\u001b[39m=\u001b[39;49mgstatic_parser, metadata_path\u001b[39m=\u001b[39;49m\u001b[39mself\u001b[39;49m\u001b[39m.\u001b[39;49mEchem_files\u001b[39m.\u001b[39;49mvalue[\u001b[39m0\u001b[39;49m] )\n\u001b[1;32m    181\u001b[0m mfm_experimental_data_df, mfm_measurement              \u001b[39m=\u001b[39m Measurement\u001b[39m.\u001b[39mfrom_parser( parser\u001b[39m=\u001b[39mmfm_parser, experimental_data_path\u001b[39m=\u001b[39m\u001b[39mself\u001b[39m\u001b[39m.\u001b[39mMFM_files\u001b[39m.\u001b[39mvalue[\u001b[39m0\u001b[39m] )\n\u001b[1;32m    182\u001b[0m \u001b[39m#experiment.plant_setup                                = PlantSetup.from_parser( parser=DEXPI2sdRDM, path=self.plant_setup_files[0] )\u001b[39;00m\n",
      "File \u001b[0;32m~/Documents/PhD/SFB1333/datamodel_b07_tc/datamodel_b07_tc/core/measurement.py:112\u001b[0m, in \u001b[0;36mMeasurement.from_parser\u001b[0;34m(cls, parser, **kwargs)\u001b[0m\n\u001b[1;32m    110\u001b[0m \u001b[39m@classmethod\u001b[39m\n\u001b[1;32m    111\u001b[0m \u001b[39mdef\u001b[39;00m \u001b[39mfrom_parser\u001b[39m(\u001b[39mcls\u001b[39m, parser: Callable, \u001b[39m*\u001b[39m\u001b[39m*\u001b[39mkwargs: Path):\n\u001b[0;32m--> 112\u001b[0m     \u001b[39mreturn\u001b[39;00m parser(\u001b[39mcls\u001b[39;49m, \u001b[39m*\u001b[39;49m\u001b[39m*\u001b[39;49mkwargs)\n",
      "File \u001b[0;32m~/Documents/PhD/SFB1333/datamodel_b07_tc/datamodel_b07_tc/tools/readers/gstaticparser.py:30\u001b[0m, in \u001b[0;36mgstatic_parser\u001b[0;34m(cls, metadata_path)\u001b[0m\n\u001b[1;32m     27\u001b[0m metadata_list \u001b[39m=\u001b[39m []\n\u001b[1;32m     28\u001b[0m \u001b[39mfor\u001b[39;00m index \u001b[39min\u001b[39;00m metadata_df\u001b[39m.\u001b[39mindex:\n\u001b[1;32m     29\u001b[0m     metadata_list\u001b[39m.\u001b[39mappend(\n\u001b[0;32m---> 30\u001b[0m         Metadata(\n\u001b[1;32m     31\u001b[0m             parameter\u001b[39m=\u001b[39;49mmetadata_df[\u001b[39m\"\u001b[39;49m\u001b[39mParameter\u001b[39;49m\u001b[39m\"\u001b[39;49m][index],\n\u001b[1;32m     32\u001b[0m             \u001b[39mtype\u001b[39;49m\u001b[39m=\u001b[39;49mmetadata_df[\u001b[39m\"\u001b[39;49m\u001b[39mType\u001b[39;49m\u001b[39m\"\u001b[39;49m][index],\n\u001b[1;32m     33\u001b[0m             value\u001b[39m=\u001b[39;49mmetadata_df[\u001b[39m\"\u001b[39;49m\u001b[39mValue\u001b[39;49m\u001b[39m\"\u001b[39;49m][index],\n\u001b[1;32m     34\u001b[0m             description\u001b[39m=\u001b[39;49mmetadata_df[\u001b[39m\"\u001b[39;49m\u001b[39mDescription\u001b[39;49m\u001b[39m\"\u001b[39;49m][index],\n\u001b[1;32m     35\u001b[0m         )\n\u001b[1;32m     36\u001b[0m     )\n\u001b[1;32m     37\u001b[0m potentiostatic_measurement \u001b[39m=\u001b[39m \u001b[39mcls\u001b[39m(\n\u001b[1;32m     38\u001b[0m     measurement_type\u001b[39m=\u001b[39m\u001b[39m\"\u001b[39m\u001b[39mPotentiostatic measurement\u001b[39m\u001b[39m\"\u001b[39m, metadata\u001b[39m=\u001b[39mmetadata_list\n\u001b[1;32m     39\u001b[0m )\n\u001b[1;32m     40\u001b[0m \u001b[39mreturn\u001b[39;00m metadata_df, potentiostatic_measurement\n",
      "File \u001b[0;32m~/miniconda3/lib/python3.11/site-packages/sdRDM/base/datamodel.py:92\u001b[0m, in \u001b[0;36mDataModel.__init__\u001b[0;34m(self, **data)\u001b[0m\n\u001b[1;32m     89\u001b[0m         \u001b[39mcontinue\u001b[39;00m\n\u001b[1;32m     91\u001b[0m     \u001b[39m# Store references to other objects and vice versa\u001b[39;00m\n\u001b[0;32m---> 92\u001b[0m     \u001b[39mself\u001b[39;49m\u001b[39m.\u001b[39;49m_add_reference_to_object(name, value)\n\u001b[1;32m     94\u001b[0m \u001b[39mfor\u001b[39;00m field, value \u001b[39min\u001b[39;00m \u001b[39mself\u001b[39m\u001b[39m.\u001b[39m\u001b[39m__dict__\u001b[39m\u001b[39m.\u001b[39mitems():\n\u001b[1;32m     95\u001b[0m     \u001b[39mif\u001b[39;00m \u001b[39mnot\u001b[39;00m \u001b[39misinstance\u001b[39m(value, ListPlus):\n",
      "File \u001b[0;32m~/miniconda3/lib/python3.11/site-packages/sdRDM/base/datamodel.py:933\u001b[0m, in \u001b[0;36mDataModel._add_reference_to_object\u001b[0;34m(self, name, value)\u001b[0m\n\u001b[1;32m    930\u001b[0m \u001b[39mdef\u001b[39;00m \u001b[39m_add_reference_to_object\u001b[39m(\u001b[39mself\u001b[39m, name, value):\n\u001b[1;32m    931\u001b[0m \u001b[39m    \u001b[39m\u001b[39m\"\"\"Adds the current class to the referenced object to maintain its relation\"\"\"\u001b[39;00m\n\u001b[0;32m--> 933\u001b[0m     extra \u001b[39m=\u001b[39m \u001b[39mself\u001b[39;49m\u001b[39m.\u001b[39;49m__fields__[name]\u001b[39m.\u001b[39mfield_info\u001b[39m.\u001b[39mextra\n\u001b[1;32m    935\u001b[0m     \u001b[39mif\u001b[39;00m \u001b[39m\"\u001b[39m\u001b[39mreference\u001b[39m\u001b[39m\"\u001b[39m \u001b[39mnot\u001b[39;00m \u001b[39min\u001b[39;00m extra:\n\u001b[1;32m    936\u001b[0m         \u001b[39mreturn\u001b[39;00m\n",
      "\u001b[0;31mKeyError\u001b[0m: 'type'"
     ]
    }
   ],
   "source": [
    "## Search for dataset and raw data ##\n",
    "\n",
    "rrdw = reading_raw_data_widget()\n",
    "rrdw.choose_data(root)"
   ]
  },
  {
   "cell_type": "code",
   "execution_count": 4,
   "metadata": {},
   "outputs": [
    {
     "ename": "NameError",
     "evalue": "name 'rrdw' is not defined",
     "output_type": "error",
     "traceback": [
      "\u001b[1;31m---------------------------------------------------------------------------\u001b[0m",
      "\u001b[1;31mNameError\u001b[0m                                 Traceback (most recent call last)",
      "\u001b[1;32mc:\\Users\\darouich\\OneDrive\\Dokumente\\datamodel_b07_tc\\datamodel_b07_tc\\Main.ipynb Cell 12\u001b[0m line \u001b[0;36m1\n\u001b[0;32m     <a href='vscode-notebook-cell:/c%3A/Users/darouich/OneDrive/Dokumente/datamodel_b07_tc/datamodel_b07_tc/Main.ipynb#X15sZmlsZQ%3D%3D?line=11'>12</a>\u001b[0m correc \u001b[39m=\u001b[39m \u001b[39mstr\u001b[39m(root)\u001b[39m+\u001b[39m\u001b[39m'\u001b[39m\u001b[39m/data/correction_factors/correction_factors.json\u001b[39m\u001b[39m'\u001b[39m\n\u001b[0;32m     <a href='vscode-notebook-cell:/c%3A/Users/darouich/OneDrive/Dokumente/datamodel_b07_tc/datamodel_b07_tc/Main.ipynb#X15sZmlsZQ%3D%3D?line=12'>13</a>\u001b[0m farada \u001b[39m=\u001b[39m \u001b[39mstr\u001b[39m(root)\u001b[39m+\u001b[39m\u001b[39m'\u001b[39m\u001b[39m/data/faraday_coefficients/faraday_coefficients.json\u001b[39m\u001b[39m'\u001b[39m\n\u001b[1;32m---> <a href='vscode-notebook-cell:/c%3A/Users/darouich/OneDrive/Dokumente/datamodel_b07_tc/datamodel_b07_tc/Main.ipynb#X15sZmlsZQ%3D%3D?line=14'>15</a>\u001b[0m rrdw\u001b[39m.\u001b[39mEchem_files\u001b[39m.\u001b[39mvalue \u001b[39m=\u001b[39m [e_chem]\n\u001b[0;32m     <a href='vscode-notebook-cell:/c%3A/Users/darouich/OneDrive/Dokumente/datamodel_b07_tc/datamodel_b07_tc/Main.ipynb#X15sZmlsZQ%3D%3D?line=15'>16</a>\u001b[0m rrdw\u001b[39m.\u001b[39mMFM_files\u001b[39m.\u001b[39mvalue   \u001b[39m=\u001b[39m [mfm]\n\u001b[0;32m     <a href='vscode-notebook-cell:/c%3A/Users/darouich/OneDrive/Dokumente/datamodel_b07_tc/datamodel_b07_tc/Main.ipynb#X15sZmlsZQ%3D%3D?line=16'>17</a>\u001b[0m rrdw\u001b[39m.\u001b[39mGC_files\u001b[39m.\u001b[39mvalue    \u001b[39m=\u001b[39m gc\n",
      "\u001b[1;31mNameError\u001b[0m: name 'rrdw' is not defined"
     ]
    }
   ],
   "source": [
    "#str(root) = \"c:/Users/darouich/OneDrive/Dokumente/\"\n",
    "\n",
    "e_chem = str(root)+'/data/Rohdaten/01_EChem/CAD14-Cu@AB/GSTATIC.DTA'\n",
    "mfm    = str(root)+'/data/Rohdaten/03_MFM/CAD14-Cu@AB/Bench-2h-GSS_CAD14-Cu@AB_200_50c_24h_truncated.csv'\n",
    "gc     = [str(root)+'/data/Rohdaten/02_GC/CAD14-Cu@AB/JH-1H 2023-02-06 10-00-18/NV-F0102.D/report00.CSV',\n",
    "        str(root)+'/data/Rohdaten/02_GC/CAD14-Cu@AB/JH-1H 2023-02-06 10-00-18/NV-F0102.D/REPORT01.CSV',\n",
    "        str(root)+'/data/Rohdaten/02_GC/CAD14-Cu@AB/JH-1H 2023-02-06 10-00-18/NV-F0103.D/report00.CSV',\n",
    "        str(root)+'/data/Rohdaten/02_GC/CAD14-Cu@AB/JH-1H 2023-02-06 10-00-18/NV-F0103.D/REPORT01.CSV',\n",
    "        str(root)+'/data/Rohdaten/02_GC/CAD14-Cu@AB/JH-1H 2023-02-06 10-00-18/NV-F0104.D/report00.CSV',\n",
    "        str(root)+'/data/Rohdaten/02_GC/CAD14-Cu@AB/JH-1H 2023-02-06 10-00-18/NV-F0104.D/REPORT01.CSV']\n",
    "calib  = str(root)+'/data/calibration/calibration.json'\n",
    "correc = str(root)+'/data/correction_factors/correction_factors.json'\n",
    "farada = str(root)+'/data/faraday_coefficients/faraday_coefficients.json'\n",
    "\n",
    "rrdw.Echem_files.value = [e_chem]\n",
    "rrdw.MFM_files.value   = [mfm]\n",
    "rrdw.GC_files.value    = gc\n",
    "rrdw.calib_files.value = [calib]\n",
    "rrdw.correction_files.value = [correc]\n",
    "rrdw.faraday_files.value    = [farada]"
   ]
  },
  {
   "cell_type": "markdown",
   "metadata": {},
   "source": [
    "---\n",
    "## Section 2: Analysis of data\n",
    "---\n",
    "In this section the raw data of the above choosen dataset is analyzed"
   ]
  },
  {
   "cell_type": "code",
   "execution_count": 14,
   "metadata": {},
   "outputs": [
    {
     "data": {
      "application/vnd.jupyter.widget-view+json": {
       "model_id": "470bc5f91b24478fa4d240d072bc2db7",
       "version_major": 2,
       "version_minor": 0
      },
      "text/plain": [
       "VBox(children=(HBox(children=(Dropdown(description='Choose experiment:', layout=Layout(width='auto'), options=…"
      ]
     },
     "metadata": {},
     "output_type": "display_data"
    },
    {
     "data": {
      "application/vnd.jupyter.widget-view+json": {
       "model_id": "472f28cd917d44629ef52f45508db72a",
       "version_major": 2,
       "version_minor": 0
      },
      "text/plain": [
       "VBox(children=(HBox(children=(VBox(children=(Label(value='Measurement number 0', layout=Layout(height='30px', …"
      ]
     },
     "metadata": {},
     "output_type": "display_data"
    },
    {
     "data": {
      "application/vnd.jupyter.widget-view+json": {
       "model_id": "0ff5a77ab58f4beabb62f41ac61525b5",
       "version_major": 2,
       "version_minor": 0
      },
      "text/plain": [
       "VBox(children=(VBox(children=(VBox(children=(HTML(value='The mass flow at the time of the GC measurement is de…"
      ]
     },
     "metadata": {},
     "output_type": "display_data"
    },
    {
     "name": "stdout",
     "output_type": "stream",
     "text": [
      "\n",
      "Starting the postprocessing\n",
      "\n",
      "Faraday effiencies of GC measurement n°0\n",
      "                Faraday_efficiency\n",
      "Carbon dioxide          256.959414\n",
      "Carbon monoxide           0.382582\n",
      "Ethane                    0.436018\n",
      "Ethene                   12.724777\n",
      "Hydrogen                 15.177137\n",
      "Methane                   6.567519 \n",
      "\n",
      "Faraday effiencies of GC measurement n°1\n",
      "                Faraday_efficiency\n",
      "Carbon dioxide          264.135754\n",
      "Carbon monoxide           0.669252\n",
      "Ethane                     0.43215\n",
      "Ethene                   11.360659\n",
      "Hydrogen                   20.3274\n",
      "Methane                   6.419533 \n",
      "\n",
      "Faraday effiencies of GC measurement n°2\n",
      "                Faraday_efficiency\n",
      "Carbon dioxide          275.513076\n",
      "Carbon monoxide           0.690107\n",
      "Ethane                    0.381448\n",
      "Ethene                    9.899592\n",
      "Hydrogen                 19.704288\n",
      "Methane                   6.618435 \n",
      "\n",
      "\n",
      "Mean Faraday efficency over all GC measurements\n",
      "                Faraday_efficiency\n",
      "Carbon dioxide          265.536081\n",
      "Carbon monoxide           0.580647\n",
      "Ethane                    0.416539\n",
      "Ethene                   11.328343\n",
      "Hydrogen                 18.402942\n",
      "Methane                   6.535162 \n",
      "\n"
     ]
    }
   ],
   "source": [
    "ardw = analyzing_raw_data_widget()\n",
    "ardw.choose_experiment(rrdw.datamodel,rrdw.dataset_dropdown.value)"
   ]
  },
  {
   "cell_type": "markdown",
   "metadata": {},
   "source": [
    "---\n",
    "## Section 3: Upload of data to DaRUS\n",
    "---\n",
    "In this section the processed, as well as the raw data is uploaded to DaRUS"
   ]
  },
  {
   "cell_type": "code",
   "execution_count": 75,
   "metadata": {},
   "outputs": [
    {
     "name": "stdout",
     "output_type": "stream",
     "text": [
      "Attribute project not valid for import (dv_up).\n"
     ]
    },
    {
     "ename": "Exception",
     "evalue": "Validation Failed: Point of Contact Name is required. (Invalid value:edu.harvard.iq.dataverse.DatasetField[ id=null ]), Description Text is required. (Invalid value:edu.harvard.iq.dataverse.DatasetField[ id=null ]), Project Level is required. (Invalid value:edu.harvard.iq.dataverse.DatasetField[ id=null ]), Funding Information Identifier is required. (Invalid value:edu.harvard.iq.dataverse.DatasetField[ id=null ]), Project Name is required. (Invalid value:edu.harvard.iq.dataverse.DatasetField[ id=null ]), Deposit Date is required. (Invalid value:edu.harvard.iq.dataverse.DatasetField[ id=null ]), Author Name is required. (Invalid value:edu.harvard.iq.dataverse.DatasetField[ id=null ]), Depositor is required. (Invalid value:edu.harvard.iq.dataverse.DatasetField[ id=null ]), Point of Contact E-mail is required. (Invalid value:edu.harvard.iq.dataverse.DatasetField[ id=null ]), Funding Information Agency is required. (Invalid value:edu.harvard.iq.dataverse.DatasetField[ id=null ]), Title is required. (Invalid value:edu.harvard.iq.dataverse.DatasetField[ id=null ]), Subject is required. (Invalid value:edu.harvard.iq.dataverse.DatasetField[ id=null ]).java.util.stream.ReferencePipeline$3@567ca205",
     "output_type": "error",
     "traceback": [
      "\u001b[0;31m---------------------------------------------------------------------------\u001b[0m",
      "\u001b[0;31mException\u001b[0m                                 Traceback (most recent call last)",
      "\u001b[1;32m/Users/samir/Documents/PhD/SFB1333/datamodel_b07_tc/Main.ipynb Cell 14\u001b[0m line \u001b[0;36m2\n\u001b[1;32m     <a href='vscode-notebook-cell:/Users/samir/Documents/PhD/SFB1333/datamodel_b07_tc/Main.ipynb#X24sZmlsZQ%3D%3D?line=23'>24</a>\u001b[0m dataset\u001b[39m.\u001b[39madd_file(dv_path\u001b[39m=\u001b[39m\u001b[39m\"\u001b[39m\u001b[39m.\u001b[39m\u001b[39m\"\u001b[39m, local_path\u001b[39m=\u001b[39m\u001b[39m\"\u001b[39m\u001b[39mmy.file\u001b[39m\u001b[39m\"\u001b[39m)\n\u001b[1;32m     <a href='vscode-notebook-cell:/Users/samir/Documents/PhD/SFB1333/datamodel_b07_tc/Main.ipynb#X24sZmlsZQ%3D%3D?line=25'>26</a>\u001b[0m \u001b[39m#https://darus.uni-stuttgart.de/api/dataverses/sfb1333\u001b[39;00m\n\u001b[0;32m---> <a href='vscode-notebook-cell:/Users/samir/Documents/PhD/SFB1333/datamodel_b07_tc/Main.ipynb#X24sZmlsZQ%3D%3D?line=27'>28</a>\u001b[0m dataset\u001b[39m.\u001b[39;49mupload(dataverse_name\u001b[39m=\u001b[39;49m\u001b[39m\"\u001b[39;49m\u001b[39msfb1333-hansen-gross\u001b[39;49m\u001b[39m\"\u001b[39;49m,\n\u001b[1;32m     <a href='vscode-notebook-cell:/Users/samir/Documents/PhD/SFB1333/datamodel_b07_tc/Main.ipynb#X24sZmlsZQ%3D%3D?line=28'>29</a>\u001b[0m                DATAVERSE_URL\u001b[39m=\u001b[39;49m\u001b[39m\"\u001b[39;49m\u001b[39mhttps://darus.uni-stuttgart.de\u001b[39;49m\u001b[39m\"\u001b[39;49m,\n\u001b[1;32m     <a href='vscode-notebook-cell:/Users/samir/Documents/PhD/SFB1333/datamodel_b07_tc/Main.ipynb#X24sZmlsZQ%3D%3D?line=29'>30</a>\u001b[0m                API_TOKEN\u001b[39m=\u001b[39;49m\u001b[39m\"\u001b[39;49m\u001b[39m4afecd82-c92d-4935-b786-2225af43531e\u001b[39;49m\u001b[39m\"\u001b[39;49m)\n",
      "File \u001b[0;32m~/miniconda3/lib/python3.11/site-packages/easyDataverse/core/dataset.py:267\u001b[0m, in \u001b[0;36mDataset.upload\u001b[0;34m(self, dataverse_name, content_loc, DATAVERSE_URL, API_TOKEN)\u001b[0m\n\u001b[1;32m    248\u001b[0m \u001b[39mdef\u001b[39;00m \u001b[39mupload\u001b[39m(\n\u001b[1;32m    249\u001b[0m     \u001b[39mself\u001b[39m,\n\u001b[1;32m    250\u001b[0m     dataverse_name: \u001b[39mstr\u001b[39m,\n\u001b[0;32m   (...)\u001b[0m\n\u001b[1;32m    253\u001b[0m     API_TOKEN: Optional[\u001b[39mstr\u001b[39m] \u001b[39m=\u001b[39m \u001b[39mNone\u001b[39;00m,\n\u001b[1;32m    254\u001b[0m ) \u001b[39m-\u001b[39m\u001b[39m>\u001b[39m \u001b[39mstr\u001b[39m:\n\u001b[1;32m    255\u001b[0m \u001b[39m    \u001b[39m\u001b[39m\"\"\"Uploads a given dataset to a Dataverse installation specified in the environment variable.\u001b[39;00m\n\u001b[1;32m    256\u001b[0m \n\u001b[1;32m    257\u001b[0m \u001b[39m    Args:\u001b[39;00m\n\u001b[0;32m   (...)\u001b[0m\n\u001b[1;32m    264\u001b[0m \u001b[39m        str: [description]\u001b[39;00m\n\u001b[1;32m    265\u001b[0m \u001b[39m    \"\"\"\u001b[39;00m\n\u001b[0;32m--> 267\u001b[0m     \u001b[39mself\u001b[39m\u001b[39m.\u001b[39mp_id \u001b[39m=\u001b[39m upload_to_dataverse(\n\u001b[1;32m    268\u001b[0m         json_data\u001b[39m=\u001b[39;49m\u001b[39mself\u001b[39;49m\u001b[39m.\u001b[39;49mdataverse_json(),\n\u001b[1;32m    269\u001b[0m         dataverse_name\u001b[39m=\u001b[39;49mdataverse_name,\n\u001b[1;32m    270\u001b[0m         files\u001b[39m=\u001b[39;49m\u001b[39mself\u001b[39;49m\u001b[39m.\u001b[39;49mfiles,\n\u001b[1;32m    271\u001b[0m         p_id\u001b[39m=\u001b[39;49m\u001b[39mself\u001b[39;49m\u001b[39m.\u001b[39;49mp_id,\n\u001b[1;32m    272\u001b[0m         DATAVERSE_URL\u001b[39m=\u001b[39;49mDATAVERSE_URL,\n\u001b[1;32m    273\u001b[0m         API_TOKEN\u001b[39m=\u001b[39;49mAPI_TOKEN,\n\u001b[1;32m    274\u001b[0m         content_loc\u001b[39m=\u001b[39;49mcontent_loc,\n\u001b[1;32m    275\u001b[0m     )\n\u001b[1;32m    277\u001b[0m     \u001b[39mreturn\u001b[39;00m \u001b[39mself\u001b[39m\u001b[39m.\u001b[39mp_id\n",
      "File \u001b[0;32m~/miniconda3/lib/python3.11/site-packages/easyDataverse/tools/uploader/uploader.py:62\u001b[0m, in \u001b[0;36mupload_to_dataverse\u001b[0;34m(json_data, dataverse_name, files, p_id, content_loc, DATAVERSE_URL, API_TOKEN)\u001b[0m\n\u001b[1;32m     59\u001b[0m     response \u001b[39m=\u001b[39m api\u001b[39m.\u001b[39mcreate_dataset(dataverse_name, json_data)\n\u001b[1;32m     61\u001b[0m \u001b[39mif\u001b[39;00m response\u001b[39m.\u001b[39mjson()[\u001b[39m\"\u001b[39m\u001b[39mstatus\u001b[39m\u001b[39m\"\u001b[39m] \u001b[39m!=\u001b[39m \u001b[39m\"\u001b[39m\u001b[39mOK\u001b[39m\u001b[39m\"\u001b[39m:\n\u001b[0;32m---> 62\u001b[0m     \u001b[39mraise\u001b[39;00m \u001b[39mException\u001b[39;00m(response\u001b[39m.\u001b[39mjson()[\u001b[39m\"\u001b[39m\u001b[39mmessage\u001b[39m\u001b[39m\"\u001b[39m])\n\u001b[1;32m     64\u001b[0m \u001b[39m# Get response data\u001b[39;00m\n\u001b[1;32m     65\u001b[0m p_id \u001b[39m=\u001b[39m response\u001b[39m.\u001b[39mjson()[\u001b[39m\"\u001b[39m\u001b[39mdata\u001b[39m\u001b[39m\"\u001b[39m][\u001b[39m\"\u001b[39m\u001b[39mpersistentId\u001b[39m\u001b[39m\"\u001b[39m]\n",
      "\u001b[0;31mException\u001b[0m: Validation Failed: Point of Contact Name is required. (Invalid value:edu.harvard.iq.dataverse.DatasetField[ id=null ]), Description Text is required. (Invalid value:edu.harvard.iq.dataverse.DatasetField[ id=null ]), Project Level is required. (Invalid value:edu.harvard.iq.dataverse.DatasetField[ id=null ]), Funding Information Identifier is required. (Invalid value:edu.harvard.iq.dataverse.DatasetField[ id=null ]), Project Name is required. (Invalid value:edu.harvard.iq.dataverse.DatasetField[ id=null ]), Deposit Date is required. (Invalid value:edu.harvard.iq.dataverse.DatasetField[ id=null ]), Author Name is required. (Invalid value:edu.harvard.iq.dataverse.DatasetField[ id=null ]), Depositor is required. (Invalid value:edu.harvard.iq.dataverse.DatasetField[ id=null ]), Point of Contact E-mail is required. (Invalid value:edu.harvard.iq.dataverse.DatasetField[ id=null ]), Funding Information Agency is required. (Invalid value:edu.harvard.iq.dataverse.DatasetField[ id=null ]), Title is required. (Invalid value:edu.harvard.iq.dataverse.DatasetField[ id=null ]), Subject is required. (Invalid value:edu.harvard.iq.dataverse.DatasetField[ id=null ]).java.util.stream.ReferencePipeline$3@567ca205"
     ]
    }
   ],
   "source": [
    "from pyDaRUS import Citation\n",
    "from pyDaRUS import Dataset\n",
    "from pyDaRUS.metadatablocks.citation import SubjectEnum, IdentifierScheme\n",
    "\n",
    "subject_list = [ subject.value for subject in SubjectEnum]\n",
    "\n",
    "# Initialize the metadatablock\n",
    "citation = Citation()\n",
    "\n",
    "citation.title = \"My Title\"\n",
    "\n",
    "citation.add_description(text=\"test\")\n",
    "citation.add_author(name=\"Samir\", affiliation=\"ITT\")\n",
    "citation.add_contact(name=\"Samir\", email=\"samir.darouich@itt.uni-stuttgart.de\")\n",
    "\n",
    "citation.subject = [\"Engineering\"]\n",
    "\n",
    "citation.add_grant_information( grant_agency=\"DFG\", grant_number=\"358283783 - SFB 1333\")\n",
    "citation.add_project( name=\"test project\", level=1 )\n",
    "citation.depositor = \"XXX\"\n",
    "citation.deposit_date = \"XXX\"\n",
    "\n",
    "\n",
    "dataset = Dataset()\n",
    "dataset.add_metadatablock(citation)\n",
    "\n",
    "dataset.add_file(dv_path=\".\", local_path=\"my.file\")\n",
    "\n",
    "#https://darus.uni-stuttgart.de/api/dataverses/sfb1333\n",
    "\n",
    "dataset.upload(dataverse_name=\"sfb1333-hansen-gross\",\n",
    "               DATAVERSE_URL=\"https://darus.uni-stuttgart.de\",\n",
    "               API_TOKEN=\"4afecd82-c92d-4935-b786-2225af43531e\")"
   ]
  }
 ],
 "metadata": {
  "kernelspec": {
   "display_name": "b07",
   "language": "python",
   "name": "python3"
  },
  "language_info": {
   "codemirror_mode": {
    "name": "ipython",
    "version": 3
   },
   "file_extension": ".py",
   "mimetype": "text/x-python",
   "name": "python",
   "nbconvert_exporter": "python",
   "pygments_lexer": "ipython3",
   "version": "3.11.5"
  },
  "orig_nbformat": 4,
  "vscode": {
   "interpreter": {
    "hash": "9f62ab2d43dc75e3c3b007469adeb0f7488873df876b9b71dd3b119f0280ba41"
   }
  }
 },
 "nbformat": 4,
 "nbformat_minor": 2
}
