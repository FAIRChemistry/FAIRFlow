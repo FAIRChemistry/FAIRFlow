{
 "cells": [
  {
   "attachments": {},
   "cell_type": "markdown",
   "metadata": {},
   "source": [
    "# <center>Workflow for on-line GC and HPLC analysis in flow chemistry</center>\n"
   ]
  },
  {
   "cell_type": "markdown",
   "metadata": {},
   "source": [
    "---\n",
    "## Section 0: Imports, Paths, and Logging\n",
    "---\n",
    "\n",
    "In this section all the necessary python packages are imported, the path to this notebook and the logger for this notebook is set up."
   ]
  },
  {
   "cell_type": "code",
   "execution_count": 2,
   "metadata": {},
   "outputs": [],
   "source": [
    "# Activate autoreload to keep on track with changing modules\n",
    "%reload_ext autoreload\n",
    "%autoreload 2\n",
    "\n",
    "# Import standard libraries\n",
    "import logging\n",
    "from pathlib import Path\n",
    "\n",
    "# Import tools for data processing and analysis and DaRUS upload\n",
    "from FAIRDaRUS import DaRUS_upload\n",
    "from FAIRFlowChemistry.tools.logger_setup import setup_logger\n",
    "from FAIRFlowChemistry.tools import initialize_dataset, reading_raw_data_widget, analyzing_raw_data_widget\n",
    "\n",
    "# Get root path of the notebook\n",
    "root = Path.cwd()\n",
    "\n",
    "# Setup logger\n",
    "setup_logger( \"log_faraday_efficency.log\" )\n",
    "logger = logging.getLogger( \"main\" )"
   ]
  },
  {
   "cell_type": "markdown",
   "metadata": {},
   "source": [
    "---\n",
    "## Section 1: Dataset and raw data\n",
    "---\n",
    "In this section the dataset as well as the to analyze raw data is choosen"
   ]
  },
  {
   "cell_type": "code",
   "execution_count": null,
   "metadata": {},
   "outputs": [],
   "source": [
    "init_data = initialize_dataset()\n",
    "init_data.write_dataset( )"
   ]
  },
  {
   "cell_type": "code",
   "execution_count": 9,
   "metadata": {},
   "outputs": [],
   "source": [
    "## Definition of basic meta data of the project ##\n",
    "\n",
    "init_data.title.value        = 'FAIRFlow: A Jupyter notebook-based platform for on-line analysis in flow chemistry '\n",
    "init_data.description.value  = 'The aim of this project is to introduce the FAIR (findable, accessible, interoperable, reusable) principles into miniplant flow chemistry'\n",
    "init_data.project.value      = 'Project B07'\n",
    "init_data.purpose.value      = 'This dataset includes various measurements for distinct pore size-ordered mesoporous carbon (OMC) materials, each loaded with 8% Cu. Specifically, the designations 7.1 nm and 9.2 nm denote the respective pore sizes. Notably, our sample preparation involved a comparative study on the impact of washing the sample with H2SO4'\n",
    "\n",
    "\n",
    "\n",
    "# List with authors and their affiliation #\n",
    "# init_data.authors.value      = 'Richard Schömig, Jan Range, Samir Darouich, Maximilian Schmidt, Seda Yilmaz, Elias Klemm, Jürgen Pleiss' \n",
    "# init_data.affiliations.value = 'University of Stuttgart, University of Stuttgart, University of Stuttgart, University of Stuttgart, University of Stuttgart, University of Stuttgart, University of Stuttgart'\n",
    "# init_data.identifier.value   = 'xxx-xxx-xxx-xxx, xxx-xxx-xxx-xxx, xxx-xxx-xxx-xxx, xxx-xxx-xxx-xxx, xxx-xxx-xxx-xxx, xxx-xxx-xxx-xxx, xxx-xxx-xxx-xxx'\n",
    "# init_data.contact_text.value = 'Jürgen Pleiss, juergen.pleiss@itb.uni-stuttgart.de'\n",
    "\n",
    "# init_data.related_publication.value = \"test, https://id.loc.gov/authorities/subjects/sh2014001146.html\"\n",
    "\n",
    "# init_data.topic_classification.value = \"homogeneous catalysis (LCSH), https://id.loc.gov/authorities/subjects/sh2014001146.html\"\n",
    "# init_data.keywords.value             = \"polymer chemistry (Loterre Chemistry Vocabulary), https://skosmos.loterre.fr/ERC/en/page/?uri=http%3A%2F%2Fdata.loterre.fr%2Fark%3A%2F67375%2FERC-KCSKD4X9-P\"\n",
    "\n",
    "init_data.dataset_text.value = \"datasets/poresize_omc\""
   ]
  },
  {
   "cell_type": "code",
   "execution_count": 3,
   "metadata": {},
   "outputs": [
    {
     "data": {
      "application/vnd.jupyter.widget-view+json": {
       "model_id": "518fec98a76a424e949b82b3c0abe6e0",
       "version_major": 2,
       "version_minor": 0
      },
      "text/plain": [
       "VBox(children=(HBox(children=(Dropdown(description='Choose dataset', layout=Layout(width='auto'), options=((''…"
      ]
     },
     "metadata": {},
     "output_type": "display_data"
    }
   ],
   "source": [
    "## Search for dataset and raw data ##\n",
    "\n",
    "rrdw = reading_raw_data_widget()\n",
    "rrdw.choose_data( root = root, dataset_directory = \"datasets\" )"
   ]
  },
  {
   "cell_type": "code",
   "execution_count": 25,
   "metadata": {},
   "outputs": [],
   "source": [
    "rrdw.measurements.value = [\"Measurement 1\",\"Measurement 2\"]\n",
    "\n",
    "\n",
    "e_chem = str(root)+'/data/raw_data/9.2_nm/Gammry_Data/230705-1-CV-PEG35-052-GTA25/GSTATIC.DTA'\n",
    "mfm    = [[str(root)+'/data/raw_data/9.2_nm/MFM_Data/1-CV-PEG35-052-GTA25/GSS_1-CV-PEG35-052-GTA25_200_20c_1h.csv'],\n",
    "          [str(root)+'/data/raw_data/9.2_nm/MFM_Data/2-CV-PEG35-052-GTA25/GSS_2-CV-PEG35-052-GTA25_200_20c_1h.csv'],]\n",
    "gc     = [[str(root)+'/data/raw_data/9.2_nm/GC_Data/230705-1-CV-PEG35-052-GTA25/JH-1H 2023-07-05 18-32-59/NV-F0102.D/report00.CSV',\n",
    "        str(root)+'/data/raw_data/9.2_nm/GC_Data/230705-1-CV-PEG35-052-GTA25/JH-1H 2023-07-05 18-32-59/NV-F0102.D/REPORT01.CSV',\n",
    "        str(root)+'/data/raw_data/9.2_nm/GC_Data/230705-1-CV-PEG35-052-GTA25/JH-1H 2023-07-05 18-32-59/NV-F0103.D/report00.CSV',\n",
    "        str(root)+'/data/raw_data/9.2_nm/GC_Data/230705-1-CV-PEG35-052-GTA25/JH-1H 2023-07-05 18-32-59/NV-F0103.D/REPORT01.CSV',\n",
    "        str(root)+'/data/raw_data/9.2_nm/GC_Data/230705-1-CV-PEG35-052-GTA25/JH-1H 2023-07-05 18-32-59/NV-F0104.D/report00.CSV',\n",
    "        str(root)+'/data/raw_data/9.2_nm/GC_Data/230705-1-CV-PEG35-052-GTA25/JH-1H 2023-07-05 18-32-59/NV-F0104.D/REPORT01.CSV'],\n",
    "\n",
    "        [str(root)+'/data/raw_data/9.2_nm/GC_Data/230705-2-CV-PEG35-052-GTA25/JH-1H 2023-07-05 20-04-01/NV-F0102.D/report00.CSV',\n",
    "        str(root)+'/data/raw_data/9.2_nm/GC_Data/230705-2-CV-PEG35-052-GTA25/JH-1H 2023-07-05 20-04-01/NV-F0102.D/REPORT01.CSV',\n",
    "        str(root)+'/data/raw_data/9.2_nm/GC_Data/230705-2-CV-PEG35-052-GTA25/JH-1H 2023-07-05 20-04-01/NV-F0103.D/report00.CSV',\n",
    "        str(root)+'/data/raw_data/9.2_nm/GC_Data/230705-2-CV-PEG35-052-GTA25/JH-1H 2023-07-05 20-04-01/NV-F0103.D/REPORT01.CSV',\n",
    "        str(root)+'/data/raw_data/9.2_nm/GC_Data/230705-2-CV-PEG35-052-GTA25/JH-1H 2023-07-05 20-04-01/NV-F0104.D/report00.CSV',\n",
    "        str(root)+'/data/raw_data/9.2_nm/GC_Data/230705-2-CV-PEG35-052-GTA25/JH-1H 2023-07-05 20-04-01/NV-F0104.D/REPORT01.CSV']]\n",
    "\n",
    "\n",
    "rrdw.measurements.value = [\"Measurement 1\",\"Measurement 2\",\"Measurement 3\"]\n",
    "\n",
    "e_chem = str(root)+'/data/raw_data/7.1_nm_OMC/Gammry_Data/230705-1-CV-PEG20-068-GTA25/GSTATIC.DTA'\n",
    "mfm    = [[str(root)+'/data/raw_data/7.1_nm_OMC/MFM_Data/1-CV-PEG20-068/MFM_1-CV-PEG20-068.csv'],\n",
    "          [str(root)+'/data/raw_data/7.1_nm_OMC/MFM_Data/2-CV-PEG20-068-GTA25/GSS_2-CV-PEG20-068-GTA25_200_20c_1h.csv'],\n",
    "          [str(root)+'/data/raw_data/7.1_nm_OMC/MFM_Data/3-CV-PEG20-068-GTA25/GSS_3-CV-PEG20-068-GTA25_200_20c_1h.csv'] ]\n",
    "gc     = [[str(root)+'/data/raw_data/7.1_nm_OMC/GC_Data/230705-1-CV-PEG20-068-GTA25/JH-1H 2023-07-05 11-45-17/NV-F0102.D/report00.CSV',\n",
    "        str(root)+'/data/raw_data/7.1_nm_OMC/GC_Data/230705-1-CV-PEG20-068-GTA25/JH-1H 2023-07-05 11-45-17/NV-F0102.D/REPORT01.CSV',\n",
    "        str(root)+'/data/raw_data/7.1_nm_OMC/GC_Data/230705-1-CV-PEG20-068-GTA25/JH-1H 2023-07-05 11-45-17/NV-F0103.D/report00.CSV',\n",
    "        str(root)+'/data/raw_data/7.1_nm_OMC/GC_Data/230705-1-CV-PEG20-068-GTA25/JH-1H 2023-07-05 11-45-17/NV-F0103.D/REPORT01.CSV',\n",
    "        str(root)+'/data/raw_data/7.1_nm_OMC/GC_Data/230705-1-CV-PEG20-068-GTA25/JH-1H 2023-07-05 11-45-17/NV-F0104.D/report00.CSV',\n",
    "        str(root)+'/data/raw_data/7.1_nm_OMC/GC_Data/230705-1-CV-PEG20-068-GTA25/JH-1H 2023-07-05 11-45-17/NV-F0104.D/REPORT01.CSV'],\n",
    "\n",
    "        [str(root)+'/data/raw_data/7.1_nm_OMC/GC_Data/230705-2-CV-PEG20-068-GTA25/JH-1H 2023-07-05 14-19-03/NV-F0102.D/report00.CSV',\n",
    "        str(root)+'/data/raw_data/7.1_nm_OMC/GC_Data/230705-2-CV-PEG20-068-GTA25/JH-1H 2023-07-05 14-19-03/NV-F0102.D/REPORT01.CSV',\n",
    "        str(root)+'/data/raw_data/7.1_nm_OMC/GC_Data/230705-2-CV-PEG20-068-GTA25/JH-1H 2023-07-05 14-19-03/NV-F0103.D/report00.CSV',\n",
    "        str(root)+'/data/raw_data/7.1_nm_OMC/GC_Data/230705-2-CV-PEG20-068-GTA25/JH-1H 2023-07-05 14-19-03/NV-F0103.D/REPORT01.CSV',\n",
    "        str(root)+'/data/raw_data/7.1_nm_OMC/GC_Data/230705-2-CV-PEG20-068-GTA25/JH-1H 2023-07-05 14-19-03/NV-F0104.D/report00.CSV',\n",
    "        str(root)+'/data/raw_data/7.1_nm_OMC/GC_Data/230705-2-CV-PEG20-068-GTA25/JH-1H 2023-07-05 14-19-03/NV-F0104.D/REPORT01.CSV'],\n",
    "\n",
    "        [str(root)+'/data/raw_data/7.1_nm_OMC/GC_Data/230705-3-CV-PEG20-068-GTA25/JH-1H 2023-07-05 15-59-41/NV-F0102.D/report00.CSV',\n",
    "        str(root)+'/data/raw_data/7.1_nm_OMC/GC_Data/230705-3-CV-PEG20-068-GTA25/JH-1H 2023-07-05 15-59-41/NV-F0102.D/REPORT01.CSV',\n",
    "        str(root)+'/data/raw_data/7.1_nm_OMC/GC_Data/230705-3-CV-PEG20-068-GTA25/JH-1H 2023-07-05 15-59-41/NV-F0103.D/report00.CSV',\n",
    "        str(root)+'/data/raw_data/7.1_nm_OMC/GC_Data/230705-3-CV-PEG20-068-GTA25/JH-1H 2023-07-05 15-59-41/NV-F0103.D/REPORT01.CSV',\n",
    "        str(root)+'/data/raw_data/7.1_nm_OMC/GC_Data/230705-3-CV-PEG20-068-GTA25/JH-1H 2023-07-05 15-59-41/NV-F0104.D/report00.CSV',\n",
    "        str(root)+'/data/raw_data/7.1_nm_OMC/GC_Data/230705-3-CV-PEG20-068-GTA25/JH-1H 2023-07-05 15-59-41/NV-F0104.D/REPORT01.CSV']]\n",
    "\n",
    "\n",
    "rrdw.measurements.value = [\"Measurement 1\",\"Measurement 2\",\"Measurement 3\"]\n",
    "\n",
    "e_chem = str(root)+'/data/raw_data/7.1_nm_OMC_washing/Gammry_Data/230706-1-CV-PEG20-068-GTA25-washing/GSTATIC.DTA'\n",
    "mfm    = [[str(root)+'/data/raw_data/7.1_nm_OMC_washing/MFM_Data/1-CV-PEG20-068-GTA25-washing/GSS_1-CV-PEG20-068-GTA25-washing_200_20c_1h.csv'],\n",
    "          [str(root)+'/data/raw_data/7.1_nm_OMC_washing/MFM_Data/2-CV-PEG20-068-GTA25-washing/GSS_2-CV-PEG20-068-GTA25-washing_200_20c_1h.csv'],\n",
    "          [str(root)+'/data/raw_data/7.1_nm_OMC_washing/MFM_Data/3-CV-PEG20-068-GTA25-washing/GSS_3-CV-PEG20-068-GTA25-washing_200_20c_1h.csv'] ]\n",
    "gc     = [[str(root)+'/data/raw_data/7.1_nm_OMC_washing/GC_Data/230706-1-CV-PEG20-068-GTA25-washing/JH-1H 2023-07-06 09-26-39/NV-F0102.D/report00.CSV',\n",
    "        str(root)+'/data/raw_data/7.1_nm_OMC_washing/GC_Data/230706-1-CV-PEG20-068-GTA25-washing/JH-1H 2023-07-06 09-26-39/NV-F0102.D/REPORT01.CSV',\n",
    "        str(root)+'/data/raw_data/7.1_nm_OMC_washing/GC_Data/230706-1-CV-PEG20-068-GTA25-washing/JH-1H 2023-07-06 09-26-39/NV-F0103.D/report00.CSV',\n",
    "        str(root)+'/data/raw_data/7.1_nm_OMC_washing/GC_Data/230706-1-CV-PEG20-068-GTA25-washing/JH-1H 2023-07-06 09-26-39/NV-F0103.D/REPORT01.CSV',\n",
    "        str(root)+'/data/raw_data/7.1_nm_OMC_washing/GC_Data/230706-1-CV-PEG20-068-GTA25-washing/JH-1H 2023-07-06 09-26-39/NV-F0104.D/report00.CSV',\n",
    "        str(root)+'/data/raw_data/7.1_nm_OMC_washing/GC_Data/230706-1-CV-PEG20-068-GTA25-washing/JH-1H 2023-07-06 09-26-39/NV-F0104.D/REPORT01.CSV'],\n",
    "\n",
    "        [str(root)+'/data/raw_data/7.1_nm_OMC_washing/GC_Data/230706-2-CV-PEG20-068-GTA25-washing/JH-1H 2023-07-06 11-05-18/NV-F0102.D/report00.CSV',\n",
    "        str(root)+'/data/raw_data/7.1_nm_OMC_washing/GC_Data/230706-2-CV-PEG20-068-GTA25-washing/JH-1H 2023-07-06 11-05-18/NV-F0102.D/REPORT01.CSV',\n",
    "        str(root)+'/data/raw_data/7.1_nm_OMC_washing/GC_Data/230706-2-CV-PEG20-068-GTA25-washing/JH-1H 2023-07-06 11-05-18/NV-F0103.D/report00.CSV',\n",
    "        str(root)+'/data/raw_data/7.1_nm_OMC_washing/GC_Data/230706-2-CV-PEG20-068-GTA25-washing/JH-1H 2023-07-06 11-05-18/NV-F0103.D/REPORT01.CSV',\n",
    "        str(root)+'/data/raw_data/7.1_nm_OMC_washing/GC_Data/230706-2-CV-PEG20-068-GTA25-washing/JH-1H 2023-07-06 11-05-18/NV-F0104.D/report00.CSV',\n",
    "        str(root)+'/data/raw_data/7.1_nm_OMC_washing/GC_Data/230706-2-CV-PEG20-068-GTA25-washing/JH-1H 2023-07-06 11-05-18/NV-F0104.D/REPORT01.CSV'],\n",
    "\n",
    "        [str(root)+'/data/raw_data/7.1_nm_OMC_washing/GC_Data/230706-3-CV-PEG20-068-GTA25-washing/JH-1H 2023-07-06 12-32-22/NV-F0102.D/report00.CSV',\n",
    "        str(root)+'/data/raw_data/7.1_nm_OMC_washing/GC_Data/230706-3-CV-PEG20-068-GTA25-washing/JH-1H 2023-07-06 12-32-22/NV-F0102.D/REPORT01.CSV',\n",
    "        str(root)+'/data/raw_data/7.1_nm_OMC_washing/GC_Data/230706-3-CV-PEG20-068-GTA25-washing/JH-1H 2023-07-06 12-32-22/NV-F0103.D/report00.CSV',\n",
    "        str(root)+'/data/raw_data/7.1_nm_OMC_washing/GC_Data/230706-3-CV-PEG20-068-GTA25-washing/JH-1H 2023-07-06 12-32-22/NV-F0103.D/REPORT01.CSV',\n",
    "        str(root)+'/data/raw_data/7.1_nm_OMC_washing/GC_Data/230706-3-CV-PEG20-068-GTA25-washing/JH-1H 2023-07-06 12-32-22/NV-F0104.D/report00.CSV',\n",
    "        str(root)+'/data/raw_data/7.1_nm_OMC_washing/GC_Data/230706-3-CV-PEG20-068-GTA25-washing/JH-1H 2023-07-06 12-32-22/NV-F0104.D/REPORT01.CSV']]\n",
    "\n",
    "for i,obj in enumerate(rrdw.measurement_objects):\n",
    "    obj.galvano_files.value = [e_chem] if i == 0 else []\n",
    "    obj.GC_files.value      = gc[i]\n",
    "    obj.MFM_files.value     = mfm[i]\n",
    "\n",
    "rrdw.pid_file.value     = str(root)+'/data/DEXPI/DEXPI_PID.xml'\n",
    "rrdw.species_file.value = str(root)+'/data/additional_data/species_data.yaml'"
   ]
  },
  {
   "cell_type": "markdown",
   "metadata": {},
   "source": [
    "---\n",
    "## Section 2: Analysis of data\n",
    "---\n",
    "In this section the raw data of the above choosen dataset is analyzed (if you change the dataset above, then reexecute this cell)"
   ]
  },
  {
   "cell_type": "code",
   "execution_count": null,
   "metadata": {},
   "outputs": [],
   "source": [
    "# Provide a typical retention time dictionary to pre assign retention times \n",
    "\n",
    "typical_retention_time = {\"Hydrogen\": 1.7, \"Carbon dioxide\": 3.0, \"Carbon monoxide\": 13.6, \n",
    "                          \"Methane\": 3.6, \"Ethene\": 6.0, \"Ethane\": 7.1}\n",
    "\n",
    "ardw = analyzing_raw_data_widget()\n",
    "ardw.choose_experiment( dataset = rrdw.dataset, \n",
    "                        dataset_path = rrdw.dataset_dropdown.value, \n",
    "                        typical_retention_time = typical_retention_time)"
   ]
  },
  {
   "cell_type": "markdown",
   "metadata": {},
   "source": [
    "---\n",
    "## Section 3: Upload of data to DaRUS\n",
    "---\n",
    "In this section the above choosen dataset, containing the processed as well as the raw data, is uploaded to DaRUS"
   ]
  },
  {
   "cell_type": "code",
   "execution_count": null,
   "metadata": {},
   "outputs": [
    {
     "data": {
      "application/vnd.jupyter.widget-view+json": {
       "model_id": "00b448419c4f46e4a808fd0f3122a095",
       "version_major": 2,
       "version_minor": 0
      },
      "text/plain": [
       "VBox(children=(Dropdown(description='Choose whether you want to create a new data record or edit an existing o…"
      ]
     },
     "metadata": {},
     "output_type": "display_data"
    },
    {
     "name": "stdout",
     "output_type": "stream",
     "text": [
      "Attribute project not valid for import (dv_up).\n",
      "Dataset with pid 'doi:10.18419/darus-4076' created.\n",
      "\n",
      "\u001b[3;37m📝 Preparing upload\u001b[0m\n",
      "\n",
      "\u001b[1;3;37m🔎 Checking dataset files\u001b[0m\u001b[3m              \u001b[0m\n",
      "┏━━━━━━━━━━━━━━━━━━━┳━━━━━━━━┳━━━━━━━━┓\n",
      "┃\u001b[1m \u001b[0m\u001b[1mFile             \u001b[0m\u001b[1m \u001b[0m┃\u001b[1m \u001b[0m\u001b[1mStatus\u001b[0m\u001b[1m \u001b[0m┃\u001b[1m \u001b[0m\u001b[1mAction\u001b[0m\u001b[1m \u001b[0m┃\n",
      "┡━━━━━━━━━━━━━━━━━━━╇━━━━━━━━╇━━━━━━━━┩\n",
      "│\u001b[36m \u001b[0m\u001b[36mporesize_omc.json\u001b[0m\u001b[36m \u001b[0m│ \u001b[92mNew\u001b[0m    │ \u001b[92mUpload\u001b[0m │\n",
      "└───────────────────┴────────┴────────┘\n",
      "\n",
      "\u001b[1;3;37m⚠️  Direct upload not supported. Falling back to Native API.\u001b[0m\n",
      "\n",
      "\u001b[1;3;37m🚀 Uploading files\u001b[0m\n",
      "\n",
      "\u001b[2Kporesize_omc.json \u001b[90m━━━━━━━━━━━━━━━━━━━━━━━━━━━━━━━━━━━━━━━━\u001b[0m \u001b[35m100%\u001b[0m \u001b[36m0:00:00\u001b[0mm \u001b[36m0:00:01\u001b[0m\n",
      "\u001b[?25h\n",
      "\u001b[1;3;37m✅ Upload complete\u001b[0m\n",
      "\n",
      "https://darus.uni-stuttgart.de//dataset.xhtml?persistentId=doi:10.18419/darus-4076\n"
     ]
    }
   ],
   "source": [
    "# Predefined list of all SFB1333 dataverses. If a new dataverse wants to be appended, just add in the list\n",
    "sfb1333_dataverse_list = [ \"sfb1333-\"+group_name for group_name in [\"hansen-gross\", \"grabowski\", \"sarkar\", \"tallarek\", \"peters\", \"schmitz\", \"inf\", \"pluhackova\", \"giesselmann\", \"klemm\", \"schlaich\", \"traa\", \"naumann\", \"lotsch\", \"vanSlageren\", \"holm\", \"fyta\", \"estes\", \"laschat\", \"bruckner\", \"bill\", \"ludwigs\", \"dyballa\", \"ringenberg\", \"kaestner\", \"Buchmeiser\", \"sottmann\"] ]\n",
    "\n",
    "uploader = DaRUS_upload()\n",
    "uploader.DaRUS( dataverse_list = sfb1333_dataverse_list )\n",
    "\n",
    "uploader.api_token_text.value = \"4afecd82-c92d-4935-b786-2225af43531e\"\n",
    "uploader.depositor_text.value = \"Samir Darouich\""
   ]
  },
  {
   "cell_type": "code",
   "execution_count": 24,
   "metadata": {},
   "outputs": [],
   "source": [
    "uploader.citation.title.value = 'FAIRFlow: A Jupyter notebook-based platform for on-line analysis in flow chemistry '\n",
    "uploader.citation.description.value  = 'The aim of this project is to introduce the FAIR (findable, accessible, interoperable, reusable) principles into miniplant flow chemistry'\n",
    "uploader.citation.project.value      = 'Project B07'\n",
    "\n",
    "uploader.citation.authors.value      = 'Richard Schömig, Samir Darouich, Jan Range, Maximilian Schmidt, Seda Yilmaz, Elias Klemm, Jürgen Pleiss' \n",
    "uploader.citation.affiliations.value = 'University of Stuttgart, University of Stuttgart, University of Stuttgart, University of Stuttgart, University of Stuttgart, University of Stuttgart, University of Stuttgart'\n",
    "uploader.citation.identifier.value   = 'xxx-xxx-xxx-xxx, xxx-xxx-xxx-xxx, xxx-xxx-xxx-xxx, xxx-xxx-xxx-xxx, xxx-xxx-xxx-xxx, xxx-xxx-xxx-xxx, xxx-xxx-xxx-xxx'\n",
    "uploader.citation.contact_text.value = 'Jürgen Pleiss, juergen.pleiss@itb.uni-stuttgart.de'\n",
    "\n",
    "uploader.citation.related_publication.value = \"test, https://id.loc.gov/authorities/subjects/sh2014001146.html\"\n",
    "\n",
    "uploader.citation.topic_classification.value = \"homogeneous catalysis (LCSH), https://id.loc.gov/authorities/subjects/sh2014001146.html\"\n",
    "uploader.citation.keywords.value             = \"polymer chemistry (Loterre Chemistry Vocabulary), https://skosmos.loterre.fr/ERC/en/page/?uri=http%3A%2F%2Fdata.loterre.fr%2Fark%3A%2F67375%2FERC-KCSKD4X9-P\"\n",
    "\n",
    "uploader.file_directoy_input.value = \"datasets/poresize_omc.json\""
   ]
  }
 ],
 "metadata": {
  "kernelspec": {
   "display_name": "Python 3 (ipykernel)",
   "language": "python",
   "name": "python3"
  },
  "language_info": {
   "codemirror_mode": {
    "name": "ipython",
    "version": 3
   },
   "file_extension": ".py",
   "mimetype": "text/x-python",
   "name": "python",
   "nbconvert_exporter": "python",
   "pygments_lexer": "ipython3",
   "version": "3.11.7"
  },
  "vscode": {
   "interpreter": {
    "hash": "9f62ab2d43dc75e3c3b007469adeb0f7488873df876b9b71dd3b119f0280ba41"
   }
  }
 },
 "nbformat": 4,
 "nbformat_minor": 4
}
