{
 "cells": [
  {
   "attachments": {},
   "cell_type": "markdown",
   "metadata": {},
   "source": [
    "# <center>Workflow for on-line GC and HPLC analysis in flow chemistry</center>\n"
   ]
  },
  {
   "cell_type": "markdown",
   "metadata": {},
   "source": [
    "---\n",
    "## Section 0: Imports, Paths, and Logging\n",
    "---\n",
    "\n",
    "In this section all the necessary python packages are imported, the path to this notebook and the logger for this notebook is set up."
   ]
  },
  {
   "cell_type": "code",
   "execution_count": 10,
   "metadata": {},
   "outputs": [],
   "source": [
    "# Activate autoreload to keep on track with changing modules #\n",
    "%reload_ext autoreload\n",
    "%autoreload 2\n",
    "\n",
    "# Import standard libraries #\n",
    "import numpy as np\n",
    "import logging\n",
    "import json\n",
    "from pathlib import Path\n",
    "\n",
    "# Import tools for data processing and analysis #\n",
    "from datamodel.tools import initialize_dataset\n",
    "from datamodel.tools import reading_raw_data_widget\n",
    "from datamodel.tools import analyzing_raw_data_widget\n"
   ]
  },
  {
   "cell_type": "code",
   "execution_count": 12,
   "metadata": {},
   "outputs": [],
   "source": [
    "# Define paths for loggin output #\n",
    "root                = Path.cwd()\n",
    "logging_config_path = root / \"datamodel/tools/logger_config.json\"\n",
    "\n",
    "# Read in logger specs and configurate logger (set name to current notebook) #\n",
    "with open(logging_config_path) as logging_config_json: logging.config.dictConfig( json.load( logging_config_json ) )\n",
    "logger = logging.getLogger(__name__)\n",
    "\n",
    "# Set the level of thid-party logger to avoid dumping too much information #\n",
    "for logger_ in ['markdown_it', 'h5py', 'numexpr', 'git']: logging.getLogger(logger_).setLevel('WARNING')"
   ]
  },
  {
   "cell_type": "markdown",
   "metadata": {},
   "source": [
    "---\n",
    "## Section 1: Dataset and raw data\n",
    "---\n",
    "In this section the dataset as well as the to analyze raw data is choosen"
   ]
  },
  {
   "cell_type": "code",
   "execution_count": 4,
   "metadata": {},
   "outputs": [
    {
     "data": {
      "application/vnd.jupyter.widget-view+json": {
       "model_id": "69ad6f4557914d95a204e9e852a15989",
       "version_major": 2,
       "version_minor": 0
      },
      "text/plain": [
       "VBox(children=(Dropdown(description='Choose datamodel', layout=Layout(width='auto'), options=(('git', 'https:/…"
      ]
     },
     "metadata": {},
     "output_type": "display_data"
    },
    {
     "name": "stdout",
     "output_type": "stream",
     "text": [
      "Saving dataset!\n",
      "Saving dataset!\n"
     ]
    }
   ],
   "source": [
    "git_path = 'https://github.com/FAIRChemistry/datamodel_b07_tc.git'\n",
    "branch   = 'samir_develop'\n",
    "\n",
    "id = initialize_dataset()\n",
    "id.write_dataset(root, git_path, branch)"
   ]
  },
  {
   "cell_type": "code",
   "execution_count": 5,
   "metadata": {},
   "outputs": [],
   "source": [
    "## Definition of basic meta data of the project ##\n",
    "\n",
    "id.title.value        = 'Electrocatalytic CO2-reduction on carbon'\n",
    "id.description.value  = 'The aim of this project is to blablabla'\n",
    "\n",
    "# List with authors and their affiliation #\n",
    "id.authors.value      = 'Richard Schömig, Maximilian Schmidt' \n",
    "id.affiliations.value = 'University of Stuttgart, University of Stuttgart'\n",
    "id.dataset_text.value = \"test\""
   ]
  },
  {
   "cell_type": "code",
   "execution_count": 13,
   "metadata": {},
   "outputs": [
    {
     "data": {
      "application/vnd.jupyter.widget-view+json": {
       "model_id": "933cb30f507a4067be3708937fe5765e",
       "version_major": 2,
       "version_minor": 0
      },
      "text/plain": [
       "VBox(children=(HBox(children=(Dropdown(description='Choose dataset', layout=Layout(width='auto'), options=(('b…"
      ]
     },
     "metadata": {},
     "output_type": "display_data"
    }
   ],
   "source": [
    "## Search for dataset and raw data ##\n",
    "\n",
    "rrdw = reading_raw_data_widget()\n",
    "rrdw.choose_data(root)"
   ]
  },
  {
   "cell_type": "code",
   "execution_count": 7,
   "metadata": {},
   "outputs": [],
   "source": [
    "#str(root) = \"c:/Users/darouich/OneDrive/Dokumente/\"\n",
    "\n",
    "e_chem = str(root)+'/data/Rohdaten/01_EChem/CAD14-Cu@AB/GSTATIC.DTA'\n",
    "mfm    = str(root)+'/data/Rohdaten/03_MFM/CAD14-Cu@AB/Bench-2h-GSS_CAD14-Cu@AB_200_50c_24h_truncated.csv'\n",
    "gc     = [str(root)+'/data/Rohdaten/02_GC/CAD14-Cu@AB/JH-1H 2023-02-06 10-00-18/NV-F0102.D/report00.CSV',\n",
    "        str(root)+'/data/Rohdaten/02_GC/CAD14-Cu@AB/JH-1H 2023-02-06 10-00-18/NV-F0102.D/REPORT01.CSV',\n",
    "        str(root)+'/data/Rohdaten/02_GC/CAD14-Cu@AB/JH-1H 2023-02-06 10-00-18/NV-F0103.D/report00.CSV',\n",
    "        str(root)+'/data/Rohdaten/02_GC/CAD14-Cu@AB/JH-1H 2023-02-06 10-00-18/NV-F0103.D/REPORT01.CSV',\n",
    "        str(root)+'/data/Rohdaten/02_GC/CAD14-Cu@AB/JH-1H 2023-02-06 10-00-18/NV-F0104.D/report00.CSV',\n",
    "        str(root)+'/data/Rohdaten/02_GC/CAD14-Cu@AB/JH-1H 2023-02-06 10-00-18/NV-F0104.D/REPORT01.CSV']\n",
    "calib  = str(root)+'/data/calibration/calibration.json'\n",
    "correc = str(root)+'/data/correction_factors/correction_factors.json'\n",
    "farada = str(root)+'/data/faraday_coefficients/faraday_coefficients.json'\n",
    "\n",
    "rrdw.Echem_files.value = [e_chem]\n",
    "rrdw.MFM_files.value   = [mfm]\n",
    "rrdw.GC_files.value    = gc\n",
    "rrdw.calib_files.value = [calib]\n",
    "rrdw.correction_files.value = [correc]\n",
    "rrdw.faraday_files.value    = [farada]"
   ]
  },
  {
   "cell_type": "markdown",
   "metadata": {},
   "source": [
    "---\n",
    "## Section 2: Analysis of data\n",
    "---\n",
    "In this section the raw data of the above choosen dataset is analyzed (if you change the dataset above, then reexecute this cell)"
   ]
  },
  {
   "cell_type": "code",
   "execution_count": 27,
   "metadata": {},
   "outputs": [
    {
     "data": {
      "application/vnd.jupyter.widget-view+json": {
       "model_id": "fbb9c4956ced4ef7bf05be7455bea9e8",
       "version_major": 2,
       "version_minor": 0
      },
      "text/plain": [
       "VBox(children=(HBox(children=(Dropdown(description='Choose experiment:', layout=Layout(width='auto'), options=…"
      ]
     },
     "metadata": {},
     "output_type": "display_data"
    },
    {
     "data": {
      "application/vnd.jupyter.widget-view+json": {
       "model_id": "e492146c9ca24486a62bcae1bb4863ee",
       "version_major": 2,
       "version_minor": 0
      },
      "text/plain": [
       "VBox(children=(HBox(children=(VBox(children=(Label(value='Measurement number 0', layout=Layout(height='30px', …"
      ]
     },
     "metadata": {},
     "output_type": "display_data"
    },
    {
     "data": {
      "application/vnd.jupyter.widget-view+json": {
       "model_id": "0ab1aefb3ce14f3faf908aa8fb6895ca",
       "version_major": 2,
       "version_minor": 0
      },
      "text/plain": [
       "VBox(children=(VBox(children=(VBox(children=(HTML(value='The mass flow at the time of the GC measurement is de…"
      ]
     },
     "metadata": {},
     "output_type": "display_data"
    }
   ],
   "source": [
    "# Provide a typical retention time dictionary to pre assign retention times \n",
    "\n",
    "typical_retention_time = {\"Hydrogen\": 1.7, \"Carbon dioxide\": 3.0, \"Carbon monoxide\": 13.6, \n",
    "                          \"Methane\": 3.6, \"Ethene\": 6.0, \"Ethane\": 7.1}\n",
    "\n",
    "ardw = analyzing_raw_data_widget()\n",
    "ardw.choose_experiment( datamodel = rrdw.datamodel, \n",
    "                        dataset_path = rrdw.dataset_dropdown.value, \n",
    "                        typical_retention_time = typical_retention_time)"
   ]
  },
  {
   "cell_type": "markdown",
   "metadata": {},
   "source": [
    "---\n",
    "## Section 3: Upload of data to DaRUS\n",
    "---\n",
    "In this section the dataset containing the processed as well as the raw data, is uploaded to DaRUS"
   ]
  },
  {
   "cell_type": "code",
   "execution_count": 61,
   "metadata": {},
   "outputs": [],
   "source": [
    "import ipywidgets as widgets\n",
    "from IPython.display import display, clear_output\n",
    "from pyDaRUS import Citation\n",
    "from pyDaRUS import Dataset as DaRUS_dataset\n",
    "from pyDaRUS.metadatablocks.citation import SubjectEnum, IdentifierScheme, RelatedPublication, TopicClassification, Keyword\n",
    "from datetime import datetime"
   ]
  },
  {
   "cell_type": "code",
   "execution_count": 57,
   "metadata": {},
   "outputs": [
    {
     "data": {
      "text/plain": [
       "GeneralInformation(id='generalinformation0', title='Electrocatalytic CO2-reduction on carbon', description='The aim of this project is to blablabla', authors=[Author(id='author0', name='Richard Schömig', affiliation='University of Stuttgart'), Author(id='author1', name='Maximilian Schmidt', affiliation='University of Stuttgart')])"
      ]
     },
     "execution_count": 57,
     "metadata": {},
     "output_type": "execute_result"
    }
   ],
   "source": [
    "rrdw.datamodel[0].general_information"
   ]
  },
  {
   "cell_type": "code",
   "execution_count": null,
   "metadata": {},
   "outputs": [],
   "source": [
    "# add in author object the Identifier name and scheme\n",
    "#name = author[\"name\"], affiliation = author[\"affiliation\"], identifier_scheme = author[\"identifier_scheme\"], identifier = author[\"identifier\"]  --> IdentifierScheme\n",
    "# add contact\n",
    "# name = self.contact_text.value.split(\",\")[0].strip, email = self.contact_text.value.split(\",\")[1].strip, affiliation = \n",
    "\n",
    "#self.contact_text      = widgets.Text(description=\"Contact:\",\n",
    "#                                                placeholder=\"Name the contact of the project (e.g.: Max Mustermann, max.mustermann@universityofstuttgart.de)\",\n",
    "#                                                layout=widgets.Layout(width='auto'),\n",
    "#                                                style={'description_width': 'auto'})\n",
    "# add project\n",
    "\n",
    "#self.subject_dropdown       = widgets.Dropdown( options= [ subject.value for subject in SubjectEnum ],\n",
    "#                                                        description=\"Choose Subject:\",\n",
    "#                                                        layout=widgets.Layout(width='auto'),\n",
    "#                                                        style={'description_width': 'auto'})\n",
    "        "
   ]
  },
  {
   "cell_type": "code",
   "execution_count": 7,
   "metadata": {},
   "outputs": [],
   "source": [
    "class DaRUS_upload:\n",
    "\n",
    "    def upload(self,datamodel,dataset_path):\n",
    "        \n",
    "        # Common variables\n",
    "\n",
    "        self.dataset_path           = dataset_path\n",
    "        self.dataset, self.lib      = datamodel\n",
    "        \n",
    "        self.depositor_text         = widgets.Text (description=\"Depositor:\",\n",
    "                                                    placeholder=\"Name of the person uploading this dataset (e.g.: Max Mustermann)\",\n",
    "                                                    layout=widgets.Layout(width='auto'),\n",
    "                                                    style={'description_width': 'auto'})\n",
    "        \n",
    "        self.rel_publication_text   = widgets.Text (description=\"Related publication:\",\n",
    "                                                    placeholder=\"The full bibliographic citation for this related publication and link to the publication web page, separated by a comma \\\n",
    "                                                                 (e.g.: M. Mustermann Publication: Test. J. Chem. Phys. xxx, xxx (xxx), https://doi.org/xxx )\",\n",
    "                                                    layout=widgets.Layout(width='auto'),\n",
    "                                                    style={'description_width': 'auto'})\n",
    "        \n",
    "\n",
    "        self.topic_classifi_text    = widgets.Text (description=\"Topic classification:\",\n",
    "                                                    placeholder=\"The classification and the url, seperated by a comma (e.g.: homogeneous catalysis (LCSH), https://xxx, polyethers (LCSH), https://xxx, ... )\",\n",
    "                                                    layout=widgets.Layout(width='auto'),\n",
    "                                                    style={'description_width': 'auto'})\n",
    "        \n",
    "        self.keywords_text          = widgets.Text (description=\"Keywords:\",\n",
    "                                                    placeholder=\"The keywords and the url, seperated by a comma (e.g.: polymer chemistry (Loterre Chemistry Vocabulary), https://xxx )\",\n",
    "                                                    layout=widgets.Layout(width='auto'),\n",
    "                                                    style={'description_width': 'auto'})\n",
    "        \n",
    "        #### Initialize and write DaRUS dataset ####\n",
    "\n",
    "        DaRUS_dataset = DaRUS_dataset()\n",
    "\n",
    "        ## Get citation metadata from the general information object of the provided dataset ##\n",
    "\n",
    "        citation      = Citation()\n",
    "\n",
    "        # Extract general information from the provided dataset\n",
    "        citation.add_project( name = self.dataset.general_information.project, level=1 )\n",
    "        \n",
    "        citation.title = self.dataset.general_information.title\n",
    "        \n",
    "        for author in self.dataset.general_information.authors:\n",
    "            citation.add_author( **{k:author.__dict__[k] for k in author.__dict__.keys() if k!=\"id\"} ) \n",
    "\n",
    "        citation.add_contact( **{k:self.dataset.general_information.contact.__dict__[k] for k in self.dataset.general_information.contact.keys() if k!=\"id\"} )\n",
    "\n",
    "        citation.subject      = self.dataset.general_information.subject\n",
    "\n",
    "        citation.depositor    = self.depositor_text.value.strip()\n",
    "        citation.deposit_date = datetime.now().date().strftime(\"%Y-%m-%d\")\n",
    "        \n",
    "        citation.add_grant_information( grant_agency=\"DFG\", grant_number=\"358283783 - SFB 1333\")\n",
    "\n",
    "        citation.language     = \"English\"\n",
    "\n",
    "        citation.add_related_publication( citation = self.rel_publication_text.value.split(\",\")[0].strip(), url = self.rel_publication_text.value.split(\",\")[1].strip() )\n",
    "        \n",
    "        citation.add_topic_classification( term = self.topic_classification.value.split(\",\")[0].strip(), vocabulary_url = self.topic_classification.value.split(\",\")[1].strip() )\n",
    "\n",
    "        for i in range(0, len(self.keywords_text.value.split(\",\")), 2):\n",
    "            citation.add_keyword( term = self.keywords_text.value.split(\",\")[i].strip() , vocabulary_url = self.keywords_text.value.split(\",\")[i + 1].strip() )\n",
    "\n",
    "        DaRUS_dataset.add_metadatablock(citation)\n",
    "        \n",
    "        ## Get Prcoess metadata from the general information object of the provided dataset ##\n",
    "\n",
    "\n",
    "\n",
    "        ## Add files and directories ##\n",
    "\n",
    "        DaRUS_dataset.add_directory(\"Examples/dataset_upload/\")\n",
    "        DaRUS_dataset.add_file(dv_path=\"my.file\", local_path=\"my.file\")\n",
    "        display(self.subject_dropdown)"
   ]
  },
  {
   "cell_type": "code",
   "execution_count": 8,
   "metadata": {},
   "outputs": [
    {
     "data": {
      "application/vnd.jupyter.widget-view+json": {
       "model_id": "c34ba5e601824142bd18d50a50c99fd3",
       "version_major": 2,
       "version_minor": 0
      },
      "text/plain": [
       "Dropdown(description='Choose datamodel', layout=Layout(width='auto'), options=('Agricultural Sciences', 'Arts …"
      ]
     },
     "metadata": {},
     "output_type": "display_data"
    }
   ],
   "source": [
    "test = DaRUS_upload()\n",
    "\n",
    "test.upload()"
   ]
  },
  {
   "cell_type": "code",
   "execution_count": 2,
   "metadata": {},
   "outputs": [
    {
     "name": "stdout",
     "output_type": "stream",
     "text": [
      "Attribute project not valid for import (dv_up).\n",
      "Dataset with pid 'doi:10.18419/darus-3806' created.\n",
      "Zipping data files: 100%|██████████| 1/1 [00:00<00:00, 68.79it/s]\n",
      "Uploading data files: 100%|██████████| 1/1 [00:01<00:00,  1.02s/it]\n",
      "https://darus.uni-stuttgart.de/dataset.xhtml?persistentId=doi:10.18419/darus-3806\n"
     ]
    },
    {
     "data": {
      "text/plain": [
       "'doi:10.18419/darus-3806'"
      ]
     },
     "execution_count": 2,
     "metadata": {},
     "output_type": "execute_result"
    }
   ],
   "source": [
    "\n",
    "\n",
    "subject_list = [ subject.value for subject in SubjectEnum ]\n",
    "\n",
    "# Initialize the dataset and the metadatablock\n",
    "dataset  = Dataset()\n",
    "citation = Citation()\n",
    "\n",
    "citation.title = \"My Title\"\n",
    "\n",
    "citation.add_description(text=\"test\")\n",
    "citation.add_author(name=\"Samir\", affiliation=\"ITT\")\n",
    "citation.add_contact(name=\"Samir\", email=\"samir.darouich@itt.uni-stuttgart.de\")\n",
    "\n",
    "citation.subject = [SubjectEnum.engineering]\n",
    "\n",
    "\n",
    "citation.depositor = \"max \"\n",
    "citation.deposit_date = \"2023\"\n",
    "\n",
    "\n",
    "dataset.add_metadatablock(citation)\n",
    "\n",
    "dataset.add_file(dv_path=\"my.file\", local_path=\"my.file\")\n",
    "\n",
    "dataset.upload(dataverse_name=\"sfb1333-hansen-gross\",\n",
    "               DATAVERSE_URL=\"https://darus.uni-stuttgart.de\",\n",
    "               API_TOKEN=\"4afecd82-c92d-4935-b786-2225af43531e\")"
   ]
  },
  {
   "cell_type": "code",
   "execution_count": 3,
   "metadata": {},
   "outputs": [
    {
     "data": {
      "text/plain": [
       "['Agricultural Sciences',\n",
       " 'Arts and Humanities',\n",
       " 'Astronomy and Astrophysics',\n",
       " 'Business and Management',\n",
       " 'Chemistry',\n",
       " 'Computer and Information Science',\n",
       " 'Earth and Environmental Sciences',\n",
       " 'Engineering',\n",
       " 'Law',\n",
       " 'Mathematical Sciences',\n",
       " 'Medicine, Health and Life Sciences',\n",
       " 'Physics',\n",
       " 'Social Sciences',\n",
       " 'Other']"
      ]
     },
     "execution_count": 3,
     "metadata": {},
     "output_type": "execute_result"
    }
   ],
   "source": [
    "subject_list"
   ]
  }
 ],
 "metadata": {
  "kernelspec": {
   "display_name": "b07",
   "language": "python",
   "name": "python3"
  },
  "language_info": {
   "codemirror_mode": {
    "name": "ipython",
    "version": 3
   },
   "file_extension": ".py",
   "mimetype": "text/x-python",
   "name": "python",
   "nbconvert_exporter": "python",
   "pygments_lexer": "ipython3",
   "version": "3.11.5"
  },
  "orig_nbformat": 4,
  "vscode": {
   "interpreter": {
    "hash": "9f62ab2d43dc75e3c3b007469adeb0f7488873df876b9b71dd3b119f0280ba41"
   }
  }
 },
 "nbformat": 4,
 "nbformat_minor": 2
}
