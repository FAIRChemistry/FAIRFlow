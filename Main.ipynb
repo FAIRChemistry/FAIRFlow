{
 "cells": [
  {
   "attachments": {},
   "cell_type": "markdown",
   "metadata": {},
   "source": [
    "# <center>Workflow for on-line GC and HPLC analysis in flow chemistry</center>\n"
   ]
  },
  {
   "cell_type": "markdown",
   "metadata": {},
   "source": [
    "---\n",
    "## Section 0: Imports, Paths, and Logging\n",
    "---\n",
    "\n",
    "In this section all the necessary python packages are imported, the path to this notebook and the logger for this notebook is set up."
   ]
  },
  {
   "cell_type": "code",
   "execution_count": 1,
   "metadata": {},
   "outputs": [],
   "source": [
    "# Activate autoreload to keep on track with changing modules #\n",
    "%reload_ext autoreload\n",
    "%autoreload 2\n",
    "\n",
    "# Import standard libraries #\n",
    "import logging\n",
    "import json\n",
    "from pathlib import Path\n",
    "from sdRDM import DataModel\n",
    "\n",
    "# Import tools for data processing and analysis #\n",
    "from datamodel_b07_tc.tools import initialize_dataset\n",
    "from datamodel_b07_tc.tools import reading_raw_data_widget\n",
    "from datamodel_b07_tc.tools import analyzing_raw_data_widget\n"
   ]
  },
  {
   "cell_type": "code",
   "execution_count": 2,
   "metadata": {},
   "outputs": [],
   "source": [
    "# Define paths for loggin output #\n",
    "root                = Path.cwd()\n",
    "logging_config_path = root / \"datamodel_b07_tc/tools/logging/config.json\"\n",
    "\n",
    "# Read in logger specs and configurate logger (set name to current notebook) #\n",
    "with open(logging_config_path) as logging_config_json: logging.config.dictConfig( json.load( logging_config_json ) )\n",
    "logger = logging.getLogger(__name__)\n",
    "\n",
    "# Set the level of thid-party logger to avoid dumping too much information #\n",
    "for logger_ in ['markdown_it', 'h5py', 'numexpr', 'git']: logging.getLogger(logger_).setLevel('WARNING')"
   ]
  },
  {
   "cell_type": "markdown",
   "metadata": {},
   "source": [
    "---\n",
    "## Section 1: Dataset and raw data\n",
    "---\n",
    "In this section the dataset as well as the to analyze raw data is choosen"
   ]
  },
  {
   "cell_type": "code",
   "execution_count": null,
   "metadata": {},
   "outputs": [],
   "source": [
    "# To do:\n",
    "# 0) If dataset is saved and read in again, the dataset has the object \"equipment\", what is not there in the modified verison\n",
    "#    this will cause an error\n",
    "# 1) DaRUS extension\n",
    "# 2) reduce meta data from experiment? a lot of (unnecessary) things are saved"
   ]
  },
  {
   "cell_type": "code",
   "execution_count": 5,
   "metadata": {},
   "outputs": [
    {
     "data": {
      "application/vnd.jupyter.widget-view+json": {
       "model_id": "b1a9409245d448cbb886a6b4c6a4e16f",
       "version_major": 2,
       "version_minor": 0
      },
      "text/plain": [
       "VBox(children=(Dropdown(description='Choose datamodel', layout=Layout(width='auto'), options=(('git', 'https:/…"
      ]
     },
     "metadata": {},
     "output_type": "display_data"
    }
   ],
   "source": [
    "git_path = 'https://github.com/FAIRChemistry/datamodel_b07_tc.git'\n",
    "\n",
    "id = initialize_dataset()\n",
    "id.write_dataset(root,git_path)"
   ]
  },
  {
   "cell_type": "code",
   "execution_count": 7,
   "metadata": {},
   "outputs": [],
   "source": [
    "## Definition of basic meta data of the project ##\n",
    "\n",
    "id.title.value        = 'Electrocatalytic CO2-reduction on carbon'\n",
    "id.description.value  = 'The aim of this project is to blablabla'\n",
    "\n",
    "# List with authors and their affiliation #\n",
    "id.authors.value      = 'Richard Schömig, Maximilian Schmidt' \n",
    "id.affiliations.value = 'University of Stuttgart, University of Stuttgart'\n",
    "id.dataset_text.value = \"test1\""
   ]
  },
  {
   "cell_type": "code",
   "execution_count": 8,
   "metadata": {},
   "outputs": [
    {
     "data": {
      "application/vnd.jupyter.widget-view+json": {
       "model_id": "c8a3df09f9d64012b8314e841b26ee31",
       "version_major": 2,
       "version_minor": 0
      },
      "text/plain": [
       "VBox(children=(HBox(children=(Dropdown(description='Choose dataset', layout=Layout(width='auto'), options=(('b…"
      ]
     },
     "metadata": {},
     "output_type": "display_data"
    }
   ],
   "source": [
    "## Search for dataset and raw data ##\n",
    "\n",
    "rrdw = reading_raw_data_widget()\n",
    "rrdw.choose_data(root)"
   ]
  },
  {
   "cell_type": "code",
   "execution_count": 9,
   "metadata": {},
   "outputs": [],
   "source": [
    "#str(root) = \"c:/Users/darouich/OneDrive/Dokumente/\"\n",
    "\n",
    "e_chem = str(root)+'/data/Rohdaten/01_EChem/CAD14-Cu@AB/GSTATIC.DTA'\n",
    "mfm    = str(root)+'/data/Rohdaten/03_MFM/CAD14-Cu@AB/Bench-2h-GSS_CAD14-Cu@AB_200_50c_24h_truncated.csv'\n",
    "gc     = [str(root)+'/data/Rohdaten/02_GC/CAD14-Cu@AB/JH-1H 2023-02-06 10-00-18/NV-F0102.D/report00.CSV',\n",
    "        str(root)+'/data/Rohdaten/02_GC/CAD14-Cu@AB/JH-1H 2023-02-06 10-00-18/NV-F0102.D/REPORT01.CSV',\n",
    "        str(root)+'/data/Rohdaten/02_GC/CAD14-Cu@AB/JH-1H 2023-02-06 10-00-18/NV-F0103.D/report00.CSV',\n",
    "        str(root)+'/data/Rohdaten/02_GC/CAD14-Cu@AB/JH-1H 2023-02-06 10-00-18/NV-F0103.D/REPORT01.CSV',\n",
    "        str(root)+'/data/Rohdaten/02_GC/CAD14-Cu@AB/JH-1H 2023-02-06 10-00-18/NV-F0104.D/report00.CSV',\n",
    "        str(root)+'/data/Rohdaten/02_GC/CAD14-Cu@AB/JH-1H 2023-02-06 10-00-18/NV-F0104.D/REPORT01.CSV']\n",
    "calib  = str(root)+'/data/calibration/calibration.json'\n",
    "correc = str(root)+'/data/correction_factors/correction_factors.json'\n",
    "farada = str(root)+'/data/faraday_coefficients/faraday_coefficients.json'\n",
    "\n",
    "rrdw.Echem_files.value = [e_chem]\n",
    "rrdw.MFM_files.value   = [mfm]\n",
    "rrdw.GC_files.value    = gc\n",
    "rrdw.calib_files.value = [calib]\n",
    "rrdw.correction_files.value = [correc]\n",
    "rrdw.faraday_files.value    = [farada]"
   ]
  },
  {
   "cell_type": "markdown",
   "metadata": {},
   "source": [
    "---\n",
    "## Section 2: Analysis of data\n",
    "---\n",
    "In this section the raw data of the above choosen dataset is analyzed"
   ]
  },
  {
   "cell_type": "code",
   "execution_count": 10,
   "metadata": {},
   "outputs": [
    {
     "data": {
      "application/vnd.jupyter.widget-view+json": {
       "model_id": "47a42e8fee434e719bf467298fd0134f",
       "version_major": 2,
       "version_minor": 0
      },
      "text/plain": [
       "VBox(children=(HBox(children=(Dropdown(description='Choose experiment:', layout=Layout(width='auto'), options=…"
      ]
     },
     "metadata": {},
     "output_type": "display_data"
    },
    {
     "data": {
      "application/vnd.jupyter.widget-view+json": {
       "model_id": "5c1a6e1aef094780a117ba694e76c6eb",
       "version_major": 2,
       "version_minor": 0
      },
      "text/plain": [
       "VBox(children=(HBox(children=(VBox(children=(Label(value='Measurement number 0', layout=Layout(height='30px', …"
      ]
     },
     "metadata": {},
     "output_type": "display_data"
    },
    {
     "data": {
      "application/vnd.jupyter.widget-view+json": {
       "model_id": "1d96c94d60854df48acbce9c1691ef1c",
       "version_major": 2,
       "version_minor": 0
      },
      "text/plain": [
       "VBox(children=(VBox(children=(VBox(children=(HTML(value='The mass flow at the time of the GC measurement is de…"
      ]
     },
     "metadata": {},
     "output_type": "display_data"
    },
    {
     "name": "stdout",
     "output_type": "stream",
     "text": [
      "\n",
      "Starting the postprocessing\n",
      "\n",
      "Faraday effiencies of GC measurement n°0\n",
      "                Faraday_efficiency\n",
      "Carbon dioxide          256.959414\n",
      "Carbon monoxide           0.382582\n",
      "Ethane                    0.436018\n",
      "Ethene                   12.724777\n",
      "Hydrogen                 15.177137\n",
      "Methane                   6.567519 \n",
      "\n",
      "Faraday effiencies of GC measurement n°1\n",
      "                Faraday_efficiency\n",
      "Carbon dioxide          264.135754\n",
      "Carbon monoxide           0.669252\n",
      "Ethane                     0.43215\n",
      "Ethene                   11.360659\n",
      "Hydrogen                   20.3274\n",
      "Methane                   6.419533 \n",
      "\n",
      "Faraday effiencies of GC measurement n°2\n",
      "                Faraday_efficiency\n",
      "Carbon dioxide          275.513076\n",
      "Carbon monoxide           0.690107\n",
      "Ethane                    0.381448\n",
      "Ethene                    9.899592\n",
      "Hydrogen                 19.704288\n",
      "Methane                   6.618435 \n",
      "\n",
      "\n",
      "Mean Faraday efficency over all GC measurements\n",
      "                Faraday_efficiency\n",
      "Carbon dioxide          265.536081\n",
      "Carbon monoxide           0.580647\n",
      "Ethane                    0.416539\n",
      "Ethene                   11.328343\n",
      "Hydrogen                 18.402942\n",
      "Methane                   6.535162 \n",
      "\n",
      "\n",
      "Starting the postprocessing\n",
      "\n",
      "Faraday effiencies of GC measurement n°0\n",
      "                Faraday_efficiency\n",
      "Carbon dioxide          254.379928\n",
      "Carbon monoxide           0.378742\n",
      "Ethane                    0.431641\n",
      "Ethene                   12.597039\n",
      "Hydrogen                 15.024781\n",
      "Methane                   6.501591 \n",
      "\n",
      "Faraday effiencies of GC measurement n°1\n",
      "                Faraday_efficiency\n",
      "Carbon dioxide          277.739757\n",
      "Carbon monoxide           0.703721\n",
      "Ethane                    0.454407\n",
      "Ethene                   11.945776\n",
      "Hydrogen                 21.374339\n",
      "Methane                   6.750164 \n",
      "\n",
      "Faraday effiencies of GC measurement n°2\n",
      "                Faraday_efficiency\n",
      "Carbon dioxide          282.698635\n",
      "Carbon monoxide           0.708105\n",
      "Ethane                    0.391397\n",
      "Ethene                    10.15778\n",
      "Hydrogen                 20.218189\n",
      "Methane                   6.791048 \n",
      "\n",
      "\n",
      "Mean Faraday efficency over all GC measurements\n",
      "                Faraday_efficiency\n",
      "Carbon dioxide          271.606106\n",
      "Carbon monoxide           0.596856\n",
      "Ethane                    0.425815\n",
      "Ethene                   11.566865\n",
      "Hydrogen                 18.872436\n",
      "Methane                   6.680934 \n",
      "\n",
      "Dataset saved.\n"
     ]
    }
   ],
   "source": [
    "ardw = analyzing_raw_data_widget()\n",
    "ardw.choose_experiment(rrdw.datamodel,rrdw.dataset_dropdown.value)"
   ]
  },
  {
   "cell_type": "markdown",
   "metadata": {},
   "source": [
    "---\n",
    "## Section 3: Upload of data to DaRUS\n",
    "---\n",
    "In this section the processed, as well as the raw data is uploaded to DaRUS"
   ]
  }
 ],
 "metadata": {
  "kernelspec": {
   "display_name": "b07",
   "language": "python",
   "name": "python3"
  },
  "language_info": {
   "codemirror_mode": {
    "name": "ipython",
    "version": 3
   },
   "file_extension": ".py",
   "mimetype": "text/x-python",
   "name": "python",
   "nbconvert_exporter": "python",
   "pygments_lexer": "ipython3",
   "version": "3.11.5"
  },
  "orig_nbformat": 4,
  "vscode": {
   "interpreter": {
    "hash": "9f62ab2d43dc75e3c3b007469adeb0f7488873df876b9b71dd3b119f0280ba41"
   }
  }
 },
 "nbformat": 4,
 "nbformat_minor": 2
}
