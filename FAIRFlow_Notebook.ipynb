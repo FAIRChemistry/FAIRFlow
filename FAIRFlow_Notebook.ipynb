{
 "cells": [
  {
   "attachments": {},
   "cell_type": "markdown",
   "metadata": {},
   "source": [
    "# <center>The FAIRFlow Platform</center>\n"
   ]
  },
  {
   "cell_type": "markdown",
   "metadata": {},
   "source": [
    "### Description of the notebook:\n",
    "- Built for the analysis of the scenarios **p-xylol oxidation** and **electrochemical CO<sub>2</sub> reduction**.\n",
    "- Based on ipywidgets to enhance user-friendliness for non-coding-savvy experimentalists\n",
    "- Instructions on what to do are given prior to the code blocks\n",
    "- Some descriptions have Note, which give hints on what to avoid or similar.\n",
    "- Paths are relative to the directory this notebook is located in."
   ]
  },
  {
   "cell_type": "markdown",
   "metadata": {},
   "source": [
    "---\n",
    "## Section 0: Imports, Paths, and Logging\n",
    "---\n",
    "\n",
    "In this section all the necessary python packages are imported, the path to this notebook and the logger for this notebook is set up. No further activities are required after execution."
   ]
  },
  {
   "cell_type": "code",
   "execution_count": 5,
   "metadata": {},
   "outputs": [],
   "source": [
    "# Activate autoreload to keep on track with changing modules\n",
    "%reload_ext autoreload\n",
    "%autoreload 2\n",
    "\n",
    "# Import standard libraries\n",
    "import logging\n",
    "from pathlib import Path\n",
    "\n",
    "# Import tools for data processing, analysis, and DaRUS upload\n",
    "from FAIRDaRUS.tools import DaRUS_upload\n",
    "from FAIRFlow.tools.logger_setup import setup_logger\n",
    "from FAIRFlow.tools import initialize_dataset, reading_raw_data_widget, analyzing_raw_data_widget\n",
    "\n",
    "# Get root path of the notebook\n",
    "root = Path.cwd()\n",
    "\n",
    "# Setup logger\n",
    "setup_logger( \"logging.log\" )\n",
    "logger = logging.getLogger( \"main\" )"
   ]
  },
  {
   "cell_type": "markdown",
   "metadata": {},
   "source": [
    "---\n",
    "## Section 1: Dataset and raw data\n",
    "---\n",
    "In this section the raw data is being parsed. Therefore, a dataset has to be selected the raw data is written to. Next, a scenario must be chosen. Depending on that a mask will pop of, in which the individual output files can be selected via an explorer and assigned to different categories specific to the scenario chosen.\n",
    "\n",
    "Following, the individual output files are selected. \n",
    "In this section the dataset as well as the to analyze raw data is choosen. In the first widget, general information have about the project have to be provided.\n",
    "\n",
    "<span style=\"color:aqua\">**_NOTE:_**</span> Be careful to not overwrite already existing datasets unless this is what you wish."
   ]
  },
  {
   "cell_type": "code",
   "execution_count": 6,
   "metadata": {},
   "outputs": [
    {
     "data": {
      "application/vnd.jupyter.widget-view+json": {
       "model_id": "503c6faa77c34483a55c1dd9b9076499",
       "version_major": 2,
       "version_minor": 0
      },
      "text/plain": [
       "VBox(children=(VBox(children=(Text(value='', description='Title of the project:', layout=Layout(width='auto'),…"
      ]
     },
     "metadata": {},
     "output_type": "display_data"
    }
   ],
   "source": [
    "init_data = initialize_dataset()\n",
    "init_data.write_dataset()"
   ]
  },
  {
   "cell_type": "code",
   "execution_count": 7,
   "metadata": {},
   "outputs": [],
   "source": [
    "## Definition of basic meta data of the project ##\n",
    "\n",
    "init_data.title.value        = 'FAIRFlow: A Jupyter notebook-based platform for on-line analysis in flow chemistry '\n",
    "init_data.description.value  = 'The aim of this project is to introduce the FAIR (findable, accessible, interoperable, reusable) principles into miniplant flow chemistry'\n",
    "init_data.project.value      = 'Project B07'\n",
    "init_data.scenario_nr.value  = '2'\n",
    "init_data.purpose.value      = 'This dataset includes various measurements for distinct pore size-ordered mesoporous carbon (OMC) materials, each loaded with 8% Cu. Specifically, the designations 7.1 nm and 9.2 nm denote the respective pore sizes. Notably, our sample preparation involved a comparative study on the impact of washing the sample with H2SO4'\n",
    "\n",
    "\n",
    "init_data.dataset_text.value = \"datasets/my_dataset\""
   ]
  },
  {
   "cell_type": "markdown",
   "metadata": {},
   "source": [
    "### Workflow:\n",
    "1) Execute [4]\n",
    "2) 'Choose dataset'\n",
    "3) Execute [5] to prefill the widget\n",
    "4) 'Read P&ID'\n",
    "5) Assign components to measurements \n",
    "6) Choose name for experiment ('Experiment name:')\n",
    "7) 'Add experiment'\n",
    "8) 'Save dataset as: <dataset_name>'"
   ]
  },
  {
   "cell_type": "markdown",
   "metadata": {},
   "source": [
    "In the next widget the data files that should be parsed have to be selected. Therefore, a dataset has to be chosen at first. The individual data files are selected by browsing through the relevant directories using the \"Change into selected directory\" and \"Change into parent directory\" buttons. The current directory is shown above. A filter can be applied to limit the selection of files according to their extension. For each file a category has to be provided to make sure that the correct parser is used."
   ]
  },
  {
   "cell_type": "code",
   "execution_count": 32,
   "metadata": {},
   "outputs": [
    {
     "data": {
      "application/vnd.jupyter.widget-view+json": {
       "model_id": "1d21875c9a0241cf8aee4c716abfa172",
       "version_major": 2,
       "version_minor": 0
      },
      "text/plain": [
       "VBox(children=(HBox(children=(Dropdown(description='Choose dataset', layout=Layout(width='auto'), options=((''…"
      ]
     },
     "metadata": {},
     "output_type": "display_data"
    }
   ],
   "source": [
    "## Search for dataset and raw data ##\n",
    "\n",
    "rrdw = reading_raw_data_widget()\n",
    "rrdw.choose_data(root = root, dataset_directory = \"datasets\")\n",
    "# rrdw.choose_dataset_and_scenario(root = root, dataset_directory = \"datasets\")\n"
   ]
  },
  {
   "cell_type": "code",
   "execution_count": 16,
   "metadata": {},
   "outputs": [],
   "source": [
    "# Hardcoded paths are for testing only!\n",
    "\n",
    "gc_roots = [\n",
    "        str(root)+'/data/raw_data/GC/CAD18-Cu@OMC123/JH-1H 2023-02-06 12-03-23',\n",
    "        str(root)+'/data/raw_data/GC/CAD19-Cu@OMC123/JH-1H 2023-02-06 15-24-38',\n",
    "        str(root)+'/data/raw_data/GC/CAD20-Cu@OMC123/JH-1H 2023-02-07 09-12-09'\n",
    "]\n",
    "\n",
    "rrdw.measurements.value = [\"Measurement 1\",\"Measurement 2\",\"Measurement 3\"]\n",
    "\n",
    "\n",
    "e_chem = str(root)+'/data/raw_data/EChem/CAD18-Cu@OMC123/GSTATIC.DTA'\n",
    "\n",
    "mfm = [\n",
    "    [str(root)+'/data/raw_data/MFM/CAD18-Cu@OMC123/Bench-2h-GSS_CAD18-Cu@OMC123_200_50c_24h.csv'],\n",
    "    [str(root)+'/data/raw_data/MFM/CAD19-Cu@OMC123/Bench-2h-GSS_CAD19-Cu@OMC123_200_50c_24h.csv'],\n",
    "    [str(root)+'/data/raw_data/MFM/CAD20-Cu@OMC123/Bench-2h-GSS_CAD20-Cu@OMC123_200_50c_24h.csv']\n",
    "]\n",
    "\n",
    "gc = [\n",
    "    [\n",
    "        gc_roots[0] + '/NV-F0102.D/report00.CSV',\n",
    "        gc_roots[0] + '/NV-F0102.D/REPORT01.CSV',\n",
    "        gc_roots[0] + '/NV-F0103.D/report00.CSV',\n",
    "        gc_roots[0] + '/NV-F0103.D/REPORT01.CSV',\n",
    "        gc_roots[0] + '/NV-F0104.D/report00.CSV',\n",
    "        gc_roots[0] + '/NV-F0104.D/REPORT01.CSV'\n",
    "    ],\n",
    "    [\n",
    "        gc_roots[1] + '/NV-F0102.D/report00.CSV',\n",
    "        gc_roots[1] + '/NV-F0102.D/REPORT01.CSV',\n",
    "        gc_roots[1] + '/NV-F0103.D/report00.CSV',\n",
    "        gc_roots[1] + '/NV-F0103.D/REPORT01.CSV',\n",
    "        gc_roots[1] + '/NV-F0104.D/report00.CSV',\n",
    "        gc_roots[1] + '/NV-F0104.D/REPORT01.CSV'\n",
    "    ],    \n",
    "    [\n",
    "        gc_roots[2] + '/NV-F0102.D/report00.CSV',\n",
    "        gc_roots[2] + '/NV-F0102.D/REPORT01.CSV',\n",
    "        gc_roots[2] + '/NV-F0103.D/report00.CSV',\n",
    "        gc_roots[2] + '/NV-F0103.D/REPORT01.CSV',\n",
    "        gc_roots[2] + '/NV-F0104.D/report00.CSV',\n",
    "        gc_roots[2] + '/NV-F0104.D/REPORT01.CSV'\n",
    "    ]\n",
    "]\n",
    "\n",
    "for i,obj in enumerate(rrdw.measurement_objects):\n",
    "    obj.potentio_files.value = [e_chem] if i == 0 else []\n",
    "    obj.GC_files.value      = gc[i]\n",
    "    obj.MFM_files.value     = mfm[i]\n",
    "\n",
    "rrdw.pid_file.value     = str(root)+'/data/DEXPI/DEXPI_PID.xml'\n",
    "rrdw.species_file.value = str(root)+'/data/additional_data/species_data.yaml'"
   ]
  },
  {
   "cell_type": "markdown",
   "metadata": {},
   "source": [
    "---\n",
    "## Section 2: Analysis of data\n",
    "---\n",
    "In this section the raw data of the above choosen dataset is analyzed (if you change the dataset above, then reexecute this cell)"
   ]
  },
  {
   "cell_type": "code",
   "execution_count": null,
   "metadata": {},
   "outputs": [],
   "source": [
    "# Provide a typical retention time dictionary to pre assign retention times \n",
    "\n",
    "characteristic_retention_times = {\"Hydrogen\": 1.7, \"Carbon dioxide\": 3.0, \"Carbon monoxide\": 13.0, \n",
    "                          \"Methane\": 3.6, \"Ethene\": 6.0, \"Ethane\": 7.1}\n",
    "\n",
    "ardw = analyzing_raw_data_widget()\n",
    "ardw.choose_experiment( dataset = rrdw.dataset, \n",
    "                        dataset_path = rrdw.dataset_dropdown.value, \n",
    "                        typical_retention_time = characteristic_retention_times)"
   ]
  },
  {
   "cell_type": "markdown",
   "metadata": {},
   "source": [
    "---\n",
    "## Section 3: Upload of data to DaRUS\n",
    "---\n",
    "In this section the above choosen dataset, containing the processed as well as the raw data, is uploaded to DaRUS"
   ]
  },
  {
   "cell_type": "code",
   "execution_count": null,
   "metadata": {},
   "outputs": [],
   "source": [
    "# Predefined list of all SFB1333 dataverses. If a new dataverse wants to be appended, just add in the list\n",
    "sfb1333_dataverse_list = [ \"sfb1333-\"+group_name for group_name in [\"hansen-gross\", \"grabowski\", \"sarkar\", \"tallarek\", \"peters\", \"schmitz\", \"inf\", \"pluhackova\", \"giesselmann\", \"klemm\", \"schlaich\", \"traa\", \"naumann\", \"lotsch\", \"vanSlageren\", \"holm\", \"fyta\", \"estes\", \"laschat\", \"bruckner\", \"bill\", \"ludwigs\", \"dyballa\", \"ringenberg\", \"kaestner\", \"Buchmeiser\", \"sottmann\"] ]\n",
    "\n",
    "uploader = DaRUS_upload()\n",
    "uploader.DaRUS( dataverse_list = sfb1333_dataverse_list )\n",
    "\n",
    "uploader.api_token_text.value = \"4afecd82-c92d-4935-b786-2225af43531e\"\n",
    "uploader.depositor_text.value = \"Samir Darouich\""
   ]
  },
  {
   "cell_type": "code",
   "execution_count": null,
   "metadata": {},
   "outputs": [],
   "source": [
    "uploader.citation.title.value = 'FAIRFlow: A Jupyter notebook-based platform for on-line analysis in flow chemistry '\n",
    "uploader.citation.description.value  = 'The aim of this project is to introduce the FAIR (findable, accessible, interoperable, reusable) principles into miniplant flow chemistry'\n",
    "uploader.citation.project.value      = 'Project B07'\n",
    "\n",
    "uploader.citation.authors.value      = 'Richard Schömig, Samir Darouich, Jan Range, Maximilian Schmidt, Thomas Lange, Elias Klemm, Jürgen Pleiss' \n",
    "uploader.citation.affiliations.value = 'University of Stuttgart, University of Stuttgart, University of Stuttgart, University of Stuttgart, University of Stuttgart, University of Stuttgart, University of Stuttgart'\n",
    "uploader.citation.contact_text.value = 'Jürgen Pleiss, juergen.pleiss@itb.uni-stuttgart.de'\n",
    "\n",
    "\n",
    "uploader.file_directoy_input.value = \"datasets/poresize.json\""
   ]
  },
  {
   "cell_type": "code",
   "execution_count": null,
   "metadata": {},
   "outputs": [],
   "source": [
    "#uploader.doi_text.value = \"https://doi.org/10.18419/darus-3067\"\n",
    "uploader.doi_text.value = \"https://doi.org/10.18419/darus-4199\"\n",
    "uploader.file_directoy_text.value = \"download\""
   ]
  },
  {
   "cell_type": "code",
   "execution_count": null,
   "metadata": {},
   "outputs": [],
   "source": [
    "\n",
    "# rrdw.measurements.value = [\"Measurement 1\",\"Measurement 2\"]\n",
    "\n",
    "\n",
    "# e_chem = str(root)+'/data/raw_data/9.2_nm/Gammry_Data/230705-1-CV-PEG35-052-GTA25/GSTATIC.DTA'\n",
    "# mfm    = [[str(root)+'/data/raw_data/9.2_nm/MFM_Data/1-CV-PEG35-052-GTA25/GSS_1-CV-PEG35-052-GTA25_200_20c_1h.csv'],\n",
    "#           [str(root)+'/data/raw_data/9.2_nm/MFM_Data/2-CV-PEG35-052-GTA25/GSS_2-CV-PEG35-052-GTA25_200_20c_1h.csv'],]\n",
    "# gc     = [[str(root)+'/data/raw_data/9.2_nm/GC_Data/230705-1-CV-PEG35-052-GTA25/JH-1H 2023-07-05 18-32-59/NV-F0102.D/report00.CSV',\n",
    "#         str(root)+'/data/raw_data/9.2_nm/GC_Data/230705-1-CV-PEG35-052-GTA25/JH-1H 2023-07-05 18-32-59/NV-F0102.D/REPORT01.CSV',\n",
    "#         str(root)+'/data/raw_data/9.2_nm/GC_Data/230705-1-CV-PEG35-052-GTA25/JH-1H 2023-07-05 18-32-59/NV-F0103.D/report00.CSV',\n",
    "#         str(root)+'/data/raw_data/9.2_nm/GC_Data/230705-1-CV-PEG35-052-GTA25/JH-1H 2023-07-05 18-32-59/NV-F0103.D/REPORT01.CSV',\n",
    "#         str(root)+'/data/raw_data/9.2_nm/GC_Data/230705-1-CV-PEG35-052-GTA25/JH-1H 2023-07-05 18-32-59/NV-F0104.D/report00.CSV',\n",
    "#         str(root)+'/data/raw_data/9.2_nm/GC_Data/230705-1-CV-PEG35-052-GTA25/JH-1H 2023-07-05 18-32-59/NV-F0104.D/REPORT01.CSV'],\n",
    "\n",
    "#         [str(root)+'/data/raw_data/9.2_nm/GC_Data/230705-2-CV-PEG35-052-GTA25/JH-1H 2023-07-05 20-04-01/NV-F0102.D/report00.CSV',\n",
    "#         str(root)+'/data/raw_data/9.2_nm/GC_Data/230705-2-CV-PEG35-052-GTA25/JH-1H 2023-07-05 20-04-01/NV-F0102.D/REPORT01.CSV',\n",
    "#         str(root)+'/data/raw_data/9.2_nm/GC_Data/230705-2-CV-PEG35-052-GTA25/JH-1H 2023-07-05 20-04-01/NV-F0103.D/report00.CSV',\n",
    "#         str(root)+'/data/raw_data/9.2_nm/GC_Data/230705-2-CV-PEG35-052-GTA25/JH-1H 2023-07-05 20-04-01/NV-F0103.D/REPORT01.CSV',\n",
    "#         str(root)+'/data/raw_data/9.2_nm/GC_Data/230705-2-CV-PEG35-052-GTA25/JH-1H 2023-07-05 20-04-01/NV-F0104.D/report00.CSV',\n",
    "#         str(root)+'/data/raw_data/9.2_nm/GC_Data/230705-2-CV-PEG35-052-GTA25/JH-1H 2023-07-05 20-04-01/NV-F0104.D/REPORT01.CSV']]\n",
    "\n",
    "\n",
    "# rrdw.measurements.value = [\"Measurement 1\",\"Measurement 2\",\"Measurement 3\"]\n",
    "\n",
    "# e_chem = str(root)+'/data/raw_data/7.1_nm_OMC/Gammry_Data/230705-1-CV-PEG20-068-GTA25/GSTATIC.DTA'\n",
    "# mfm    = [[str(root)+'/data/raw_data/7.1_nm_OMC/MFM_Data/1-CV-PEG20-068/MFM_1-CV-PEG20-068.csv'],\n",
    "#           [str(root)+'/data/raw_data/7.1_nm_OMC/MFM_Data/2-CV-PEG20-068-GTA25/GSS_2-CV-PEG20-068-GTA25_200_20c_1h.csv'],\n",
    "#           [str(root)+'/data/raw_data/7.1_nm_OMC/MFM_Data/3-CV-PEG20-068-GTA25/GSS_3-CV-PEG20-068-GTA25_200_20c_1h.csv'] ]\n",
    "# gc     = [[str(root)+'/data/raw_data/7.1_nm_OMC/GC_Data/230705-1-CV-PEG20-068-GTA25/JH-1H 2023-07-05 11-45-17/NV-F0102.D/report00.CSV',\n",
    "#         str(root)+'/data/raw_data/7.1_nm_OMC/GC_Data/230705-1-CV-PEG20-068-GTA25/JH-1H 2023-07-05 11-45-17/NV-F0102.D/REPORT01.CSV',\n",
    "#         str(root)+'/data/raw_data/7.1_nm_OMC/GC_Data/230705-1-CV-PEG20-068-GTA25/JH-1H 2023-07-05 11-45-17/NV-F0103.D/report00.CSV',\n",
    "#         str(root)+'/data/raw_data/7.1_nm_OMC/GC_Data/230705-1-CV-PEG20-068-GTA25/JH-1H 2023-07-05 11-45-17/NV-F0103.D/REPORT01.CSV',\n",
    "#         str(root)+'/data/raw_data/7.1_nm_OMC/GC_Data/230705-1-CV-PEG20-068-GTA25/JH-1H 2023-07-05 11-45-17/NV-F0104.D/report00.CSV',\n",
    "#         str(root)+'/data/raw_data/7.1_nm_OMC/GC_Data/230705-1-CV-PEG20-068-GTA25/JH-1H 2023-07-05 11-45-17/NV-F0104.D/REPORT01.CSV'],\n",
    "\n",
    "#         [str(root)+'/data/raw_data/7.1_nm_OMC/GC_Data/230705-2-CV-PEG20-068-GTA25/JH-1H 2023-07-05 14-19-03/NV-F0102.D/report00.CSV',\n",
    "#         str(root)+'/data/raw_data/7.1_nm_OMC/GC_Data/230705-2-CV-PEG20-068-GTA25/JH-1H 2023-07-05 14-19-03/NV-F0102.D/REPORT01.CSV',\n",
    "#         str(root)+'/data/raw_data/7.1_nm_OMC/GC_Data/230705-2-CV-PEG20-068-GTA25/JH-1H 2023-07-05 14-19-03/NV-F0103.D/report00.CSV',\n",
    "#         str(root)+'/data/raw_data/7.1_nm_OMC/GC_Data/230705-2-CV-PEG20-068-GTA25/JH-1H 2023-07-05 14-19-03/NV-F0103.D/REPORT01.CSV',\n",
    "#         str(root)+'/data/raw_data/7.1_nm_OMC/GC_Data/230705-2-CV-PEG20-068-GTA25/JH-1H 2023-07-05 14-19-03/NV-F0104.D/report00.CSV',\n",
    "#         str(root)+'/data/raw_data/7.1_nm_OMC/GC_Data/230705-2-CV-PEG20-068-GTA25/JH-1H 2023-07-05 14-19-03/NV-F0104.D/REPORT01.CSV'],\n",
    "\n",
    "#         [str(root)+'/data/raw_data/7.1_nm_OMC/GC_Data/230705-3-CV-PEG20-068-GTA25/JH-1H 2023-07-05 15-59-41/NV-F0102.D/report00.CSV',\n",
    "#         str(root)+'/data/raw_data/7.1_nm_OMC/GC_Data/230705-3-CV-PEG20-068-GTA25/JH-1H 2023-07-05 15-59-41/NV-F0102.D/REPORT01.CSV',\n",
    "#         str(root)+'/data/raw_data/7.1_nm_OMC/GC_Data/230705-3-CV-PEG20-068-GTA25/JH-1H 2023-07-05 15-59-41/NV-F0103.D/report00.CSV',\n",
    "#         str(root)+'/data/raw_data/7.1_nm_OMC/GC_Data/230705-3-CV-PEG20-068-GTA25/JH-1H 2023-07-05 15-59-41/NV-F0103.D/REPORT01.CSV',\n",
    "#         str(root)+'/data/raw_data/7.1_nm_OMC/GC_Data/230705-3-CV-PEG20-068-GTA25/JH-1H 2023-07-05 15-59-41/NV-F0104.D/report00.CSV',\n",
    "#         str(root)+'/data/raw_data/7.1_nm_OMC/GC_Data/230705-3-CV-PEG20-068-GTA25/JH-1H 2023-07-05 15-59-41/NV-F0104.D/REPORT01.CSV']]\n",
    "\n",
    "\n",
    "# rrdw.measurements.value = [\"Measurement 1\",\"Measurement 2\",\"Measurement 3\"]\n",
    "\n",
    "# e_chem = str(root)+'/data/raw_data/7.1_nm_OMC_washing/Gammry_Data/230706-1-CV-PEG20-068-GTA25-washing/GSTATIC.DTA'\n",
    "# mfm    = [[str(root)+'/data/raw_data/7.1_nm_OMC_washing/MFM_Data/1-CV-PEG20-068-GTA25-washing/GSS_1-CV-PEG20-068-GTA25-washing_200_20c_1h.csv'],\n",
    "#           [str(root)+'/data/raw_data/7.1_nm_OMC_washing/MFM_Data/2-CV-PEG20-068-GTA25-washing/GSS_2-CV-PEG20-068-GTA25-washing_200_20c_1h.csv'],\n",
    "#           [str(root)+'/data/raw_data/7.1_nm_OMC_washing/MFM_Data/3-CV-PEG20-068-GTA25-washing/GSS_3-CV-PEG20-068-GTA25-washing_200_20c_1h.csv'] ]\n",
    "# gc     = [[str(root)+'/data/raw_data/7.1_nm_OMC_washing/GC_Data/230706-1-CV-PEG20-068-GTA25-washing/JH-1H 2023-07-06 09-26-39/NV-F0102.D/report00.CSV',\n",
    "#         str(root)+'/data/raw_data/7.1_nm_OMC_washing/GC_Data/230706-1-CV-PEG20-068-GTA25-washing/JH-1H 2023-07-06 09-26-39/NV-F0102.D/REPORT01.CSV',\n",
    "#         str(root)+'/data/raw_data/7.1_nm_OMC_washing/GC_Data/230706-1-CV-PEG20-068-GTA25-washing/JH-1H 2023-07-06 09-26-39/NV-F0103.D/report00.CSV',\n",
    "#         str(root)+'/data/raw_data/7.1_nm_OMC_washing/GC_Data/230706-1-CV-PEG20-068-GTA25-washing/JH-1H 2023-07-06 09-26-39/NV-F0103.D/REPORT01.CSV',\n",
    "#         str(root)+'/data/raw_data/7.1_nm_OMC_washing/GC_Data/230706-1-CV-PEG20-068-GTA25-washing/JH-1H 2023-07-06 09-26-39/NV-F0104.D/report00.CSV',\n",
    "#         str(root)+'/data/raw_data/7.1_nm_OMC_washing/GC_Data/230706-1-CV-PEG20-068-GTA25-washing/JH-1H 2023-07-06 09-26-39/NV-F0104.D/REPORT01.CSV'],\n",
    "\n",
    "#         [str(root)+'/data/raw_data/7.1_nm_OMC_washing/GC_Data/230706-2-CV-PEG20-068-GTA25-washing/JH-1H 2023-07-06 11-05-18/NV-F0102.D/report00.CSV',\n",
    "#         str(root)+'/data/raw_data/7.1_nm_OMC_washing/GC_Data/230706-2-CV-PEG20-068-GTA25-washing/JH-1H 2023-07-06 11-05-18/NV-F0102.D/REPORT01.CSV',\n",
    "#         str(root)+'/data/raw_data/7.1_nm_OMC_washing/GC_Data/230706-2-CV-PEG20-068-GTA25-washing/JH-1H 2023-07-06 11-05-18/NV-F0103.D/report00.CSV',\n",
    "#         str(root)+'/data/raw_data/7.1_nm_OMC_washing/GC_Data/230706-2-CV-PEG20-068-GTA25-washing/JH-1H 2023-07-06 11-05-18/NV-F0103.D/REPORT01.CSV',\n",
    "#         str(root)+'/data/raw_data/7.1_nm_OMC_washing/GC_Data/230706-2-CV-PEG20-068-GTA25-washing/JH-1H 2023-07-06 11-05-18/NV-F0104.D/report00.CSV',\n",
    "#         str(root)+'/data/raw_data/7.1_nm_OMC_washing/GC_Data/230706-2-CV-PEG20-068-GTA25-washing/JH-1H 2023-07-06 11-05-18/NV-F0104.D/REPORT01.CSV'],\n",
    "\n",
    "#         [str(root)+'/data/raw_data/7.1_nm_OMC_washing/GC_Data/230706-3-CV-PEG20-068-GTA25-washing/JH-1H 2023-07-06 12-32-22/NV-F0102.D/report00.CSV',\n",
    "#         str(root)+'/data/raw_data/7.1_nm_OMC_washing/GC_Data/230706-3-CV-PEG20-068-GTA25-washing/JH-1H 2023-07-06 12-32-22/NV-F0102.D/REPORT01.CSV',\n",
    "#         str(root)+'/data/raw_data/7.1_nm_OMC_washing/GC_Data/230706-3-CV-PEG20-068-GTA25-washing/JH-1H 2023-07-06 12-32-22/NV-F0103.D/report00.CSV',\n",
    "#         str(root)+'/data/raw_data/7.1_nm_OMC_washing/GC_Data/230706-3-CV-PEG20-068-GTA25-washing/JH-1H 2023-07-06 12-32-22/NV-F0103.D/REPORT01.CSV',\n",
    "#         str(root)+'/data/raw_data/7.1_nm_OMC_washing/GC_Data/230706-3-CV-PEG20-068-GTA25-washing/JH-1H 2023-07-06 12-32-22/NV-F0104.D/report00.CSV',\n",
    "#         str(root)+'/data/raw_data/7.1_nm_OMC_washing/GC_Data/230706-3-CV-PEG20-068-GTA25-washing/JH-1H 2023-07-06 12-32-22/NV-F0104.D/REPORT01.CSV']]\n"
   ]
  }
 ],
 "metadata": {
  "kernelspec": {
   "display_name": "Python 3 (ipykernel)",
   "language": "python",
   "name": "python3"
  },
  "language_info": {
   "codemirror_mode": {
    "name": "ipython",
    "version": 3
   },
   "file_extension": ".py",
   "mimetype": "text/x-python",
   "name": "python",
   "nbconvert_exporter": "python",
   "pygments_lexer": "ipython3",
   "version": "3.12.0"
  },
  "vscode": {
   "interpreter": {
    "hash": "9f62ab2d43dc75e3c3b007469adeb0f7488873df876b9b71dd3b119f0280ba41"
   }
  }
 },
 "nbformat": 4,
 "nbformat_minor": 4
}
